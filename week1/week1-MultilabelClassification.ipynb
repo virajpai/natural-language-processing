{
  "nbformat": 4,
  "nbformat_minor": 0,
  "metadata": {
    "kernelspec": {
      "display_name": "Python 3",
      "language": "python",
      "name": "python3"
    },
    "language_info": {
      "codemirror_mode": {
        "name": "ipython",
        "version": 3
      },
      "file_extension": ".py",
      "mimetype": "text/x-python",
      "name": "python",
      "nbconvert_exporter": "python",
      "pygments_lexer": "ipython3",
      "version": "3.4.3"
    },
    "colab": {
      "name": "week1-MultilabelClassification.ipynb",
      "provenance": []
    },
    "widgets": {
      "application/vnd.jupyter.widget-state+json": {
        "d82e243533f746a8a01e9d1544d29abb": {
          "model_module": "@jupyter-widgets/controls",
          "model_name": "HBoxModel",
          "state": {
            "_view_name": "HBoxView",
            "_dom_classes": [],
            "_model_name": "HBoxModel",
            "_view_module": "@jupyter-widgets/controls",
            "_model_module_version": "1.5.0",
            "_view_count": null,
            "_view_module_version": "1.5.0",
            "box_style": "",
            "layout": "IPY_MODEL_0538600143eb4fe9bbf481b657d28b4f",
            "_model_module": "@jupyter-widgets/controls",
            "children": [
              "IPY_MODEL_063be0958c6b4fc8a6b319037c466a67",
              "IPY_MODEL_8c21322a350c4d79a85cc905ebff9138",
              "IPY_MODEL_f016ba0a001846ee9e5d87f19c1a711f"
            ]
          }
        },
        "0538600143eb4fe9bbf481b657d28b4f": {
          "model_module": "@jupyter-widgets/base",
          "model_name": "LayoutModel",
          "state": {
            "_view_name": "LayoutView",
            "grid_template_rows": null,
            "right": null,
            "justify_content": null,
            "_view_module": "@jupyter-widgets/base",
            "overflow": null,
            "_model_module_version": "1.2.0",
            "_view_count": null,
            "flex_flow": null,
            "width": null,
            "min_width": null,
            "border": null,
            "align_items": null,
            "bottom": null,
            "_model_module": "@jupyter-widgets/base",
            "top": null,
            "grid_column": null,
            "overflow_y": null,
            "overflow_x": null,
            "grid_auto_flow": null,
            "grid_area": null,
            "grid_template_columns": null,
            "flex": null,
            "_model_name": "LayoutModel",
            "justify_items": null,
            "grid_row": null,
            "max_height": null,
            "align_content": null,
            "visibility": null,
            "align_self": null,
            "height": null,
            "min_height": null,
            "padding": null,
            "grid_auto_rows": null,
            "grid_gap": null,
            "max_width": null,
            "order": null,
            "_view_module_version": "1.2.0",
            "grid_template_areas": null,
            "object_position": null,
            "object_fit": null,
            "grid_auto_columns": null,
            "margin": null,
            "display": null,
            "left": null
          }
        },
        "063be0958c6b4fc8a6b319037c466a67": {
          "model_module": "@jupyter-widgets/controls",
          "model_name": "HTMLModel",
          "state": {
            "_view_name": "HTMLView",
            "style": "IPY_MODEL_15d5a8b1a7df4e0895c70b3920ded61f",
            "_dom_classes": [],
            "description": "",
            "_model_name": "HTMLModel",
            "placeholder": "​",
            "_view_module": "@jupyter-widgets/controls",
            "_model_module_version": "1.5.0",
            "value": "train.tsv: 100%",
            "_view_count": null,
            "_view_module_version": "1.5.0",
            "description_tooltip": null,
            "_model_module": "@jupyter-widgets/controls",
            "layout": "IPY_MODEL_c68aa81023684a3bae0ffea0f0566662"
          }
        },
        "8c21322a350c4d79a85cc905ebff9138": {
          "model_module": "@jupyter-widgets/controls",
          "model_name": "FloatProgressModel",
          "state": {
            "_view_name": "ProgressView",
            "style": "IPY_MODEL_35a62cf9f23e41bd8e607eb7ae9c8f17",
            "_dom_classes": [],
            "description": "",
            "_model_name": "FloatProgressModel",
            "bar_style": "success",
            "max": 7196138,
            "_view_module": "@jupyter-widgets/controls",
            "_model_module_version": "1.5.0",
            "value": 7196138,
            "_view_count": null,
            "_view_module_version": "1.5.0",
            "orientation": "horizontal",
            "min": 0,
            "description_tooltip": null,
            "_model_module": "@jupyter-widgets/controls",
            "layout": "IPY_MODEL_74c53c68a2394d9197a9fc6476ddd7c8"
          }
        },
        "f016ba0a001846ee9e5d87f19c1a711f": {
          "model_module": "@jupyter-widgets/controls",
          "model_name": "HTMLModel",
          "state": {
            "_view_name": "HTMLView",
            "style": "IPY_MODEL_a6ecc20812c249e0ae474c037b730b11",
            "_dom_classes": [],
            "description": "",
            "_model_name": "HTMLModel",
            "placeholder": "​",
            "_view_module": "@jupyter-widgets/controls",
            "_model_module_version": "1.5.0",
            "value": " 7.20M/7.20M [00:03&lt;00:00, 1.81MB/s]",
            "_view_count": null,
            "_view_module_version": "1.5.0",
            "description_tooltip": null,
            "_model_module": "@jupyter-widgets/controls",
            "layout": "IPY_MODEL_059d65564dc0431590a9b4c335798d14"
          }
        },
        "15d5a8b1a7df4e0895c70b3920ded61f": {
          "model_module": "@jupyter-widgets/controls",
          "model_name": "DescriptionStyleModel",
          "state": {
            "_view_name": "StyleView",
            "_model_name": "DescriptionStyleModel",
            "description_width": "",
            "_view_module": "@jupyter-widgets/base",
            "_model_module_version": "1.5.0",
            "_view_count": null,
            "_view_module_version": "1.2.0",
            "_model_module": "@jupyter-widgets/controls"
          }
        },
        "c68aa81023684a3bae0ffea0f0566662": {
          "model_module": "@jupyter-widgets/base",
          "model_name": "LayoutModel",
          "state": {
            "_view_name": "LayoutView",
            "grid_template_rows": null,
            "right": null,
            "justify_content": null,
            "_view_module": "@jupyter-widgets/base",
            "overflow": null,
            "_model_module_version": "1.2.0",
            "_view_count": null,
            "flex_flow": null,
            "width": null,
            "min_width": null,
            "border": null,
            "align_items": null,
            "bottom": null,
            "_model_module": "@jupyter-widgets/base",
            "top": null,
            "grid_column": null,
            "overflow_y": null,
            "overflow_x": null,
            "grid_auto_flow": null,
            "grid_area": null,
            "grid_template_columns": null,
            "flex": null,
            "_model_name": "LayoutModel",
            "justify_items": null,
            "grid_row": null,
            "max_height": null,
            "align_content": null,
            "visibility": null,
            "align_self": null,
            "height": null,
            "min_height": null,
            "padding": null,
            "grid_auto_rows": null,
            "grid_gap": null,
            "max_width": null,
            "order": null,
            "_view_module_version": "1.2.0",
            "grid_template_areas": null,
            "object_position": null,
            "object_fit": null,
            "grid_auto_columns": null,
            "margin": null,
            "display": null,
            "left": null
          }
        },
        "35a62cf9f23e41bd8e607eb7ae9c8f17": {
          "model_module": "@jupyter-widgets/controls",
          "model_name": "ProgressStyleModel",
          "state": {
            "_view_name": "StyleView",
            "_model_name": "ProgressStyleModel",
            "description_width": "",
            "_view_module": "@jupyter-widgets/base",
            "_model_module_version": "1.5.0",
            "_view_count": null,
            "_view_module_version": "1.2.0",
            "bar_color": null,
            "_model_module": "@jupyter-widgets/controls"
          }
        },
        "74c53c68a2394d9197a9fc6476ddd7c8": {
          "model_module": "@jupyter-widgets/base",
          "model_name": "LayoutModel",
          "state": {
            "_view_name": "LayoutView",
            "grid_template_rows": null,
            "right": null,
            "justify_content": null,
            "_view_module": "@jupyter-widgets/base",
            "overflow": null,
            "_model_module_version": "1.2.0",
            "_view_count": null,
            "flex_flow": null,
            "width": null,
            "min_width": null,
            "border": null,
            "align_items": null,
            "bottom": null,
            "_model_module": "@jupyter-widgets/base",
            "top": null,
            "grid_column": null,
            "overflow_y": null,
            "overflow_x": null,
            "grid_auto_flow": null,
            "grid_area": null,
            "grid_template_columns": null,
            "flex": null,
            "_model_name": "LayoutModel",
            "justify_items": null,
            "grid_row": null,
            "max_height": null,
            "align_content": null,
            "visibility": null,
            "align_self": null,
            "height": null,
            "min_height": null,
            "padding": null,
            "grid_auto_rows": null,
            "grid_gap": null,
            "max_width": null,
            "order": null,
            "_view_module_version": "1.2.0",
            "grid_template_areas": null,
            "object_position": null,
            "object_fit": null,
            "grid_auto_columns": null,
            "margin": null,
            "display": null,
            "left": null
          }
        },
        "a6ecc20812c249e0ae474c037b730b11": {
          "model_module": "@jupyter-widgets/controls",
          "model_name": "DescriptionStyleModel",
          "state": {
            "_view_name": "StyleView",
            "_model_name": "DescriptionStyleModel",
            "description_width": "",
            "_view_module": "@jupyter-widgets/base",
            "_model_module_version": "1.5.0",
            "_view_count": null,
            "_view_module_version": "1.2.0",
            "_model_module": "@jupyter-widgets/controls"
          }
        },
        "059d65564dc0431590a9b4c335798d14": {
          "model_module": "@jupyter-widgets/base",
          "model_name": "LayoutModel",
          "state": {
            "_view_name": "LayoutView",
            "grid_template_rows": null,
            "right": null,
            "justify_content": null,
            "_view_module": "@jupyter-widgets/base",
            "overflow": null,
            "_model_module_version": "1.2.0",
            "_view_count": null,
            "flex_flow": null,
            "width": null,
            "min_width": null,
            "border": null,
            "align_items": null,
            "bottom": null,
            "_model_module": "@jupyter-widgets/base",
            "top": null,
            "grid_column": null,
            "overflow_y": null,
            "overflow_x": null,
            "grid_auto_flow": null,
            "grid_area": null,
            "grid_template_columns": null,
            "flex": null,
            "_model_name": "LayoutModel",
            "justify_items": null,
            "grid_row": null,
            "max_height": null,
            "align_content": null,
            "visibility": null,
            "align_self": null,
            "height": null,
            "min_height": null,
            "padding": null,
            "grid_auto_rows": null,
            "grid_gap": null,
            "max_width": null,
            "order": null,
            "_view_module_version": "1.2.0",
            "grid_template_areas": null,
            "object_position": null,
            "object_fit": null,
            "grid_auto_columns": null,
            "margin": null,
            "display": null,
            "left": null
          }
        },
        "1deeac37ab1e40a5af9fcbef432f19f7": {
          "model_module": "@jupyter-widgets/controls",
          "model_name": "HBoxModel",
          "state": {
            "_view_name": "HBoxView",
            "_dom_classes": [],
            "_model_name": "HBoxModel",
            "_view_module": "@jupyter-widgets/controls",
            "_model_module_version": "1.5.0",
            "_view_count": null,
            "_view_module_version": "1.5.0",
            "box_style": "",
            "layout": "IPY_MODEL_9798c883a4244b60a04f5e57c2c14362",
            "_model_module": "@jupyter-widgets/controls",
            "children": [
              "IPY_MODEL_c64ad532c14a44df94ce7abf385a9ccf",
              "IPY_MODEL_ede0a28c7bd24bfaaa0855880399ecf5",
              "IPY_MODEL_5b281cd0ffd1428782bcf60d1de0a6a4"
            ]
          }
        },
        "9798c883a4244b60a04f5e57c2c14362": {
          "model_module": "@jupyter-widgets/base",
          "model_name": "LayoutModel",
          "state": {
            "_view_name": "LayoutView",
            "grid_template_rows": null,
            "right": null,
            "justify_content": null,
            "_view_module": "@jupyter-widgets/base",
            "overflow": null,
            "_model_module_version": "1.2.0",
            "_view_count": null,
            "flex_flow": null,
            "width": null,
            "min_width": null,
            "border": null,
            "align_items": null,
            "bottom": null,
            "_model_module": "@jupyter-widgets/base",
            "top": null,
            "grid_column": null,
            "overflow_y": null,
            "overflow_x": null,
            "grid_auto_flow": null,
            "grid_area": null,
            "grid_template_columns": null,
            "flex": null,
            "_model_name": "LayoutModel",
            "justify_items": null,
            "grid_row": null,
            "max_height": null,
            "align_content": null,
            "visibility": null,
            "align_self": null,
            "height": null,
            "min_height": null,
            "padding": null,
            "grid_auto_rows": null,
            "grid_gap": null,
            "max_width": null,
            "order": null,
            "_view_module_version": "1.2.0",
            "grid_template_areas": null,
            "object_position": null,
            "object_fit": null,
            "grid_auto_columns": null,
            "margin": null,
            "display": null,
            "left": null
          }
        },
        "c64ad532c14a44df94ce7abf385a9ccf": {
          "model_module": "@jupyter-widgets/controls",
          "model_name": "HTMLModel",
          "state": {
            "_view_name": "HTMLView",
            "style": "IPY_MODEL_5d56a295d2304db2bb0aab29e48cd197",
            "_dom_classes": [],
            "description": "",
            "_model_name": "HTMLModel",
            "placeholder": "​",
            "_view_module": "@jupyter-widgets/controls",
            "_model_module_version": "1.5.0",
            "value": "validation.tsv: 100%",
            "_view_count": null,
            "_view_module_version": "1.5.0",
            "description_tooltip": null,
            "_model_module": "@jupyter-widgets/controls",
            "layout": "IPY_MODEL_9f31449e4c1543ecbaabb5e264a131da"
          }
        },
        "ede0a28c7bd24bfaaa0855880399ecf5": {
          "model_module": "@jupyter-widgets/controls",
          "model_name": "FloatProgressModel",
          "state": {
            "_view_name": "ProgressView",
            "style": "IPY_MODEL_d5208dcc9d854e67b1d57b482f60904a",
            "_dom_classes": [],
            "description": "",
            "_model_name": "FloatProgressModel",
            "bar_style": "success",
            "max": 2166270,
            "_view_module": "@jupyter-widgets/controls",
            "_model_module_version": "1.5.0",
            "value": 2166270,
            "_view_count": null,
            "_view_module_version": "1.5.0",
            "orientation": "horizontal",
            "min": 0,
            "description_tooltip": null,
            "_model_module": "@jupyter-widgets/controls",
            "layout": "IPY_MODEL_85c427fb35f54787827394793bfb4399"
          }
        },
        "5b281cd0ffd1428782bcf60d1de0a6a4": {
          "model_module": "@jupyter-widgets/controls",
          "model_name": "HTMLModel",
          "state": {
            "_view_name": "HTMLView",
            "style": "IPY_MODEL_a14db3a3f95b4766833ced32e251b30f",
            "_dom_classes": [],
            "description": "",
            "_model_name": "HTMLModel",
            "placeholder": "​",
            "_view_module": "@jupyter-widgets/controls",
            "_model_module_version": "1.5.0",
            "value": " 2.17M/2.17M [00:02&lt;00:00, 862kB/s]",
            "_view_count": null,
            "_view_module_version": "1.5.0",
            "description_tooltip": null,
            "_model_module": "@jupyter-widgets/controls",
            "layout": "IPY_MODEL_71715cef20954438b691b0341ebbd4ca"
          }
        },
        "5d56a295d2304db2bb0aab29e48cd197": {
          "model_module": "@jupyter-widgets/controls",
          "model_name": "DescriptionStyleModel",
          "state": {
            "_view_name": "StyleView",
            "_model_name": "DescriptionStyleModel",
            "description_width": "",
            "_view_module": "@jupyter-widgets/base",
            "_model_module_version": "1.5.0",
            "_view_count": null,
            "_view_module_version": "1.2.0",
            "_model_module": "@jupyter-widgets/controls"
          }
        },
        "9f31449e4c1543ecbaabb5e264a131da": {
          "model_module": "@jupyter-widgets/base",
          "model_name": "LayoutModel",
          "state": {
            "_view_name": "LayoutView",
            "grid_template_rows": null,
            "right": null,
            "justify_content": null,
            "_view_module": "@jupyter-widgets/base",
            "overflow": null,
            "_model_module_version": "1.2.0",
            "_view_count": null,
            "flex_flow": null,
            "width": null,
            "min_width": null,
            "border": null,
            "align_items": null,
            "bottom": null,
            "_model_module": "@jupyter-widgets/base",
            "top": null,
            "grid_column": null,
            "overflow_y": null,
            "overflow_x": null,
            "grid_auto_flow": null,
            "grid_area": null,
            "grid_template_columns": null,
            "flex": null,
            "_model_name": "LayoutModel",
            "justify_items": null,
            "grid_row": null,
            "max_height": null,
            "align_content": null,
            "visibility": null,
            "align_self": null,
            "height": null,
            "min_height": null,
            "padding": null,
            "grid_auto_rows": null,
            "grid_gap": null,
            "max_width": null,
            "order": null,
            "_view_module_version": "1.2.0",
            "grid_template_areas": null,
            "object_position": null,
            "object_fit": null,
            "grid_auto_columns": null,
            "margin": null,
            "display": null,
            "left": null
          }
        },
        "d5208dcc9d854e67b1d57b482f60904a": {
          "model_module": "@jupyter-widgets/controls",
          "model_name": "ProgressStyleModel",
          "state": {
            "_view_name": "StyleView",
            "_model_name": "ProgressStyleModel",
            "description_width": "",
            "_view_module": "@jupyter-widgets/base",
            "_model_module_version": "1.5.0",
            "_view_count": null,
            "_view_module_version": "1.2.0",
            "bar_color": null,
            "_model_module": "@jupyter-widgets/controls"
          }
        },
        "85c427fb35f54787827394793bfb4399": {
          "model_module": "@jupyter-widgets/base",
          "model_name": "LayoutModel",
          "state": {
            "_view_name": "LayoutView",
            "grid_template_rows": null,
            "right": null,
            "justify_content": null,
            "_view_module": "@jupyter-widgets/base",
            "overflow": null,
            "_model_module_version": "1.2.0",
            "_view_count": null,
            "flex_flow": null,
            "width": null,
            "min_width": null,
            "border": null,
            "align_items": null,
            "bottom": null,
            "_model_module": "@jupyter-widgets/base",
            "top": null,
            "grid_column": null,
            "overflow_y": null,
            "overflow_x": null,
            "grid_auto_flow": null,
            "grid_area": null,
            "grid_template_columns": null,
            "flex": null,
            "_model_name": "LayoutModel",
            "justify_items": null,
            "grid_row": null,
            "max_height": null,
            "align_content": null,
            "visibility": null,
            "align_self": null,
            "height": null,
            "min_height": null,
            "padding": null,
            "grid_auto_rows": null,
            "grid_gap": null,
            "max_width": null,
            "order": null,
            "_view_module_version": "1.2.0",
            "grid_template_areas": null,
            "object_position": null,
            "object_fit": null,
            "grid_auto_columns": null,
            "margin": null,
            "display": null,
            "left": null
          }
        },
        "a14db3a3f95b4766833ced32e251b30f": {
          "model_module": "@jupyter-widgets/controls",
          "model_name": "DescriptionStyleModel",
          "state": {
            "_view_name": "StyleView",
            "_model_name": "DescriptionStyleModel",
            "description_width": "",
            "_view_module": "@jupyter-widgets/base",
            "_model_module_version": "1.5.0",
            "_view_count": null,
            "_view_module_version": "1.2.0",
            "_model_module": "@jupyter-widgets/controls"
          }
        },
        "71715cef20954438b691b0341ebbd4ca": {
          "model_module": "@jupyter-widgets/base",
          "model_name": "LayoutModel",
          "state": {
            "_view_name": "LayoutView",
            "grid_template_rows": null,
            "right": null,
            "justify_content": null,
            "_view_module": "@jupyter-widgets/base",
            "overflow": null,
            "_model_module_version": "1.2.0",
            "_view_count": null,
            "flex_flow": null,
            "width": null,
            "min_width": null,
            "border": null,
            "align_items": null,
            "bottom": null,
            "_model_module": "@jupyter-widgets/base",
            "top": null,
            "grid_column": null,
            "overflow_y": null,
            "overflow_x": null,
            "grid_auto_flow": null,
            "grid_area": null,
            "grid_template_columns": null,
            "flex": null,
            "_model_name": "LayoutModel",
            "justify_items": null,
            "grid_row": null,
            "max_height": null,
            "align_content": null,
            "visibility": null,
            "align_self": null,
            "height": null,
            "min_height": null,
            "padding": null,
            "grid_auto_rows": null,
            "grid_gap": null,
            "max_width": null,
            "order": null,
            "_view_module_version": "1.2.0",
            "grid_template_areas": null,
            "object_position": null,
            "object_fit": null,
            "grid_auto_columns": null,
            "margin": null,
            "display": null,
            "left": null
          }
        },
        "5b192fbe840e4dd79b3b4497dacd00b6": {
          "model_module": "@jupyter-widgets/controls",
          "model_name": "HBoxModel",
          "state": {
            "_view_name": "HBoxView",
            "_dom_classes": [],
            "_model_name": "HBoxModel",
            "_view_module": "@jupyter-widgets/controls",
            "_model_module_version": "1.5.0",
            "_view_count": null,
            "_view_module_version": "1.5.0",
            "box_style": "",
            "layout": "IPY_MODEL_95666c8a66c141b694051d35d3da3ffa",
            "_model_module": "@jupyter-widgets/controls",
            "children": [
              "IPY_MODEL_2af437375c684e159029867cf7b14760",
              "IPY_MODEL_d5bcf18924c249e089c57bdf01fdf922",
              "IPY_MODEL_d7b56b4ccc1a4df7b748cb3c30e99f5c"
            ]
          }
        },
        "95666c8a66c141b694051d35d3da3ffa": {
          "model_module": "@jupyter-widgets/base",
          "model_name": "LayoutModel",
          "state": {
            "_view_name": "LayoutView",
            "grid_template_rows": null,
            "right": null,
            "justify_content": null,
            "_view_module": "@jupyter-widgets/base",
            "overflow": null,
            "_model_module_version": "1.2.0",
            "_view_count": null,
            "flex_flow": null,
            "width": null,
            "min_width": null,
            "border": null,
            "align_items": null,
            "bottom": null,
            "_model_module": "@jupyter-widgets/base",
            "top": null,
            "grid_column": null,
            "overflow_y": null,
            "overflow_x": null,
            "grid_auto_flow": null,
            "grid_area": null,
            "grid_template_columns": null,
            "flex": null,
            "_model_name": "LayoutModel",
            "justify_items": null,
            "grid_row": null,
            "max_height": null,
            "align_content": null,
            "visibility": null,
            "align_self": null,
            "height": null,
            "min_height": null,
            "padding": null,
            "grid_auto_rows": null,
            "grid_gap": null,
            "max_width": null,
            "order": null,
            "_view_module_version": "1.2.0",
            "grid_template_areas": null,
            "object_position": null,
            "object_fit": null,
            "grid_auto_columns": null,
            "margin": null,
            "display": null,
            "left": null
          }
        },
        "2af437375c684e159029867cf7b14760": {
          "model_module": "@jupyter-widgets/controls",
          "model_name": "HTMLModel",
          "state": {
            "_view_name": "HTMLView",
            "style": "IPY_MODEL_079e9a27ae3c4ea1be18fb0bdca9c8c8",
            "_dom_classes": [],
            "description": "",
            "_model_name": "HTMLModel",
            "placeholder": "​",
            "_view_module": "@jupyter-widgets/controls",
            "_model_module_version": "1.5.0",
            "value": "test.tsv: 100%",
            "_view_count": null,
            "_view_module_version": "1.5.0",
            "description_tooltip": null,
            "_model_module": "@jupyter-widgets/controls",
            "layout": "IPY_MODEL_8a9290f1d0ce4502a7de90b570f44633"
          }
        },
        "d5bcf18924c249e089c57bdf01fdf922": {
          "model_module": "@jupyter-widgets/controls",
          "model_name": "FloatProgressModel",
          "state": {
            "_view_name": "ProgressView",
            "style": "IPY_MODEL_ee1f09c96240458faba843e5a15abbc0",
            "_dom_classes": [],
            "description": "",
            "_model_name": "FloatProgressModel",
            "bar_style": "success",
            "max": 1041379,
            "_view_module": "@jupyter-widgets/controls",
            "_model_module_version": "1.5.0",
            "value": 1041379,
            "_view_count": null,
            "_view_module_version": "1.5.0",
            "orientation": "horizontal",
            "min": 0,
            "description_tooltip": null,
            "_model_module": "@jupyter-widgets/controls",
            "layout": "IPY_MODEL_763a65ba067e44c8b8d148fbbbc07a3d"
          }
        },
        "d7b56b4ccc1a4df7b748cb3c30e99f5c": {
          "model_module": "@jupyter-widgets/controls",
          "model_name": "HTMLModel",
          "state": {
            "_view_name": "HTMLView",
            "style": "IPY_MODEL_b6bd3d7d94b343b99bf3c879b883c70f",
            "_dom_classes": [],
            "description": "",
            "_model_name": "HTMLModel",
            "placeholder": "​",
            "_view_module": "@jupyter-widgets/controls",
            "_model_module_version": "1.5.0",
            "value": " 1.04M/1.04M [00:01&lt;00:00, 813kB/s]",
            "_view_count": null,
            "_view_module_version": "1.5.0",
            "description_tooltip": null,
            "_model_module": "@jupyter-widgets/controls",
            "layout": "IPY_MODEL_be3e709542104517ad4dec020dcccaf6"
          }
        },
        "079e9a27ae3c4ea1be18fb0bdca9c8c8": {
          "model_module": "@jupyter-widgets/controls",
          "model_name": "DescriptionStyleModel",
          "state": {
            "_view_name": "StyleView",
            "_model_name": "DescriptionStyleModel",
            "description_width": "",
            "_view_module": "@jupyter-widgets/base",
            "_model_module_version": "1.5.0",
            "_view_count": null,
            "_view_module_version": "1.2.0",
            "_model_module": "@jupyter-widgets/controls"
          }
        },
        "8a9290f1d0ce4502a7de90b570f44633": {
          "model_module": "@jupyter-widgets/base",
          "model_name": "LayoutModel",
          "state": {
            "_view_name": "LayoutView",
            "grid_template_rows": null,
            "right": null,
            "justify_content": null,
            "_view_module": "@jupyter-widgets/base",
            "overflow": null,
            "_model_module_version": "1.2.0",
            "_view_count": null,
            "flex_flow": null,
            "width": null,
            "min_width": null,
            "border": null,
            "align_items": null,
            "bottom": null,
            "_model_module": "@jupyter-widgets/base",
            "top": null,
            "grid_column": null,
            "overflow_y": null,
            "overflow_x": null,
            "grid_auto_flow": null,
            "grid_area": null,
            "grid_template_columns": null,
            "flex": null,
            "_model_name": "LayoutModel",
            "justify_items": null,
            "grid_row": null,
            "max_height": null,
            "align_content": null,
            "visibility": null,
            "align_self": null,
            "height": null,
            "min_height": null,
            "padding": null,
            "grid_auto_rows": null,
            "grid_gap": null,
            "max_width": null,
            "order": null,
            "_view_module_version": "1.2.0",
            "grid_template_areas": null,
            "object_position": null,
            "object_fit": null,
            "grid_auto_columns": null,
            "margin": null,
            "display": null,
            "left": null
          }
        },
        "ee1f09c96240458faba843e5a15abbc0": {
          "model_module": "@jupyter-widgets/controls",
          "model_name": "ProgressStyleModel",
          "state": {
            "_view_name": "StyleView",
            "_model_name": "ProgressStyleModel",
            "description_width": "",
            "_view_module": "@jupyter-widgets/base",
            "_model_module_version": "1.5.0",
            "_view_count": null,
            "_view_module_version": "1.2.0",
            "bar_color": null,
            "_model_module": "@jupyter-widgets/controls"
          }
        },
        "763a65ba067e44c8b8d148fbbbc07a3d": {
          "model_module": "@jupyter-widgets/base",
          "model_name": "LayoutModel",
          "state": {
            "_view_name": "LayoutView",
            "grid_template_rows": null,
            "right": null,
            "justify_content": null,
            "_view_module": "@jupyter-widgets/base",
            "overflow": null,
            "_model_module_version": "1.2.0",
            "_view_count": null,
            "flex_flow": null,
            "width": null,
            "min_width": null,
            "border": null,
            "align_items": null,
            "bottom": null,
            "_model_module": "@jupyter-widgets/base",
            "top": null,
            "grid_column": null,
            "overflow_y": null,
            "overflow_x": null,
            "grid_auto_flow": null,
            "grid_area": null,
            "grid_template_columns": null,
            "flex": null,
            "_model_name": "LayoutModel",
            "justify_items": null,
            "grid_row": null,
            "max_height": null,
            "align_content": null,
            "visibility": null,
            "align_self": null,
            "height": null,
            "min_height": null,
            "padding": null,
            "grid_auto_rows": null,
            "grid_gap": null,
            "max_width": null,
            "order": null,
            "_view_module_version": "1.2.0",
            "grid_template_areas": null,
            "object_position": null,
            "object_fit": null,
            "grid_auto_columns": null,
            "margin": null,
            "display": null,
            "left": null
          }
        },
        "b6bd3d7d94b343b99bf3c879b883c70f": {
          "model_module": "@jupyter-widgets/controls",
          "model_name": "DescriptionStyleModel",
          "state": {
            "_view_name": "StyleView",
            "_model_name": "DescriptionStyleModel",
            "description_width": "",
            "_view_module": "@jupyter-widgets/base",
            "_model_module_version": "1.5.0",
            "_view_count": null,
            "_view_module_version": "1.2.0",
            "_model_module": "@jupyter-widgets/controls"
          }
        },
        "be3e709542104517ad4dec020dcccaf6": {
          "model_module": "@jupyter-widgets/base",
          "model_name": "LayoutModel",
          "state": {
            "_view_name": "LayoutView",
            "grid_template_rows": null,
            "right": null,
            "justify_content": null,
            "_view_module": "@jupyter-widgets/base",
            "overflow": null,
            "_model_module_version": "1.2.0",
            "_view_count": null,
            "flex_flow": null,
            "width": null,
            "min_width": null,
            "border": null,
            "align_items": null,
            "bottom": null,
            "_model_module": "@jupyter-widgets/base",
            "top": null,
            "grid_column": null,
            "overflow_y": null,
            "overflow_x": null,
            "grid_auto_flow": null,
            "grid_area": null,
            "grid_template_columns": null,
            "flex": null,
            "_model_name": "LayoutModel",
            "justify_items": null,
            "grid_row": null,
            "max_height": null,
            "align_content": null,
            "visibility": null,
            "align_self": null,
            "height": null,
            "min_height": null,
            "padding": null,
            "grid_auto_rows": null,
            "grid_gap": null,
            "max_width": null,
            "order": null,
            "_view_module_version": "1.2.0",
            "grid_template_areas": null,
            "object_position": null,
            "object_fit": null,
            "grid_auto_columns": null,
            "margin": null,
            "display": null,
            "left": null
          }
        },
        "0408d780f5814c8a8a859fe929f6e8af": {
          "model_module": "@jupyter-widgets/controls",
          "model_name": "HBoxModel",
          "state": {
            "_view_name": "HBoxView",
            "_dom_classes": [],
            "_model_name": "HBoxModel",
            "_view_module": "@jupyter-widgets/controls",
            "_model_module_version": "1.5.0",
            "_view_count": null,
            "_view_module_version": "1.5.0",
            "box_style": "",
            "layout": "IPY_MODEL_9eec589de6654e3a86b537df20be47d9",
            "_model_module": "@jupyter-widgets/controls",
            "children": [
              "IPY_MODEL_bf89007fcd6d4b25939197670694f363",
              "IPY_MODEL_9bcfc39feada4c32ad4545b2c087e684",
              "IPY_MODEL_312b09332cc24a628f5a3d01b31e427b"
            ]
          }
        },
        "9eec589de6654e3a86b537df20be47d9": {
          "model_module": "@jupyter-widgets/base",
          "model_name": "LayoutModel",
          "state": {
            "_view_name": "LayoutView",
            "grid_template_rows": null,
            "right": null,
            "justify_content": null,
            "_view_module": "@jupyter-widgets/base",
            "overflow": null,
            "_model_module_version": "1.2.0",
            "_view_count": null,
            "flex_flow": null,
            "width": null,
            "min_width": null,
            "border": null,
            "align_items": null,
            "bottom": null,
            "_model_module": "@jupyter-widgets/base",
            "top": null,
            "grid_column": null,
            "overflow_y": null,
            "overflow_x": null,
            "grid_auto_flow": null,
            "grid_area": null,
            "grid_template_columns": null,
            "flex": null,
            "_model_name": "LayoutModel",
            "justify_items": null,
            "grid_row": null,
            "max_height": null,
            "align_content": null,
            "visibility": null,
            "align_self": null,
            "height": null,
            "min_height": null,
            "padding": null,
            "grid_auto_rows": null,
            "grid_gap": null,
            "max_width": null,
            "order": null,
            "_view_module_version": "1.2.0",
            "grid_template_areas": null,
            "object_position": null,
            "object_fit": null,
            "grid_auto_columns": null,
            "margin": null,
            "display": null,
            "left": null
          }
        },
        "bf89007fcd6d4b25939197670694f363": {
          "model_module": "@jupyter-widgets/controls",
          "model_name": "HTMLModel",
          "state": {
            "_view_name": "HTMLView",
            "style": "IPY_MODEL_eef46100a3cd48bca1d1df918434b138",
            "_dom_classes": [],
            "description": "",
            "_model_name": "HTMLModel",
            "placeholder": "​",
            "_view_module": "@jupyter-widgets/controls",
            "_model_module_version": "1.5.0",
            "value": "text_prepare_tests.tsv: 100%",
            "_view_count": null,
            "_view_module_version": "1.5.0",
            "description_tooltip": null,
            "_model_module": "@jupyter-widgets/controls",
            "layout": "IPY_MODEL_34a040520ac741f19509b3100f63ed8d"
          }
        },
        "9bcfc39feada4c32ad4545b2c087e684": {
          "model_module": "@jupyter-widgets/controls",
          "model_name": "FloatProgressModel",
          "state": {
            "_view_name": "ProgressView",
            "style": "IPY_MODEL_7d20c6d3448f4037ba24a6ea4a831b4d",
            "_dom_classes": [],
            "description": "",
            "_model_name": "FloatProgressModel",
            "bar_style": "success",
            "max": 5091,
            "_view_module": "@jupyter-widgets/controls",
            "_model_module_version": "1.5.0",
            "value": 5091,
            "_view_count": null,
            "_view_module_version": "1.5.0",
            "orientation": "horizontal",
            "min": 0,
            "description_tooltip": null,
            "_model_module": "@jupyter-widgets/controls",
            "layout": "IPY_MODEL_7cbc712a25f64c81a56ea5e608197aeb"
          }
        },
        "312b09332cc24a628f5a3d01b31e427b": {
          "model_module": "@jupyter-widgets/controls",
          "model_name": "HTMLModel",
          "state": {
            "_view_name": "HTMLView",
            "style": "IPY_MODEL_bbdd50cdfb82439fa7edaddece80cb79",
            "_dom_classes": [],
            "description": "",
            "_model_name": "HTMLModel",
            "placeholder": "​",
            "_view_module": "@jupyter-widgets/controls",
            "_model_module_version": "1.5.0",
            "value": " 5.09k/5.09k [00:00&lt;00:00, 125kB/s]",
            "_view_count": null,
            "_view_module_version": "1.5.0",
            "description_tooltip": null,
            "_model_module": "@jupyter-widgets/controls",
            "layout": "IPY_MODEL_45ae57bb4a4449c28868816603f14ce3"
          }
        },
        "eef46100a3cd48bca1d1df918434b138": {
          "model_module": "@jupyter-widgets/controls",
          "model_name": "DescriptionStyleModel",
          "state": {
            "_view_name": "StyleView",
            "_model_name": "DescriptionStyleModel",
            "description_width": "",
            "_view_module": "@jupyter-widgets/base",
            "_model_module_version": "1.5.0",
            "_view_count": null,
            "_view_module_version": "1.2.0",
            "_model_module": "@jupyter-widgets/controls"
          }
        },
        "34a040520ac741f19509b3100f63ed8d": {
          "model_module": "@jupyter-widgets/base",
          "model_name": "LayoutModel",
          "state": {
            "_view_name": "LayoutView",
            "grid_template_rows": null,
            "right": null,
            "justify_content": null,
            "_view_module": "@jupyter-widgets/base",
            "overflow": null,
            "_model_module_version": "1.2.0",
            "_view_count": null,
            "flex_flow": null,
            "width": null,
            "min_width": null,
            "border": null,
            "align_items": null,
            "bottom": null,
            "_model_module": "@jupyter-widgets/base",
            "top": null,
            "grid_column": null,
            "overflow_y": null,
            "overflow_x": null,
            "grid_auto_flow": null,
            "grid_area": null,
            "grid_template_columns": null,
            "flex": null,
            "_model_name": "LayoutModel",
            "justify_items": null,
            "grid_row": null,
            "max_height": null,
            "align_content": null,
            "visibility": null,
            "align_self": null,
            "height": null,
            "min_height": null,
            "padding": null,
            "grid_auto_rows": null,
            "grid_gap": null,
            "max_width": null,
            "order": null,
            "_view_module_version": "1.2.0",
            "grid_template_areas": null,
            "object_position": null,
            "object_fit": null,
            "grid_auto_columns": null,
            "margin": null,
            "display": null,
            "left": null
          }
        },
        "7d20c6d3448f4037ba24a6ea4a831b4d": {
          "model_module": "@jupyter-widgets/controls",
          "model_name": "ProgressStyleModel",
          "state": {
            "_view_name": "StyleView",
            "_model_name": "ProgressStyleModel",
            "description_width": "",
            "_view_module": "@jupyter-widgets/base",
            "_model_module_version": "1.5.0",
            "_view_count": null,
            "_view_module_version": "1.2.0",
            "bar_color": null,
            "_model_module": "@jupyter-widgets/controls"
          }
        },
        "7cbc712a25f64c81a56ea5e608197aeb": {
          "model_module": "@jupyter-widgets/base",
          "model_name": "LayoutModel",
          "state": {
            "_view_name": "LayoutView",
            "grid_template_rows": null,
            "right": null,
            "justify_content": null,
            "_view_module": "@jupyter-widgets/base",
            "overflow": null,
            "_model_module_version": "1.2.0",
            "_view_count": null,
            "flex_flow": null,
            "width": null,
            "min_width": null,
            "border": null,
            "align_items": null,
            "bottom": null,
            "_model_module": "@jupyter-widgets/base",
            "top": null,
            "grid_column": null,
            "overflow_y": null,
            "overflow_x": null,
            "grid_auto_flow": null,
            "grid_area": null,
            "grid_template_columns": null,
            "flex": null,
            "_model_name": "LayoutModel",
            "justify_items": null,
            "grid_row": null,
            "max_height": null,
            "align_content": null,
            "visibility": null,
            "align_self": null,
            "height": null,
            "min_height": null,
            "padding": null,
            "grid_auto_rows": null,
            "grid_gap": null,
            "max_width": null,
            "order": null,
            "_view_module_version": "1.2.0",
            "grid_template_areas": null,
            "object_position": null,
            "object_fit": null,
            "grid_auto_columns": null,
            "margin": null,
            "display": null,
            "left": null
          }
        },
        "bbdd50cdfb82439fa7edaddece80cb79": {
          "model_module": "@jupyter-widgets/controls",
          "model_name": "DescriptionStyleModel",
          "state": {
            "_view_name": "StyleView",
            "_model_name": "DescriptionStyleModel",
            "description_width": "",
            "_view_module": "@jupyter-widgets/base",
            "_model_module_version": "1.5.0",
            "_view_count": null,
            "_view_module_version": "1.2.0",
            "_model_module": "@jupyter-widgets/controls"
          }
        },
        "45ae57bb4a4449c28868816603f14ce3": {
          "model_module": "@jupyter-widgets/base",
          "model_name": "LayoutModel",
          "state": {
            "_view_name": "LayoutView",
            "grid_template_rows": null,
            "right": null,
            "justify_content": null,
            "_view_module": "@jupyter-widgets/base",
            "overflow": null,
            "_model_module_version": "1.2.0",
            "_view_count": null,
            "flex_flow": null,
            "width": null,
            "min_width": null,
            "border": null,
            "align_items": null,
            "bottom": null,
            "_model_module": "@jupyter-widgets/base",
            "top": null,
            "grid_column": null,
            "overflow_y": null,
            "overflow_x": null,
            "grid_auto_flow": null,
            "grid_area": null,
            "grid_template_columns": null,
            "flex": null,
            "_model_name": "LayoutModel",
            "justify_items": null,
            "grid_row": null,
            "max_height": null,
            "align_content": null,
            "visibility": null,
            "align_self": null,
            "height": null,
            "min_height": null,
            "padding": null,
            "grid_auto_rows": null,
            "grid_gap": null,
            "max_width": null,
            "order": null,
            "_view_module_version": "1.2.0",
            "grid_template_areas": null,
            "object_position": null,
            "object_fit": null,
            "grid_auto_columns": null,
            "margin": null,
            "display": null,
            "left": null
          }
        }
      }
    }
  },
  "cells": [
    {
      "cell_type": "markdown",
      "metadata": {
        "id": "0C7ZZJsKyEsI"
      },
      "source": [
        "# Predict tags on StackOverflow with linear models"
      ]
    },
    {
      "cell_type": "markdown",
      "metadata": {
        "id": "nxHRUUauyEsW"
      },
      "source": [
        "In this assignment you will learn how to predict tags for posts from [StackOverflow](https://stackoverflow.com). To solve this task you will use multilabel classification approach.\n",
        "\n",
        "### Libraries\n",
        "\n",
        "In this task you will need the following libraries:\n",
        "- [Numpy](http://www.numpy.org) — a package for scientific computing.\n",
        "- [Pandas](https://pandas.pydata.org) — a library providing high-performance, easy-to-use data structures and data analysis tools for the Python\n",
        "- [scikit-learn](http://scikit-learn.org/stable/index.html) — a tool for data mining and data analysis.\n",
        "- [NLTK](http://www.nltk.org) — a platform to work with natural language."
      ]
    },
    {
      "cell_type": "markdown",
      "metadata": {
        "id": "JbEDGOi1yEsZ"
      },
      "source": [
        "### Data\n",
        "\n",
        "The following cell will download all data required for this assignment into the folder `week1/data`."
      ]
    },
    {
      "cell_type": "code",
      "metadata": {
        "id": "U1ijf5p7yEsa",
        "outputId": "2e39d5fe-85d3-4801-b8d6-821690bae0e8",
        "colab": {
          "base_uri": "https://localhost:8080/",
          "height": 397,
          "referenced_widgets": [
            "d82e243533f746a8a01e9d1544d29abb",
            "0538600143eb4fe9bbf481b657d28b4f",
            "063be0958c6b4fc8a6b319037c466a67",
            "8c21322a350c4d79a85cc905ebff9138",
            "f016ba0a001846ee9e5d87f19c1a711f",
            "15d5a8b1a7df4e0895c70b3920ded61f",
            "c68aa81023684a3bae0ffea0f0566662",
            "35a62cf9f23e41bd8e607eb7ae9c8f17",
            "74c53c68a2394d9197a9fc6476ddd7c8",
            "a6ecc20812c249e0ae474c037b730b11",
            "059d65564dc0431590a9b4c335798d14",
            "1deeac37ab1e40a5af9fcbef432f19f7",
            "9798c883a4244b60a04f5e57c2c14362",
            "c64ad532c14a44df94ce7abf385a9ccf",
            "ede0a28c7bd24bfaaa0855880399ecf5",
            "5b281cd0ffd1428782bcf60d1de0a6a4",
            "5d56a295d2304db2bb0aab29e48cd197",
            "9f31449e4c1543ecbaabb5e264a131da",
            "d5208dcc9d854e67b1d57b482f60904a",
            "85c427fb35f54787827394793bfb4399",
            "a14db3a3f95b4766833ced32e251b30f",
            "71715cef20954438b691b0341ebbd4ca",
            "5b192fbe840e4dd79b3b4497dacd00b6",
            "95666c8a66c141b694051d35d3da3ffa",
            "2af437375c684e159029867cf7b14760",
            "d5bcf18924c249e089c57bdf01fdf922",
            "d7b56b4ccc1a4df7b748cb3c30e99f5c",
            "079e9a27ae3c4ea1be18fb0bdca9c8c8",
            "8a9290f1d0ce4502a7de90b570f44633",
            "ee1f09c96240458faba843e5a15abbc0",
            "763a65ba067e44c8b8d148fbbbc07a3d",
            "b6bd3d7d94b343b99bf3c879b883c70f",
            "be3e709542104517ad4dec020dcccaf6",
            "0408d780f5814c8a8a859fe929f6e8af",
            "9eec589de6654e3a86b537df20be47d9",
            "bf89007fcd6d4b25939197670694f363",
            "9bcfc39feada4c32ad4545b2c087e684",
            "312b09332cc24a628f5a3d01b31e427b",
            "eef46100a3cd48bca1d1df918434b138",
            "34a040520ac741f19509b3100f63ed8d",
            "7d20c6d3448f4037ba24a6ea4a831b4d",
            "7cbc712a25f64c81a56ea5e608197aeb",
            "bbdd50cdfb82439fa7edaddece80cb79",
            "45ae57bb4a4449c28868816603f14ce3"
          ]
        }
      },
      "source": [
        "try:\n",
        "    import google.colab\n",
        "    IN_COLAB = True\n",
        "except:\n",
        "    IN_COLAB = False\n",
        "\n",
        "if IN_COLAB:\n",
        "    ! wget https://raw.githubusercontent.com/hse-aml/natural-language-processing/master/setup_google_colab.py -O setup_google_colab.py\n",
        "    import setup_google_colab\n",
        "    setup_google_colab.setup_week1() \n",
        "    \n",
        "import sys\n",
        "sys.path.append(\"..\")\n",
        "from common.download_utils import download_week1_resources\n",
        "\n",
        "download_week1_resources()"
      ],
      "execution_count": 1,
      "outputs": [
        {
          "output_type": "stream",
          "text": [
            "--2020-11-17 05:54:27--  https://raw.githubusercontent.com/hse-aml/natural-language-processing/master/setup_google_colab.py\n",
            "Resolving raw.githubusercontent.com (raw.githubusercontent.com)... 151.101.0.133, 151.101.64.133, 151.101.128.133, ...\n",
            "Connecting to raw.githubusercontent.com (raw.githubusercontent.com)|151.101.0.133|:443... connected.\n",
            "HTTP request sent, awaiting response... 200 OK\n",
            "Length: 1939 (1.9K) [text/plain]\n",
            "Saving to: ‘setup_google_colab.py’\n",
            "\n",
            "setup_google_colab. 100%[===================>]   1.89K  --.-KB/s    in 0s      \n",
            "\n",
            "2020-11-17 05:54:27 (28.0 MB/s) - ‘setup_google_colab.py’ saved [1939/1939]\n",
            "\n"
          ],
          "name": "stdout"
        },
        {
          "output_type": "display_data",
          "data": {
            "application/vnd.jupyter.widget-view+json": {
              "model_id": "d82e243533f746a8a01e9d1544d29abb",
              "version_minor": 0,
              "version_major": 2
            },
            "text/plain": [
              "HBox(children=(HTML(value=''), FloatProgress(value=0.0, max=7196138.0), HTML(value='')))"
            ]
          },
          "metadata": {
            "tags": []
          }
        },
        {
          "output_type": "stream",
          "text": [
            "\n"
          ],
          "name": "stdout"
        },
        {
          "output_type": "display_data",
          "data": {
            "application/vnd.jupyter.widget-view+json": {
              "model_id": "1deeac37ab1e40a5af9fcbef432f19f7",
              "version_minor": 0,
              "version_major": 2
            },
            "text/plain": [
              "HBox(children=(HTML(value=''), FloatProgress(value=0.0, max=2166270.0), HTML(value='')))"
            ]
          },
          "metadata": {
            "tags": []
          }
        },
        {
          "output_type": "stream",
          "text": [
            "\n"
          ],
          "name": "stdout"
        },
        {
          "output_type": "display_data",
          "data": {
            "application/vnd.jupyter.widget-view+json": {
              "model_id": "5b192fbe840e4dd79b3b4497dacd00b6",
              "version_minor": 0,
              "version_major": 2
            },
            "text/plain": [
              "HBox(children=(HTML(value=''), FloatProgress(value=0.0, max=1041379.0), HTML(value='')))"
            ]
          },
          "metadata": {
            "tags": []
          }
        },
        {
          "output_type": "stream",
          "text": [
            "\n"
          ],
          "name": "stdout"
        },
        {
          "output_type": "display_data",
          "data": {
            "application/vnd.jupyter.widget-view+json": {
              "model_id": "0408d780f5814c8a8a859fe929f6e8af",
              "version_minor": 0,
              "version_major": 2
            },
            "text/plain": [
              "HBox(children=(HTML(value=''), FloatProgress(value=0.0, max=5091.0), HTML(value='')))"
            ]
          },
          "metadata": {
            "tags": []
          }
        },
        {
          "output_type": "stream",
          "text": [
            "\n"
          ],
          "name": "stdout"
        }
      ]
    },
    {
      "cell_type": "markdown",
      "metadata": {
        "id": "sczcUP49yEsl"
      },
      "source": [
        "### Grading\n",
        "We will create a grader instance below and use it to collect your answers. Note that these outputs will be stored locally inside grader and will be uploaded to platform only after running submitting function in the last part of this assignment. If you want to make partial submission, you can run that cell any time you want."
      ]
    },
    {
      "cell_type": "code",
      "metadata": {
        "id": "ZRtgs7a8yEsm"
      },
      "source": [
        "from grader import Grader"
      ],
      "execution_count": 2,
      "outputs": []
    },
    {
      "cell_type": "code",
      "metadata": {
        "id": "L652WPoByEsr"
      },
      "source": [
        "grader = Grader()"
      ],
      "execution_count": 3,
      "outputs": []
    },
    {
      "cell_type": "markdown",
      "metadata": {
        "id": "xzEg0llByEsv"
      },
      "source": [
        "### Text preprocessing"
      ]
    },
    {
      "cell_type": "markdown",
      "metadata": {
        "id": "O0Q1qgv7yEsy"
      },
      "source": [
        "For this and most of the following assignments you will need to use a list of stop words. It can be downloaded from *nltk*:"
      ]
    },
    {
      "cell_type": "code",
      "metadata": {
        "id": "1XC4OEDgyEsz",
        "outputId": "69a6d039-8e65-44f1-cdf3-8f830051b812",
        "colab": {
          "base_uri": "https://localhost:8080/"
        }
      },
      "source": [
        "import nltk\n",
        "nltk.download('stopwords')\n",
        "from nltk.corpus import stopwords"
      ],
      "execution_count": 4,
      "outputs": [
        {
          "output_type": "stream",
          "text": [
            "[nltk_data] Downloading package stopwords to /root/nltk_data...\n",
            "[nltk_data]   Unzipping corpora/stopwords.zip.\n"
          ],
          "name": "stderr"
        }
      ]
    },
    {
      "cell_type": "markdown",
      "metadata": {
        "id": "65Jc17kAyEs4"
      },
      "source": [
        "In this task you will deal with a dataset of post titles from StackOverflow. You are provided a split to 3 sets: *train*, *validation* and *test*. All corpora (except for *test*) contain titles of the posts and corresponding tags (100 tags are available). The *test* set is provided for Coursera's grading and doesn't contain answers. Upload the corpora using *pandas* and look at the data:"
      ]
    },
    {
      "cell_type": "code",
      "metadata": {
        "id": "6a2UqYatyEs4"
      },
      "source": [
        "from ast import literal_eval\n",
        "import pandas as pd\n",
        "import numpy as np"
      ],
      "execution_count": 5,
      "outputs": []
    },
    {
      "cell_type": "code",
      "metadata": {
        "id": "SE9OvjSDyEs8"
      },
      "source": [
        "def read_data(filename):\n",
        "    data = pd.read_csv(filename, sep='\\t')\n",
        "    data['tags'] = data['tags'].apply(literal_eval)\n",
        "    return data"
      ],
      "execution_count": 6,
      "outputs": []
    },
    {
      "cell_type": "code",
      "metadata": {
        "id": "DLYm3LTryEtB"
      },
      "source": [
        "train = read_data('data/train.tsv')\n",
        "validation = read_data('data/validation.tsv')\n",
        "test = pd.read_csv('data/test.tsv', sep='\\t')"
      ],
      "execution_count": 7,
      "outputs": []
    },
    {
      "cell_type": "code",
      "metadata": {
        "id": "AsV3Vr1hyEtG",
        "outputId": "fa5df878-fede-4f90-c4ad-413c31ef4d0c",
        "colab": {
          "base_uri": "https://localhost:8080/",
          "height": 190
        }
      },
      "source": [
        "train.head()"
      ],
      "execution_count": 8,
      "outputs": [
        {
          "output_type": "execute_result",
          "data": {
            "text/html": [
              "<div>\n",
              "<style scoped>\n",
              "    .dataframe tbody tr th:only-of-type {\n",
              "        vertical-align: middle;\n",
              "    }\n",
              "\n",
              "    .dataframe tbody tr th {\n",
              "        vertical-align: top;\n",
              "    }\n",
              "\n",
              "    .dataframe thead th {\n",
              "        text-align: right;\n",
              "    }\n",
              "</style>\n",
              "<table border=\"1\" class=\"dataframe\">\n",
              "  <thead>\n",
              "    <tr style=\"text-align: right;\">\n",
              "      <th></th>\n",
              "      <th>title</th>\n",
              "      <th>tags</th>\n",
              "    </tr>\n",
              "  </thead>\n",
              "  <tbody>\n",
              "    <tr>\n",
              "      <th>0</th>\n",
              "      <td>How to draw a stacked dotplot in R?</td>\n",
              "      <td>[r]</td>\n",
              "    </tr>\n",
              "    <tr>\n",
              "      <th>1</th>\n",
              "      <td>mysql select all records where a datetime fiel...</td>\n",
              "      <td>[php, mysql]</td>\n",
              "    </tr>\n",
              "    <tr>\n",
              "      <th>2</th>\n",
              "      <td>How to terminate windows phone 8.1 app</td>\n",
              "      <td>[c#]</td>\n",
              "    </tr>\n",
              "    <tr>\n",
              "      <th>3</th>\n",
              "      <td>get current time in a specific country via jquery</td>\n",
              "      <td>[javascript, jquery]</td>\n",
              "    </tr>\n",
              "    <tr>\n",
              "      <th>4</th>\n",
              "      <td>Configuring Tomcat to Use SSL</td>\n",
              "      <td>[java]</td>\n",
              "    </tr>\n",
              "  </tbody>\n",
              "</table>\n",
              "</div>"
            ],
            "text/plain": [
              "                                               title                  tags\n",
              "0                How to draw a stacked dotplot in R?                   [r]\n",
              "1  mysql select all records where a datetime fiel...          [php, mysql]\n",
              "2             How to terminate windows phone 8.1 app                  [c#]\n",
              "3  get current time in a specific country via jquery  [javascript, jquery]\n",
              "4                      Configuring Tomcat to Use SSL                [java]"
            ]
          },
          "metadata": {
            "tags": []
          },
          "execution_count": 8
        }
      ]
    },
    {
      "cell_type": "markdown",
      "metadata": {
        "id": "mCMvnSdkyEtK"
      },
      "source": [
        "As you can see, *title* column contains titles of the posts and *tags* column contains the tags. It could be noticed that a number of tags for a post is not fixed and could be as many as necessary."
      ]
    },
    {
      "cell_type": "markdown",
      "metadata": {
        "id": "rr3MgaWOyEtK"
      },
      "source": [
        "For a more comfortable usage, initialize *X_train*, *X_val*, *X_test*, *y_train*, *y_val*."
      ]
    },
    {
      "cell_type": "code",
      "metadata": {
        "id": "Xf-zacgfyEtL"
      },
      "source": [
        "X_train, y_train = train['title'].values, train['tags'].values\n",
        "X_val, y_val = validation['title'].values, validation['tags'].values\n",
        "X_test = test['title'].values"
      ],
      "execution_count": 122,
      "outputs": []
    },
    {
      "cell_type": "markdown",
      "metadata": {
        "id": "7S61rMhIyEtP"
      },
      "source": [
        "One of the most known difficulties when working with natural data is that it's unstructured. For example, if you use it \"as is\" and extract tokens just by splitting the titles by whitespaces, you will see that there are many \"weird\" tokens like *3.5?*, *\"Flip*, etc. To prevent the problems, it's usually useful to prepare the data somehow. In this task you'll write a function, which will be also used in the other assignments. \n",
        "\n",
        "**Task 1 (TextPrepare).** Implement the function *text_prepare* following the instructions. After that, run the function *test_text_prepare* to test it on tiny cases and submit it to Coursera."
      ]
    },
    {
      "cell_type": "code",
      "metadata": {
        "id": "pnIbE4oiyEtP"
      },
      "source": [
        "import re"
      ],
      "execution_count": 123,
      "outputs": []
    },
    {
      "cell_type": "code",
      "metadata": {
        "id": "9ZKwBfNsyEtU"
      },
      "source": [
        "REPLACE_BY_SPACE_RE = re.compile('[/(){}\\[\\]\\|@,;]')\n",
        "BAD_SYMBOLS_RE = re.compile('[^0-9a-z #+_]')\n",
        "STOPWORDS = set(stopwords.words('english'))\n",
        "STOPWORDS_RE = re.compile(r'\\b(' + r'|'.join(STOPWORDS) + r')\\b\\s*')\n",
        "COMBINE_WHITESPACES_RE = re.compile(r'\\s+')\n",
        "\n",
        "def text_prepare(text):\n",
        "    \"\"\"\n",
        "        text: a string\n",
        "        \n",
        "        return: modified initial string\n",
        "    \"\"\"\n",
        "    text = text.lower()                                           # lowercase text\n",
        "    text = re.sub(REPLACE_BY_SPACE_RE, ' ', text)                 # replace REPLACE_BY_SPACE_RE symbols by space in text\n",
        "    text = re.sub(BAD_SYMBOLS_RE, '', text)                       # delete symbols which are in BAD_SYMBOLS_RE from text\n",
        "    text = re.sub(STOPWORDS_RE, '', text)                         # delete stopwords from text\n",
        "    text = re.sub(COMBINE_WHITESPACES_RE, ' ', text)\n",
        "    return text"
      ],
      "execution_count": 124,
      "outputs": []
    },
    {
      "cell_type": "code",
      "metadata": {
        "id": "rgBhSO7ZyEtY"
      },
      "source": [
        "def test_text_prepare():\n",
        "    examples = [\"SQL Server - any equivalent of Excel's CHOOSE function?\",\n",
        "                \"How to free c++ memory vector<int> * arr?\"]\n",
        "    answers = [\"sql server equivalent excels choose function\", \n",
        "               \"free c++ memory vectorint arr\"]\n",
        "    for ex, ans in zip(examples, answers):\n",
        "        if text_prepare(ex) != ans:\n",
        "            return \"Wrong answer for the case: '%s'\" % ex\n",
        "    return 'Basic tests are passed.'"
      ],
      "execution_count": 125,
      "outputs": []
    },
    {
      "cell_type": "code",
      "metadata": {
        "id": "4LwWx68xyEtc",
        "outputId": "96ff9138-628d-4ea5-b5c7-554ec0cd49f8",
        "colab": {
          "base_uri": "https://localhost:8080/"
        }
      },
      "source": [
        "print(test_text_prepare())"
      ],
      "execution_count": 126,
      "outputs": [
        {
          "output_type": "stream",
          "text": [
            "Basic tests are passed.\n"
          ],
          "name": "stdout"
        }
      ]
    },
    {
      "cell_type": "markdown",
      "metadata": {
        "id": "h8mrpQzyyEtg"
      },
      "source": [
        "Run your implementation for questions from file *text_prepare_tests.tsv* to earn the points."
      ]
    },
    {
      "cell_type": "code",
      "metadata": {
        "id": "xfm_fq3VyEtg",
        "outputId": "de3a197c-857d-4de7-a1a9-f8d2012f3ea4",
        "colab": {
          "base_uri": "https://localhost:8080/"
        }
      },
      "source": [
        "prepared_questions = []\n",
        "for line in open('data/text_prepare_tests.tsv', encoding='utf-8'):\n",
        "    line = text_prepare(line.strip())\n",
        "    prepared_questions.append(line)\n",
        "text_prepare_results = '\\n'.join(prepared_questions)\n",
        "\n",
        "grader.submit_tag('TextPrepare', text_prepare_results)"
      ],
      "execution_count": 127,
      "outputs": [
        {
          "output_type": "stream",
          "text": [
            "Current answer for task TextPrepare is:\n",
            " sqlite php readonly\n",
            "creating multiple textboxes dynamically\n",
            "self one prefer javascript\n",
            "save php date...\n"
          ],
          "name": "stdout"
        }
      ]
    },
    {
      "cell_type": "markdown",
      "metadata": {
        "id": "0E2vdYehyEtm"
      },
      "source": [
        "Now we can preprocess the titles using function *text_prepare* and  making sure that the headers don't have bad symbols:"
      ]
    },
    {
      "cell_type": "code",
      "metadata": {
        "id": "ejCHPpMiyEtm"
      },
      "source": [
        "X_train = [text_prepare(x) for x in X_train]\n",
        "X_val = [text_prepare(x) for x in X_val]\n",
        "X_test = [text_prepare(x) for x in X_test]"
      ],
      "execution_count": 128,
      "outputs": []
    },
    {
      "cell_type": "code",
      "metadata": {
        "id": "hzoWIhqryEtq",
        "outputId": "1d966619-6a9f-42cd-d7c3-e6c5e4486f0b",
        "colab": {
          "base_uri": "https://localhost:8080/"
        }
      },
      "source": [
        "X_train[10:50]"
      ],
      "execution_count": 154,
      "outputs": [
        {
          "output_type": "execute_result",
          "data": {
            "text/plain": [
              "['obtaining object javalangclasst object parameterized type without constructing class q_uestion',\n",
              " 'ipad selecting text inside text input tap',\n",
              " 'jquerys function object',\n",
              " 'eclipse c++ mingw lauch program terminated',\n",
              " 'javascript call one prototype method another prototype method',\n",
              " 'get intersection list sets',\n",
              " 'longer able hide keyboard viewwilldisappear ios7',\n",
              " 'fetch key json swift',\n",
              " 'change pivot header template windows phone 8',\n",
              " 'connectionstring encryption',\n",
              " 'let ui refresh long running ui operation',\n",
              " 'better way execute ruby file using python get ruby console output ruby file run python',\n",
              " 'make 2 thumbnails codeigniter',\n",
              " 'java character vs char memory usage',\n",
              " 'bootstrap modal close enter key press',\n",
              " 'linq query group retrieving percentage',\n",
              " 'label field issue openerp',\n",
              " 'keep 2 objects view time scaling field view zy axis ',\n",
              " 'attributeerror nonetype object attribute split',\n",
              " 'append mat file using scipyiosavemat',\n",
              " 'jquery replace onclick hcommandlink',\n",
              " 'redirect output ruby programme file',\n",
              " 'accesscontrolalloworigin header present requested resource error',\n",
              " 'creating json windows 8 c# using ijsonvalue cannot implicitly convert type string windowsdatajsonijsonvalue',\n",
              " 'django modelform label captialisation',\n",
              " 'show hide div slide javascript without jquery ',\n",
              " 'avoid busy spinning java',\n",
              " 'laravel 4 inputall returns data ajax post',\n",
              " 'handle neterr_connection_refused jquery ajax',\n",
              " 'year function r',\n",
              " 'use retrofit singleton using gson convertor',\n",
              " 'use settimer nondialog cpp mfc app',\n",
              " 'copying web reference new project',\n",
              " 'linq query select top five',\n",
              " 'javascript insert string specific index',\n",
              " 'apache poi change page format excel worksheet',\n",
              " 'python tkinter indeterminate progress bar running',\n",
              " 'store image path mysql database using c#',\n",
              " 'jdbc connection error associated managed connection',\n",
              " 'use multiple tables one model yii2']"
            ]
          },
          "metadata": {
            "tags": []
          },
          "execution_count": 154
        }
      ]
    },
    {
      "cell_type": "markdown",
      "metadata": {
        "id": "dWyw7iKcyEtu"
      },
      "source": [
        "For each tag and for each word calculate how many times they occur in the train corpus. \n",
        "\n",
        "**Task 2 (WordsTagsCount).** Find 3 most popular tags and 3 most popular words in the train data and submit the results to earn the points."
      ]
    },
    {
      "cell_type": "code",
      "metadata": {
        "id": "tMvMDCF5zy7c",
        "outputId": "51d69e28-d402-42b0-abbe-add3230afb6d",
        "colab": {
          "base_uri": "https://localhost:8080/"
        }
      },
      "source": [
        "i = 10\n",
        "for tag_list in y_train:\n",
        "  tag_list = list(set(tag_list))\n",
        "  if i < 0:\n",
        "    break\n",
        "  i = i - 1\n",
        "  print(tag_list)"
      ],
      "execution_count": 130,
      "outputs": [
        {
          "output_type": "stream",
          "text": [
            "['r']\n",
            "['php', 'mysql']\n",
            "['c#']\n",
            "['javascript', 'jquery']\n",
            "['java']\n",
            "['ruby-on-rails']\n",
            "['ruby', 'ruby-on-rails-3', 'json']\n",
            "['ruby']\n",
            "['spring', 'spring-mvc', 'java']\n",
            "['php', 'codeigniter']\n",
            "['class', 'java']\n"
          ],
          "name": "stdout"
        }
      ]
    },
    {
      "cell_type": "code",
      "metadata": {
        "id": "IPSSJpDRz1h0",
        "outputId": "cbec5b07-317e-416a-e6ca-068e8914ea54",
        "colab": {
          "base_uri": "https://localhost:8080/"
        }
      },
      "source": [
        "nltk.download('punkt')"
      ],
      "execution_count": 18,
      "outputs": [
        {
          "output_type": "stream",
          "text": [
            "[nltk_data] Downloading package punkt to /root/nltk_data...\n",
            "[nltk_data]   Unzipping tokenizers/punkt.zip.\n"
          ],
          "name": "stderr"
        },
        {
          "output_type": "execute_result",
          "data": {
            "text/plain": [
              "True"
            ]
          },
          "metadata": {
            "tags": []
          },
          "execution_count": 18
        }
      ]
    },
    {
      "cell_type": "code",
      "metadata": {
        "id": "3LFGTBEvyEtv",
        "outputId": "bc94e6dd-0361-420f-95d0-b6edf60d3cb8",
        "colab": {
          "base_uri": "https://localhost:8080/"
        }
      },
      "source": [
        "%%time\n",
        "# Dictionary of all tags from train corpus with their counts.\n",
        "tags_counts = {}\n",
        "# Dictionary of all words from train corpus with their counts.\n",
        "words_counts = {}\n",
        "\n",
        "######################################\n",
        "######### YOUR CODE HERE #############\n",
        "######################################\n",
        "\n",
        "from nltk.tokenize import word_tokenize\n",
        "from collections import Counter\n",
        "\n",
        "for sentence in X_train:\n",
        "  words = word_tokenize(sentence)\n",
        "  for word in words:\n",
        "    counter = words_counts.get(str(word).strip(), 0)\n",
        "    words_counts.update({str(word).strip(): counter + 1})\n",
        "\n",
        "i = 10\n",
        "all_tags = []\n",
        "for tag_list in y_train:\n",
        "  tag_list = list(set(tag_list))\n",
        "  all_tags.extend(tag_list)\n",
        "\n",
        "tags_counts = dict(Counter(all_tags))"
      ],
      "execution_count": 131,
      "outputs": [
        {
          "output_type": "stream",
          "text": [
            "CPU times: user 10.4 s, sys: 164 µs, total: 10.4 s\n",
            "Wall time: 10.4 s\n"
          ],
          "name": "stdout"
        }
      ]
    },
    {
      "cell_type": "markdown",
      "metadata": {
        "id": "0Nk9hIXcyEtz"
      },
      "source": [
        "We are assuming that *tags_counts* and *words_counts* are dictionaries like `{'some_word_or_tag': frequency}`. After applying the sorting procedure, results will be look like this: `[('most_popular_word_or_tag', frequency), ('less_popular_word_or_tag', frequency), ...]`. The grader gets the results in the following format (two comma-separated strings with line break):\n",
        "\n",
        "    tag1,tag2,tag3\n",
        "    word1,word2,word3\n",
        "\n",
        "Pay attention that in this assignment you should not submit frequencies or some additional information."
      ]
    },
    {
      "cell_type": "code",
      "metadata": {
        "id": "ZZXT0002yEt0",
        "outputId": "05eaf37e-9581-4394-c949-09e27c4a036b",
        "colab": {
          "base_uri": "https://localhost:8080/"
        }
      },
      "source": [
        "most_common_tags = sorted(tags_counts.items(), key=lambda x: x[1], reverse=True)[:3]\n",
        "most_common_words = sorted(words_counts.items(), key=lambda x: x[1], reverse=True)[:5]\n",
        "most_common_words = [(w, s) for w, s in most_common_words if len(w) > 1][:3]\n",
        "\n",
        "grader.submit_tag('WordsTagsCount', '%s\\n%s' % (','.join(tag for tag, _ in most_common_tags), \n",
        "                                                ','.join(word for word, _ in most_common_words)))"
      ],
      "execution_count": 137,
      "outputs": [
        {
          "output_type": "stream",
          "text": [
            "Current answer for task WordsTagsCount is:\n",
            " javascript,c#,java\n",
            "using,php,java...\n"
          ],
          "name": "stdout"
        }
      ]
    },
    {
      "cell_type": "code",
      "metadata": {
        "id": "HNWmCVt60JxS",
        "outputId": "d0966b58-0758-4f14-c994-2d928960c1d2",
        "colab": {
          "base_uri": "https://localhost:8080/"
        }
      },
      "source": [
        "print(most_common_tags)\n",
        "print(most_common_words)"
      ],
      "execution_count": 138,
      "outputs": [
        {
          "output_type": "stream",
          "text": [
            "[('javascript', 19078), ('c#', 19077), ('java', 18661)]\n",
            "[('using', 8278), ('php', 5614), ('java', 5500)]\n"
          ],
          "name": "stdout"
        }
      ]
    },
    {
      "cell_type": "markdown",
      "metadata": {
        "id": "rA1EN9jJyEt4"
      },
      "source": [
        "### Transforming text to a vector\n",
        "\n",
        "Machine Learning algorithms work with numeric data and we cannot use the provided text data \"as is\". There are many ways to transform text data to numeric vectors. In this task you will try to use two of them.\n",
        "\n",
        "#### Bag of words\n",
        "\n",
        "One of the well-known approaches is a *bag-of-words* representation. To create this transformation, follow the steps:\n",
        "1. Find *N* most popular words in train corpus and numerate them. Now we have a dictionary of the most popular words.\n",
        "2. For each title in the corpora create a zero vector with the dimension equals to *N*.\n",
        "3. For each text in the corpora iterate over words which are in the dictionary and increase by 1 the corresponding coordinate.\n",
        "\n",
        "Let's try to do it for a toy example. Imagine that we have *N* = 4 and the list of the most popular words is \n",
        "\n",
        "    ['hi', 'you', 'me', 'are']\n",
        "\n",
        "Then we need to numerate them, for example, like this: \n",
        "\n",
        "    {'hi': 0, 'you': 1, 'me': 2, 'are': 3}\n",
        "\n",
        "And we have the text, which we want to transform to the vector:\n",
        "\n",
        "    'hi how are you'\n",
        "\n",
        "For this text we create a corresponding zero vector \n",
        "\n",
        "    [0, 0, 0, 0]\n",
        "    \n",
        "And iterate over all words, and if the word is in the dictionary, we increase the value of the corresponding position in the vector:\n",
        "\n",
        "    'hi':  [1, 0, 0, 0]\n",
        "    'how': [1, 0, 0, 0] # word 'how' is not in our dictionary\n",
        "    'are': [1, 0, 0, 1]\n",
        "    'you': [1, 1, 0, 1]\n",
        "\n",
        "The resulting vector will be \n",
        "\n",
        "    [1, 1, 0, 1]\n",
        "   \n",
        "Implement the described encoding in the function *my_bag_of_words* with the size of the dictionary equals to 5000. To find the most common words use train data. You can test your code using the function *test_my_bag_of_words*."
      ]
    },
    {
      "cell_type": "code",
      "metadata": {
        "id": "m4tiBtUAyEt4"
      },
      "source": [
        "DICT_SIZE = 5000\n",
        "WORDS_TO_INDEX = {\n",
        "    k: v for v, k in enumerate([w for w, c in sorted(words_counts.items(), key=lambda x: x[1], reverse=True)[:DICT_SIZE]])\n",
        "}   ####### YOUR CODE HERE #######\n",
        "INDEX_TO_WORDS = {v: k for k, v in WORDS_TO_INDEX.items()} ####### YOUR CODE HERE #######\n",
        "ALL_WORDS = WORDS_TO_INDEX.keys()\n",
        "\n",
        "# print(WORDS_TO_INDEX)\n",
        "# print(INDEX_TO_WORDS)\n",
        "# print(ALL_WORDS)\n",
        "\n",
        "def my_bag_of_words(text, words_to_index, dict_size):\n",
        "    \"\"\"\n",
        "        text: a string\n",
        "        dict_size: size of the dictionary\n",
        "        \n",
        "        return a vector which is a bag-of-words representation of 'text'\n",
        "    \"\"\"\n",
        "    result_vector = np.zeros(dict_size)\n",
        "    ######################################\n",
        "    ######### YOUR CODE HERE #############\n",
        "    ######################################\n",
        "    words = word_tokenize(text)\n",
        "    for word in words:\n",
        "      index = words_to_index.get(word, -1)\n",
        "      if index != -1:\n",
        "        result_vector[index] = result_vector[index] + 1 \n",
        "\n",
        "\n",
        "    return result_vector"
      ],
      "execution_count": 171,
      "outputs": []
    },
    {
      "cell_type": "code",
      "metadata": {
        "id": "2wl3NESKyEt9"
      },
      "source": [
        "def test_my_bag_of_words():\n",
        "    words_to_index = {'hi': 0, 'you': 1, 'me': 2, 'are': 3}\n",
        "    examples = ['hi how are you']\n",
        "    answers = [[1, 1, 0, 1]]\n",
        "    for ex, ans in zip(examples, answers):\n",
        "        if (my_bag_of_words(ex, words_to_index, 4) != ans).any():\n",
        "            return \"Wrong answer for the case: '%s'\" % ex\n",
        "    return 'Basic tests are passed.'"
      ],
      "execution_count": 172,
      "outputs": []
    },
    {
      "cell_type": "code",
      "metadata": {
        "id": "PBQJgWhjyEuB",
        "outputId": "554503b8-c96f-44c8-addd-a8baaaaa4a03",
        "colab": {
          "base_uri": "https://localhost:8080/"
        }
      },
      "source": [
        "print(test_my_bag_of_words())"
      ],
      "execution_count": 173,
      "outputs": [
        {
          "output_type": "stream",
          "text": [
            "Basic tests are passed.\n"
          ],
          "name": "stdout"
        }
      ]
    },
    {
      "cell_type": "markdown",
      "metadata": {
        "id": "QyKj8ltdyEuH"
      },
      "source": [
        "Now apply the implemented function to all samples (this might take up to a minute):"
      ]
    },
    {
      "cell_type": "code",
      "metadata": {
        "id": "ZXWKI9eEyEuJ"
      },
      "source": [
        "from scipy import sparse as sp_sparse"
      ],
      "execution_count": 174,
      "outputs": []
    },
    {
      "cell_type": "code",
      "metadata": {
        "id": "ucUYK6zMyEuN",
        "outputId": "11abb98b-c5c4-4320-f4ec-749832425463",
        "colab": {
          "base_uri": "https://localhost:8080/"
        }
      },
      "source": [
        "X_train_mybag = sp_sparse.vstack([sp_sparse.csr_matrix(my_bag_of_words(text, WORDS_TO_INDEX, DICT_SIZE)) for text in X_train])\n",
        "X_val_mybag = sp_sparse.vstack([sp_sparse.csr_matrix(my_bag_of_words(text, WORDS_TO_INDEX, DICT_SIZE)) for text in X_val])\n",
        "X_test_mybag = sp_sparse.vstack([sp_sparse.csr_matrix(my_bag_of_words(text, WORDS_TO_INDEX, DICT_SIZE)) for text in X_test])\n",
        "print('X_train shape ', X_train_mybag.shape)\n",
        "print('X_val shape ', X_val_mybag.shape)\n",
        "print('X_test shape ', X_test_mybag.shape)"
      ],
      "execution_count": 175,
      "outputs": [
        {
          "output_type": "stream",
          "text": [
            "X_train shape  (100000, 5000)\n",
            "X_val shape  (30000, 5000)\n",
            "X_test shape  (20000, 5000)\n"
          ],
          "name": "stdout"
        }
      ]
    },
    {
      "cell_type": "markdown",
      "metadata": {
        "id": "ov70fxC3yEuR"
      },
      "source": [
        "As you might notice, we transform the data to sparse representation, to store the useful information efficiently. There are many [types](https://docs.scipy.org/doc/scipy/reference/sparse.html) of such representations, however sklearn algorithms can work only with [csr](https://docs.scipy.org/doc/scipy/reference/generated/scipy.sparse.csr_matrix.html#scipy.sparse.csr_matrix) matrix, so we will use this one."
      ]
    },
    {
      "cell_type": "markdown",
      "metadata": {
        "id": "qF3oNTY7yEuR"
      },
      "source": [
        "**Task 3 (BagOfWords).** For the 11th row in *X_train_mybag* find how many non-zero elements it has. In this task the answer (variable *non_zero_elements_count*) should be an integer number, e.g. 20."
      ]
    },
    {
      "cell_type": "code",
      "metadata": {
        "id": "uy1UtihwX_9q",
        "outputId": "48121095-c31b-448d-e2c5-72145f0a9a83",
        "colab": {
          "base_uri": "https://localhost:8080/",
          "height": 34
        }
      },
      "source": [
        "train['title'].iloc[10]"
      ],
      "execution_count": 176,
      "outputs": [
        {
          "output_type": "execute_result",
          "data": {
            "application/vnd.google.colaboratory.intrinsic+json": {
              "type": "string"
            },
            "text/plain": [
              "'Obtaining the object the java.lang.Class<T> object for a parameterized type without constructing the class in q_uestion?'"
            ]
          },
          "metadata": {
            "tags": []
          },
          "execution_count": 176
        }
      ]
    },
    {
      "cell_type": "code",
      "metadata": {
        "id": "wFo4OB-YaVob",
        "outputId": "db583bb5-cdc4-4ea1-c4b4-3815f7241785",
        "colab": {
          "base_uri": "https://localhost:8080/",
          "height": 34
        }
      },
      "source": [
        "text_prepare(train['title'].iloc[10])"
      ],
      "execution_count": 177,
      "outputs": [
        {
          "output_type": "execute_result",
          "data": {
            "application/vnd.google.colaboratory.intrinsic+json": {
              "type": "string"
            },
            "text/plain": [
              "'obtaining object javalangclasst object parameterized type without constructing class q_uestion'"
            ]
          },
          "metadata": {
            "tags": []
          },
          "execution_count": 177
        }
      ]
    },
    {
      "cell_type": "code",
      "metadata": {
        "id": "mc3emd1zX506",
        "outputId": "054f8940-8295-4b63-b96c-37dcd33a0a93",
        "colab": {
          "base_uri": "https://localhost:8080/",
          "height": 34
        }
      },
      "source": [
        "X_train[10]"
      ],
      "execution_count": 178,
      "outputs": [
        {
          "output_type": "execute_result",
          "data": {
            "application/vnd.google.colaboratory.intrinsic+json": {
              "type": "string"
            },
            "text/plain": [
              "'obtaining object javalangclasst object parameterized type without constructing class q_uestion'"
            ]
          },
          "metadata": {
            "tags": []
          },
          "execution_count": 178
        }
      ]
    },
    {
      "cell_type": "code",
      "metadata": {
        "id": "IBcqlZnMpkm1",
        "outputId": "f6dbe02a-d864-4860-fd96-486a3bba1d64",
        "colab": {
          "base_uri": "https://localhost:8080/"
        }
      },
      "source": [
        "len(WORDS_TO_INDEX)"
      ],
      "execution_count": 179,
      "outputs": [
        {
          "output_type": "execute_result",
          "data": {
            "text/plain": [
              "5000"
            ]
          },
          "metadata": {
            "tags": []
          },
          "execution_count": 179
        }
      ]
    },
    {
      "cell_type": "code",
      "metadata": {
        "id": "yZPa-Sp1pKkg",
        "outputId": "ff233c70-0fa6-4f54-aa14-11e0136ff41c",
        "colab": {
          "base_uri": "https://localhost:8080/"
        }
      },
      "source": [
        "for w in word_tokenize(X_train[10]):\n",
        "  print(w)\n",
        "  print(WORDS_TO_INDEX.get(w, -1))\n",
        "  print()"
      ],
      "execution_count": 180,
      "outputs": [
        {
          "output_type": "stream",
          "text": [
            "obtaining\n",
            "3325\n",
            "\n",
            "object\n",
            "16\n",
            "\n",
            "javalangclasst\n",
            "-1\n",
            "\n",
            "object\n",
            "16\n",
            "\n",
            "parameterized\n",
            "3096\n",
            "\n",
            "type\n",
            "30\n",
            "\n",
            "without\n",
            "51\n",
            "\n",
            "constructing\n",
            "4549\n",
            "\n",
            "class\n",
            "17\n",
            "\n",
            "q_uestion\n",
            "-1\n",
            "\n"
          ],
          "name": "stdout"
        }
      ]
    },
    {
      "cell_type": "code",
      "metadata": {
        "id": "AcKH03GknV8w"
      },
      "source": [
        "from scipy.sparse import csr_matrix"
      ],
      "execution_count": 181,
      "outputs": []
    },
    {
      "cell_type": "code",
      "metadata": {
        "id": "6-_7NJaWm2qy",
        "outputId": "1c1aafba-7dc9-4aaa-d3d0-d177ee70b29d",
        "colab": {
          "base_uri": "https://localhost:8080/"
        }
      },
      "source": [
        "# csr_matrix.todense(X_train_mybag[10])\n",
        "for i, v in enumerate(X_train_mybag[10].toarray()[0]):\n",
        "  if v != 0:\n",
        "    print(i, ': ', v)"
      ],
      "execution_count": 182,
      "outputs": [
        {
          "output_type": "stream",
          "text": [
            "16 :  2.0\n",
            "17 :  1.0\n",
            "30 :  1.0\n",
            "51 :  1.0\n",
            "3096 :  1.0\n",
            "3325 :  1.0\n",
            "4549 :  1.0\n"
          ],
          "name": "stdout"
        }
      ]
    },
    {
      "cell_type": "code",
      "metadata": {
        "id": "ELk8alCUyEuS",
        "outputId": "afedc8da-1b59-4b33-d670-39f7bb151e12",
        "colab": {
          "base_uri": "https://localhost:8080/"
        }
      },
      "source": [
        "row = X_train_mybag[10].toarray()[0]\n",
        "non_zero_elements_count = np.count_nonzero(row) # len([i for i in row if i != 0]) ####### YOUR CODE HERE #######\n",
        "\n",
        "grader.submit_tag('BagOfWords', str(non_zero_elements_count))"
      ],
      "execution_count": 184,
      "outputs": [
        {
          "output_type": "stream",
          "text": [
            "Current answer for task BagOfWords is:\n",
            " 7...\n"
          ],
          "name": "stdout"
        }
      ]
    },
    {
      "cell_type": "markdown",
      "metadata": {
        "id": "Ljex-RAyyEuW"
      },
      "source": [
        "#### TF-IDF\n",
        "\n",
        "The second approach extends the bag-of-words framework by taking into account total frequencies of words in the corpora. It helps to penalize too frequent words and provide better features space. \n",
        "\n",
        "Implement function *tfidf_features* using class [TfidfVectorizer](http://scikit-learn.org/stable/modules/generated/sklearn.feature_extraction.text.TfidfVectorizer.html) from *scikit-learn*. Use *train* corpus to train a vectorizer. Don't forget to take a look into the arguments that you can pass to it. We suggest that you filter out too rare words (occur less than in 5 titles) and too frequent words (occur more than in 90% of the titles). Also, use bigrams along with unigrams in your vocabulary. "
      ]
    },
    {
      "cell_type": "code",
      "metadata": {
        "id": "MfC1TfLKyEuX"
      },
      "source": [
        "from sklearn.feature_extraction.text import TfidfVectorizer"
      ],
      "execution_count": 28,
      "outputs": []
    },
    {
      "cell_type": "code",
      "metadata": {
        "id": "4YwgzrTEyEua"
      },
      "source": [
        "def tfidf_features(X_train, X_val, X_test):\n",
        "    \"\"\"\n",
        "        X_train, X_val, X_test — samples        \n",
        "        return TF-IDF vectorized representation of each sample and vocabulary\n",
        "    \"\"\"\n",
        "    # Create TF-IDF vectorizer with a proper parameters choice\n",
        "    # Fit the vectorizer on the train set\n",
        "    # Transform the train, test, and val sets and return the result\n",
        "    \n",
        "    \n",
        "    tfidf_vectorizer = TfidfVectorizer(min_df=5\n",
        "                                       , max_df=0.9\n",
        "                                       , ngram_range=(1, 2)\n",
        "                                       , token_pattern='(\\S+)') ####### YOUR CODE HERE #######\n",
        "    \n",
        "    ######################################\n",
        "    ######### YOUR CODE HERE #############\n",
        "    ######################################\n",
        "    X_train = tfidf_vectorizer.fit_transform(X_train)\n",
        "    X_val = tfidf_vectorizer.transform(X_val)\n",
        "    X_test = tfidf_vectorizer.transform(X_test)\n",
        "    \n",
        "    return X_train, X_val, X_test, tfidf_vectorizer.vocabulary_"
      ],
      "execution_count": 32,
      "outputs": []
    },
    {
      "cell_type": "markdown",
      "metadata": {
        "id": "2m4APBuoyEud"
      },
      "source": [
        "Once you have done text preprocessing, always have a look at the results. Be very careful at this step, because the performance of future models will drastically depend on it. \n",
        "\n",
        "In this case, check whether you have c++ or c# in your vocabulary, as they are obviously important tokens in our tags prediction task:"
      ]
    },
    {
      "cell_type": "code",
      "metadata": {
        "id": "GYlPLrtRyEue"
      },
      "source": [
        "X_train_tfidf, X_val_tfidf, X_test_tfidf, tfidf_vocab = tfidf_features(X_train, X_val, X_test)\n",
        "tfidf_reversed_vocab = {i:word for word,i in tfidf_vocab.items()}"
      ],
      "execution_count": 33,
      "outputs": []
    },
    {
      "cell_type": "code",
      "metadata": {
        "id": "hX3FQKjyHzJ4"
      },
      "source": [
        "tfidf_vocab"
      ],
      "execution_count": null,
      "outputs": []
    },
    {
      "cell_type": "code",
      "metadata": {
        "id": "A0XoXER0yEuh",
        "outputId": "4ca473c3-6bab-427c-bb27-de69984be5df",
        "colab": {
          "base_uri": "https://localhost:8080/"
        }
      },
      "source": [
        "######### YOUR CODE HERE #############\n",
        "print('c in vocab: {}'.format('c' in tfidf_vocab))\n",
        "print('c++ in vocab: {}'.format('c++' in tfidf_vocab))\n",
        "print('c# in vocab: {}'.format('c#' in tfidf_vocab))"
      ],
      "execution_count": 31,
      "outputs": [
        {
          "output_type": "stream",
          "text": [
            "c in vocab: False\n",
            "c++ in vocab: False\n",
            "c# in vocab: False\n"
          ],
          "name": "stdout"
        }
      ]
    },
    {
      "cell_type": "markdown",
      "metadata": {
        "id": "nfvwiNbiyEuk"
      },
      "source": [
        "If you can't find it, we need to understand how did it happen that we lost them? It happened during the built-in tokenization of TfidfVectorizer. Luckily, we can influence on this process. Get back to the function above and use '(\\S+)' regexp as a *token_pattern* in the constructor of the vectorizer.  "
      ]
    },
    {
      "cell_type": "markdown",
      "metadata": {
        "id": "82JQXdnTyEul"
      },
      "source": [
        "Now, use this transormation for the data and check again."
      ]
    },
    {
      "cell_type": "code",
      "metadata": {
        "id": "UgAqApRryEum",
        "outputId": "9fa5986a-499b-4c80-ed81-0dccdad9cc7e",
        "colab": {
          "base_uri": "https://localhost:8080/"
        }
      },
      "source": [
        "######### YOUR CODE HERE #############\n",
        "print('c in vocab: {}'.format('c' in tfidf_vocab))\n",
        "print('c++ in vocab: {}'.format('c++' in tfidf_vocab))\n",
        "print('c# in vocab: {}'.format('c#' in tfidf_vocab))"
      ],
      "execution_count": 34,
      "outputs": [
        {
          "output_type": "stream",
          "text": [
            "c in vocab: True\n",
            "c++ in vocab: True\n",
            "c# in vocab: True\n"
          ],
          "name": "stdout"
        }
      ]
    },
    {
      "cell_type": "markdown",
      "metadata": {
        "id": "T8kiSeIkyEup"
      },
      "source": [
        "### MultiLabel classifier\n",
        "\n",
        "As we have noticed before, in this task each example can have multiple tags. To deal with such kind of prediction, we need to transform labels in a binary form and the prediction will be a mask of 0s and 1s. For this purpose it is convenient to use [MultiLabelBinarizer](http://scikit-learn.org/stable/modules/generated/sklearn.preprocessing.MultiLabelBinarizer.html) from *sklearn*."
      ]
    },
    {
      "cell_type": "code",
      "metadata": {
        "id": "aWz61H0yyEuq"
      },
      "source": [
        "from sklearn.preprocessing import MultiLabelBinarizer"
      ],
      "execution_count": 35,
      "outputs": []
    },
    {
      "cell_type": "code",
      "metadata": {
        "id": "YXRtFwDJyEus"
      },
      "source": [
        "mlb = MultiLabelBinarizer(classes=sorted(tags_counts.keys()))\n",
        "y_train = mlb.fit_transform(y_train)\n",
        "y_val = mlb.fit_transform(y_val)"
      ],
      "execution_count": 36,
      "outputs": []
    },
    {
      "cell_type": "markdown",
      "metadata": {
        "id": "SpdtSEmxyEuv"
      },
      "source": [
        "Implement the function *train_classifier* for training a classifier. In this task we suggest to use One-vs-Rest approach, which is implemented in [OneVsRestClassifier](http://scikit-learn.org/stable/modules/generated/sklearn.multiclass.OneVsRestClassifier.html) class. In this approach *k* classifiers (= number of tags) are trained. As a basic classifier, use [LogisticRegression](http://scikit-learn.org/stable/modules/generated/sklearn.linear_model.LogisticRegression.html). It is one of the simplest methods, but often it performs good enough in text classification tasks. It might take some time, because a number of classifiers to train is large."
      ]
    },
    {
      "cell_type": "code",
      "metadata": {
        "id": "fcp2yfUd3iP5",
        "outputId": "bd2ede72-aeb8-4730-9f1c-58b00d11cf46",
        "colab": {
          "base_uri": "https://localhost:8080/"
        }
      },
      "source": [
        "y_train"
      ],
      "execution_count": 37,
      "outputs": [
        {
          "output_type": "execute_result",
          "data": {
            "text/plain": [
              "array([[0, 0, 0, ..., 0, 0, 0],\n",
              "       [0, 0, 0, ..., 0, 0, 0],\n",
              "       [0, 0, 0, ..., 0, 0, 0],\n",
              "       ...,\n",
              "       [0, 0, 0, ..., 0, 0, 0],\n",
              "       [0, 0, 0, ..., 0, 0, 0],\n",
              "       [0, 0, 0, ..., 0, 0, 0]])"
            ]
          },
          "metadata": {
            "tags": []
          },
          "execution_count": 37
        }
      ]
    },
    {
      "cell_type": "code",
      "metadata": {
        "id": "tmKl1Bld3k7a",
        "outputId": "c58d8fe7-8ad7-41c3-b557-43d3958ddd2c",
        "colab": {
          "base_uri": "https://localhost:8080/"
        }
      },
      "source": [
        "y_val"
      ],
      "execution_count": 38,
      "outputs": [
        {
          "output_type": "execute_result",
          "data": {
            "text/plain": [
              "array([[0, 0, 0, ..., 0, 0, 0],\n",
              "       [0, 0, 0, ..., 0, 0, 0],\n",
              "       [0, 0, 0, ..., 0, 0, 0],\n",
              "       ...,\n",
              "       [0, 0, 0, ..., 0, 0, 0],\n",
              "       [0, 0, 0, ..., 0, 0, 0],\n",
              "       [0, 0, 0, ..., 0, 0, 0]])"
            ]
          },
          "metadata": {
            "tags": []
          },
          "execution_count": 38
        }
      ]
    },
    {
      "cell_type": "code",
      "metadata": {
        "id": "htYF8-9VyEuw"
      },
      "source": [
        "from sklearn.multiclass import OneVsRestClassifier\n",
        "from sklearn.linear_model import LogisticRegression, RidgeClassifier"
      ],
      "execution_count": 39,
      "outputs": []
    },
    {
      "cell_type": "code",
      "metadata": {
        "id": "5v8NuvEoyEuy"
      },
      "source": [
        "def train_classifier(X_train, y_train, base_clf=None):\n",
        "    \"\"\"\n",
        "      X_train, y_train — training data\n",
        "      \n",
        "      return: trained classifier\n",
        "    \"\"\"\n",
        "    \n",
        "    # Create and fit LogisticRegression wraped into OneVsRestClassifier.\n",
        "\n",
        "    ######################################\n",
        "    ######### YOUR CODE HERE #############\n",
        "    ######################################    \n",
        "    if base_clf:\n",
        "      clf = OneVsRestClassifier(base_clf).fit(X_train, y_train)\n",
        "    else:  \n",
        "      clf = OneVsRestClassifier(LogisticRegression()).fit(X_train, y_train)\n",
        "\n",
        "    return clf"
      ],
      "execution_count": 243,
      "outputs": []
    },
    {
      "cell_type": "markdown",
      "metadata": {
        "id": "F4i9AfhcyEu2"
      },
      "source": [
        "Train the classifiers for different data transformations: *bag-of-words* and *tf-idf*.\n",
        "\n",
        "If you receive a convergence warning, please set parameter *max_iter* in LogisticRegression to a larger value (the default is 100)."
      ]
    },
    {
      "cell_type": "code",
      "metadata": {
        "id": "bxgQzmdnyEu3",
        "outputId": "858c7b17-b731-4f69-d574-65ee498f8e26",
        "colab": {
          "base_uri": "https://localhost:8080/"
        }
      },
      "source": [
        "classifier_mybag = train_classifier(X_train_mybag, y_train)\n",
        "classifier_tfidf = train_classifier(X_train_tfidf, y_train)"
      ],
      "execution_count": 43,
      "outputs": [
        {
          "output_type": "stream",
          "text": [
            "/usr/local/lib/python3.6/dist-packages/sklearn/linear_model/_logistic.py:940: ConvergenceWarning: lbfgs failed to converge (status=1):\n",
            "STOP: TOTAL NO. of ITERATIONS REACHED LIMIT.\n",
            "\n",
            "Increase the number of iterations (max_iter) or scale the data as shown in:\n",
            "    https://scikit-learn.org/stable/modules/preprocessing.html\n",
            "Please also refer to the documentation for alternative solver options:\n",
            "    https://scikit-learn.org/stable/modules/linear_model.html#logistic-regression\n",
            "  extra_warning_msg=_LOGISTIC_SOLVER_CONVERGENCE_MSG)\n",
            "/usr/local/lib/python3.6/dist-packages/sklearn/linear_model/_logistic.py:940: ConvergenceWarning: lbfgs failed to converge (status=1):\n",
            "STOP: TOTAL NO. of ITERATIONS REACHED LIMIT.\n",
            "\n",
            "Increase the number of iterations (max_iter) or scale the data as shown in:\n",
            "    https://scikit-learn.org/stable/modules/preprocessing.html\n",
            "Please also refer to the documentation for alternative solver options:\n",
            "    https://scikit-learn.org/stable/modules/linear_model.html#logistic-regression\n",
            "  extra_warning_msg=_LOGISTIC_SOLVER_CONVERGENCE_MSG)\n",
            "/usr/local/lib/python3.6/dist-packages/sklearn/linear_model/_logistic.py:940: ConvergenceWarning: lbfgs failed to converge (status=1):\n",
            "STOP: TOTAL NO. of ITERATIONS REACHED LIMIT.\n",
            "\n",
            "Increase the number of iterations (max_iter) or scale the data as shown in:\n",
            "    https://scikit-learn.org/stable/modules/preprocessing.html\n",
            "Please also refer to the documentation for alternative solver options:\n",
            "    https://scikit-learn.org/stable/modules/linear_model.html#logistic-regression\n",
            "  extra_warning_msg=_LOGISTIC_SOLVER_CONVERGENCE_MSG)\n",
            "/usr/local/lib/python3.6/dist-packages/sklearn/linear_model/_logistic.py:940: ConvergenceWarning: lbfgs failed to converge (status=1):\n",
            "STOP: TOTAL NO. of ITERATIONS REACHED LIMIT.\n",
            "\n",
            "Increase the number of iterations (max_iter) or scale the data as shown in:\n",
            "    https://scikit-learn.org/stable/modules/preprocessing.html\n",
            "Please also refer to the documentation for alternative solver options:\n",
            "    https://scikit-learn.org/stable/modules/linear_model.html#logistic-regression\n",
            "  extra_warning_msg=_LOGISTIC_SOLVER_CONVERGENCE_MSG)\n",
            "/usr/local/lib/python3.6/dist-packages/sklearn/linear_model/_logistic.py:940: ConvergenceWarning: lbfgs failed to converge (status=1):\n",
            "STOP: TOTAL NO. of ITERATIONS REACHED LIMIT.\n",
            "\n",
            "Increase the number of iterations (max_iter) or scale the data as shown in:\n",
            "    https://scikit-learn.org/stable/modules/preprocessing.html\n",
            "Please also refer to the documentation for alternative solver options:\n",
            "    https://scikit-learn.org/stable/modules/linear_model.html#logistic-regression\n",
            "  extra_warning_msg=_LOGISTIC_SOLVER_CONVERGENCE_MSG)\n"
          ],
          "name": "stderr"
        }
      ]
    },
    {
      "cell_type": "markdown",
      "metadata": {
        "id": "ViBu2rBWyEu6"
      },
      "source": [
        "Now you can create predictions for the data. You will need two types of predictions: labels and scores."
      ]
    },
    {
      "cell_type": "code",
      "metadata": {
        "id": "BKQG7ywyyEu6"
      },
      "source": [
        "y_val_predicted_labels_mybag = classifier_mybag.predict(X_val_mybag)\n",
        "y_val_predicted_scores_mybag = classifier_mybag.decision_function(X_val_mybag)\n",
        "\n",
        "y_val_predicted_labels_tfidf = classifier_tfidf.predict(X_val_tfidf)\n",
        "y_val_predicted_scores_tfidf = classifier_tfidf.decision_function(X_val_tfidf)"
      ],
      "execution_count": 44,
      "outputs": []
    },
    {
      "cell_type": "markdown",
      "metadata": {
        "id": "qkwmUX6zyEvA"
      },
      "source": [
        "Now take a look at how classifier, which uses TF-IDF, works for a few examples:"
      ]
    },
    {
      "cell_type": "code",
      "metadata": {
        "id": "aTIxG4oeyEvA",
        "outputId": "2fb8210d-f6a6-47e0-8c4e-21dfbfae9d46",
        "colab": {
          "base_uri": "https://localhost:8080/"
        }
      },
      "source": [
        "y_val_pred_inversed = mlb.inverse_transform(y_val_predicted_labels_tfidf)\n",
        "y_val_inversed = mlb.inverse_transform(y_val)\n",
        "for i in range(3):\n",
        "    print('Title:\\t{}\\nTrue labels:\\t{}\\nPredicted labels:\\t{}\\n\\n'.format(\n",
        "        X_val[i],\n",
        "        ','.join(y_val_inversed[i]),\n",
        "        ','.join(y_val_pred_inversed[i])\n",
        "    ))"
      ],
      "execution_count": 45,
      "outputs": [
        {
          "output_type": "stream",
          "text": [
            "Title:\todbc_exec always fail\n",
            "True labels:\tphp,sql\n",
            "Predicted labels:\t\n",
            "\n",
            "\n",
            "Title:\taccess base classes variable within child class\n",
            "True labels:\tjavascript\n",
            "Predicted labels:\t\n",
            "\n",
            "\n",
            "Title:\tcontenttype application json required rails\n",
            "True labels:\truby,ruby-on-rails\n",
            "Predicted labels:\tjson,ruby-on-rails\n",
            "\n",
            "\n"
          ],
          "name": "stdout"
        }
      ]
    },
    {
      "cell_type": "markdown",
      "metadata": {
        "id": "r6bAAvCZyEvE"
      },
      "source": [
        "Now, we would need to compare the results of different predictions, e.g. to see whether TF-IDF transformation helps or to try different regularization techniques in logistic regression. For all these experiments, we need to setup evaluation procedure. "
      ]
    },
    {
      "cell_type": "markdown",
      "metadata": {
        "id": "YnRP-BrWyEvF"
      },
      "source": [
        "### Evaluation\n",
        "\n",
        "To evaluate the results we will use several classification metrics:\n",
        " - [Accuracy](http://scikit-learn.org/stable/modules/generated/sklearn.metrics.accuracy_score.html)\n",
        " - [F1-score](http://scikit-learn.org/stable/modules/generated/sklearn.metrics.f1_score.html)\n",
        " - [Area under ROC-curve](http://scikit-learn.org/stable/modules/generated/sklearn.metrics.roc_auc_score.html)\n",
        " - [Area under precision-recall curve](http://scikit-learn.org/stable/modules/generated/sklearn.metrics.average_precision_score.html#sklearn.metrics.average_precision_score) \n",
        " \n",
        "Make sure you are familiar with all of them. How would you expect the things work for the multi-label scenario? Read about micro/macro/weighted averaging following the sklearn links provided above."
      ]
    },
    {
      "cell_type": "code",
      "metadata": {
        "id": "Tt0rymheyEvI"
      },
      "source": [
        "from sklearn.metrics import accuracy_score\n",
        "from sklearn.metrics import f1_score\n",
        "from sklearn.metrics import roc_auc_score \n",
        "from sklearn.metrics import average_precision_score\n",
        "from sklearn.metrics import recall_score"
      ],
      "execution_count": 46,
      "outputs": []
    },
    {
      "cell_type": "markdown",
      "metadata": {
        "id": "J3bGZWsNyEvM"
      },
      "source": [
        "Implement the function *print_evaluation_scores* which calculates and prints to stdout:\n",
        " - *accuracy*\n",
        " - *F1-score macro/micro/weighted*\n",
        " - *Precision macro/micro/weighted*"
      ]
    },
    {
      "cell_type": "code",
      "metadata": {
        "id": "D4vQFTFyyEvN"
      },
      "source": [
        "def print_evaluation_scores(y_val, predicted):\n",
        "    \n",
        "    ######################################\n",
        "    ######### YOUR CODE HERE #############\n",
        "    ######################################\n",
        "    print('Accuracy: {}'.format(accuracy_score(y_val, predicted)))\n",
        "    print('F1 Macro: {}'.format(f1_score(y_val, predicted, average='macro')))\n",
        "    print('Recall Macro: {}'.format(recall_score(y_val, predicted, average='macro')))\n",
        "    print('Precision Macro: {}'.format(average_precision_score(y_val, predicted, average='macro')))\n",
        "\n",
        "    print('F1 Weighted: {}'.format(f1_score(y_val, predicted, average='weighted')))\n",
        "    print('Recall Weighted: {}'.format(recall_score(y_val, predicted, average='weighted')))\n",
        "    print('Precision Weighted: {}'.format(average_precision_score(y_val, predicted, average='weighted')))\n",
        "    # print('ROC AUC: {}'.format(roc_auc_score(y_)))"
      ],
      "execution_count": 58,
      "outputs": []
    },
    {
      "cell_type": "code",
      "metadata": {
        "id": "HQVz9pkKAXg8"
      },
      "source": [
        "print('Tfidf')\n",
        "print_evaluation_scores(y_val, y_val_predicted_labels_tfidf)\n"
      ],
      "execution_count": null,
      "outputs": []
    },
    {
      "cell_type": "code",
      "metadata": {
        "id": "QPfXxPFqyEvR",
        "outputId": "91b7b6df-7c6e-4194-a72d-6e38cc6da4d4",
        "colab": {
          "base_uri": "https://localhost:8080/"
        }
      },
      "source": [
        "print('Bag-of-words')\n",
        "print_evaluation_scores(y_val, y_val_predicted_labels_mybag)\n",
        "print()\n",
        "print('Tfidf')\n",
        "print_evaluation_scores(y_val, y_val_predicted_labels_tfidf)"
      ],
      "execution_count": 59,
      "outputs": [
        {
          "output_type": "stream",
          "text": [
            "Bag-of-words\n",
            "Accuracy: 0.21633333333333332\n",
            "F1 Macro: 0.35096703732026485\n",
            "Recall Macro: 0.2733960819342689\n",
            "Precision Macro: 0.24868893731554856\n",
            "F1 Weighted: 0.45922620726214597\n",
            "Recall Weighted: 0.345616133994189\n",
            "Precision Weighted: 0.35839790610199634\n",
            "\n",
            "Tfidf\n",
            "Accuracy: 0.3339666666666667\n",
            "F1 Macro: 0.4453947146225927\n",
            "Recall Macro: 0.340064237388024\n",
            "Precision Macro: 0.30177409078795026\n",
            "F1 Weighted: 0.6142357632407939\n",
            "Recall Weighted: 0.5008545547769612\n",
            "Precision Weighted: 0.4850162825279022\n"
          ],
          "name": "stdout"
        }
      ]
    },
    {
      "cell_type": "markdown",
      "metadata": {
        "id": "gtQtpH9nyEvV"
      },
      "source": [
        "You might also want to plot some generalization of the [ROC curve](http://scikit-learn.org/stable/modules/model_evaluation.html#receiver-operating-characteristic-roc) for the case of multi-label classification. Provided function *roc_auc* can make it for you. The input parameters of this function are:\n",
        " - true labels\n",
        " - decision functions scores\n",
        " - number of classes"
      ]
    },
    {
      "cell_type": "code",
      "metadata": {
        "id": "bDbQW4Z6yEvW"
      },
      "source": [
        "from metrics import roc_auc\n",
        "%matplotlib inline"
      ],
      "execution_count": 55,
      "outputs": []
    },
    {
      "cell_type": "code",
      "metadata": {
        "id": "Y9YPeF5SyEvb",
        "outputId": "24f14d69-4246-4d7b-f3a6-8f978aeeec1a",
        "colab": {
          "base_uri": "https://localhost:8080/",
          "height": 295
        }
      },
      "source": [
        "n_classes = len(tags_counts)\n",
        "roc_auc(y_val, y_val_predicted_scores_mybag, n_classes)"
      ],
      "execution_count": 56,
      "outputs": [
        {
          "output_type": "display_data",
          "data": {
            "image/png": "[encoded data removed]",
            "text/plain": [
              "<Figure size 432x288 with 1 Axes>"
            ]
          },
          "metadata": {
            "tags": [],
            "needs_background": "light"
          }
        }
      ]
    },
    {
      "cell_type": "code",
      "metadata": {
        "id": "8bGZCIs0yEve",
        "outputId": "1986b18d-84bb-4c3a-9019-917205b367f7",
        "colab": {
          "base_uri": "https://localhost:8080/",
          "height": 295
        }
      },
      "source": [
        "n_classes = len(tags_counts)\n",
        "roc_auc(y_val, y_val_predicted_scores_tfidf, n_classes)"
      ],
      "execution_count": 57,
      "outputs": [
        {
          "output_type": "display_data",
          "data": {
            "image/png": "[encoded data removed]",
            "text/plain": [
              "<Figure size 432x288 with 1 Axes>"
            ]
          },
          "metadata": {
            "tags": [],
            "needs_background": "light"
          }
        }
      ]
    },
    {
      "cell_type": "markdown",
      "metadata": {
        "id": "GMoGYjJRyEvh"
      },
      "source": [
        "**Task 4 (MultilabelClassification).** Once we have the evaluation set up, we suggest that you experiment a bit with training your classifiers. We will use *F1-score weighted* as an evaluation metric. Our recommendation:\n",
        "- compare the quality of the bag-of-words and TF-IDF approaches and chose one of them.\n",
        "- for the chosen one, try *L1* and *L2*-regularization techniques in Logistic Regression with different coefficients (e.g. C equal to 0.1, 1, 10, 100).\n",
        "\n",
        "You also could try other improvements of the preprocessing / model, if you want. "
      ]
    },
    {
      "cell_type": "markdown",
      "metadata": {
        "id": "7npwDzk6yEvj"
      },
      "source": [
        "When you are happy with the quality, create predictions for *test* set, which you will submit to Coursera."
      ]
    },
    {
      "cell_type": "code",
      "metadata": {
        "id": "_3umCrvJyEvk",
        "outputId": "e99a311b-38fe-4daf-f367-f287a753948c",
        "colab": {
          "base_uri": "https://localhost:8080/"
        }
      },
      "source": [
        "test_predictions = classifier_tfidf.predict(X_test_tfidf) ######### YOUR CODE HERE #############\n",
        "test_pred_inversed = mlb.inverse_transform(test_predictions)\n",
        "\n",
        "test_predictions_for_submission = '\\n'.join('%i\\t%s' % (i, ','.join(row)) for i, row in enumerate(test_pred_inversed))\n",
        "grader.submit_tag('MultilabelClassification', test_predictions_for_submission)"
      ],
      "execution_count": 61,
      "outputs": [
        {
          "output_type": "stream",
          "text": [
            "Current answer for task MultilabelClassification is:\n",
            " 0\tphp\n",
            "1\tjavascript,jquery\n",
            "2\t\n",
            "3\tjavascript,jquery\n",
            "4\tandroid,java\n",
            "5\tphp,xml\n",
            "6\tjson\n",
            "7\tjava\n",
            "8\tpython\n",
            "9\th...\n"
          ],
          "name": "stdout"
        }
      ]
    },
    {
      "cell_type": "markdown",
      "metadata": {
        "id": "pickKnc5yEvp"
      },
      "source": [
        "### Analysis of the most important features"
      ]
    },
    {
      "cell_type": "markdown",
      "metadata": {
        "id": "vdjJP9-ayEvp"
      },
      "source": [
        "Finally, it is usually a good idea to look at the features (words or n-grams) that are used with the largest weigths in your logistic regression model."
      ]
    },
    {
      "cell_type": "markdown",
      "metadata": {
        "id": "dg_8LcZEyEvq"
      },
      "source": [
        "Implement the function *print_words_for_tag* to find them. Get back to sklearn documentation on [OneVsRestClassifier](http://scikit-learn.org/stable/modules/generated/sklearn.multiclass.OneVsRestClassifier.html) and [LogisticRegression](http://scikit-learn.org/stable/modules/generated/sklearn.linear_model.LogisticRegression.html) if needed."
      ]
    },
    {
      "cell_type": "code",
      "metadata": {
        "id": "ArbggadZFVJm",
        "outputId": "94fc9891-c4ab-4916-ad07-611dc80edcdf",
        "colab": {
          "base_uri": "https://localhost:8080/"
        }
      },
      "source": [
        "c = classifier_tfidf.estimators_[classifier_tfidf.classes_[0]].coef_\n",
        "c_dict = {k: v for k, v in enumerate(c[0])}\n",
        "# print(c_dict)\n",
        "c_dict = sorted(c_dict.items(), key=lambda x: x[1])\n",
        "print([i for i, v in c_dict[:5]])\n",
        "print([i for i, v in c_dict[-5:]])\n",
        "\n",
        "# print(tfidf_reversed_vocab)"
      ],
      "execution_count": 98,
      "outputs": [
        {
          "output_type": "stream",
          "text": [
            "[11727, 12529, 8263, 8459, 8649]\n",
            "[17885, 1881, 17657, 1226, 10572]\n"
          ],
          "name": "stdout"
        }
      ]
    },
    {
      "cell_type": "code",
      "metadata": {
        "id": "Zgl1jZ_nIzRs",
        "outputId": "a779be04-d200-479a-e5ed-3e0d7bbec4b8",
        "colab": {
          "base_uri": "https://localhost:8080/"
        }
      },
      "source": [
        "c_dict.values()"
      ],
      "execution_count": 84,
      "outputs": [
        {
          "output_type": "execute_result",
          "data": {
            "text/plain": [
              "dict_values([0.8915372538764531, -0.21100308060616202, 0.5118179761090063, -0.3863775547498983, -0.07591888246528401, -0.29461126453368, -0.07352377784379345, -0.07352377784379345, -0.16680484938763823, -0.12384546827085637, -0.026833783752316546, 0.3748177378726019, -0.22013313337873738, -0.03446214830800273, -0.021872773052615216, -0.012623731751345929, 0.3086470574072414, -0.033577868165942666, -0.04797924781693594, -0.029072905344412737, -0.02763086459615191, -0.021586294210524642, -0.02416794793885252, -0.04745048949574222, -0.04847324904348301, -0.20914333889668954, -0.06629144263607252, 0.30362784617228855, 0.2580689368325615, -0.1289861649608173, -0.06452062170346859, -0.11559740959539372, -0.22371568147856377, 0.5372807195227302, -0.0674720152602565, -0.11193695078619605, 0.3044800506949496, -0.08511690906983341, -1.3474704984776493, -0.040379720720243574, 0.043441356424037236, -0.054670079738094284, -0.044243146512383466, -0.08097949327752725, 0.5670417328859427, -0.04058915220111844, -0.06036771324506003, -0.07522487811617248, -0.09945625382383297, -0.0871965993494826, -0.017241875571744673, -0.045361281727075264, -0.5782469068620926, 0.03824683225763384, -0.033743727736452206, 0.3917208824805437, -0.0414397096372887, -0.02597284319256418, -0.04437812918863774, -0.031077717531214563, -0.0511314001237034, -0.04292463732055707, -0.08685871246930763, -0.036781946544022934, -0.2901019561408494, -0.06333164445242764, 0.3078871735473178, -0.1424425019440089, -0.2897652703102681, -0.048319593914645624, -0.1793755551838038, -0.06350559768912911, -0.07998293205393618, -0.05534285320751059, -0.37352647191854854, -0.06460995679110346, -0.15538946029908324, -0.3043504911913306, -0.1899626446358924, -0.033251502530079316, -0.09672633218874285, -0.05907019568292504, -0.09115078499605489, -0.09767643252779144, -0.03769692565077341, 0.42456457935572206, -0.2195630970343374, -0.5607610115278167, -0.08391749333025031, -0.05334595119825354, 0.23634985361208374, -0.052883531794147856, -0.05124247272803184, -0.06102204863903327, 0.3675753527639019, 0.5233379213696682, -0.2300570528070017, -0.030635568031867934, -0.05368614966689368, -0.0438163228202368, -0.05224267210238558, -0.112885074656464, -0.029638072739681644, -0.056962996043032614, 0.7446113605691596, 0.2657112394044431, -0.1882028116605287, 0.4914064480660293, -0.14234095134849936, -0.2470940667400837, -0.13338082792947528, 0.5085729660260946, -0.1709415897327554, -0.06942311603147674, 0.4455629881703995, -0.10108294336145185, -0.07049603127032084, 0.19475437008342, -0.23938518412178458, 0.15590435530547156, -0.48784097823870004, -0.1943444909075877, -0.01658411372539071, 0.3567473894924359, -0.22265220632929336, -0.1459626414143231, -0.07877373633608484, -0.1429511412955262, -0.33596727204053006, -0.0508221985515579, -0.14484921887373764, -0.2691269817662643, -0.11789319749064171, 0.2628915269489688, -0.1073705017940463, -0.1913155947042207, 0.04856421857762617, -0.6433314780143192, 0.4624748650947684, -0.034480831969025294, -0.04993845450204455, -0.05512063765282533, -0.04161822742432947, -0.14444641604598982, -0.033107764230756134, -0.07227195982734584, 0.5473011422374304, -0.1347955634912583, -0.9269876244464196, -0.024996221629104625, -0.052054857807544534, -0.012540232332812306, -0.07672576900276562, -0.028487819213861204, 0.16639751179030063, -0.0728301924399459, -0.11647381642247569, 0.24489730372571045, -0.04959842630592647, -0.036409716300300016, -0.2967124846530809, -0.049165387432828736, -0.023917878422507165, 0.03592066806711247, 0.2424941183169456, -0.022235028049875604, -0.03525961460472871, 0.143340137776959, -0.11720035110276773, -0.12175658510126584, 0.3890374230765725, -0.07338025886300986, -0.08780362868706039, 0.6779473055196208, -0.7688535570704104, -0.07275661856377989, 0.7735604652106118, 0.391688118653082, -0.06477775557932858, -0.9427317106085732, -0.02532253777049337, 0.2663349209787529, -0.1103394728149675, -0.13302789776279442, 1.4066813737084878, 0.3770637442031784, 0.2323384223124071, -0.14498070435723953, -0.07146003336021071, 0.014035725213273457, -0.1937474642342235, -0.24051475327379915, -0.25324730842045823, 0.10106837869134855, -0.05222623252496, 0.14775267472092868, 0.25162956184267327, -0.1775880600730261, -0.04521340344835975, -0.34209611023127845, -0.04720940859083302, -0.24070621658842373, 0.5845174901967753, -0.19854576388016262, -0.036847562469041, 0.2329520634633755, 0.4644925211007617, -0.04862986732135748, 0.18736274039838338, -0.09908447533098845, -0.1341622881746766, -0.20909291116749643, 0.034924544498258846, -0.08993601546071614, 0.10636412169520529, -0.10974513418181674, -0.10008848689336754, -0.10690250520898485, -0.22400311050670696, -0.05971075482991979, -0.13526363321986798, -0.13414271192849694, -0.1312659411333321, -0.06611961603994776, -0.02542278698426252, -0.048907098617671695, -0.351764489092928, -0.03693449523282196, -0.27743364697527, 0.39804351258557974, -0.42254546852499336, -0.19435734701377985, 0.6581259573144952, -0.17372764239660035, 0.43577981800896515, 0.12693655277596572, 0.20375533261963996, 0.39247057712561545, 0.1600108495713872, 0.02098568621053019, -0.2956658974115842, -0.21243058268630696, -0.14512906629898734, -0.04241663347047021, -0.1904766345229324, -0.5761807082298385, -0.08760438421566383, -0.05443484864106522, -0.015634358964994502, -0.12060503301881464, -0.07039104509506929, -0.19721606428075866, -0.1204809016756741, -0.07922445263982177, -0.11320949646008552, -0.0778670304849275, -0.08926228971855361, -0.14295066335599485, -0.08349365025497586, -0.07393750507940233, -0.16329073406133415, -0.23636700446405493, -0.03946147615418443, -0.4463343881111336, -0.02504346505025954, -0.034418010559744014, -0.04593798177020483, -0.27711842282974963, -0.10106202920768169, 0.8840426075014906, 0.46870127343947326, 0.08188416282087388, -0.1278542021528721, -0.055837997678434996, 0.3403714541058317, -0.033278617903329026, -0.2053200667579699, 0.6397547445574852, -0.05019329956916739, 0.4973584710235224, 0.35938486023759875, -0.14541827412626732, -0.0937728413524099, 0.2597617212438259, 0.5609547511171757, -0.17395712015993475, 0.6562198109167919, 0.07012322773788515, -0.0854041835034034, -0.10597677597801312, -0.08356945572361923, -0.08351715066210307, 0.26393483624610564, 1.1232468448227308, -0.10151596598025295, -0.357072202814227, 0.5743892796247981, -0.07982414697823242, -0.05553006675755769, 0.17656719093493067, 0.4445810742985847, -0.10841495011902155, -0.05639887281651923, -0.13206119672000818, -0.5313561411904283, -0.14813910572304226, 0.518715379673704, -0.20762466882176808, 0.9724038123308789, -0.03462347434141442, -0.0754417422418511, -0.09222843978296139, 0.49154725704586383, -0.16231596990869213, -0.12492350789477394, 0.3908803325211525, -0.04784169160540771, -0.05331720795054549, -0.08875202397199178, -0.12938553892951335, 0.08682940869993672, -0.12760326736565814, -0.02423277031815798, -0.23728496285962725, 0.34490525338845884, -0.13113095149911722, -0.1781158856921255, -0.08134075489564842, -0.10063038222396646, -0.13572272723047593, -0.10357751407063176, 0.17292836932361946, -0.24827775140145725, -0.0446188239245205, -0.08211811879165802, -0.09883217579319666, -0.17708729717936622, -0.13127393798053238, -0.08547573335953326, -0.1196545959559564, 0.08170867525182891, -0.20242956065666828, -0.19754583724699987, -0.06120731527563619, -0.3990837415985771, -0.10045138039904691, -0.45669554192109657, -0.8435034635047024, -0.050821030453954495, -0.058288803187970605, -0.05126111628729259, -0.04350823388418757, -0.03817984102799825, -0.035231574272557055, -0.2453354629326068, -0.06657420474480445, -0.05544071224179133, 0.22363732984009926, 0.2444733127740671, -0.22550069733278807, 0.008340185877306727, -0.0410909128506447, 0.07778928819034613, -0.24770257998735157, 0.4947418651645138, -0.04414275776532371, -0.07679283824831822, -0.07334666929839273, -0.13843184716788848, -0.44748651444116305, -0.05332847591078859, -0.20908270608516336, -0.10601792762706974, -0.10703006467480564, 0.9942303423933314, -0.13607901661465688, 0.19688788294600837, 0.9164833233876323, -0.07225831193161245, 0.4609359105476168, -0.3391065915629385, -0.08181054521270226, 0.5071952291917158, 0.04027034439483923, 0.3396389521125858, -0.022743473472344025, -0.04506723228831678, -0.08264838673350981, -0.13797994529335664, -0.16675350372159095, 0.33089693177881185, -0.10289267223668906, -0.0728753171988833, 0.7911364181611129, -0.26368692545991973, -0.386055122732032, -0.09646993875512533, -0.06677119499602714, -0.23891988454169472, -0.834718330787715, -0.031902800250064006, -0.08926053504469271, -0.04401533746234617, -0.0450645774920353, -0.08976390448385005, 0.7685856692040518, 1.3004030310635841, -0.12144722512985742, -0.27755683038237494, -0.026059503755539084, -0.0682028235257711, 0.1152579599390666, 0.7456503922365036, 0.31761094086583336, -0.0589922764773939, 0.39694200773330657, -0.05257395463787468, 0.006080254909631531, 0.39696715381527264, -0.1321585822891106, -0.09682214053518101, 0.520299345538438, -0.05404591306295764, -0.0558888174229099, -0.08920721950694706, -0.21198289435101988, -0.04289936465611016, -0.2333605237460673, -0.11131623680119247, -0.1881941994708653, -0.3747916432932159, -0.12943171397650804, -0.144607538485764, -0.34022781849937217, -0.2159162769256329, -0.05914746528746518, -0.02833401678430954, -0.10820410812230616, -0.09661039865702843, -0.05390454987418804, -0.10528969119596998, 0.07030696499920806, -0.09004330606037979, -0.103194859329209, -0.08191670044455189, 0.15375715453415142, 0.5287689931954102, -0.05242719740018085, -0.1171884329321896, 0.4253872706839882, -0.11229482176458802, 0.497108710751606, 0.14491158140978286, -0.028075230071170295, -0.040252454636506285, -0.02748330658733132, -0.04180265586595982, -0.08917204655856792, -0.05733591253679438, 0.07916850478727665, -0.05394139232411311, -0.1342107999347242, 0.4814591688130896, 0.3219214671735279, -0.09350577950427039, -0.10590731184570258, -0.1274998549128192, 0.1456453542548277, 1.2780593865431085, 0.2240162198995001, 0.050822988064887935, -0.2896620791823804, -0.08307412223438423, -0.08309868321761679, -0.21027095627442816, -0.18093507678295062, -0.03146694139760972, -0.34834675908513735, -0.15693424393723027, -0.04767248925297917, 0.04166128841532064, 0.37916318619138817, -0.28886730448457876, -0.06871915719235164, -0.05114675320750144, -0.06931380326399865, -0.36131219194827285, -0.21690779329622115, -0.04665331560241185, -0.33839994726765066, 0.470711684568096, -0.1149484571546964, 0.19564442334435878, 0.64156972084779, -0.09349341318899612, 0.2523318782198567, -0.14543292836985297, -0.05128846190402519, 0.19875627734572954, -0.12839311680933047, -0.22166556463128104, -0.032341280320361446, -0.23936875106597583, -0.2603497306033713, -0.12570349947896306, -0.05733381331101642, -0.04555607125694761, -0.19539275632366013, -0.07073253612886438, -0.14799942597911037, -0.06247118145330519, -0.06377675965035189, -0.08285101271421325, -0.22013226262000823, 0.40219449712011607, -0.06963279613605186, 0.06184001216133084, -0.07602876628053436, -0.1429775849343827, 0.2303766371682185, -0.05713234051193882, -0.1092364166085764, 0.13546504452627411, 0.1371400101737328, -0.07434095275216854, 0.18431180971112446, -0.056139189899026394, -0.0606459021027059, -0.12901217345134838, -0.8330090920243539, -0.03579359748571171, -0.024467989923287903, -0.027156260222767615, -0.04645693954685632, -0.04993689265240914, -0.03859725565382467, -0.0461303574784003, -0.04209931845655436, -0.20408139498405992, -0.1375837414202553, -0.7138345277891996, -0.10395661268116069, -0.04656485010142989, 1.424559596005911, 0.6777587254131585, -0.044043023536481964, 0.27877312335243515, 0.4740535767780329, 0.09793834239527653, 0.3236762775275995, 0.9740931980944648, 0.16013067983670415, -0.10220505193966067, 0.11859932398466358, -0.1507146958961825, -0.17759078022683972, -0.11593054421785266, -0.3282729751068805, -0.08351913177943805, -0.15138672102236284, -0.10371118350097001, -0.3920490337553735, -0.07686988234113486, -0.08382834046268076, 0.41012600581637765, -0.0960903248019683, -0.04861548309789636, 0.9091674270489277, 0.6009707272390271, 0.19961390716556562, -0.14714339072555463, -1.6202232977950064, 0.29442119950229634, 0.28568070293711845, -0.21412169472942338, -0.05569029484132527, 0.22665357941645217, -0.0760297136811111, -0.052003981669780416, 0.13790895726778682, -0.07625198997719897, -0.06207913565163283, 0.46338734436566154, -0.1295446770763924, -0.03752484763303226, -0.051163183102667875, -0.0932122464458335, -0.033496119406253376, -0.015250291310538245, -0.0604208507991872, -0.2698767092503934, -0.012941672149561934, -0.4570247049836485, -0.17318510137757875, -0.12931337620254066, -0.02414024130713412, -0.14805492738661097, -0.0571607026206803, -0.04617634666782935, -0.07678445695302226, -0.05131816193438466, -0.10977407957146043, -0.06770555200045461, -0.2626506964983876, -0.029452504563294356, -0.08659077627405894, -0.43362459906616824, -0.25088349695462925, -0.05875316933293176, 0.3683018347803703, -0.039414936425786744, -0.1618368373045306, -0.08930927806441062, 0.044016989229583796, -0.05301095027496963, 0.07252325150324952, -0.1269917006372635, -0.46340757593299287, -0.10416207881009304, -0.17039637023246063, -0.17198320699746394, -0.30860136674548405, -0.23636166769327177, -0.10051952667708264, -0.29667170816574223, -0.13471918571151736, 0.23782950328984373, -0.0901087764697157, -0.1443418381704107, -0.2507160433118892, 0.9808721400520843, -0.10931377802966838, 0.2466152916398746, -0.13091208905059115, -0.10120816774779313, -0.24327636706745367, 0.2698711250006434, -0.3449106397091778, -0.07434864907705514, -0.250853368444788, 0.19363475069661001, -0.07635585873012014, 0.16021538265511237, 0.0501908735459245, -0.20961824326655357, -0.055665236889155756, -0.15292586786295229, -0.0766647892853938, -0.22728715277396114, -0.1273183856853477, -0.1978185858119863, -0.08829552812407482, 0.32118357008713433, -0.09676872466755682, 1.090231196541546, -0.13277984223377082, 0.20117619820027752, 0.5536134411273249, 0.449981391084585, 0.036394116878245925, -0.057880534026740794, -0.1118331851002919, -0.21052453883332792, 0.2776634662412345, 0.33671453917056837, -0.12707725269279582, -0.30132114804979965, 0.32314014644188976, -0.5954792126699187, -0.0663819031619321, -0.06057549069773955, 0.514169404270335, -0.07521205639649921, -0.20639220181035273, 0.08439312220588124, -0.18235908254037306, -0.14609615736408732, 0.16999076176373445, -0.04257621255743002, 0.4651700554094599, -0.05659224759634893, -0.04032585253972796, -0.06664928989651159, -0.26353889435767824, 0.33296224175845407, -0.12936310595308806, 0.4141090413599639, 0.1989965338832676, 0.06556958692878875, 0.19065898303902107, -0.15542008287263243, 0.27798828546834925, -0.23332362226770367, -0.2607093880116454, -0.10553178689755541, 0.16655441285902017, 0.0016512127447947166, -0.0416440302621318, -0.3116729320464627, -0.44255313104307664, -0.08722043681251362, -0.1500584244075097, -0.06291424923907124, -0.19367928236719698, -0.09168468048315648, -3.822119632351711, -0.256052503440785, -0.23265879512314536, 0.5223271887077281, -0.017647533349806673, -0.032236435952758644, -0.03882892859523779, 0.22013982635788765, 0.3664263012589243, -0.027445620055386047, -0.05279297811947007, -0.04018608713100441, -0.05385758497005474, -0.009636993203820306, -0.03343931650883968, -0.025376213781317082, -0.06476821942455561, -0.10516757232225694, -0.03372100772245663, -0.10782651136255676, -0.024237394651555673, -0.048556067540859255, -0.017987957635670137, -0.05680093365739982, -0.061906233923603934, -0.037733519258601536, -0.02484719811777383, -0.11211008754961306, -0.3457729161078156, -0.042953272764275914, -0.06421191567867851, -0.06411786085925114, -0.09574209934996356, -0.03096403782715085, -0.050958692163496244, -0.04368265355406821, -0.2441446266404392, -1.7997290374500214, -0.29704797408067657, -0.03214854373035035, -0.042497112723679946, -0.08965955000029066, -0.2417591595991882, -0.11001506209438078, -0.060010930742326864, -0.03251840127418356, -0.044846433862626614, -0.08118374173141543, -0.43187521670580603, -2.3477492441179155, -0.06320135484519743, -0.03754886167501837, -0.06809214544761057, -0.13109227296237802, -0.04586372709260027, -0.05590912676683462, -0.03415175361132609, -0.06970958218365639, -0.03108879860166265, -0.03971175275824829, 0.45032938639796166, -0.07572805255908947, -0.6334993739911026, -0.23677285814844673, 0.20901686754857465, -0.7867463292495379, -0.25109537323751696, -0.09650042773920525, -0.17619701389884157, -0.723019874907438, -0.5982146773337448, -0.11782873745117384, 0.258798016386611, -0.06420975552546673, 1.3730786851105587, -0.5755060279427502, -0.7092667261806996, -0.1302375734942261, -0.035568576374941575, -0.025908567676346084, -0.17069099506898308, -0.04859644626768071, 0.13174945729547222, -0.4219022450023903, -0.09511958454549235, -0.050048903090324004, -0.06938369925999786, -0.06498134932545979, -0.05023466614107079, -0.07007479606617649, -0.036806927004497836, -0.019957466257541585, -0.13943008053299355, 0.28716172650532723, -0.030922311902635252, 0.2624455549525873, -0.04070585523383761, -0.01671927455600378, -0.034617055451404255, 0.0627656922732836, -0.22977561350425255, 0.12398948027590552, -0.1467796610116775, -0.08095462946476564, -0.02761953639886059, 0.31646699373958553, -0.17714454904235322, -0.13790886487049678, -0.13002569210659504, -0.04176611555823812, -0.09147417397574094, -0.14362127140493328, -0.11236398610780253, 0.9223158011928073, 0.2302507352184681, -0.06053141584977674, -0.07917475280452235, -0.06359296255985819, 0.024051417928119805, -0.11886050777413172, -0.060395632005324065, -0.06110791318642537, -0.2304018019291576, -0.8131686967331347, -0.11843827383912608, -0.030165991238668182, 1.2710420607101192, -0.130476752442978, -0.19537166774773154, 0.139773585811035, 0.5063136191691994, 0.36174561585070575, 0.48631901635135655, 0.08896304916056703, -0.09278802371650754, 0.5456741730478731, -1.0640680492500825, -0.027412842979023005, 0.2490406021973595, -0.04433473050491574, -0.11203914582876141, -0.06798838728913775, -0.03386711939558521, -0.024139487092489073, -0.4265852398435851, -0.03838109861022972, -0.07460659512293018, -0.1124016645830892, -0.08648348134136391, 0.308782244283534, -0.5649317955385957, 0.48895375319747103, -0.031985967812275924, 0.6519549681093927, 0.3690405817521229, -0.1582219805980359, 0.3811440308010579, -0.1538999871504517, -0.085461296241785, -0.18989998702582653, -0.051710296488045364, -0.019234352954934104, -0.0160710097747722, -0.03557005000536468, -0.036865847992182156, -0.24922760433683314, -0.0327217427977773, -0.10360597566863497, -0.08237792120558789, -0.016976169671605496, 0.3961874468911042, -0.04196212142135413, -0.08259839790263872, -0.06732185152745628, -0.05517153231689118, -0.22826351667132297, -0.029654156593813704, -0.19608253535625753, -0.05627227689790794, -0.07387222964528042, 0.008864156505508647, -0.1407209568911198, -0.08692078963797761, 0.10734405198199251, -0.08890092498144866, -0.10152618762282926, -0.06558221339999311, 0.15096085848418297, -0.09712693420666206, 0.3642055772342818, -0.10052754537218585, -0.1660931734003963, -0.08534254702492083, -0.05247706008582825, -0.5816280161005587, -0.023982019773260217, -0.01983668527764165, -0.0835008482185865, -0.026242852236056907, 0.22089759097149952, -0.1059256284310523, -0.1520886431036085, -0.04419313413733305, -0.22904852984830984, -0.09544738980108905, 0.24406383352091085, -0.02679452533991583, -0.1796746359878258, 2.7488567648023405, 0.8652154659663237, -0.15357907021026374, 0.10042467576693603, 0.3746440550129243, 0.15169351364979763, -0.02626019711687487, -0.022326219867163665, -0.07507690376704321, -0.020969544729678262, -0.03839652812119503, -0.1995046236966175, -0.0498358222580694, -0.06713885869335993, -0.1177030909838433, 0.4824223230962588, -0.031092993644587476, -0.2670943998009049, -0.09356082022719096, -0.038216308741627035, -0.26459328514688335, -0.02997428547826193, -0.07758482769296386, -0.07167080878937707, -0.03073646541882969, -0.48481616226869684, -0.02930036805106681, -0.31312962386189314, -0.18635830508095985, 1.6453137388618813, 0.4733328051694653, 0.07643099508940918, -0.163669495416795, 0.25060996747042075, -0.02692629817704894, -0.16125637120261288, -0.33625068366175387, -0.05000676499838341, -0.08176244796619589, 0.16337235797571978, -0.2026632372688368, 0.3120398334138575, 1.0042379115115552, 0.17903119445389834, 0.3175419016866944, 0.26240685341437525, 0.6166723912520724, -0.0419526755519206, 0.1864978775704304, -0.37009817435988174, 0.3564809762420483, -0.19388635049722672, 0.13289908336397424, 0.17826370940828198, -0.08900475810545583, -0.06503347609884227, -0.05160950260839381, 0.8921934237916178, 0.6647371219602568, 0.3334913120129987, 0.49252935648940094, -0.09565810680795944, -0.122134651815299, 0.10153431136724368, -0.6278648186915388, 0.05099591667809988, -0.3741623890056325, -0.06747410526323241, 0.10040639192872447, 0.7900880642083232, 0.2515309952767992, -0.45453523746757357, 0.5021994237991311, -0.04467659355994007, -0.06509474708537819, 0.6250203027089587, -0.5204278729475215, 0.15428705763582454, -0.08242507141552995, 0.5023406800044056, -0.08924282923516254, -0.18274723147028368, -0.9429419820022662, -0.09453078552434552, -0.0685958207547143, -0.07844160652527997, -0.1498334205168404, -0.06529635725093084, -0.014632386614088546, -0.03957418939899527, -0.23460474365931452, -0.1587142434898541, 0.0680585465381345, -0.048218730444387896, 0.25503138761079186, -0.08478107290642711, -0.051956714818926254, 0.1978507348036731, 0.7144129907185419, -0.10845644531329054, -0.15191986062493087, -0.3025170975266397, -0.14150594710397446, 0.3190487432356681, -0.12009159133686072, -1.4967621521666121, -0.050849112580191896, -0.07213950423433273, -0.060214889632390065, -0.12272527890188076, 0.5132320846490743, -0.08244348489772148, -0.05789200100652954, -0.07021846527865995, -0.08184069999587582, -0.09175479308911129, -0.12980408012223488, -0.16476109603240585, 0.3698757261370916, -0.12779906113245726, -0.018466754562641727, 0.32336075618537463, -0.07723182818638884, -0.1257341664480292, -0.08966695728021423, -0.142321799671602, -0.04378911494519334, 0.4937020189408801, -0.017186099934657122, -0.11027371347917385, -0.0790393318709176, -0.030235956875916455, -0.16515233525177067, -0.08178590218949558, -0.014107709381009805, -0.1505134315333389, -0.2250756102958038, -0.10214846355092153, -0.06689888086481223, 0.4977312422871329, -0.04701894370465049, -0.04093056262770371, 0.18298807699291722, -0.06563690155207308, -0.01208029737636059, -0.03498729314739192, -0.0965705895913395, -0.03781115035411546, -0.09840338147991513, -0.04431292266591207, -0.1831171552298535, -0.07243278130956705, 0.5184303408635654, -0.033520335290249205, -0.05106207451623991, -0.07082303646654696, -0.0626661886241711, -0.10620751250266365, -0.04569549111162898, -0.09676236511045087, -0.12205821263128118, -0.23116084492519093, -0.14309270261630982, -0.06997060109463592, 0.11221316470472817, -0.167085159988193, 0.22424498532939122, 0.08957678558248697, 0.18481069029622985, -0.057605475695569355, -0.054399817483714266, -0.08150537209431674, -0.06762273294955568, -0.04459584238111569, 0.3424389159408042, 0.40439463384504654, -0.05085382176741238, 0.371438692140507, -0.28658331257908554, -0.10663635513668851, -0.04187010713699041, -0.13753128544897075, -0.02905571362557431, -0.11786539816251726, -0.03470047355724003, -0.08105021898133054, -0.031284065313918315, -0.06776591296142102, -0.19250827778489654, -0.07827405223848408, -0.03417152957691389, -0.047824332015024285, 0.20667802361849275, 0.4792212250469096, 0.43111732547739473, -0.04785276116585069, -0.13325981219210248, -0.03611764954705696, -0.05986344540411234, -0.05583813930562814, -0.19784670938011265, -0.017696083078401495, -0.04293067373707153, -0.03901382511788339, -0.09535964102669685, 0.2990237854212649, -0.2825548744688242, -0.09063369513972727, -0.12781743746940322, 0.2769967590844785, -0.0667770264588283, -0.05266198295252587, 0.20604047271512904, -0.04324939108544686, -0.09937406905204249, -0.4550055611852265, -0.03976921332187023, -0.1012570004354627, -0.14861781685298966, -0.06809725505855342, -0.16869792583515608, -0.16690368073254794, 0.10307325902921878, -0.02825528107056572, 1.0666563197107415, -0.08029597257424578, -0.049486909337081005, -0.046922469619163534, -0.06467733681101784, -0.048269984997345375, -0.04835613114096402, -0.07949767054078634, -0.037302423383541505, -0.09817668904408612, -0.08909790082273791, -0.04124746915243749, -0.1215659561508269, 0.17905353672320948, -0.08125354055129373, 0.23729648644523743, -0.13737743203015784, -0.06104793998165283, -0.14865176430953164, -0.19224897932004384, -0.11415147642313668, -0.05638843839874382, -0.12375306412753177, -0.17350692573303184, -0.028236542315598585, -0.13893280070647737, 0.4222861258408564, -0.07668178844443647, 0.5170819420400622, 0.24610753676878802, -0.1303755685029397, 0.2285798696542575, -0.08716965150747379, 0.017683718059592828, 0.3048002680381593, -0.2189058383868528, -0.19259498912943307, 0.06438913697201057, 0.12172680030961554, -0.11182277552082305, 0.4602742136704285, 0.6586728910327289, -1.17755422576187, -0.03286817257622143, -0.17270657780737886, -1.0703098894970178, -0.11570218402759067, 0.34627803727688755, 0.18153472084917358, 0.18701023782632087, 1.8517734873950036, -0.18084444941904934, -0.21547987543851277, 0.23481235585975288, 0.025058148044841303, -0.42116162142227853, -0.17635783095890495, -1.7162802713105725, 0.40917054482317367, -0.2982123270250764, -0.0924853657135931, 0.547788325233055, -0.6422413290844528, 0.022174898254159827, -0.052807969528245916, -0.10441485272986295, 0.8329430412345058, -0.5057056692462869, -0.0248093512864726, -0.11589850012405616, 0.4196499703749621, 0.19892196702266762, -0.1901116965352619, 0.08180758296521998, 0.1734398195736827, -0.7070514623130865, 0.12687657558960871, -0.3408367703555475, 1.3977943739995282, -0.2937030284028808, -0.12094221449689325, -0.15796561582457982, -0.21806699996834225, 0.8847999067649104, -0.04417669928666597, 0.5410685568671838, -0.16751380706399283, -0.11399549209064919, 1.3761617682556573, 3.670044279660428, -0.4194856303492276, 0.07123806375148427, -0.20052793488645684, -0.2645764998997954, -0.11450665492760471, -0.08225937714242271, -0.22122032427600966, -0.07592363628625717, -0.3580150993482198, -0.03648277922391783, -0.5254096748545637, -0.007847827111543226, 0.07280731178753731, -0.0985120036089482, 0.9135892417718411, 0.8370527035740908, 0.40705322456203635, 0.46943861288476046, -0.17304297189069287, -0.11268031806821874, -0.04415510177603711, -0.13287531767934163, -0.47975040560975696, -0.6080792401658296, -0.19813938171473178, 0.005540702143763544, 0.06056823656146099, -0.09591434251203161, -0.20414390186679285, 0.5069220542720378, 2.0298937299085726, 0.8484132989867152, 0.4033862563990853, 1.312796125205504, 0.2637613760518474, 0.3558383966279687, -0.8078301628414731, 0.661891556200478, -0.17536259481396527, 0.40123800217767, 0.14117800988058787, -0.3288020312532733, -0.026373216501546087, -0.1743075219143809, -0.6473339778192161, -0.06748063055086628, 0.05316616266483736, 0.06549194559555586, 0.23014298375805523, 0.2950937312318525, -0.2337580590256718, -0.17231368309204534, -0.3587460572737472, -0.17155261526018276, -0.1419172577772454, -0.10236065291732255, 0.21218076004198813, -0.17857413773256028, -0.05952708945917629, 0.4704178514396664, -0.049781898438541514, -0.10137420610647449, -0.1215805168080787, -0.048178311211365635, -0.036309532100116705, -0.11471302279036387, -0.07404344299321111, -0.20129372534015896, 0.26393740229080287, 0.20679566531835436, 0.08256746840802986, 0.1552865876039423, 0.2664653522668709, -0.5361950786921261, -0.11352041992477793, -0.07589297674186911, -0.0865701315835598, 0.217328357505481, -0.06196773173957161, -0.30465489827825526, -0.14259651543654445, 0.4527041768123301, -0.14093690670621065, 0.264956220360509, -0.11788938148961867, 0.12390771857836992, 0.3092529752409867, 0.4596036620054275, -0.20077116084319938, -0.09146909850695573, -0.28529136166440155, -0.32741244139472603, 0.4935642348701669, -0.0463820826097778, -0.04138490424723723, -0.14359839464612, 0.24343378139243013, 0.3125005719687372, -0.1519569297022499, -0.32059179169405794, -0.04454780772101355, -0.21154776555611615, -0.04888806527501933, -0.08067889093266034, -0.2578785719730274, -0.12752293609624574, -0.044962933083683466, -0.04260676396639002, 0.40139884137622384, -0.10153432684929452, -0.07794001990362398, -0.14984023163942245, -0.009360634824155906, 0.7229277477811525, -0.0704469052169721, 0.16990679050457275, -0.06571648853668922, -0.109684457166629, 0.6966239276681494, -0.09835839756528514, -0.3296417951719194, -0.06712595127573416, -0.1132896682932683, 1.1720237567809393, 0.2488925875786128, 0.14912821106060728, -0.41720269009516714, 0.03727750535947422, -0.09044788862674105, -0.18501914815640133, -0.10543057407249098, -0.05514572542016166, -0.0877325587396173, 0.3431085026720996, -0.08097704280778754, 0.0917677856558952, -0.17811557301017536, -0.05098339423485681, 0.8111171407620419, -0.10550357104878834, -0.18805051738936218, -0.1530134136009625, -0.13073982472392331, -0.30490836659318066, -0.12481223194455705, -0.18837428411471457, -0.13330630128015955, 0.23757262357525885, -0.3491041147729175, -0.27878102000064153, 1.4934971340641643, -0.036993942599682764, 0.06667761262891844, -0.06075700880429314, -0.4319270431648648, -0.05547507591832535, -0.06780792694124002, -0.05476161379891317, -0.11633573654196125, -0.11620702539762141, -0.18567663721551322, -0.080413767513458, -0.11039085196762842, -0.05885659730431601, -0.22601182641202047, -0.13699697862240467, 0.5909907949618508, -0.12732691609797553, -0.11133582519541302, 0.5219555286694324, -0.5088580598543888, -0.04240181665647551, -0.11874790279571618, -0.3928988251580482, -0.4391285396219656, -0.1001703158889042, 0.2091221774160778, -0.7081278554916576, -0.06444519647067778, -0.0812380527640907, -0.062194919301550425, -0.820753102335281, 0.35566310270660834, -0.3387140910418267, -0.15091841646019968, 0.9845471929579002, -0.06010807409380793, -0.2455649152725475, 0.28413227695500437, -0.15174796493037007, -0.10939483919913638, 0.21712066661377138, -0.2403115156278041, -0.04057278796194072, 0.31788701153375803, -0.05948607498390466, 0.7334682828335535, 0.28371602416494524, -0.1703143106921017, 0.322316515415679, -0.15740644065423728, -0.3496255301323301, -0.09253837594467446, -0.1012302245965224, 0.7804971324504703, -0.06158819946215097, -0.11549409420878072, -0.3282644211471676, 0.13252166130187157, -0.10677492750409591, -0.08524581930508013, -0.08668513559804261, -0.04488816920921266, -0.10247848513309435, -0.598748733143485, -0.04843797847169142, -0.3322967690124859, -0.05538787131776462, -0.1029843829135851, -0.03645159139248107, -0.049867918690817276, -0.05914770315357058, -0.13330243932213087, -0.1574650346407445, 0.09578519194984604, -0.055654367506698554, 0.2728926998087269, -0.06403954983155159, -0.10978734374749985, -0.023384554505221693, -0.23051198808227566, -0.0781600046093167, -0.03940175776866438, 0.13166728342314818, -0.07814008648150482, -0.022084994285738433, -0.14288443193129216, 0.5010735393246388, -0.08355468535380689, -0.3081250455179948, -0.6216940040656826, -0.18339676568320568, -0.09136693777657764, -0.07361712119592945, -0.15174110241908245, -0.06075319985943403, -0.037504815651384416, 0.2197571883075219, -0.04510908197491763, -0.08582164921338943, -0.0553888688039478, -0.1052785473821506, -0.04975004075403935, -0.04851746319803443, -0.04475884024088309, -0.034281050682710444, -0.06820985678605263, -0.06427785199808035, 0.2266108044569875, -0.04543702442782087, -0.04095446579381434, 0.1879454952217137, -0.10084429044791249, -0.05872354612705654, -0.251195514949263, -0.032145055930444325, 0.2548375725499538, -0.25292216996158157, -0.04607362955974048, -0.8140733400020258, -0.0991822945787875, 0.22441154121667944, -0.05708612384196499, -0.2536462970889698, -0.17587220805839057, -0.06990180897986256, -0.1225911020017484, -0.05897161612472539, -0.3752692476713429, 0.284267987022904, -0.09858145706055405, -0.04814887437389383, -1.0824557260762089, -0.0805972041120024, -0.05221761947350215, -0.11251379364158791, -0.03620812090332162, -0.06083127877487334, -0.019753980718243417, -0.09572884571016164, -0.040804762321500224, -0.37113430290485755, -0.1854030638602126, -0.10704923426709378, -0.18576803190436725, -0.14922044819396327, -0.6908243303331782, -0.21878066702969665, -0.19148307307424406, -0.10229839429774758, -0.08056229122703128, 0.2182354959096108, 0.4066781381499974, 0.45254273025806113, -0.060394571443209984, -0.440264472722268, -0.08053182837242788, 0.9246957666000613, -0.04907466894326894, -0.14498385075887327, 1.3027533418347306, 0.501648883201734, 0.4495676788405712, 0.12192232636341326, -0.14760054935392392, -0.07154255620186027, 0.39953134765311854, -0.254279339024377, -0.0576751024784746, -0.1261429702540719, 0.5397893412658805, 0.237345650632133, 1.0318254305061758, -0.09406186320161661, 0.788817329698494, 0.1711107271173851, -0.05792240482503037, -0.049461587266371655, 0.573555662791158, 0.13200253346988902, -0.027962539470417, 0.24835030501388142, 0.2957195359540215, -0.07790398312056651, 0.1287300717299225, 0.43823435962139645, 0.3112763373827032, 0.3956593246446801, 0.16068879494767796, -0.12795513422912907, 0.19107049390730746, -0.15636419449792266, 0.009400236913787243, -0.07655619480523448, -0.11351306387139684, -0.1604435975964815, -0.08532048013126413, -0.12681423002379488, -0.07095899885158549, -0.10559895656884764, -0.04017123480525818, 0.6534519723979678, -0.04658679904259475, 0.08050125168007653, 0.1694533366629909, 0.03128858921596599, -0.04989415622397166, 0.4910892488035045, -0.04220570500839406, 0.19865444874638238, 0.2586963632109817, -0.26442916723291976, -0.28414029820749964, -0.04368265355406821, -0.20616927533097362, -0.14884794136348595, -0.1871884876039644, -0.05964432389722321, -0.10542967361047909, 0.021744053878670254, -0.23942020437044423, -0.18560527807759805, 0.30453954143504547, 0.46046076873577413, 0.11598230999455288, 0.6816431293291609, -0.15994945970956012, -0.12875352557309663, 0.02707871888765943, -0.07044859141379384, -0.09143517279676339, -0.0567779831198159, -0.03763886463938997, 0.2644149253564064, 0.6411493590290278, 0.09520950618374512, -0.21518705612775332, 0.19815371017235467, -0.22675376440471967, -0.06697740172402562, -0.06220168579070761, 0.19699422916584952, -0.028759770415254484, -0.08884392500829928, 0.3284980611077432, -0.20022014406384686, -0.04415712274306011, -0.9151967969155373, 0.31084012302893427, -0.04752967862358571, -0.06505840957550293, -0.12184244210348066, 0.37487769802958076, -0.15189448238869047, -0.052496123637586704, -0.1532722177666947, 0.29810492152620865, -0.15239524271653893, -0.055821274991059204, -0.033383655499236185, -0.08694043200381836, 0.4991957390621814, 0.0037440035407506986, 0.33094923105018875, 0.020622848844780564, -0.10126838656719145, -0.06412393046941281, -0.09175374796136458, -0.4467856392809332, -0.17854402104845765, -0.03758530377412089, -0.0905017632019824, 0.5724208054017619, -0.095185344396309, -0.11008304297645126, -0.056607347559272755, -0.014912240733716369, -0.13143165780521476, 0.12914560827549218, -0.054883512436983944, -0.050917899729336615, 0.510936951772201, -0.2005000066081612, -0.04033011893460331, -0.06053108552969779, 0.024377729073986724, 0.50752550550918, -0.07037350616183127, -0.06703937375393125, -1.0826352913778465, -0.20312286620641953, -0.023440916065721608, -0.07273416920747705, -0.09347837489123496, -0.04607462079083384, -0.4108297443371632, -0.29539538312067637, -0.07565485957870925, -1.6901615366994778, -0.17156257217418805, -0.04689758138426677, -0.08930920286815995, -0.02550983456324744, -0.07542938903457277, -0.05662316059719306, -0.13671572873385343, -0.41216836126020456, -0.057236729636564065, -0.07427118421617551, -0.031181799988920518, -0.0766400994210135, -0.7137771470393927, -0.0913447507484584, 0.2803467884659734, 0.3365079892891579, -0.05230156090376944, 0.24553758945391727, -0.2211369948100054, -0.04585806262336097, -0.06362030299097209, -0.06467288236334753, 0.4093912965860052, 0.6214176104941743, -0.11172014676269919, -0.2450728336908235, -0.07365376421861453, -0.06191418985485401, -0.4351379413765629, -0.10810244345995289, -0.08199617215354171, 0.7934512365907904, -0.18196479055627307, -0.05043461761921742, -0.03246594896129681, -0.0844967284376489, -0.18840532838142177, -0.14366353044081065, -0.10221115070732685, 0.16143234966745604, -0.06438784866642362, -0.13377455220916223, -0.4035624490441938, -0.051631028031212965, -0.16828108300792427, 0.27823584347301944, -0.511714418471407, -0.1263691192492466, -0.09718566254887041, 0.40799349938741036, -0.07799348002423855, -0.04666502216182281, 0.139542600144277, -0.14337394021876596, -0.058496919203019825, -0.03452480197556766, -0.08879279815888197, 0.7530494571554212, -0.08707379012575946, -0.24842542967986295, 0.8165534082716925, -0.08011732170547657, 0.5948166890273726, 0.3588494189625881, -0.6105090809776208, -0.06036178353655479, -0.11451816520953723, -0.06702282993685055, -0.06585925580733784, -0.03395175928462082, 0.38884044909982596, -0.09274982834613829, -0.046672458730571, -0.058130319656007366, -0.06507994250944497, 0.34507106715376884, -0.2307939963186714, -0.0984511892972541, -0.10555659058569915, -0.6889378823153682, -0.15117675754754598, 0.4795702735936122, -0.06839788244028798, -0.09895736998875355, 0.12397026620892684, -0.4759946926178771, -0.07981786017452633, -0.17121815850706265, 0.33774152980368766, -0.3309799954235366, 0.27253960016271067, -0.12264210101240701, 0.6897325509392656, 0.40736635331886484, 0.17384270266438914, -0.11068037923142125, -0.035474680237706516, -0.05286416954652156, -0.10044662534282575, 0.07504157586902611, 0.00843539843637383, -0.25285085667756646, -0.1017803537532854, 0.30657763352295375, 0.7613258090704642, -0.049401420238009065, 0.13625715933601645, -0.12742260592723298, 0.20570409265293008, -0.10563279206723312, -0.7490439208631766, -0.11299521043040396, -0.2305588032399099, -0.1385406732418522, 0.2064102901226865, 0.38171893681016256, 0.32426790514254017, 0.021118941261533887, -0.861648623388092, -0.08043816625772394, -0.02995499159118462, 0.4270276341353752, -0.05302429195521237, -0.10497460259071574, -0.025677296733070204, -0.07302022689875678, -0.44791711112445964, 0.0407612830265053, -0.151250291677742, -0.03114577552830316, -0.1613836777913281, 0.45777138591777816, 0.2593627963777102, -0.04711230734561287, -0.03688062815503249, -0.07586889439622084, -0.1510679677020134, -0.03768469711824449, -0.04834918488219404, -0.04516028156323816, -0.05133099229310364, -0.03749027430950165, 0.41946899892967016, -0.09399090737892296, -0.05600711451774078, -0.01955571203367516, -0.1602983798310598, -0.12802103578383758, -0.0871387782775517, 0.28978968688043816, -0.04541755073438656, -0.04752156773265837, -0.0959526717710611, -0.023595835257901005, -0.02003395664502532, -0.09169100045704552, -0.03343172135946791, 0.24563397089983022, -0.14419405196732718, -0.03450082901797332, -0.09331048648030751, -0.1261723328775629, -0.05084686316889211, -1.0908718213112094, -0.0417473234498898, -0.013470061681574328, -0.04319361570207217, -0.04130578861129674, -0.21435834705667747, -0.04661550794948496, 1.593873984833214, 0.35504689094850056, 0.31449916989692495, 0.244580685085366, -0.06309006857828246, 0.49232848012048946, 0.22186896625471425, -0.1386639340367134, 0.9611002244071218, -3.554293995422933, -0.0403129147536162, 0.002335851997435336, 0.12945564070238202, -0.046503575570127596, -0.07882593673922775, -0.05459874079454673, -0.027781387641811126, -0.05986168225898226, -0.09252583155696285, -0.007942194849408106, -0.09519299779581024, -0.0556380165741758, -0.05214917734153015, -0.04796868335251504, -0.03576391714344302, -0.2857349627536051, -0.1990900344070052, -0.035011804199624706, -0.03898744862310563, -0.04345735100482642, -0.03557281103127484, -0.05237513329366962, -0.02293916875707108, -0.04522821934766615, -0.030929648237350057, 3.369953908316465, 0.7356667191221753, -0.34478000433504685, 0.3284577973290149, 0.04402752314809474, 1.1457431836567955, 0.2892318533867956, 0.2188426430536851, -1.2898898814500561, -0.1968343042706237, 0.5661992045317457, 0.15346859478783711, 0.10878617336473974, 0.20969289040975392, -0.08169764921655233, 0.8086793044644361, 0.2385460860859556, 0.29594632295461387, 0.4340999002464373, -0.6035438852578558, 0.24558008740038004, -0.10497082133299054, 0.14959058191216493, 0.03608479824231711, -0.8483768821141555, 0.5220278197725867, 0.14204457666032244, -0.4658066677609657, 0.17874068461723916, 0.47175931436049257, 0.5206966507167052, 0.11928152120250378, -0.2959400905641478, -0.2148677103054514, -0.2606806608142266, -0.08204367331689642, 0.8897147752158675, 0.11393746081044463, -0.34495918416979304, -0.25028550586803866, 0.2539129607387427, -0.46302086366513434, 0.13157032837967275, 0.008923770721218185, 0.2076188688690802, -0.07775946410768915, 1.046901206610593, 0.37419044512593447, -0.6312867620595262, 0.16792062790967716, -0.20666562046933207, 0.09588237793801266, 0.6496212724594601, -0.47569812602267086, -0.2304029218313171, -0.24544407148860398, -0.1432836102686822, 0.7241713642703621, -0.02195942163722148, -0.21760073722921533, 0.37018091907368383, 0.49579386120259467, -0.12289860110430297, -0.3910375848589192, 0.16284148635304246, 0.30959169380606527, 0.11298385997855522, -0.21158776235259846, -0.21860686808843577, -0.2669055626602237, -0.1551257821280764, 0.11533926465550483, -0.23709208774251136, 0.4359272051223645, 0.6782201892401286, 0.2869575698115366, 0.21105098519022022, 0.059620001173060364, -0.09452062809985518, 0.01215440364233325, 0.23514222802968002, -0.08830925910651226, 1.2233139966548474, -0.18004035897402204, -0.25859063485508504, -0.03857591663895865, -1.275592505458764, -0.8468676690543171, -0.6437852710274087, -0.16252718236144453, -0.1088759194966074, -0.9639468257784863, 0.5730340242883634, -0.22454054083034894, -0.36018414073740423, 2.5889518670866853, -3.838873462101797, -0.06163893281335159, -0.1349397419934461, -0.046107048354840925, -0.046654555403223816, -0.055791255301351976, -0.024607621681876805, 0.2618296931992629, -0.17182358104631318, -0.06801187665411224, 1.2394049216359733, -0.10038305389476812, -0.021305052159953482, -0.13340973185296148, -0.07315502779337268, -0.039839697228978364, -0.05215856390497704, -0.06527482655355303, -0.031975585464759655, -0.04074571672318834, -0.4091245544870362, -0.08954265621673513, 0.2670138900669831, -0.07720017661505951, -0.026473860996862737, -0.11546616843515974, -0.013745225314554159, -0.06177778856433383, -0.0380225053586305, -0.025246527371510057, -0.038200605453747864, -0.06599750941100158, -0.026539029091664945, -0.024272328986807364, -0.0663536925522387, -0.03905986101348094, 0.10998938840370899, -0.034938339352467346, -0.0528095116628318, -0.03264876691007203, -0.03956939215365911, -0.03959707831493924, -0.07124958519711407, -0.048527283644770755, -0.04274077499199846, -0.03334597187983523, -0.030577254222686295, -0.1459246957697971, -0.11584967334405621, -0.05577448483825102, -0.05641706302174036, -0.035861456431440855, -0.032670493983308325, -0.07094273319224932, -0.06524146954692192, -0.05586414943736658, 0.24275776748865632, 0.17941643398968765, -0.03578099659294951, -0.039894870802447954, -0.05713489056921656, 0.16381719295608552, -0.016992691399712972, -0.14370744420018966, -0.031223434489079296, -0.06041991085209605, -0.15068294186887482, -0.14425617375961414, 0.3593403993751762, -0.015933214384045196, -0.15760539460523967, -0.6290100785358786, -0.03504670818330793, -0.03504670818330793, -0.10585609938440033, 1.0671586712286232, 0.7603791346452294, 0.21960102950170265, -0.02549848974409517, -0.022369204399094286, -0.06215977256732785, -0.030439502151039178, -1.3123117328122713, -0.038451749898116915, -0.09061979991022125, -0.21956967206058062, 0.1985889419066496, -0.0754643163706285, 0.46001015430136327, -0.1040789049793396, -0.11620443602261255, -0.046462389435340916, -0.039496630392297866, -0.17400066926083835, -0.08266165367033594, -0.17110712491498686, -0.09756148486350384, -0.13195382955752183, -0.5390650660492663, -0.1973475371748024, -0.3752719856646537, 0.19677552596382297, 0.1525287483525165, 0.10984160752958363, -0.06716827467599361, -0.12351360788129004, -0.24139525122024275, -0.08478570949036436, -0.0334389058278314, 0.9912374257915687, -0.07421258789206021, -0.09042740649201442, 0.34881440599359465, -0.1766989067932313, -0.08128736074089464, -0.4604415369861807, -0.06662659725740644, -0.06703750090405257, -0.09360558333821747, -0.21291774654280826, -0.3167799926389315, 0.2600198595256425, -0.06434024850303512, 0.19842696776278043, -0.04887231474819213, -0.030599018751103265, -0.024884178880256246, -0.05374610064764092, -0.10332341200120983, -0.09545597834725665, 0.1228925409408033, -0.18803671599991315, 0.21089207404998148, -0.08715753177520373, -0.255860906011762, -0.2050064761532363, -0.098938664708084, -0.2768793970162489, 0.4220439068857098, -0.04370230365374222, 0.6939935332936881, -0.11837482194348554, 0.3210936432452004, 0.11364163314570416, 0.4464564348528385, -0.11518313775805493, 0.11425191696662433, 0.15163304717690512, 0.8965175050238117, 0.09625503301371406, 0.1854066079578205, -0.08312597956405478, -0.20942683345039714, -0.02602672167660267, -0.05018390176926851, 0.3664292432906623, -0.07775594521553429, -0.11218735379335963, 0.20039392889450444, -0.03393608052602501, 0.6443448432521401, 0.08341323571281678, -0.04491268140941487, -0.023467569051017545, -0.02060708850831263, 0.38777006624546817, -0.25693208284386715, 0.08245068926546965, -0.07193023308787634, -0.06727008839071892, 0.5560039499288725, -0.07239114170104773, -0.05020006822099616, -0.1488757383410867, -0.7181705048714224, -0.02235140250304703, -0.11193074507820447, 0.5651775423341964, -0.12094976713106159, 0.2426914500098037, -0.08934383135028857, -0.046366380163597745, -0.62000127834148, 1.0298433770481432, -0.08253700029154504, -0.2390414901510966, 0.678086794226552, -0.1746667311473332, 0.29949160353122956, 0.1673567319805916, 0.08002223945231282, 0.1495577534447036, -0.045514728913321825, -0.10746151572576497, 0.37200907166405106, 0.5185740502175251, 0.06329043394587876, -0.22538133435912577, 0.35470617233425933, -0.03421018853418803, -0.13781986818505487, -0.7352870081506846, -0.35380708481105444, -0.5151706838273651, 0.2274095305857478, -0.18468680500762547, 0.25199212229280876, 0.19634080158910186, -0.06530205916658809, -0.07607660029066368, -0.026172136457006355, -0.241009531494165, -0.29967178269742145, -0.060396940088361814, 0.08285806024982567, -0.0380164776501077, 0.40371339511112825, -0.3479661830376977, -0.458286045318233, -0.047285185019524424, -0.11619925498019983, -0.332501962704718, -0.3254191670131444, -0.1646443797072706, -0.032899718046584196, -0.09893408155874044, -0.30829082695510246, 0.46416896597409, 0.214796673911972, 0.6479878022890901, -0.0874168974327234, -0.07320469159395537, 0.8062293421309934, -0.11418310919567942, 0.7448506597616987, 0.523976193496392, -0.15470493968265375, -0.07392909380852473, 0.7557484874438437, -0.2235136070149804, 0.16797186758509566, -0.17182403181303274, -0.11938644547293663, -0.09283966184803394, -0.13056006017689425, 0.8356743348107953, 0.16711945919613566, -0.07605118929776601, -0.11551502124564363, -0.15955579718601626, -0.25020248020592434, 0.35048205640633556, -0.21421860897257666, -0.038707417300445246, 0.2400695248746419, 0.020687298363984027, 0.41388099971034575, 0.3999100643273781, -0.05178692467791644, -0.10027100134351932, -0.24732060325602115, -0.3976957507375654, 0.2731573070268002, 0.1300576406329908, 0.3372536438600676, -0.9330631218475258, -0.06749395766749261, 0.8184991955313792, -0.021218579798507508, -0.05483476079347657, -0.056829118788430756, -0.09319287375239138, -0.06859848420812642, -0.056413039567419485, -0.42291817829963957, -0.046631237424424585, -0.1470372254869603, -0.10438562266714282, -0.028665423637305495, -0.18803604379750008, -0.07660727016381093, -0.2164930281695104, -0.11376186650488075, -0.055626875840356194, -0.11984671585360862, 0.6326638951314185, -0.3614745309252163, 0.710343917775885, -0.11769619074423912, 0.293377177125363, -0.2514419586761504, -0.11483815004463836, -0.12901098995651647, -0.09395850586752627, -0.31130156038023454, -0.09916022771276631, -0.34266598698064904, 0.4291692612800543, -0.14118667923734993, -0.09793715037073843, 0.08466355542486899, 0.37361283484323393, 0.08728302850217486, -0.10819796962022224, 0.1587179994076941, 0.605057073647258, -0.4106808449150316, -0.10941919599418105, 0.41166366994332204, -0.07943098422224608, -0.1492915565664712, 0.10196001939830711, 0.156754810592243, 0.10684720047831513, 0.23525699675060954, 0.30434888285159206, 0.3794095195268034, 0.5437440352237612, -0.12407495177358335, -0.09575257634596952, 1.0712114821039807, 0.7127297314668438, 0.6840892763117966, -0.18075062543665527, 0.2581667321226087, 0.4826998058322849, -0.06763290558101075, -0.14256111563914645, -0.08702828727635038, -0.09225741609970554, -0.027755033846751136, -0.29922625104393896, -0.4254121247631897, 0.3848447171418188, -0.34019711823896803, -0.07038275160474297, -0.4531682836315873, -0.0576529121322567, 0.3436000026028985, 0.5851180435680403, -0.10328970681183944, -0.11243410344396357, -0.12251415284572885, -0.022902710939181323, -0.5469261068339555, -0.3450721109050469, 0.24495100189303612, -0.09429365796134989, -0.05043427539445886, -0.04913949156856136, 0.4631508647093124, -0.06165899874536947, -0.03186863805208573, 0.11463964509351893, 0.24026397467264085, -0.14284855265487542, 0.0684818669796021, -0.2282948291957479, 0.39261074516285255, 0.1290967751937487, -0.04116480395026462, -0.05851948410644124, -0.10635788946562062, -0.11275683717233699, -0.08363867799549063, -0.06276326379518726, -0.1095345933987577, 0.39484640676077065, -0.06810373872420128, -0.18327616742434757, 0.2067824777868279, -0.08581041046686892, -0.05606218999151425, -0.18536545071457183, -0.14661796479057443, -0.18421087835185526, 0.25097989413947835, 0.4805658563632515, 0.20263187658476955, 0.30734765114677826, 0.31978683146067016, -0.0740788993204704, -0.16341893636298788, -0.039539156029087835, -0.12060470293772517, -0.08823306178728318, -0.2974354907214982, -0.19391143229691074, -0.3096151065938909, -0.972124608403667, -0.12714054411626696, 0.34108598537083135, -0.1148216281995367, -0.0493429995370167, -0.16854723799478147, -0.17957849161493974, -0.07325672921435743, -0.08151205629806063, -0.06618822943874829, 0.345025909154572, -0.03732330716630721, -0.38431015008027836, -0.04701171553693661, -0.03833412924467225, -0.015376717436614333, 0.5839726024976499, -0.06893082268606338, -0.18448732561155362, -0.0631655158604712, -0.0322907317828156, -0.01905517142331098, -0.055167571751221695, -0.059505776052905794, -0.05931732333525897, -0.2506110870152805, -0.036522256667509786, -0.02848733771035766, -0.028494408362671395, -0.0926188906950224, -0.09804125375569245, -0.03018257938395211, -0.045478662109647995, -0.2904475945682958, -0.0876143921397481, -0.052312088959890354, -0.011629654274621357, -0.08048950401357871, -0.03267712779852613, -0.05909603505211412, -0.08140181977433882, -0.10663060220087997, -0.09958037549288701, -0.058715131240026676, -0.29765395998189703, -0.06157051793632834, -0.16669675577849805, -0.2919509714433434, -0.05853114685816002, -0.08187932807785503, 0.23323439408818125, -0.10032629175602258, -0.15678382902253465, 0.34303024421640765, 0.22420092574798411, -0.6241954361174448, -0.0682992327181451, -0.08876737460565698, 0.7697298136664807, -0.24853461125499476, 0.14168810168332222, -0.09842234559756093, -0.12321477588214678, -0.1460825589895391, -0.14837525313880343, 0.5052404366738276, 0.4020635607213534, 0.13228313844975298, -0.36983234579156216, -0.053579341606263514, -1.5464141784736876, 0.003147975642879137, -0.05035938028018623, -0.02452843165204602, -0.03310811037916778, -0.06547039705526327, -0.04630371580173478, -0.11332531002485108, -0.05923162814608383, -0.167270349455697, -0.6754931500264424, 0.2240535417209842, -0.05448220410690583, 0.3330483824931561, 0.45342488091736005, -0.032803987008734145, -0.03408916280359532, -0.01880283701096377, -0.020824181358852025, -0.08888807661583885, 0.1410277897690739, -0.03819629417769924, -0.06507186085302721, 0.6878607168314835, -0.07412319272835702, -0.04333865370997946, -0.05716277419684325, 0.2601660691074839, -0.06226901093256411, -0.07403937585684094, -0.0507990586562472, -0.047900461081723, -0.28886048314179225, -0.09616362988274979, -0.09090037446057933, -0.0914218991265931, 0.4077542039882711, -0.14354969413110055, -0.10212190393357357, -0.18196888710446932, 0.02957163356470129, -0.022955554398502418, -0.1426181052630596, -0.10673642505178389, -0.5039230469132848, -0.05120675508697357, 0.041983457707051655, -0.21279215599697307, 0.10863585489002771, -0.20579300725665195, 0.23816171036515507, -0.1996266187120673, 0.1756241099806305, -0.32900284446919564, -0.11715743376852222, 0.09980181822519012, -0.1545364703709364, -0.09479004138802902, -0.050697058110716425, -0.1558832187250964, -0.0641593597887213, -0.14402054018201554, -0.2992615956999189, -0.056931413275695085, -0.06158802623913914, 0.15269503582085805, -0.08809673370008216, -0.14153385911951244, -0.07927445520127636, -0.08679058242465565, -0.031043024795170845, -0.11907326434352118, 0.2219607057232149, -0.046164131274408875, 0.33929329752151927, -0.04691103265615, -0.10784301983673403, -0.14089944028337312, -0.26559911006663145, -0.09603957470256047, -0.07388328011657833, -0.023461912184950227, 0.441510926925333, -0.03896040376745268, -0.2558412211713659, 0.306137225391724, 0.3607568712877978, -0.10266940717067365, 0.4936513379766462, -0.10233203842720441, -0.08548389534919117, 0.060367709137978676, 0.24671786957227151, -0.08072969044283476, -0.1639858598272589, 0.1441503962099982, -0.06176354504179694, -0.1588845191742852, -0.16003374102949203, -0.04619589791417728, 0.3956864324129428, 0.642374602856717, -0.03411267319660132, -0.08498090804500513, -0.2183539667026245, -0.06300257574893912, -0.02824306674975118, 0.226003888610188, -0.04595981709783239, -0.045792782290837324, -0.40967936698447815, 0.5453786131978474, -0.10396898556143007, -0.3291990770772622, 0.548339205855505, -0.10955328288574578, -0.10882319654596762, -0.08133912347355965, 0.23063730781037048, -0.058290265372563224, -0.0982673241953193, 0.9300830725752305, -0.10109629282492218, -0.06416359222452196, 0.34977994734458073, -0.1720692333912162, -0.03194887299941115, -0.08363333300260352, -0.12030333158960221, -0.08783046540083035, 0.3007208234525256, -0.08348400493771345, -0.20396512112580184, -0.11308523307743644, 0.38465891576158134, -0.09827394983184447, -0.06296389189192052, 0.11765667215755804, 0.2986867711607463, -0.03639362316021511, 0.20935627313237476, -0.19355204177831573, 0.9083616864376318, -0.10522077950815215, 0.2915174804220113, -0.1705903663901339, 0.26205643904041515, -0.07040298374472197, 0.1822780137543111, -0.3120778197925395, -0.1274152314624842, 0.26244861470599906, -0.0436511622124555, -0.31518541359587016, -0.1190591792648345, 0.6189392094797578, -0.15057191362104175, -0.10872957116929095, -0.06740707648237439, 0.5425857316317013, -0.15053124882623034, 0.09548569211118639, -0.050094189079872356, 0.12058167621830797, -0.11278952649052067, -1.7392663953437726, -0.08325430548209696, -0.0427268624805714, -0.04490609432907435, -0.03721363937014895, -0.4226234139957106, -0.05997978653526833, -0.06499273914024821, -0.04510821611478154, -0.02072539615715578, -0.08089343228948193, -0.1487576283000031, -0.08299499622710721, -0.22797251852614459, -0.15874173640054273, -0.09319808278069362, -0.13522011844273402, -0.3673229602037706, -0.480949562810228, -0.10472078635747041, -0.4413643242857684, -0.1358382889893288, -0.08732532087640714, -0.249963436640931, -0.0378725134830023, -0.6810370936915243, -0.34836950696533653, 0.5759576773085473, 0.6300287644611041, -0.12305416919932606, -0.06020244172029165, 1.0540285820401307, -0.07102504238116335, 0.28051161574605116, -0.19788762270052088, 0.3026992147218055, 0.2297174796899705, 0.32769294712604463, -0.1446125882754257, -0.10319926224483934, -0.19021644620297593, -0.04818358728914186, -0.4950711125870246, -0.09316323738943498, -0.14091342931666453, -0.16971549407936248, -0.019884595054728497, -0.054220463160354046, 0.2518151349953736, -0.10728916193473692, -0.40619653958366414, -0.1631436021384195, -0.26942303470989015, -0.0391565911971964, -0.10693599161722872, -0.07369390586430079, -0.053576146938520745, -0.2486025367526254, -0.11003767662214807, -0.07113897813447471, 0.2945267441387364, -0.10970875933085299, 0.25299348211602696, -0.19503766607440903, 0.3371895584296697, -0.031163250078252918, -0.17329857083677186, 0.5516842337084386, -0.10230585070731214, 0.17008898215668292, 0.4658476274581701, -0.43210943488293996, -0.3960491079622471, 0.8186266479345913, -0.5638180713795025, -0.07479429046296744, -0.5631786395267225, -0.2076738155807958, -0.07681781027794381, -0.13021352128153385, -0.03113093732039139, -0.24292452776198598, -0.21121665973838094, -0.049905929499674304, 0.19260966221890422, -0.05359366825199517, -0.04453597119722801, -0.07482793476605139, 0.8209091332475938, -0.14014643709245098, -0.0674485860941696, -0.09183590742445395, -0.401018753363807, -0.09967329068363423, -0.22209839129712183, -0.14467383399673223, -0.1311338871369354, 0.1387411595575922, -0.27416526135778285, -0.05512609565142083, 0.0011499224473011022, -0.07404375373971113, -0.1915469203473972, 0.8743248393088376, 0.2948790921495131, -0.05150338066968278, -0.054710237099330206, -0.09859046829514093, -0.039448945833226105, 0.22949262172712104, -0.08398414313465251, -0.12030663656358423, -0.09680386449524894, -0.18615709927324028, -0.2967492263270617, -0.30919275902073673, -0.5859641501591955, -0.23149403886484662, 0.517953281021704, 0.08442901291637166, -0.11194957777872754, -0.02255296424473308, -0.2106104810202419, 0.29795670278800246, -0.13484092653284746, -0.17755463115459924, -0.12752736250846416, -0.2269442548482681, 0.9141048769089943, -0.12864573640866325, -0.13548851435176923, -0.12127023858972834, -0.06481276176536793, 0.09899160382083451, 0.589570199952595, -0.07775689343701271, 0.3710659546169676, 1.0530707693764885, -0.9109152820430854, -0.3255002498855283, -0.038864687744965404, 0.4476022416373033, -0.9197494439859336, -0.18469815066669215, -0.07260217604395511, 0.2502804049849057, -0.056024480539545125, -0.02473731216398644, -0.034818904413755805, -0.10969451257382733, 1.0096784353601664, -0.04904751278457452, -0.0735142516974835, -0.02460577694800637, 0.25203209430929846, -0.028934912763706022, 0.3966278883829152, 0.386919253983541, -0.021926954688675494, 0.05417749865239479, -0.17640738818686025, -0.09686060406748431, 0.44330882264769744, 0.4532889308396597, -0.37104280840034654, -0.028993101218967702, 0.2888149526504877, -0.05279659284348724, 0.27420549460833366, 0.37979746683126864, -0.04977010219074145, -0.07757589170196055, -0.09925856482805634, -0.046379496614421784, -0.02016884168563876, -0.13549241604086004, 0.13536014083635126, -0.09135746165020693, -0.1452440170421529, -0.09842421626502915, 0.4365020576852328, -0.054019991547676345, 0.520766320914323, -0.10169571671649456, 0.3128594350084909, 0.7783615737903172, -0.063077815789675, 0.10625892924358579, -0.2880447521334784, -0.20646322100641784, 0.6338980394910405, -0.24914808401738775, 0.24687484288745665, -0.173319299638126, 1.2412179886480477, 0.2913583532479168, -0.06419647958410785, 0.05732285689067985, 0.0018698220176293846, -0.10169615398459148, -0.014708650273857173, -0.016526704874529667, 1.7008558109036207, 0.7039839542144255, -0.053300827985438726, 0.9547813743580107, 0.02793415563355459, 0.6586016212889955, -0.09856754085559591, -0.07167991089302257, 1.3709828738509529, -0.24799668130824112, -0.13488470906997682, -0.6439455020043771, 0.30508437151049445, 0.3982838432777299, 0.13389410445196293, 0.46518053458811304, -0.888021198422461, -0.09542340399866565, -0.06193230137054833, -0.21614514439952073, -0.33328600864361624, -0.14148774430851604, 0.8957618141801382, -0.04976141675831867, -0.056450417825348216, -0.03269212274927842, 0.4431424269542247, -0.16322986311280255, 0.05770000860181931, 0.5036378871871094, -0.0860142699852513, 0.11599649812545257, 0.7959918336733369, -0.05440633943746933, 0.20905014170646408, -0.10789187061194334, -0.14039225756774695, 0.034173996359027466, 0.12402073872029276, -0.27624904139450024, -0.13973904293069153, -0.05472581819574651, -0.05684263323723625, -0.0868775827616335, 0.6603017550101645, -0.07860688369883768, -0.054275937668086284, 0.24545890749842014, -0.07244086466208462, 0.2601623841867835, 0.1822087334861544, 0.15595176577500341, -0.08001513348042344, -0.11753735992554343, 0.3413989189988055, -0.30738579529767784, -0.2749674763829678, -0.2103314583069458, 0.22665477917781632, -0.2295990688477317, -2.5262733718641126, -0.033967746735060145, -0.059577828723836976, -0.03614854230342564, -0.09832116108999522, -0.07560799749255417, -0.03664776925663664, -0.04406340809840932, -0.019977755734634794, -0.04746191388628825, -0.045749955178006334, -0.10054757431600946, 0.6440178656985497, -0.15062500174800808, 0.29753297645665894, 0.6697386858910278, -0.08521181142966155, -0.09266305384336913, -0.2996181639668997, -0.10400629689173442, -0.2761688379192882, -0.08462989853203431, -0.0493678645842451, 0.05039988115634807, -0.10591595585880974, -0.10565043656867143, 0.6894676384048514, 0.07417068492580291, -0.11510311395837566, 0.2730642638037558, 0.6063047818117754, -0.12333443946181027, -0.043431722897807064, 1.2590591091029812, -0.15494352703293152, 0.1549690386827794, -0.3450466056240086, -0.20244553034178314, -0.3045250031987146, 0.5492327850707411, 0.22117165423884483, 0.38714127851784236, 0.3379496063793728, -0.056111404034299005, -0.05988152362696092, -0.08101678683235754, -0.034001295596583075, -0.06724969687986182, -0.10265701884050606, -0.1449358413621378, 0.27985829434756315, -0.1189674488159013, -0.08871460521133333, -0.08619494704568957, -0.03505536259053764, -0.33703627652603246, -0.11803933193766902, -0.37477487158789874, -0.02931177692526398, -0.045118859104545245, -0.06483585431904543, -0.14259437171189207, -0.04152359576501904, -0.04231177671680032, 0.03540633031472556, -0.13109399671700944, -0.07326373615539605, 0.4978202893410929, -0.1387318940291444, 0.47414680439784906, -0.02972705332092983, -0.20364700516493286, -0.061954452635464834, -0.13811097128851835, 0.38830951984443624, -0.22130724278061048, -0.07667230651490971, -0.3119315788792907, 0.04089852032681612, 0.7154391342324145, -0.04132935201049211, -0.06905192965517828, -0.12814803458529472, -0.1787344070659974, -0.13772106928960615, -0.20206743191176488, -0.09395292786842833, -0.207648332814616, 0.031439584737113266, -0.13989428354999456, -0.07515045708405169, -0.08632630941682401, 0.19722576447535153, 0.7897580894977502, -0.04577889333093923, -0.04782966277974169, -0.17522994326943012, -0.0875049745659966, 0.2772953009339644, -0.10299160848373166, -0.05489034199948373, 0.49330327050791534, 0.18766664261892996, -0.15268262204656596, -0.36312050988735517, -0.3590343723857637, 0.4690328274169762, -0.0631939188015074, 0.5538287677984888, -0.05760082615492237, -0.23029927066456965, -0.14470761317706293, -0.20710995895520462, 0.6088133747965002, 0.7305001081155686, -0.39772258333491517, -0.26198636177894397, 0.36514147406554776, 0.47462434194925723, -0.12797070820101772, -0.12486254582991803, 0.35640186564352194, -0.193507328939122, 0.14876656732303659, 0.3111084965414564, -0.1539856976697681, -0.024719680509459437, -0.10827412001867459, -0.6677167795712307, -0.04116783315241377, -0.1452918715496809, -0.026067226262251074, 0.3658993021103205, -0.029641005806270573, -0.019246575165153847, -0.21921280878655747, -0.03222779339659045, -0.0758602044854026, -0.11477739866322899, 0.35452691731624836, -0.313209227669738, -0.1729524773132711, -0.44482689294465655, 0.34945112379288645, -0.13142108876031786, -0.11675418528712535, -0.08768838762420442, 0.09196311711568846, -0.37476347939324556, -0.10995724262771585, -0.8002439854858652, -0.07101106142101121, 0.1653943503038477, -0.1793640323756391, 0.6908425855373242, 0.3973775119836438, -0.030393337665916193, -0.0746578348760069, 0.5982151494780988, 0.7548700647890361, -0.08175824407238293, -0.14979424204093106, -0.20011986087525382, 1.1106887934785408, -0.24874223540339227, 0.13349649884300685, -0.05284210921229423, -0.19167759821905042, 0.137545874035918, 0.4273535738272067, 1.0694317117903263, -0.21230894539218548, 0.6089204402206688, -0.13115969076146478, -0.14778713250342693, 0.2349443602572552, 0.42327187892051515, 0.23492749307512567, 0.22195596116515648, 0.18015659353789173, -0.5176650805198765, -0.2609488139970542, -1.063173421501125, -0.03191001657364376, -0.03318278802085552, -0.1825221189595098, -0.06829861009949247, -0.02624480126549602, -0.012865763369230405, -0.05596855836534718, -0.11015596713904684, -0.0822489738282967, 0.12852722756225715, -0.08791196005706767, -0.038614935256694356, 0.3825972424346329, -0.229632124481212, -0.10475871167952092, -0.1392507263689021, 0.1010857270340585, -0.05196973280124423, -0.07733513509797221, -0.07947515672843536, -0.0707882776568954, -0.12584854868179773, 0.9788812381222868, 0.9825014872969046, 0.05913416358877134, -0.06027814126824835, -0.12826553187327425, -0.08165403539339304, -0.09176295792790296, 0.11236302711387915, -0.2126546370595683, 0.4134555843916536, -0.20684892796433058, 1.0386720878222104, -0.08569394493345883, 0.13140717168207308, 0.10368410960520713, -0.2827132102804991, -0.0717280022194239, -0.11651847582759696, 0.32840000784441903, -0.1384060845983344, -0.2838744738089617, -0.12680753685672363, -0.8417581720216131, -0.12103340495567204, 0.285919353352143, -0.3541142354585683, -0.0657620288288764, -0.12935882951140756, -0.2453836590992473, -0.06718290132217992, 0.6106987296593434, 0.8537289414102031, 0.7503925699917574, 0.09736895728360176, -0.0570104520221041, -0.045514728913321825, -0.0651247973472184, -0.04178855050497076, -0.09201196250396823, -0.28444824762489834, -0.05088042925439442, -0.29827812082456023, 1.0704170954039127, 0.2875056022774546, 0.40883159483220544, -0.0719264338809186, 0.43406705261847467, -0.3991165078889979, -0.10155503499918607, -0.2162276440406984, 0.7579057370398118, -0.07953598463147742, 0.030270699130745326, -0.08443498503867897, 0.18788768637839137, 0.471742904389667, -0.1309511279036772, -0.11148924724721704, 0.367180504555166, -0.310716021868092, -0.0902681442377418, 0.2833555256380042, 0.43568044250304444, 0.7207775532154969, 0.4656346503287411, 0.3797979301908875, -0.06049158851990021, 0.3164617456980582, -0.2689603674822087, -0.08563552852157987, 0.3519616467535357, -0.23668756988206902, 0.7237255175170175, 0.49626847554819464, -0.4325028091405723, 0.8238099263006098, -0.056079370035645386, 0.2912309050686887, -0.0664841517593692, -0.3801152072021227, -0.07656540892379747, 0.09533580293539957, -0.17471229810382355, -0.08334250652304247, -0.16895827882046993, -0.028026943995350922, -0.49147197996853004, -0.1348613568893284, 1.0621108259034042, -0.714027710337052, -0.04521065783791525, -0.19049936261181816, 0.24288804413904835, -0.07116060427376182, -0.07773495270547004, -0.04750197650924681, -0.03782192622816603, 0.2552248423361191, 0.6995231777283347, 0.13418843972016545, -0.11566525746214486, -0.05680826350612965, -0.34036488364587597, 0.10976379374356222, 0.5796893684856528, -0.17245176254190897, -0.10905440541009338, -0.0983369643919228, 0.2368282454659355, 0.14027917066270995, 0.8689761821698146, -0.06997717907193707, -0.09363936522987748, 0.029845359248981088, -0.0595778208201444, -0.1518849539601868, -0.15249303837632333, -0.371643700145954, -0.028230519631915054, 0.8876584464949311, -0.19733347832150724, -0.272133652205608, -0.1514652823518487, 0.6325384582882299, -0.09531100651970296, -0.09695298962415089, -0.16165006078152588, 0.23872565249514313, 0.43886512262984495, -0.10992042346312675, -0.2370320750190592, 0.11515492456118229, -0.010829375409768067, 0.33322173995843535, -0.23807453581117494, -0.05930204416855827, -0.04734849918635946, 0.776934567133471, 2.03463695713199, 0.408636788392225, -0.07042216054004312, 0.5983265942101491, -0.17027408552774526, 0.28010014165500197, -0.07349113034457481, 1.2857822882631558, -0.2794870604388084, -0.3269492717315499, 1.4264524071754425, -0.032876894961030446, -0.9514454215694138, -0.26706946879070015, -0.0816114067853691, -0.10902361938405042, -0.4054773037130092, -0.04545131451801781, -0.04757677086525281, -0.08834274891597627, -0.1864504754761183, 0.3025546537870535, -0.13029954709815678, -0.06892133205378538, 0.3248614772720997, 0.24582459093935638, -0.04679344462568491, -0.06263965385064346, -0.08935234141188296, 0.21213516263575471, 0.2792441627778957, -0.2158456979756562, -0.18523535514802308, 0.4130215065420559, -0.1221596679878298, -0.15596762676618398, -0.13617693500836858, 0.3673224498717821, -0.08501981626967038, -0.07976978714917879, -0.06666692267020134, -0.03846480176731467, 0.5958738990575999, -0.09439460879636262, -0.5806287871282164, 0.4380358036968363, -0.4427108140669413, -0.11102550563186567, 0.05647704900752895, -0.5832407405684034, 0.5359529020513949, 0.10041099022898907, -0.20273969810014386, -0.13481934976741833, 0.2005574529753254, 0.5958738990575999, 0.08744878565189691, 1.3214278671822124, 0.7114730945850685, 0.15078043397728294, -0.29001215359849153, -0.10595726578183218, 1.3272441575320235, -0.15903764073784168, 0.28734576607367773, -0.19329584246549705, -0.17134259869049423, -0.06268485002105456, -0.09973441366866977, 0.7201196611809776, -0.006632583713343382, -0.061108837396071286, -0.06453269157144388, -0.04993577200393666, -0.049822324871698825, -0.038514689942761964, -0.07324835869213148, 0.45049847502079976, -0.039681467242361226, -0.042465857523488804, -0.07442874766241138, -0.06089923337989084, 0.16551332745849096, -0.17023106063375523, -0.09453347963494121, -0.12705525172318097, -0.04355211420434534, -0.136737394814237, -0.5745784825638449, -0.041229993609814414, -0.04831969786896333, -0.03150939725444621, -0.046289317506713015, -0.0655583264511592, -0.0545716760295021, -0.39246559909921347, 0.18839167598477055, 1.2040339413343406, -0.04477753065569129, 1.3117241422087593, 0.1630350793491787, 0.10015465617494233, -0.09234837581923616, 1.226669218691145, -0.13015464386261, -0.072200582157044, 0.20705977238995332, -0.22488680322760973, -0.058553189108038174, -0.06234866603953787, 1.239198838260401, 2.0753982217145737, -0.42427495695933115, 0.013002304015080481, -0.23705256420393397, -0.061093716548044276, -0.31895531053384585, 0.013660103891222445, 0.31776634836517953, 0.6021804631397313, -0.27236243878112026, -0.5882346749408224, -0.26467851524465835, 0.6199437218788276, -0.04849732360150734, -0.06508614850992422, -0.022374553939741745, -0.07749306155098794, -0.03995499691800044, 0.12406641263805208, -0.0953786792992732, -0.09775674331525933, -0.05344160640406199, -0.03688429468209855, -0.01684680986460558, -0.10476455130509336, -0.24329994991360118, -0.4614239017250767, -0.06392983949082266, 0.8930416288573787, 0.9227920441716204, 0.3980162110875235, 0.09377726393643768, 0.08399193271523601, 0.08320079362917424, -0.030644768281928202, -0.031883765003835975, -0.09165379325662977, 0.27656685706657097, -0.05825643146849809, -0.0365275143187794, 0.16555721689467273, -0.08147154422550426, -0.08209480758004604, 0.299906462511325, 0.10777802045505176, -0.16310159416869108, -0.055461455970022555, -0.17311773736661942, 0.9392611177227748, -0.07948327457137626, 0.0673187277827278, -0.11744205129343842, 0.8345332931367281, -0.05716700537413997, -0.09461998129259884, 0.038675528052714445, -0.27488077716542836, -0.04545851443041364, 0.2542090820830292, -0.12736217291248234, -0.2517733119780399, 0.44414991098753465, -0.1572286514782537, -0.12485762863418313, -0.12468238832805355, 0.15528427172493986, 0.6977777849947969, 0.1320890054547703, 0.3993248792652857, -0.04302665907330961, 0.28095311691287755, -0.286214466507367, -0.31075828615093304, -0.144351385842222, -0.09672030181010195, -0.08715506281230999, -0.11364092672676677, -0.07528595130085809, -0.11766633665635483, 0.9132060196493706, 0.33905092153270905, -0.01901598743809406, -0.06708054608038809, -0.18036267078932255, -0.03486251584772281, -0.025168283388965703, -0.11472401652223586, -0.05438047321753403, -0.2507606389864649, -0.06000162701888646, 0.7436961429817557, -0.08353534451187515, -0.05974535815064936, -0.04219207924116088, 0.41598892435717244, 0.16199395360275962, -0.06506218915810659, -0.14198975258609803, -0.03835322670825745, -0.04640250633832145, -0.10175191873735437, -0.06597781949513953, 0.335417541860184, -0.27542620432440384, -0.09267343846823001, -0.07823371314521022, 0.07506715565690014, 0.5839140301130401, -0.216067161957143, 0.20915754766610825, -0.131232373409582, 0.11426723611621899, -0.1349011559806515, -0.10716219107006852, -0.1389641763965864, 0.18537895245019323, 0.5698898652228704, -0.16351081441884516, -0.0686391015452507, -0.09072032337093147, -0.023874338992773265, -0.159183783065205, -0.09020484682451153, 0.3945792210625662, -0.049478722957557446, -0.16878789449103632, -0.1407005204731488, -0.8025698347175998, -0.05210882740188801, 0.1396716820144687, 0.1009171385304794, -0.2497868733269562, -0.03290058097276119, -0.02827238054722071, 0.46559586725587393, 0.5439400739934785, 0.10635867059891606, -0.07427802124102831, -0.044454255296715046, -0.18324242581469927, -0.04790407833951665, -0.12358661235081735, 0.4400400945829743, -0.29526567719320596, -0.04887227669520407, -0.07073551911450346, -0.042892527708854516, 0.47164929485542906, -0.1441866719878398, 0.29807465416773454, 1.1816854675667645, 0.3224877903208089, -0.10988875863774951, -0.3714325668028918, -0.37731461123965593, -0.7089207637616174, -0.03608347861764591, -0.2616671574521482, -0.14332914623293866, -0.1269271390964379, -0.08718900606907137, 0.1478605251202913, 0.5170518876920827, -0.047083947704545284, -0.1878925220185843, -0.29067921589533663, 0.32093053392234727, -0.13411163270271861, -0.04518446098896245, -0.04807741179319427, -0.24024932606354224, -0.2982172129103612, -0.14182062172584436, -0.3465921151043123, -0.18126280286768148, -0.04963476736252986, 0.3807399810353787, 0.7231634544164325, -0.10832061182163119, -0.11268288232472304, -0.1335137668924792, -0.11831090922810691, -0.06974572463228268, -0.035607920048559505, -0.08244508057907715, 0.06046392659697821, -0.019679740310898114, 0.1733379157199323, -0.1389014315330996, 0.3351460720699324, 1.5470683367210611, -0.0900738041223724, -0.10223698420642764, -0.15109084895466182, -0.06634413680033242, -0.2307338954784897, 0.13313622773797937, 0.057009053997980855, -0.08246167015667827, -0.20061435886675597, -0.08834158324000849, -0.019909310908727423, -0.057187440256084944, -0.09398457327924849, 0.07311489097498881, -0.10597990004666268, -0.019909310908727423, -0.15952817797026125, -0.1002068424998902, -0.2230755555540816, -0.1067655637725553, -0.4532244224078717, 0.35420838439963803, -0.10572782485881453, -0.061359130526298156, 0.25027068926945717, -0.13369151185272454, -0.09799784967532028, -0.1680504808883616, 0.3543221713013091, 0.06500496042456042, -0.0598791065831517, -0.07684783117359623, -0.3149547362734568, -0.08794339219434624, -0.036292933265994115, -0.10102916066598859, 1.194097563216702, 0.2122661994260982, -0.1642810285415031, -0.2718821672044593, -0.0707518569681891, -0.4434777756526945, 0.05868116064758595, -0.08169892706858901, -0.15415439113760754, -0.11536924029836165, -0.07941653758382466, -0.2812146155831753, -0.0343857622557818, -0.24256090519529666, 0.3830856522281724, -0.09441340668619112, -0.12823764703959625, -0.11264865679660123, 0.9513136757318255, 0.19457138842314659, -0.11802131770735177, -0.13876242681728193, 0.15577568270614672, -0.16283330136645324, 0.05711085963458279, -0.17026335992286026, -0.11367484368120012, -0.06642176976173567, -0.0492097706361911, -0.3563935339737981, -0.020402731143496423, -0.089471020034387, -0.12846142324964294, -0.05483209473840843, -0.3050708215486577, -0.05932592979470594, -0.03655624820145678, -0.1396717288230005, 0.48687248447226505, -0.05557641934025073, 1.0931757443225132, -0.07897707539244486, -0.04003283876183366, 1.0685947158115443, -0.06488078361568032, -0.08437824515310748, -0.029318271231534142, -0.07377549834695693, -0.20985750105290887, -0.19191414678135515, -0.03889613518883253, 0.3154132692147637, -0.28977309749565344, -0.06607033134000166, -0.10612458510493644, -0.04672731124992854, -0.057069407095815566, -0.027855204741496213, -0.03402924227665743, 0.28073726510220676, -0.09577789427179373, 0.17870208129964227, 0.28670862228503796, -0.21776675461274803, -0.9057814110055389, -0.02135601596576295, 0.3002325988231805, -0.11739752073330728, -0.06028021844354796, 0.04932969732266215, -0.30207507372643594, -0.49435764480832556, -0.058376411643428626, -0.08471786116383326, -0.16074087165049547, -0.32685211628259375, -0.029326581626451943, 0.5629439206089157, -0.04038930837796247, -0.22370343589349234, -0.1468819869769104, -0.045094032384752646, 0.2641403490877917, -0.02143606963463535, -0.07088710898429568, 0.5952916777935318, -0.1443208551497602, 0.11071132660561099, 0.2033084967776516, -0.12324662164891882, 0.23266895870398416, -0.24894810228563719, 1.5196756824093562, -0.18894309381805446, -0.11688869301283346, 0.5022103262439173, -0.10661053449272338, -0.09725959355551334, -0.01576000438908027, -0.30421819188920163, -0.3970266410389103, -0.21240228715529366, -0.05796776658270326, -0.09765825569737757, -0.30059058605255784, -0.12499793319576985, -0.09627604827698488, -0.035050426460998256, -0.07426462562968861, -0.27694542890358725, -0.13564459937701778, -0.17322957954092053, -0.12047942551119724, -0.11437400302744707, 0.5914913582747654, 0.4025369646466692, -0.40762433544062143, -0.18855516974439984, -0.14556203912031937, -0.039404784223570376, 0.10256855142161819, -0.3404384162975663, 0.5381319153602908, -0.04611485913135662, -0.18012949243737453, 0.25154474582208525, 0.20394680923227884, 0.22629206517052858, -0.2578897644097791, -0.08621226483616501, -1.3419706478786357, -0.03218418851117233, -0.03525788592533229, 0.3852763666103607, -0.033728478442421904, -0.03289418176778488, -0.10645498159333483, -0.10353510004902278, -0.027463815811941607, -0.03643978555457936, -0.08604914752290867, -0.025140113324116715, -0.11852066279796417, -0.04071766711436395, -0.09196921664808672, -0.07953852487810768, -0.04656675030274653, -0.14159097257475775, -0.07917940791045076, -0.05109197316227361, -0.031576192242453394, -0.2753640353745003, -0.048899728897271254, -0.09154829346088238, -0.25649518865644844, -0.17877413625753544, -0.13050707427462319, -0.25083066190394554, -0.19111549106466577, -0.04227597778093028, -0.02265259283321116, -0.07924140922755944, -0.035007567815056574, 0.16208284292977676, -0.10695914998602812, -0.4556650027993373, -0.40498940237216896, 1.009499386738277, -0.1254611206912505, -0.7367341563233305, -0.03594127613444752, -0.057590296432032714, -0.07076068390764893, -0.0775994093887919, -0.0634483829082519, -0.1112098769875663, -0.03519835877819349, -0.15396643790130535, -0.07291252794826032, 0.009523327742410288, -0.10627249915980547, -0.044313006860875415, 0.7463998640478547, 0.3004792786051113, 0.5590675254637165, 0.030876139987860138, -0.08052604891676766, -0.03040425342502758, 0.6231875243678542, 0.28123625735261426, -0.044511726235383395, 0.23435543479611137, -0.10441539740960759, 0.13100600663083276, -0.11540133376606926, 0.057795790857587105, -0.20621241860610276, 0.13549105967137087, -0.2882193552909346, -0.5566715658839658, -0.22146761233937104, -0.003724333371151244, -0.10272141696176816, -0.07109849601815858, 0.979473234834275, -0.04835822564125153, -0.05734159241464395, 1.4925932904368764, 0.29296777525296663, -0.017518202432977026, -0.3262950434846712, -0.14070107593608558, -0.27973526589565806, 0.25461590461651046, -0.04077250767210546, -0.154331432367588, -0.16855409127791998, 0.14224154344321566, -0.09919193168887903, -0.06192286211054107, -0.11434427692274467, 0.1457120240960715, -0.12987954374412378, -0.41382470227807977, -0.04150271630583709, -0.15296692052618782, 0.24274561056050126, -0.09875308510458965, -0.19458813766586314, -0.12290201804529988, -0.06356464092202752, -0.06666496589052252, -0.07590909102459267, -0.1684307820629308, -0.036869950612519645, -0.10915234251575365, -0.11896224003229275, -0.10928162543157005, -0.025500457029399747, -0.06758084563315511, -0.07922849163540466, -0.061657704985503006, -0.08715423654576657, -0.027150897998174106, -0.0410515097318227, -0.030426117976597916, -0.11896357684387461, 0.5000456488512165, -0.08519516167296774, -0.1075601623894788, -0.04684695261276002, -0.027509558994855382, 0.3816959135889093, 0.3627681629636553, -0.057646169900544074, -0.09086233082182686, -0.2729431936401729, -0.06978516098749944, -0.16018896942982652, -0.0722213694706484, -0.15543828677207003, 0.36480835666693806, -0.11224155348469095, -0.038925967465168666, -0.20785090336179335, -0.04661116535024982, -0.04554204861766609, -0.06577878188806224, -0.028383337020801043, -0.24764913795805496, -0.28487770997650985, -0.2606259204735848, -0.04440206246115284, -0.08145324734686668, -0.1387898135334765, -0.3512368668728237, -0.1721651814764807, -0.1139363647391361, -0.24546334657439997, -0.09708929723188944, -0.2546145495351213, -0.6189716250404423, -0.04548659894303531, -0.020645234284227598, -0.3007477301277323, -0.1668513263568972, -0.04878463330823921, -0.15885713140466765, -0.19276723708989107, -0.28773348435254337, 0.3160004088058275, -0.09437487091911538, -0.07019879154013327, 0.011199595745642704, 0.47814601034197735, -0.09061062422564489, -0.09324243171272474, -0.11676390752012605, 0.22303137602957307, -0.10147904483851101, -0.15450973197654513, -0.22540721077237239, 0.15742923170677242, 0.42303675073545133, -0.10676550021766885, -0.15411222149182413, -0.07353092242395322, 0.5165580423092127, 0.6307426101933937, -0.05497461382466394, 0.5900516399327033, -0.05948112912460924, -0.04077425556043806, -0.12145188495534424, -0.20783349375226653, -0.04140183984092307, -0.6023247443365232, -0.40396391516053687, -0.1123479823748715, -0.11303526641006532, -0.0458530599636836, 0.3036485687216819, -0.05864702797832029, -0.10360620263901503, 0.6780987336214934, -0.07796750820374537, -0.31878245574261294, -0.10261377821357118, 0.5715086951379115, -0.816293904003107, -0.18522837842106923, -0.04817822260987408, -0.12875437184194077, 0.45236945641510723, 0.23939208563223421, -0.09934691500448133, -0.05342958726501103, -0.040068697107858084, -0.06038980197651839, -0.02294745112165552, -0.04603275640002022, -0.07900238366970234, -0.06853420105722939, -0.2063917677327235, -0.07311715658515949, -0.1355959147435553, -0.1350900522219858, -0.11250453395436005, -0.20012552703404374, 0.33058845862842384, 0.20443404155970774, -0.07728993645633603, 0.23620819580002247, -0.2697544015527559, -0.2969437355202519, 0.3895835233350718, -0.12603168075193885, -0.21377986332143956, -0.03776277706384271, -0.04901031754861364, -0.08836784520893008, -0.08977670785114579, -0.07920974873559673, -0.08576512650006134, -0.39688074499501635, -0.03618153622319512, -0.09043853126256204, -0.03541640725816134, -0.049292206365968656, 0.3145880105126837, -0.0698591183218155, -0.03836480877311701, -0.15910983061310593, 0.3635877288645139, -0.029704917416066182, -0.08525437871288861, 0.29125014427275947, -0.15364739089762233, 0.21987296753212907, -0.034948483904965445, -0.18426957109851633, 0.230879373647453, 0.3947088741698049, -0.15261975343064424, -0.30091783570858516, 0.5785426690045375, -0.11180564334807598, -0.14648364229430877, 0.10190923282791205, -0.20722341040604594, 0.09922903597221987, 0.2348279264662811, 0.34942887357854246, -0.32803734508883364, -0.007505566104707191, 0.03101850522572636, -0.07032286466351129, 0.3980190487431814, -0.0737060696673114, 0.2873286370484317, 0.22143128009352492, -0.09456587019699192, 0.2540394492712068, -0.062353781144472126, -0.18235698177309886, -0.09329766798070024, -0.10439655929565494, -0.21047830993886024, -0.5076474209980011, -0.5854576929365586, -0.03998625017655394, -0.03706318517305566, -0.18578182464991894, 0.7116414700103663, -0.035911237401652786, -0.04656832754344235, -0.46443941400134897, 0.3142635143032065, 0.2522154214452488, 0.3039624927401171, -0.0998977770121764, -0.071713375243845, -0.02639664969202278, -0.10939240166706835, -0.08201408313264523, -0.1630478849083305, -0.06215841726008585, -0.06401663255846048, -0.0284889162972705, 0.29064487909506675, -0.08349917226225093, -0.02616463992367904, 0.30968479445220926, -0.07066821771442604, -0.04292684266779284, -0.15818822158716034, 0.08551626905687207, -0.15931661940374373, 0.3252174251585434, -0.08503814018862657, -0.03532983665562366, -0.07801087767538603, -0.11982110705174856, -0.0982590132325747, 0.6294984536546406, -0.1337159234379149, -0.0903460733865266, -0.04570671553431307, -0.4808805574766888, -0.18124218056616656, 0.6774798638429096, 0.8156418631796697, -1.2168076181392449, -0.03484563996012109, -0.1121344091815605, -0.023669459665467702, -0.0500136885826284, -0.011948688221571368, -0.03160285619321295, -0.02887730809030641, -0.336786969973125, -0.054689053388861146, 1.2348480919622833, -0.35587286949566777, 0.5651334736158659, 0.4235137316461417, -0.4739789270249635, 1.9031128100276473, -0.7066420896351, 1.1326018242392601, 0.17723048968368196, 0.1597665352747385, -0.18623754738264245, 0.5500606659701098, -0.01404037227081359, -0.25630727518813456, 0.07135986252724916, 0.05932255490906761, 0.11173703542337123, 0.2606744391558108, 0.3970659246997067, -0.1301455346224672, 0.9534618339817882, 1.0834865762411827, 0.3888345386814666, -0.10641108530633633, -0.19454725600089492, -0.19366135875521193, -0.12975509726681195, -0.1357127339496132, 0.7293063750460761, -0.39314159705133433, -0.15256478282173158, -0.12925274019827399, -0.1640963873755168, -0.3946098692131629, 0.043046313079399934, 1.0058940309854736, 0.32892405728829693, -0.049544588471440186, -0.12524487921934077, -1.000215629165401, -0.0244678291882877, -0.03992891943966057, 0.3833236980794663, 0.2579441927325763, -0.05512067151125853, -0.04136880608819783, -0.042081218169864834, -0.07157935566118385, -0.03433261324118013, -0.019185873741536824, 0.4311041364601489, -0.05385506140952336, -0.5411009496630146, -0.05013038137857466, -0.05123999880966492, -0.05751354949126576, 0.3048441741393886, -0.023105484167816055, -0.043856469694878546, -0.04838348121224262, -0.01933948504643885, -0.0523052247484854, -0.05782453686399487, -0.045765590724209416, -0.17456551495738645, -0.06677909510297651, -0.02506760627676641, -0.13982214514951896, -0.015894748087067548, -0.14867244378345892, -0.08858585867665993, -0.136547397914459, -0.11932177275458233, -0.23766452653045392, -0.10664850462876639, -0.11314592346884206, -0.03581608528914346, -0.12202519877604542, -0.0929632499620491, -0.2143265629862745, -0.3444290298467864, -0.034119520283914455, -0.036876476468077374, 0.3915526772772626, 0.31829030036197775, 0.06934868815010382, -0.05215075090342587, 0.5024289777321438, -0.12048374857955205, -0.6206974796516086, -0.07754075956767023, -0.21385977507437542, 0.3465545740382208, -0.17508078064001345, -0.09127357975067343, -0.08894650489540679, -0.09390130808556275, 0.7049252054225267, -0.32691175048520976, -0.13270522996299258, -0.4236010373035848, -0.10081990968364739, -0.10287654196451906, -0.03256084861518474, -0.07806520894490487, -0.061214832954150575, -0.0030895475798204384, -0.044816297205191535, -0.06551733340459594, -0.912485424172035, -0.18666867695075437, -0.014910674358903616, -0.07337883497025625, -0.10641482758903906, 0.5669760219908648, 0.18296680738668344, -0.10592015856973001, -0.11345810351294987, 0.911431704709651, -0.028671495374535786, -0.27478308605720175, -0.15079593922286752, -0.1004815188438985, -0.22063551196864015, 0.2846047565256011, -0.16411917721833988, -0.2063643952628376, -0.10274027927465461, 0.516780009112983, 0.09786856661224118, -0.04866710179489655, -0.27141512386869926, -0.07732752931588918, -0.07116554496262886, 0.7883365542666251, -0.07385772624952319, -0.06723130476168736, 0.38617613471858725, 0.9346399489886372, 0.33171002623500045, 0.10025281159400565, -0.13589052010214447, 1.3694071576250932, -0.08437379984773238, -0.1713816216176952, -0.09382911872941894, -0.09276631350689112, 0.43961237436762135, -0.19586681281493998, -0.10606457271281042, 0.0960838371295635, -0.12456502538060912, -0.3935902175370118, -0.13289331380762157, 0.7086977426698623, -0.08855658018904626, -0.07234749820537806, -0.8225559962588148, -0.0698646776848017, 0.31792260313595544, 0.11831347468406037, -0.07181614373738501, 0.43156358397913486, -0.05553145045553178, -0.9935460864369036, -0.06685329780856222, -0.10624986371344249, -0.1333485091579153, -0.11460674240643755, 0.46116405256510135, -0.4709438815765698, -0.18036278703393016, -0.036988960558740666, -0.07312479140279986, -0.3349061699475028, 1.0760634228888497, -0.10855021292577181, -0.08118301712803466, -0.17477747328484608, 0.0709390486807727, -0.31679308560713637, 0.6186638860759927, -0.35228214430949656, -0.13265840364107426, -0.10759869747735151, -0.0946423576081845, 0.8232979573224177, -0.12120365319499198, 0.3274017835956373, -0.06773164936665352, -0.11976981269773908, -0.054072215487144505, 0.19766177382275954, -0.04335505585521995, -0.15334314549765993, 0.5484615714639292, 1.2527620321257902, 0.7419545550329657, -0.29559898077277424, -0.03504737830978736, -0.08061444605205319, -0.0959371061902041, -0.15363204884049572, -0.35716780113182844, -0.07218739216146328, -0.036683127370466286, -0.04677179450603266, -0.34664644292215835, -0.05631952445948172, -0.14242494466145542, -0.032645942224825295, -0.10042927415900847, 0.2568386586399623, 0.3458175010763269, -0.084182519497039, -0.10756372001837824, 0.20599704131757854, -0.1865237729989635, -0.2143920563763976, -0.12312662194904488, 0.28638324109251023, -0.27104555357898624, -0.04668892443148369, -0.2001855737371478, 0.23502418092719632, 1.0298799438713635, 1.3717482292540293, -0.05921760974232026, -0.5861581607412099, -0.18406048610542736, 0.716107440974539, -0.03592049439444059, -0.16647235593700718, -0.02792722470262302, -0.050360247173724254, -0.11161614630177337, -0.2807026185706311, -0.1461585750818199, -0.021267557172230955, -0.08958166491195382, -0.04454046389911495, -0.17863739489368896, 0.574531848244511, -0.12175626181687962, -0.1249698026108581, -0.07827211428985159, 0.13078044640046227, -0.06378908707480357, -0.8409580882870543, -0.07630821084265735, -0.093957456114717, -0.16239796857607972, -0.37439489278647026, -0.10006909014413173, -0.1211927954303486, -0.08059268407170196, 0.18531624970279292, 0.24344466227157374, -0.16031346556360054, -0.30426931203296687, -0.07601702217221194, -0.14181934972738894, 0.2532998124151791, 0.17773737501662742, -0.12109162551980315, -0.08212808623515488, 0.6087494291746586, -0.11200435513542074, 0.08484957710925749, 0.5534495533522916, 0.5066872417409257, -0.2439862482293063, -0.14016575384869184, 0.9131763719177536, -0.12588173242636547, -0.6336306338029578, -0.0679569377551792, -0.13227248151747412, 0.020201005469839876, -0.05245258586143588, -0.2981461638169066, -0.46817321415474344, 0.21006266914300514, -0.17544033377278495, -0.23273264489738377, -0.06892509014215611, 0.6559722231638219, 0.12588197361206435, -0.3127212181419371, -0.23431132105418453, 0.3611785795844964, -0.2410637480347009, -0.1786161029448542, -0.05652040841563202, -0.9309717857837105, -0.118273402821757, -0.16690095940916302, -0.08338844753110292, -0.17153007974844858, 0.0983291804279503, 0.9708118320583774, 0.6194259477358142, 0.035837271969367514, 0.3470130628101677, 2.1130761058651584, 0.7934157118178108, 0.09820402516596718, 0.12191341868781624, -0.4981550258938316, 0.333613561099949, 0.2610644221648666, -0.04950565280146053, -0.35068895990111726, -0.19614286961812588, 1.3243912407655314, -0.1956245145996995, 0.33043427822870647, -0.20520069596438337, -0.3748533659585324, -0.43681084007006554, -0.20113202947444886, -0.1376689104738953, -0.3586027121856404, 0.24871326632916335, -0.1823720195114888, -0.31031730682182473, -0.07695059831506727, 0.08621417473550802, -0.26282971309571396, -0.11254333238175898, -0.031575341870049886, 0.8393807977626825, -0.045609658618308443, -0.05506852638564656, -0.11709214715556604, 0.0664321056025003, -0.07283872440193162, -0.4240818831876516, 1.063476848137271, -0.1309268016026464, 0.449230566276288, 0.6987174965158152, 0.2600113609568707, 0.6655247927467645, -0.1325507178695067, 0.21887028701700936, 0.3794431814673678, -0.08872120928478479, 0.21563576516660346, -0.025825272999705422, -0.17735077606611732, -0.14412857663211195, 0.1847004112121833, -0.0768196513338424, 0.24290516917342034, 0.015001143656889641, 0.22706979974274388, -0.05729678582582765, -0.10555192651340102, 1.1861563955856873, 0.3340493230295853, 0.3627408698127933, 0.17118633600606803, -0.6973387663478215, -0.8352732597543647, -0.027038729233533735, -0.03976569519670793, -0.25581784914371464, -0.11890663443106012, -0.09596424075021494, -0.05314522903066098, -0.08345038525569726, 0.4138885567742237, -0.10215156843964308, -0.08891420040155151, -0.33683917054233603, -0.07992657158352964, -0.08032829342055367, 0.11505678455933595, -0.05792310011079402, -0.5645796744397275, -0.053059521554062725, -0.24212083633320347, 1.3266291627478384, -0.4303412511487079, -0.20524722598887993, 1.104793495344025, -0.12713218431541237, -0.1825444265781443, -0.20726017055470075, -0.09472900157786528, -0.057401115279261145, 0.025055221557020738, 0.37298073589292136, 0.9499944578099478, -0.23150455944974793, -0.3667857214759137, -0.01803430368967537, -0.21270408918495662, -0.15391623666729926, -0.11985615246857488, 0.09564275025686193, 0.32328915213313475, 0.09175958082838243, -0.1556257860497805, -0.08542079822591152, -0.0220872410967653, -0.0374566042882053, 0.20046290988711155, -0.0011492943850187744, -0.14496951091724927, 0.9546464737645655, -0.06020607365856155, -0.03980797182763513, -0.08498643720750686, -0.2057049944218815, -0.07445252050778611, -0.06974085324842026, -0.07929336987699173, -0.07471122263397359, -0.04889150734167, -0.0593473853809749, -0.020640121470328118, 0.18104296588294114, -0.05562933386942245, 0.25430190741320235, 0.46836016719730583, -0.0450307574995512, -0.07197205752821523, 0.415264698255616, -0.04748647057133713, 0.21058896460480991, -0.061809641091310444, -0.04618599114176996, -0.09322328190827311, 0.136386728904691, -0.036371031336290965, -0.03564247411248867, -0.09032524212849903, 0.045793506531477735, -0.09474317220459588, 0.28659273624091264, 0.5671413783239319, -0.12950253587125865, -0.07069393796418129, 0.4004679890994923, -0.1276074072707217, -0.11752643019865573, 0.31326511063157503, -0.18565521555161163, -0.08049252306578575, -0.09285100791973092, 0.0482992490834596, -0.11111216896667787, 0.2762048027989957, 0.6465984043669822, 0.3120320352614463, 0.372128419301034, 1.3178526619416382, -0.36698088038396454, -0.18223393771310656, -0.08251670733217166, -0.35911213053584495, -0.0848835743575693, -0.5142566468664033, -0.10465092424012874, -0.06514958292401697, 0.22704308851538893, -0.19876451563741152, -0.06843549313801402, -0.6749688049641785, -0.031109344380849103, 0.025093695129132967, -0.20333431738536706, -0.4992307613042306, 0.2862904327078473, 0.6367653684826562, -0.10516270859460698, 0.5173422574016667, -0.08703383028682882, -0.10140949157428157, -0.14344486020544023, -0.05258344827685525, 0.14167919827931913, -0.14042183397238436, -0.044491194261731565, -0.030622448632486622, -0.08555276413668524, 0.6266146593985191, 0.20693277626040021, 0.03144424359275204, 0.3198332933189897, 0.7545198348388064, -0.08442179696400938, 0.21646900926804652, -0.049748378675841066, -0.07458385947255473, -0.10731351432256243, 0.47860548605486947, 0.32363936096800094, -0.05167082630110253, -0.05578146949797744, 0.4001491055771098, -0.042519959061661096, -0.09703227572184683, -0.5021692274683824, -0.418487940044082, 0.0182147529073321, -0.07277088586659465, 0.2625570398320409, 0.15264265153036102, 0.3854543412420149, -0.19429247772825683, -0.2765825207641535, 0.7769193255873205, -0.2594042029086199, 0.5600274908236766, -0.10609955389250611, -0.18323795881380844, 0.8505652724052423, 0.3996236083742646, -0.2550406521633704, -0.0893850272034435, -0.12134432801660762, -0.11060003259349938, 0.16292403829153873, -0.4908640008723888, -0.1519488983782043, -0.061679690452348127, -0.055366648903001754, -0.054555011749517324, 0.06428844156958707, -0.027597520090625334, -0.029357056851175376, -0.15675984538138693, -0.07163433493890703, -0.09118573816018768, -0.09180633722609209, -0.04096137660436993, -0.18475326146894705, -0.04138246550761526, -0.051216194509456, 0.6866034863901407, -0.08070035350923867, 0.3068956929744702, -0.2301830037481571, -0.024937117338220804, -0.13441964701774287, -0.03896058521125384, 0.36841006957375383, -0.06500443689902241, -0.07430162187238408, -0.20489886578358682, -0.027016372611160692, 0.41966221398702475, -0.05604762646661519, 0.2848233704768271, -0.05997506624499784, -0.028767141355739323, -0.08681828793841682, -0.034271656535343434, -0.0599299394346966, -0.00018231995255633845, -0.06845111151384707, -0.19786092721837825, -0.20550222471422452, -0.030733480334633537, -0.1820774797935015, -0.5456927306423157, -0.07441128419252489, -0.05222625163455015, -0.032670650509987895, -0.07538126324925602, -0.03791923378465593, -0.15178530785939778, 0.08233705111157666, 1.2163425459414134, 1.2984536155291986, 1.0489094798492464, -0.14569827264389323, 0.40672171168055166, -0.060977744988246534, 0.21664032159589836, 0.42346896054847744, 0.3286254795145723, 0.23572157359941107, -0.15595844135031126, -0.14163756733110153, -0.10526404967291204, -0.2813630112879708, -0.04287962955253487, -1.9988463519319681, -0.032086078158363646, -0.04890255659025277, -0.05274689815376631, 0.21532070653503144, -0.11721594663569539, -0.028969025107380947, -0.0384541298325329, -0.10409642230701646, -0.09787374239812328, -0.02043796697586445, -0.04012572966955081, -0.035917746807521495, -0.044833000044131315, -0.04480991237215394, -0.05252660511606865, -0.03598863020194881, -0.04751327607123759, -0.03283572748728574, -0.03493573370070101, -0.015745060699667926, -0.10990405643465506, -0.05447942938684841, -0.0933103214061718, -0.034820945079082746, -0.026015872405521192, -0.3564931265195396, -0.08061602461947798, -0.08383298682649754, -0.06437674382504874, -0.17424370168340486, -0.5952915054055372, -0.03593010896649572, -3.881623830307765, -0.029408821991851113, -0.028970059418025766, -0.03675446829761328, -0.041687862579973894, -0.2888359493607971, -0.07111484513085162, -0.02140497305530527, -0.037154545152058335, -0.04070596846322908, -0.030059897279091842, -0.06560316184517749, -0.040513573636198195, -0.16755185281540474, -0.05853323179106452, -0.0768585120337104, -0.0374053175221558, -0.2018531770973392, -0.07106052157015012, -0.08636744840109688, -0.025966764094879864, -0.024801179613205115, -0.07968901623377593, -0.08229580512753384, -0.019172477521334053, -0.03715311412238294, -0.07220336010330496, -0.025287491302630274, -0.299522666702095, -0.026093540907523086, -0.04129186004455068, -0.20074429088130974, -0.10805663373591548, -0.02739944281312807, -0.046941419057501044, -0.05365288236798383, -0.06913726649993952, -0.17215394662173142, -0.24649902379598848, -0.3814232813100697, 1.7810769142034095, -0.1646695613527226, 0.13052216151979587, 0.5582478299370057, -0.14088185035725345, 0.4261035076252903, -0.08501006176278231, -0.17991232034079116, -0.15959192236352382, -0.08747652627038849, -0.09355109494040793, 0.229383388215637, -0.22448914196749684, -0.05214017515989067, -0.0801796817140633, -1.0140482014173036, -0.2501130464049257, -0.2328031791703093, 0.4529417417306085, -0.06040664446894835, 0.16254465568505447, -0.17079996667232752, -0.24220944361816824, 0.8672665945084297, -0.11840361434823843, -0.22903049837955877, -0.09175654142541557, 1.4013871911720839, -0.1283518101782372, -0.07371581546613386, -0.20998307286981083, 0.057783914220533236, -0.1221511031640324, -0.03707139655037345, -0.15214951910493793, -0.1104089412642497, -0.0535088009136618, -0.302301374238307, -0.08561422995519008, -0.1759462668964351, -0.1474909034219028, -0.03357204405206412, -0.09638111582248127, -0.07645842619463226, -0.04966214721437872, 0.26395916893418075, -0.13919500382023373, -0.0395677270073655, 0.5163939286760344, 0.08128110240822446, -0.14409686364936983, 0.27307549160437783, -0.22863144079487283, -0.5427599170140301, -0.13272119063797846, -0.05119721177092787, -1.177371431410876, -0.2084788486676129, -0.15689312620366225, -0.057276473732707084, -0.015491688669399541, -0.039888696428450054, -0.03561925206090614, -0.10184724510912711, -0.040778951818591, 0.46147686543262195, -0.2775848772702367, 0.037998843209032886, 0.2826762900002534, -0.08393066160019265, 0.37766564744973374, -0.08649634834272882, -0.053525541217174136, 0.17978449222220694, -0.09750473302699095, -0.12909238996575845, 0.2863885012359637, -0.10892270402187279, -0.32997048171162063, -0.06751493634790354, 0.3167496916612527, -0.07528905511223963, 0.41521451556253924, 0.4871897838167633, 0.34830412439876324, -0.07444780359645223, 0.3616974696145387, -0.11489968848074694, -0.1756856752162506, -0.15886684547288013, 0.09292669099204535, 0.8370899717655871, -0.09995226241958045, -0.07542629086242168, -0.049682720167607754, -0.006303824568315579, -0.29146986152376536, -0.0742814464301087, -0.07733233241436917, -0.2077843822636094, -0.09724102926032156, -0.15719426939060718, 0.4307235335452489, 0.44168587384165126, -0.09830450699695593, -0.02575472608649531, 0.4041526023735739, -0.05000142221793381, 0.3588349785660306, -0.30893620962480306, -0.07520206128792147, 0.051545008204765874, 0.7348004760328799, -0.08870551961930805, -0.07547695805633989, -0.08418385796207045, -0.19034299742315244, -0.2507436077716094, -0.3651839847541133, 0.6674457442671294, 1.0885215751666841, 0.11077953747985717, 0.050433147733250076, 0.5475489813877541, -0.0386611188863218, -0.07771350309469248, -0.16562542770000985, -0.12645728178584734, 0.35908292304237266, -0.04333156796495443, 0.3172989271616276, -0.09758518708665646, 0.6416231168500955, -0.10590142757203964, -0.131266677691454, -0.12335734379842136, 0.07323682470302455, -0.14395770639829186, -0.061141849119550416, 0.42488606403802354, -0.054538141104541006, 0.5129661284377468, -0.2733848578215578, -0.08880838551084443, 0.550319978174038, -0.08495534983008873, -0.12006508839767852, -0.24418972164281627, -0.10001485616959971, -0.08467527861932156, -0.18287561277571734, -0.23866899707655803, -0.03295597734347084, -0.05166357852395173, -0.07806595753439095, -0.1784040870834801, -0.3124091557648658, -0.1731534348216827, 0.041500675505367325, -0.34549503658596825, -0.05291559427760275, -0.06326719000141187, -0.06337045246324606, -0.07416874428905011, -0.11111107475861995, -0.07258184533556845, -0.15425220726332248, -0.356947605067979, -0.2467947729267081, -0.18345144844388614, -0.12729583007947146, -0.08986209383572824, -0.06723188951571837, -0.0508493094531502, -0.1297815209434522, -0.6392571881682124, -0.05433684827277063, -0.14170054501803014, 0.5552599164436621, -0.090445781790337, -0.07431402776958508, 0.04306143720132183, -0.04796058617655134, -0.08166414405222883, -0.26736373378091816, -0.04260952554939428, -0.1323724453042797, -0.3548064545790195, -0.17115176896876938, -0.12240481596880247, -0.13129853205391073, 0.29255859475519624, -0.11952216213615219, -0.04925274369249905, -0.18244174946429598, 0.13398875787702347, 0.476662458827215, 0.36548009072715165, -0.06450920145797945, -0.030152043403398457, 0.35778443822227357, -0.12712026152512337, 0.10303830561901856, -0.03163709028261467, -0.07216961362553956, -0.11226195109562323, -0.11037070868642714, -0.0894291725054744, -0.16598710754934154, -0.11659171018122012, -0.1580299762060142, -0.0493900575876425, -0.18589441224733863, -0.037697367794437574, -0.08445841994807941, -0.048609642628455026, -0.11630157718409251, -0.02918919891856269, -0.058548257112351516, -0.0972653977682798, -0.05268743387165442, 0.3549760377260518, -0.0553079967359153, -0.18210843668928678, -0.10415847360819984, -0.11768313494942781, -0.1148801601490412, -0.045216434714506086, -0.09357778617710029, -0.06069269273925271, 0.14728273749572943, -0.087833313177313, -0.07464207424312388, -0.053405740817047326, 0.242765467458597, -0.13968023546018077, -0.04386824029499508, 0.32032961482980293, -0.42201650200969454, -0.28383493462325776, -0.5566743438526015, -0.04060834376049442, -0.12133734260207799, -0.09416521290135728, 0.3129683436654557, -0.3079203542024566, -0.13519396538310607, -0.038858994064995864, -0.060860957554601226, -0.14857729397436029, -0.12486601521713289, 0.1092685406920435, -0.02628641309032663, -0.04626946929499746, -0.034592979248257834, 0.6265780727956863, -0.15978067010385, 0.32322858110985675, -0.08003238958863522, -0.11076946867145993, -0.2798620581983469, -0.05180920578925379, -0.03325643014965031, 0.41120204353885675, -0.10848463496225384, -0.13139030102436242, -0.337873147694265, -0.26518448563039176, -0.08205864491983325, -0.08062040380119186, -0.08109465639970145, 0.638843866183648, -0.15276522567918932, -0.06653776526890957, 0.1094565431535105, -0.1036617962051715, -0.2667082418976474, -0.23921816703830664, -0.11918039501681975, -0.03197852941057547, 0.16323887083023988, 0.6492626404992714, 0.025973649485638472, -0.5902669205302082, -0.015982927344889267, -0.019033549524942912, -0.0753562656283923, -2.416370796209233, -0.03591036619041464, -0.022510034515845018, -0.04760215812504513, -0.03380590361846586, -0.043415743981639866, -0.05667066930060069, -0.07021680640593854, -0.04109688108011126, -0.03777208695208814, -0.0407965397103875, -0.03886353066937437, -0.14076393037572654, -0.1223847009060778, -0.08221584809655205, -0.018274622012603756, -0.03370996212047869, -0.1786811330124471, -0.11320326671419577, -0.27329633155345584, -0.0939512484656332, 0.555558347030372, -0.11468162078796935, 0.44171520503199335, -0.10756533314962936, 0.1998130790248468, -0.10522666126156303, -0.04494930871460123, 0.3797469206367398, -0.24835472951627904, 0.1987252507796645, 0.204814854942825, -0.32926635861345505, -0.1521615476250861, 1.2403069901550656, 0.09305350184510806, 0.3756170618594049, 0.82108282659023, -0.5485862857119971, -0.03282546737527798, -0.05234691950845149, -0.36270377381740354, 0.5049624182005685, -0.016951431096844473, -0.06288929952320925, -0.08327040399437334, -0.013650369272891224, 0.7937204189866783, 0.6636293012787737, 0.20039390198550366, -0.020977735923482604, -0.10550354160494799, -0.2303563418195299, -0.028665423637305495, -0.06090291065100847, -0.0433987443447144, -0.24117397801180612, -0.15753093066545432, -0.06559302290972958, -0.2938678237365217, -0.21234063779314338, -0.49193575133506173, -0.2386104855418192, -1.2354766229905205, -0.02041945717616938, -0.20952873769611374, -0.06685773777256926, -0.08155524299005962, -0.096047153083772, -0.047238853453095274, -0.1135148675907906, -0.02035832705471476, -0.11823709616868289, 0.35321741303108356, -0.10193625857951805, -0.1030929630984078, -0.058332988620142794, -0.05849322795141879, -0.29933464997578274, 0.2990593875589662, -0.13874601140450024, -0.04254891047569873, -0.024037717026635798, -0.1343798790144776, -0.07900027882315908, -0.06017300130749175, -0.12666697287218806, 0.060859034840232654, 0.17998530781217528, -0.03960598535284912, -0.08117135629298675, -0.04829346499641249, -0.04906614083776309, -0.06123041731690749, -0.08242575926354384, -0.04071543420244704, -0.2930860512926726, -0.05876328102464324, -0.08414113321734094, -0.07710536712288521, -0.046795422342364563, -0.05195411026230078, -0.027856607834825225, -0.045587199414241816, -0.052913074614174264, 0.14476362989754638, 0.27935535407914114, -0.06240928178084857, 0.419445321078211, -0.09610719670797462, -0.05583930862059517, -0.1517682439950421, -0.1127077238922248, -0.10520777435542106, 0.33251557562607403, -0.2473292407978875, -0.4220482870627762, -0.09292573767876494, -0.6141299801270291, -0.08440721191478062, -0.17709160885324304, -0.05047892338198278, 0.2670527096365239, -0.26886223995906133, 0.26603488216786053, 0.32856346837108913, -0.061051280903702404, -0.07019732220933776, -0.11294433614139723, -0.09953196275845229, 0.14830743069696728, 0.5238959206935184, -0.05281823765296047, -0.0769730976672945, -0.06634635478652594, -0.37164044645077116, -0.10099248685034387, -0.06612562928538127, -0.12444371267637153, -0.059397089234409, 0.7408839128440603, -0.046419806950240054, -0.050168771553533185, -0.3840210980249244, -0.05752404635516168, -0.46978398934066895, -0.19985525318846772, 0.5550410960527314, -0.20823537421210483, -0.063931574966959, -0.0770700649150788, -0.052656637031728765, -0.18862047379617444, -0.07863352241374713, -0.09590426767815237, -0.20599407493157817, -0.06290700493240177, 0.21447538953825893, -0.024265003488083144, -0.12041858963550885, 0.4460528304510565, -0.08304202514510478, -0.400334097890185, 0.49492187078590827, -0.17573617137094055, 0.2725446817389379, -0.140983160044954, -0.3169098518130694, 0.2984800771923893, 0.37628267219228917, -0.48727785528224904, -0.3590263029265371, -0.07727715569756534, -0.0799233615423007, -0.12208464388924294, -0.20799122431390063, 0.5785334219174171, -0.08255160198715138, 0.3171433367405226, 0.7061264513802848, -0.09145200260870315, -0.05261844457809289, -0.07381555326961324, -0.03900991239162773, 0.15763972067348567, 0.24820985693451666, -0.13627110774087955, -0.06167319892401829, -0.03179122416582566, -0.08397369320050402, -0.0587921167773894, -0.245335901712009, 0.4777983970933579, 0.38457692983123093, 0.35714470055125164, 0.22860091822119427, 0.18120906055023261, -0.24947488559139328, 0.4071156633802898, 0.39960978391180346, 0.2745242370885718, -0.07031313683730246, -0.06968589757050314, -0.1488469809710901, -0.027688363459274685, -0.10829520764063816, -0.1963296581879149, -0.06172083349239852, -0.07218389836895954, -0.18937289234563276, -0.10329707223420076, -0.2159314201899738, -0.17077177068012234, 0.9745199182927979, 0.4667259378578717, -0.2530790779439999, -0.08862423383927445, 0.2678448064347591, 0.4310150838778206, 0.23142849120177306, -0.039327032453317416, -0.021604047435084425, -0.013366526329613512, -0.10190459488790901, 0.07499748273677138, -0.06330263684849666, 0.8400532004395664, 0.4006062468664305, -0.10681255070581197, 0.7669586219405047, -0.2172795430924196, 0.16296976110979705, -0.07068102157065993, -0.042345608923079495, -0.21964388272569396, -0.12046865428577101, 0.4078382314277444, -0.12608042207029005, 0.4651988220134555, 0.062053155180602254, -0.3227209833968432, 0.5559713130722811, -0.24135109445084818, 0.4958600544024471, -0.11264415733386256, 1.7057176721462497, 0.5334450112110467, -0.29374778440540505, 0.7396591039027757, -0.2409005387070931, -0.07153438891503393, 0.6934403055343376, -0.4656594261053021, -0.033018384698172525, -0.16568912938177555, 0.9018797045832625, 0.781769074057856, 0.13683735121055765, -0.12323264030360725, 0.051794894915283336, -0.09178688081286782, 0.09864773158495385, 0.7941365218205445, -0.2466909390349061, -0.1819249226599511, 0.3033183992317869, -0.2951061175257151, -0.17865574431693693, -0.23967060078131236, -0.1298448756361139, -0.1746726739515421, -0.10665947827483874, -0.06328522064356248, -0.3199083018090944, 0.4851569633351499, 0.5112043135985708, -0.09563772901328502, -0.23614997496443324, -0.1883703468104247, -0.03961514103205828, 1.2559168757628714, -0.29446690327239117, 1.307024647111971, -0.038218002121152436, -0.044137556195751056, 0.41816550709193273, -0.13011080233427763, -0.06753211985193426, -0.04453853313872041, -0.2477476375926958, -0.06415153048949698, -0.04700984291907486, -0.4473486883755348, -0.03989993202205616, 0.15307909287188376, -0.04199501508896538, -0.05654663881889751, -0.12327187558310555, -0.16040458748775036, -0.05013134127306861, -0.039894224346841, -0.06751304032042789, -0.05181173228484717, -0.06065332326559316, -0.04380237841550867, 0.31923371694286995, -0.26490777854368786, -0.06348561862722192, -0.06739213759280449, -0.03266640115911304, 0.07377092270912494, -0.06302397106201646, -0.03504670818330793, 0.01871745831585255, -0.03918336298666707, -0.2870669230449627, -0.26040468076087003, -0.13944713823620547, 0.1708244090460011, -0.03647270854221128, 0.11429886111728049, -0.017289558277358386, -0.03977614062778119, -0.13266182839162338, -0.057777335782305476, 0.13524349522312348, 0.3487522932185439, -0.06590450392312364, -0.3119128819919824, 0.06507845133167585, -0.24637593199615296, -0.15144544053891126, -0.07242435516630817, -0.08988215628802322, -0.07345787606216654, -0.07664176501143193, -0.04597642909400557, 0.2419045196967772, -0.0816655032885401, 0.05263045544115885, 0.36738011211263727, -0.1981994164030942, -0.06430667675516695, -0.10055238299258779, -0.03301562953111099, -0.06868122006403397, -0.06782621181817967, -0.049016901412884305, -0.13300288789450693, -0.34665288410494843, -0.058477780774412035, -0.0818734655265821, -0.08923727075569007, -0.11865434371141256, -0.17681504708798018, 0.1162822218847443, -0.077129229049704, -0.020011391008305852, -0.02093583898379414, -0.07908521226110761, -0.040120807925640205, -0.048113654973341684, -0.06967635278079662, -0.10723846972108396, -0.06672096070394001, -0.05197011539397455, 0.5654239552920703, -0.16640011601577143, -0.08881901400139235, -0.21350685546412537, -0.04726714143712563, -0.06832811380241681, 0.4357568696250006, -0.026151973629211244, -0.10242586522603897, -0.08790589839149142, -0.12262904218703922, -0.15386332656339377, 0.8362574999239709, -0.11390658619308623, -0.06309781358257786, 0.9379043342458445, -0.0354001834578831, -0.11623234652301746, 0.7055757089084053, -0.07387711731521651, -0.05882165462494638, -0.03463763025752461, -0.19020967966755173, -0.05273335722331798, -0.03497213696004185, -0.03966886841786715, 0.2758469859176939, -0.09606183259711905, -0.0877608389718846, -0.0574899189479122, -0.04090953485959016, -0.15541519065699208, -0.041228441377161765, -0.04934160737271245, -0.0630066952969699, -0.11320415152849377, -0.061191140738961425, -0.17931819927336187, -0.07083416458510619, -0.07136502361405526, 1.3862874025400698, -0.07420380884966411, -0.08231306329675601, -0.03197629820761402, -0.04797565120155282, 0.6469080786412722, -0.10589904715331656, -0.1618202520273624, -0.2647552753288658, -0.04104114899237505, -0.07362783056790888, -0.04728226207808409, -0.08055315728658058, 0.35955931797257884, 0.3327020705838198, -0.03356911864856874, -0.13257206185891557, 0.15170637416868604, -0.044964133009757476, -0.06023489772903816, -0.06354587400752708, -0.037475649246255245, -0.14063032908205544, -0.9594198507586632, -0.043602468615125685, -0.10626681252403222, -0.050698363081870555, -0.3932241541522046, -0.061286682034611586, 0.41766543881967333, 0.35674715384330563, -0.22493164561874932, -0.20860149693721566, -0.08116849471276792, -0.27719501375716177, 0.21224188616772996, -0.045422348048134234, -0.03902629893071058, -0.2574682934156477, -0.17856667724288905, -0.08579820038789725, -0.1265457571566218, 0.36809192570814653, -0.05779053790160617, -0.04495593693529328, -0.024504358679069197, 0.15799962730335199, -0.09240557123491754, -0.13297255217504322, 0.22886772914853218, 0.8311308371742581, -0.09736502657932075, -0.2441641613848513, -0.1953738775446415, -0.14534880307962939, 1.2432071739030441, -0.17833473135635755, -0.08504255932650906, -0.07124152532916063, 0.9261658177086559, -0.10428259179803405, -0.0419960180545622, -0.1593401755926641, -0.0361607792935705, -0.12073051763492651, -0.038956810107973694, 0.3181719461892087, -0.3334887109491188, 0.7462190336869321, 0.9429804246517227, -0.5783864081623462, 0.3607762525587588, -0.06437627138968305, -0.24866957962379552, -0.0812539030619552, -0.08850298938877246, -0.15490229924613474, -0.055727256815500226, 0.4217673267349149, -0.1401006540902104, -0.15552532458163526, -0.06696148073779455, -0.14868810214390715, 0.38894719555277385, -0.06396903111545649, 0.7828344429732392, -0.19648498216432864, -0.05548218690525601, -0.11183103403173046, 0.22291193636146897, -0.24325475785517314, 0.2316646052610827, -0.10211126977541155, 0.3891853577823411, -0.04674880513608275, -0.07212450310697602, -0.052470120628201264, -0.04401763234955412, -0.1512976011946333, -0.31937209403118944, -0.13708934093088782, -0.24987739610777948, -0.06840293330108256, -0.09155280873909084, -0.17929516999729464, -0.06290329877569956, -0.040054489546630656, -0.11928989857913665, -0.16800065367789635, -0.040760742147652324, -0.08036245958517926, -0.9498549037627886, -0.08706957487269533, -0.07330710625226773, 0.04076443940331744, -0.13764065374859158, -0.06977229041145556, -0.23042915920540627, -0.12913086660239348, 1.4040041929189409, -0.15575499071717586, -0.20994123985369406, -0.19493591668142246, -0.09760932061150533, -0.17762156119151232, 0.6155476686167393, 0.363192381777362, 1.1260426491725033, -0.04811343155822465, -0.13965349614319247, 0.17794150791176486, 0.17860080014516086, -0.2621956026985616, 0.41007820574792064, -0.21074472636689454, 0.5629047714421681, -0.11101061074734996, 1.1537770524595055, 0.17410278617079908, -0.14793380163128672, 0.3240493799166749, 0.5975788150451431, 0.6088028528246783, -0.15496595285855166, 0.0006215546813331882, -0.04951556496466154, -0.11961665728631606, -0.04881460965782601, -0.22534308000195058, -0.06879169679209594, -0.4560840535491137, -0.1866076567639886, 0.19980769678917232, 0.05128276404926517, 0.7084029163251707, -0.2717697646352379, 0.4830254706831434, 1.0370607565676189, -0.06683416234055309, -0.35058334653596646, 0.4015845104623759, 0.3771001511650959, -0.1132773507635993, 0.2211154580549122, 0.37242955033380165, -0.07054387598500779, 1.4052396264228912, 0.3611991889495539, -0.4383239454285998, -0.035654553064272905, 0.3145217242785368, -0.11367764855449365, -0.033383719239875057, -0.3601144079377187, 0.13221661060073447, 0.1086377366239492, -0.1326035944321183, -0.06792568813775296, -0.020982603562527607, 0.280003249434919, -0.2240012828652811, -0.13259762801983757, -0.040747215588855065, -0.013917945775954666, -0.04954968596364029, 0.36751720998885745, 0.12648575336901544, -0.5287316125099637, 0.30865147653559816, 0.12174823065270118, 0.13462771415869107, 0.16570412018230715, -0.08845215308653227, -0.05690397120030414, -0.02353766454252897, -0.014556779569205851, 0.1089855095167948, 0.012508016615588084, -0.21043447394244835, -0.1476578464542157, -0.16709466331492442, -0.08589566174428134, -0.0841230243985508, 0.3619299170733751, -0.06483705195114875, 0.27043156437253063, -0.1885120745067573, 0.5133983976660217, -0.06393884348640995, 0.3977030988815985, -0.03463021714834033, -0.11000579983627144, 0.5303404468458452, -0.11166527964105308, -0.0892613924097502, 0.25162590023656567, -0.25899223130098004, 0.32435223349824366, -0.04360631479020258, -0.09205483562588779, 0.3472781670918185, 0.2756250716201738, -0.09110500551505125, -0.21524513837517303, -0.1369382529268278, -0.14934087332574658, 0.7547671573612391, 0.09764329221322553, -0.0958941706397443, -0.08524753665726446, -0.14507429086243717, -0.1292605096574641, -0.06145714890543737, 0.6336261306541782, -0.6774273330187626, -0.030804658580584423, -0.058729595332102036, -0.022468191960322525, -0.1636565908299468, -0.11088008989706011, -0.06951659127382215, -0.08985409911910171, -0.0643318767416025, -0.033723531494549805, -0.026200167927668567, -0.03554897516822187, -0.07925054659824574, -0.29817653733966265, -0.33525309069133524, -0.26061358468980156, -0.20066167553560665, 0.3739189261021911, 0.754992303149299, -0.2537247735251742, 0.48589104992117615, -0.10662691406668816, -0.03997256846615635, -0.09348393236175567, 0.16823911950044435, 0.2443275337185107, -0.3618417965685467, 0.16393819062125942, -0.12673453074664323, -0.3019948674168256, -0.06004246877551835, -0.12935677306637416, -0.3372027836750585, -0.08516044542149191, 0.3344307045544075, -0.5404943158326906, -0.16417096876046794, -0.07191295703764138, -0.15417549636250116, 0.13916444986915835, 0.1530589433037576, -0.25626570879830046, -0.07948376597679355, -0.2785927733789338, -0.09109826985905628, -0.050721022434844415, 0.9386931584470437, 0.2587174157175868, 0.3548550297409658, 0.3653853262225911, -0.05134105416032138, -0.07070769631439489, -0.08624813989944063, -0.1449034967974399, 0.14990796828835476, 0.23940663169458454, -0.09641041926375629, -0.10962955022615112, -0.13306956345329052, 0.06710139654087785, 1.1873288220473497, -0.3885654901278843, -0.127079418633004, -0.08441854953964463, -0.007913493846704462, -0.07111555833509296, -0.11279131411600725, -0.1704075579896384, -0.05523499001705598, 0.030377353783868015, 0.6085854133744528, 1.0788406085022761, 0.35642155863173736, -0.039022773817850014, -0.05146456759796209, -0.2348376040427177, 0.47016453282870235, 0.41716339981048195, -0.06309282929490043, -0.08487189826299364, -0.03192971830919059, 0.9446145112570019, -0.1514814027087224, -0.05807679598339904, -0.10518478686980898, -0.09782899517148533, -0.04342917571664131, -0.10519233300500332, 0.37299918196684956, -0.015179657146281993, -0.1269398258476375, -0.061585225311652496, -0.14319087215543813, -0.14068900687608676, -0.07106519181287682, -0.042776921158375926, -1.035613524748151, -0.13387828164604024, -0.14953271873521104, -0.11213101459102275, 0.07532861259738408, 0.4465523843627272, 0.3318348978286687, 0.1378093236852092, 0.3442680010407084, -0.03682464998427443, -0.05417522351316381, -0.07644076074313706, 0.11234042509131593, -0.051375356184361634, -0.22374955575690283, -0.31830837043863675, 0.3157887547856853, -0.0612549675116387, 0.5451454054051177, 0.5674392942451391, -0.15744649873295488, 0.2915776780928411, -0.2927579082028259, 0.39662539592222384, -0.4094574937304061, -0.24234408819521436, -0.13480269039185253, -0.3087727044044792, -0.14680791092893147, -0.08597087739872708, -0.2677363978355408, -0.025160021051484138, -0.19065819334108816, 0.20451869269622597, -0.08404451262955369, -0.07246939082942283, -0.04649456112178007, -0.08273153888558123, -0.07937289001478885, -0.04584111224870315, -0.04131644824471046, -0.07804048791853338, -0.07278878780061779, -0.061549339296370464, -0.17128656133834969, -0.06274724932880264, -0.1609428464802778, -0.19970839077365576, -0.06183757280970058, 0.4290681423247113, 0.02626759663344147, -0.1223500680290255, -0.20572627040591163, -0.3528695271373628, -0.04430715450933028, -0.10212428797766365, -0.07103479762501233, -0.0825919908705677, -0.18617706694564812, -0.5277830289589313, -0.07045246638819566, -0.07977006374869691, 0.27656685706657097, 0.48151133308923094, 0.14578173587946494, -0.1291098354373364, -0.067993787117465, -0.0976612479172327, -0.21328083505915685, -0.03819218865409486, -0.07601050200290989, -0.0709817974861155, -0.027823679117043906, -0.15714939811186046, -0.0971707519137862, -0.15474870852286987, 0.16148083462110277, 0.6130230807979088, -0.17205441624515017, -0.06290706072770098, 0.17573841668493165, -0.1257652339068433, -0.08320951904285605, -0.1161224644271361, 0.5439783346027454, -0.07780604479978555, 0.2776721701358423, -0.08094681413387295, -0.22992658803883664, -0.04790250297417037, 0.2782551266595019, 0.5769630432134197, 0.08650539514055086, 1.2009731451198482, 0.2969213895438791, -0.16032374896568763, 0.1482104630729656, 0.3925597708340076, -0.09454154831627126, -0.46559003598224113, -0.04945607148243587, -0.4220106458828935, -0.17117955753480274, -0.06799755028554076, 0.3354829263814704, -0.17849493069429603, -0.06419048028863315, -0.12450001999185772, 0.3041615135434075, 0.3940114054436929, 0.09962034679128041, -0.34735632234705965, -0.02633720554424415, 0.09794863780200497, -0.04179191200224843, -0.09623691580997965, 1.420137243487988, -0.11098109285341566, -0.4174983348322129, -0.11262367298952644, -0.09590995317693267, -0.08784603433055735, -0.8399771142288192, -0.027233068053098337, -0.03480847359172493, -0.05842317300446037, 0.3265766597972588, -0.06252758397939703, -0.06283185087177036, -0.0528387678763353, -0.03246191239611083, 0.36625685120036583, -0.06405761651248305, -0.11998817006553977, -0.1662053876650663, -0.14104099357891697, -0.03995685607527129, -0.04548122171469968, -0.16756511806592095, -0.08183823236327926, -0.3508646488812185, -0.05548722300523848, -0.05898735330631244, 0.1813100982840028, -0.039745020592705425, -0.05678700164162272, -0.038826407846066, -0.07361084078255549, -0.025447238972449687, -0.037250053146130856, -0.05635144754780899, 0.16506592107646553, 0.355423682244429, -0.08868807859923794, -0.4981814045912792, -0.10664790904744344, 0.3546327120375339, -0.08754591778476119, -0.04906734570823363, -0.10894884690249944, -0.07162947437752892, -0.0896716841288744, -0.04915770129945012, -0.22364705770265864, -0.09938583282210661, -0.13628394606861036, -0.07224421378049313, 0.2886940732409125, 0.02481461005535251, 0.565754749728294, -0.1211510000602276, -0.06711384426756195, -0.16099662414725333, -0.15032885652951708, -0.199768973335938, -0.0847522599687957, -0.17398543009948989, 0.6590655553702095, -0.10497078091496138, -0.07236482120236047, -0.05528834567452703, -0.12711237039143414, -0.03857520638946408, -0.04877780575522268, -0.12304116960845578, -0.1291888254892732, -0.07706235549895583, -0.007279265294097069, -0.04931147910754312, -0.0855989849023972, 0.38245595037416175, -0.13951929140409708, 0.4855702129412824, -0.115167849578348, 0.39335231621684363, -0.07279546090387999, -0.7907336330172049, -0.03280800529724555, -0.0495553182821183, -0.08410420191092603, -0.15809267149817696, -0.04484241480978578, -0.07210914795104846, -0.08172578740555504, -0.28003007573847705, -0.11129285715812386, -0.19440697199886262, 0.6240134021325215, 0.20278754911713115, 0.01990525358649425, 0.3155784702894476, -0.20519912542272833, -0.078762014204752, -0.17123506432321225, -0.04755020834523503, -0.233539364579758, 0.2533560356585798, 0.45830982071470766, 0.3458076863123158, -0.059306376255075455, -0.14532090483863672, 0.23325679182521936, -0.1808838824747214, -0.07548671906312812, -0.048334333977828714, -0.07164693612901442, -0.07707167783189191, -0.3917135977351007, -0.08874895635969587, -0.03894423149543392, -0.056027992039159605, -0.07564718457779555, -0.04261561792006481, -0.15135923990226013, -0.060645294677486514, -0.08426456803609253, -0.022877129289236412, -0.1434108147790876, 0.2292388488659897, 0.5143401213698777, -0.09076506013036306, 0.08583111105396346, -0.059972473689508775, 0.003059538244303574, -0.06897490540599165, -0.06296136397714637, -0.1774857349772256, -0.0411314386455873, -0.0358886407320713, 0.134586023780189, 0.3385866194625701, -0.06464865993368338, -0.06375259018589477, 0.6043927220426474, 0.12867060762790677, -0.07137783257109935, -0.19077275646589648, -0.042120521033460256, -0.0972318229082429, -0.4132953495800683, -0.31638828014513776, -0.1330771269303879, -0.049659512053449935, -0.07823907295726804, -0.22262700373571878, 0.2531924509385731, 0.2838063123962296, -0.05898268900120375, -0.07956106761430941, -0.0816167300711393, -0.06046672008017356, -0.06972753784793444, -0.37204659144936103, -0.16091976161023985, 0.2927881455814723, -0.0677432423972439, 0.05153365513865721, -0.08167216441797119, -0.06908348612454587, -0.11387504956518321, -0.043834864748330454, 0.2858795435570428, -0.12291425170546907, -0.07552613320995251, -0.09003193401974967, 0.1540126320623001, 0.2922641859493226, 0.5324248495882241, -0.09012449668736687, -0.061351360620119026, -0.15928415861649, -0.151707203580298, 0.6474626950579908, 0.21224318456611957, 0.19745178480000758, -0.035398138034984164, 0.08033102477013455, 0.19229592494964012, -0.18359042306885764, -0.21081493357132755, -0.2158859457572057, -0.15182360210997284, -0.0590896256396962, 0.1283747580319333, -0.08364757132435288, 0.2922281361707387, -0.15575709561528636, -0.0406463084941976, -0.07859180175589052, -0.2475757685254661, -0.09294090387079339, 1.5266263607812725, -0.10730995888892862, 0.3335292386484449, -0.08301942828947573, 0.661940731790731, 0.31530798440831026, 0.22887068992659063, -0.1329457033784634, -0.09535035584960183, -0.04692605581189976, -0.11127103167628793, 0.38875713331346673, -0.04714286338539602, 0.34891979557519504, -0.0531204406261199, -0.052523293372955256, 0.019679843988573115, -0.030262943999613816, -0.042268787618918884, 0.5411065367746859, -0.07791735628422122, -0.057554236065443035, -0.03171645768195762, -0.1329330551385749, -0.06635385178454468, -0.03984487695749618, -0.15712673947440434, -0.15835931871895773, -0.07757027833507367, -0.09982101984733732, 0.6699955126196748, -0.03407552665834482, -0.036946180127730224, -0.085542209328986, -0.45754922127677894, -0.08805132537880024, -0.20216480640230128, -0.1046311568612648, -0.04780324770349317, -0.05780122582995901, -0.11381519294886806, 0.2039195530309321, 0.30114019662274655, -0.06391689561378676, -0.19331863172217637, 0.6328630516036013, -0.09401706285609293, -0.06227921320092714, 0.09176018901988318, -0.16376506456056333, 0.2161064997637091, -0.12258181329731528, -0.052338084415067467, -0.213824469175637, 0.2383770049615541, -0.10006870637646505, -0.09422910041084542, -0.039133862183177964, -0.24748537279643223, -0.7148288450586759, -0.06564473740949482, -0.663544880785164, -0.1763999202844671, 0.34952103087694464, 0.5476970295197262, -0.07740189340499833, 0.11636266759989344, 0.27020361513607677, -0.22623773782493958, 0.5033480608293196, 0.11435651306377533, -0.04412824683924167, -0.045435278824959575, -0.0659505353974698, 0.4569631858051002, -0.15923372123377855, -0.20437399653573224, -0.14794845077750587, -0.13045699011218376, 0.2341442573883032, -0.10381667827338935, -0.06709564827095381, -0.05426453832417024, 0.24894290423101678, -0.08572830831120506, -0.09285417148860431, -0.11133868073205952, -0.15933991045087384, 0.44701516603863, 0.401104934090797, -0.1643200936385362, -0.09324901646386792, -0.09634900856566296, -0.10203671252781231, -0.14677667958166327, -0.668920277048708, -0.11250589153698477, 0.40241801754956946, 0.29014733863577374, -0.2125332899085494, -0.2460430736162253, -0.08724782231233295, 0.10830063811756743, -0.11437367370707174, -0.09612399164030228, 0.41487861154294514, 0.7464860776790999, -0.08689118086579972, -0.14682908076239282, -0.043370584587227, 0.4685824289116399, -0.12794957827821532, 0.16338092934537546, 0.4201724404263504, -0.14352856881398707, -0.13299411250755486, -0.09795868103092056, -0.11177792060973668, -0.18289309103376797, -0.17395931649109891, -0.05737525344361941, 0.10685492033221944, -0.10366300708928121, -0.07476525793991542, -0.039483109214431246, 0.5003053922851743, -0.09929441354499856, -0.13667170805303094, -0.01658226288824378, -0.045996252690915104, -0.06243804674609769, -0.06387582516489965, -0.06469981064339596, -0.08567949187841752, 0.29635002759987294, 0.3378647799530932, -0.2069087624692022, 0.6125519721146776, 0.2875806910759992, -0.10864664457132014, 0.5393038884880187, -0.17096319766449164, -0.5027094986520116, 0.07062275752735073, -0.05085126910425241, 0.8209235850152393, -1.005348684711512, -0.03653694833090202, -0.05876924591984321, -0.11494003004920833, -0.05206406742355927, 0.9031585734387623, -0.06929905096424216, 0.05087718291996968, -0.073260009116006, 0.16359432949639097, -0.06230329984784706, 0.38849176151026016, -0.22151039479242124, -0.05998492804164277, 0.30050109562742583, -0.20830725520971283, -0.05300300459196757, 0.3112984336840777, -0.18610143577200053, 0.38492344008130647, -0.16350003815716918, -0.15464847454687378, -0.11562757553177982, -0.126888801911807, 0.9110161184833002, -0.1354099328687588, 0.1136744512497474, -0.08848211025069821, -0.010433451068772638, -0.09109191058986324, -0.11627899920405706, -0.14196803337399458, 0.9283291812961888, -0.5771344585393768, -0.06250278392912838, -0.08184533972064423, -0.10922114326498263, -0.3315824354251201, -0.12144935136867992, -0.2759084603718922, -0.06958260603666482, -0.08711637364209097, -0.06737333226025663, -0.0977097733509184, 0.29404551440492144, -0.09066715599309841, -0.16060453807360836, -0.04946947281309287, -0.08085568556294456, -0.18166224513851728, -0.18380611721386608, -0.0609903120611443, -0.057258884627151174, 0.2617044525644961, -1.080285389340882, -0.07264633472530566, -0.12367695960412578, -0.02146231804989166, -0.192088173589314, 0.24248553288545988, -0.4365772153953074, -0.16307512582689962, -0.254060058558854, -0.16847568435042143, 0.3399059847486638, -0.07782348736670935, -0.23954167399874318, -0.10062600860351421, -0.03936577944819298, 0.18127746865438935, -0.08875956962760599, -0.04615784524734656, -0.077663563795794, -0.12713477461417683, -0.26365058701125554, -0.35551729841260377, -0.2344372040923159, -0.3244246556130502, 0.07149979018867415, -0.44558426524636235, -0.34165762947263717, 1.901681487064628, -0.18129132199234949, -0.09074128484062495, 0.6904082561422975, -0.04452704114708643, -0.03628436822965154, -0.05985976315085489, -0.13104222628262774, -0.02904585466380121, 0.6952656083787527, 0.7172730155013101, -0.04452106069923438, 0.5700424704015504, -0.1505495701890512, -0.03838750826484009, -0.09731375870186439, -0.06731605127838755, -0.17162320130981756, -0.05450897149138863, -0.1507228939132843, -0.2870796770716255, 0.04874768047964531, 0.44031678927480117, -0.031575680291864444, 0.201337889502144, -0.06264724597171796, 0.49321891892733477, -0.10418703056133687, -0.061932587187923535, -0.12468534085734535, 0.5534574580942568, -0.09343486175057755, -0.16762468210418038, -0.02842287303352851, -0.10531725265953915, -0.21827476598000325, -0.09923166671967991, 0.7556184496699839, 0.04764808571184944, -0.16313475689483192, 0.21181433857240198, -0.0442886035113382, -0.21289547527009645, -0.07010556050189677, -0.04777056686464342, 0.33208988295958675, -0.41607379586164106, 0.7975336920779303, 0.7114534832092638, 0.06567151522081126, 0.4170665374155964, 0.5730500627375704, -0.459236545748306, -0.13667081195307132, -0.30429701447989976, 0.29948469507784886, -0.20876339869930557, -0.042253212013819076, 0.000743578515767761, -0.22045267602465943, 0.9206886236291353, -0.21866225026962674, -0.039801911839260545, 0.2574478781183781, 0.23092470046166874, 0.22187411139885738, -0.002987468752858488, -0.056552698823067675, -0.012647263347808949, -0.03433251961701002, 0.5901934726962703, -0.185153961808675, -0.04633501760192239, -0.05974768663517699, -0.1283222209250184, -0.09726919571483296, -0.1310277045869464, -0.11355957515467621, -0.3337044217505084, -0.35216204574947724, -0.08001332223755352, -0.1300297323749389, -0.24893795809366726, -0.042323216605181395, -0.03427856843809597, -0.05416985354430396, -0.07388575917527619, -0.05148112270507544, -0.1023640139964842, -0.050269834181743245, -0.06137622958182434, -0.1060135196234295, -0.038146286436075476, 0.37971837440290607, -0.03339332902560091, -0.054343644333443464, 0.555504716764873, -0.05432903115532652, -0.09906960053936323, -0.29065427230030605, -0.15490323634015016, -0.10279600077466716, -0.09123927896497265, 0.3769362554990341, -0.030392392254357904, -0.3159949737679065, -0.4446090286834696, -0.056752987553247154, -0.24907841880950934, -0.17175628558479436, -0.029063447437539174, -0.15936385747632958, 0.002871664080713857, -0.05234538796418187, -0.2432752382036299, -0.1661087228190754, -0.09683766161558252, -0.043891166193060396, -0.13766838643212265, 0.5415234842060461, -0.0571483914880469, 0.40332156722180457, 0.536716338376627, 0.029547386283566283, 0.284186044603997, -0.09036980526798535, -0.055335976912329055, -0.06619826020434327, -0.09181188401136092, -0.03557763413278444, 0.359802256311651, -0.037561128296952226, -0.02953933920947287, -0.1778505569145042, 0.17667976955616083, 0.5139792723520684, -0.08829889847544113, -0.1476735335875012, -0.031173309589742633, 0.07837204243511077, 0.14917850345179723, 0.259587373361866, -0.09464186275399428, -0.16737566850281851, -0.053918612105440925, -0.11365252283642382, -0.10637969657039298, -0.1939823097278537, 0.4245111725964794, -0.06411543928296995, 1.3873548619748854, 0.8968227709513978, 0.6070701016862532, -0.29770302617189703, -0.38785084922534663, -0.05572416835373948, -0.07877825962379278, -0.05523003150179323, -0.07950477349626454, -0.045317522560916854, 0.03160188387395108, -0.08746709092980824, -0.1270981963278595, -0.3720189910862381, -0.23729007692564863, -0.12438210557927559, -0.12127545019231253, -0.3208438874200104, -0.031242387369885112, -0.16934113307498946, 0.8036457252157584, -0.06453880449847281, -0.14634491036723987, -0.04646761573456662, -0.24235668366970867, -0.06335953473550049, 0.1138240147389839, -0.571119640957734, -0.29204496043004796, -0.011372839718612816, -0.049869780690945976, -0.06939212135319739, -0.05168153209124883, 0.4517455729673769, -0.5024168099804688, 0.8907265215214603, -0.2138858467719658, 0.3525741170793304, -0.21262023601127086, 0.1318517240260661, -0.3027180739529164, 0.046669673584984306, 0.3460881962626813, 0.28480122925528145, 0.32767370725987105, -0.16444644062920633, -0.0954313141454882, -0.040254710988592984, -0.411504569959648, -0.22788105403743794, -0.2164218422895919, -0.22435033103485602, -0.12352373700018575, 0.475079161318006, -0.08278244736149427, 0.49501444774739245, -0.1878833139419767, -0.14748798795017046, -0.11764001294632584, 0.45926540341393474, 0.010858429819549851, 0.581479856783502, -0.07981887992009859, -0.024273008143731657, -0.1497303478511065, -0.06234041628385449, -0.025708193586601924, 0.2895989578016408, 0.43789298205859434, -0.05101489838575409, 0.07644382469335022, -0.0658731983838424, -0.12014705102640492, -0.09881574596854725, -0.25393957081324836, -0.044086623202840444, -0.3173829375475543, -0.09234803718524098, 0.0071137297643768405, -0.022786136702487015, -0.1944307719036524, -0.0866757141997326, 0.1305856348738608, -0.15532623604638238, -0.0851053676881595, -0.07428876540396301, 0.5071942775830548, 0.05733597185650691, -0.21693012068078424, 0.331931331164163, -0.09108415322491223, -0.3802819674009803, -0.3506637605350909, -0.04416115717147894, -0.03421327903516805, 0.2841603333949637, 0.6491112661478132, -1.27120521215478, -0.04391401288945808, -0.033720487175595365, -0.04775703937719877, -0.18423776142520065, 0.5634009418358752, -0.15600576993740337, 0.7358937551071686, -0.042718271609031695, -0.029391323631579664, -0.08135510340384972, 0.3823548971971079, 0.02218059239489888, -0.04019721904885847, -0.3062067682130807, 0.2845792595252296, -0.16613089516103055, 0.025354430352640872, -0.09836527289574654, -0.07188357046548918, -0.053240634617272416, -0.10792797220819288, -0.045170017553058404, -0.02788615908090614, -0.05395199712736136, -0.0665928372199513, -0.036164805066960765, -0.0728642093831034, -0.150178965693794, -0.05175892756199915, -0.023310186349180827, -0.0832103605177593, -0.024411658175582173, 0.13042054906525352, -0.032612271410648166, -0.028228850752701536, -0.050881179934121425, -0.07567472801068424, -0.08677057250931873, -0.044705573184899594, -0.06516618417172512, -0.06642503652417164, -0.019828709545454747, -0.1348366454967779, -0.04115859492873248, -0.21293495550288996, -0.05777395437417761, -0.04185971942647723, -0.053749991587958304, -0.0921337611450607, 0.3234937232313035, -0.04435950604230818, -0.15436035778028914, -0.034631892841771886, 0.2978312875873267, -0.05887166250191991, -0.2498802641608293, 0.2670600384998503, -0.06925211340961719, -0.15095191595327537, 0.30328891508449013, -0.033912214942018584, -0.0755237800319064, -0.08884445956167211, -0.08792434355093574, -0.034583616087743504, -0.027017900803773316, -0.2699166983054386, 0.37365754328266426, 0.37824593831738895, -0.07942074018424371, -0.0815395775436007, -0.10452660168135582, -0.09718571000354322, -0.06260122153739497, -0.033515065406033794, -0.10585373240967602, -0.026317737955414186, -0.10671243517894292, -0.07041349591792712, -0.3339941768401253, -0.11196884363727108, -0.11129182604213815, 0.40023369354281363, -0.10713438138673202, -0.15099400288358084, -0.036664675604256895, -0.10905746387864385, -0.17962185579150083, -0.08911504178859529, -0.3679066631487641, 0.9449610312944132, -0.9414671423382038, -0.024552384939230624, -0.0773707351636464, -0.04612719855445703, -0.02486515670382137, -0.011784669198083485, -0.04959546772316921, -0.05700575697959934, -0.034048819072924, 0.36403213359225084, -0.07511311232690714, -0.05584929695018557, -0.026372317700289794, 0.40764127319925714, -0.5143203489055111, -0.0518345268987927, -0.2525344597472265, -0.10462571340831321, -0.23244434386697635, -0.5321249677985251, -0.03618876778571785, -0.018649513355293967, -0.028871652081681853, -0.03753316240368833, -0.09191383568496746, -0.10575159662390349, -0.10184298647815125, 0.09742132469744505, 0.3276933018793051, 0.1549690386827794, -0.009419419787820744, -0.06807490867760792, -0.07476384876537885, 0.20496614941047958, 0.16999148038275466, -1.0277590353020585, -0.08025453602484402, -0.0468982665603025, -0.09785967539952939, -0.12539346506354032, -0.19026341265951777, -0.1570479336207832, -0.053154135848741825, -0.44280231742452325, 0.15483200224588867, -0.8913995080091491, -0.0881235873802732, -0.035474680237706516, -0.03345990158974222, -0.1779879031746558, -0.32413474188604463, -0.05905876127671914, 0.6965909124693624, -0.07620209382987729, 0.3704682021347328, -0.028849755583586417, -0.016129828225102564, 0.7240910226168573, 0.11802531754022291, -0.6277792592835715, 0.1294561825112191, 0.17697823773948063, -0.09535765771299426, 0.15281952605640958, -0.2276516542419127, -0.1244725531780534, -0.049539515818109676, 0.7560277785403344, 0.38947441175323977, -0.059446653806839764, 0.24797653740135014, -0.0717679802893626, 0.7213648216341918, 0.3666161642596002, -0.40662007234826797, -0.1789664535700139, 1.9681760177968335, 0.5438334687416655, 0.16729045419779862, -0.14573317571483732, 0.20206166672020476, 0.5899536270654883, 0.26838947996621415, 0.38085716234393857, 0.03454702274819978, 0.3596765930946018, 0.6567890717836579, 0.05131700371628985, -0.10712998949880982, -0.19023845417088353, -0.40662892616001417, -0.07366523344575, -0.06635646506970608, -0.14532570970168152, -0.1322856519545472, -0.07260860381308795, -0.09264971988954539, -0.14877056668827363, -0.20163120671130771, 0.7780373395801728, -0.061490447019681954, 0.23284571992681732, 0.1330403482540528, 0.39290104180840124, -0.18279023814934853, -0.022103953084366062, -0.09032618940743059, -0.3312070113777821, -0.1495636862459742, -0.15135924499870773, -0.05471283384445816, -0.04278001835132787, -0.05262517634350637, 0.32393437632121036, 0.27820107440731273, -0.10587120058850288, -0.12422882376701423, -0.15629808557594957, -0.12360185018168704, 0.12497118535194839, -0.08919691341055096, -0.1361293740799804, 0.19502603655451867, -0.10225597635474938, -0.23538637201730322, -0.03869589698218862, -0.29263625787391084, -0.0501773939509265, 0.3319738955029646, 0.11830173150973881, 0.7133541573808521, -0.12772579142287974, -0.06523440307847451, -0.09523708145833919, 0.32788355720789036, -0.13990939268536895, -0.0660897089198523, -0.19880019331145846, -0.036492280432462734, -0.040128686509711436, -0.16893587108388022, -0.09481128784463647, -0.3323103965381316, -0.1434362460382634, -0.06069723296632539, -0.1151542179211047, -0.40991657709201756, -0.07937835135008224, -0.06691344565177271, -0.07981676440676505, 0.27713114333719147, 0.49987717203036, -0.1199094349449695, -0.0762193973293586, -0.08070663283252776, -0.15102571216244715, 0.12852636839317605, -0.05511858767917434, -0.03465163355729181, -0.13721882444989666, -0.059690894351280256, -0.04965691346944578, 0.07366018330587303, -0.05629647321185402, 0.26476594790991104, -0.3550140837905353, -0.10508997397448046, 0.3017456690958684, 0.12467389613392256, -0.13817323693082526, 0.2237365734968321, -0.08887526091643504, -0.11286841759990161, 0.3845512683029306, -0.16425210891162315, -0.04293962514257516, -0.03560434344126983, -0.06906429940968126, -0.18057259260220035, 0.08660778371957492, -0.16167244674063525, 0.056709444320856034, -0.1028481084597406, -0.08893090646110238, -0.14071671772349617, -0.0346907846557284, -0.07858369273426209, 0.39265700978400664, -0.08057227765769615, -0.0621051764810602, 0.40074551231999406, -0.17712629440563654, -0.13285287082568167, 0.32411272014292647, 0.2545634721962842, -0.05297200535396545, -0.35828932562285576, -0.15908465289351428, 0.24237059252302637, -0.1884002128912887, -0.10215764415722467, 0.22017525673768817, -0.41081769800061335, 0.33588328947937346, 0.5100473674878685, -0.052832832086791605, 0.1501557040111473, -0.3231013646532498, -0.28734753621877707, -0.06312727253324169, -0.23737669242370046, -0.06261752110882247, 0.06839729724684243, -0.13440525606882353, -0.07810799527435189, 0.03797704049908311, -0.200629011205148, -0.4666729425027751, -0.11202699254022547, -0.1709191523211689, -0.03868994442558217, 0.26430395451387995, 0.47349115965803634, -0.128102990425681, -0.19600983723600585, -0.06929604160990775, 0.20792779045898102, 0.039096866460081925, 0.14464174848386072, -0.13034641428667146, 0.2672140691909242, -0.07343206509984418, 0.7781325085380045, -0.17734748394797253, -0.1524308002628418, -0.10681941640144206, -0.10208060706510971, -0.06061821265552268, 0.1724971657340144, 0.5387555407260727, -0.12153101269932949, -0.245661845129862, 0.5766395391240186, -0.21350026829026628, -0.13119757096977114, 0.03657563503614423, 0.44063999415117205, -0.040167121770965396, -0.1009175424324757, -0.4763876611980919, 0.28947802353098917, -0.11487488102198014, -0.10422495567784197, -0.09156834220521387, -0.054672096589510444, -0.653749030171821, -0.047063693067599194, -0.26516459208930543, 0.20765363608022344, -0.13083028525948806, 0.3269044412289197, -0.05271225340564104, -0.3641511065336396, -0.18290836765617843, 0.4427233697232807, 0.24700096794654886, -0.24684642146442878, -0.5004264639336102, -0.5356568572615447, -0.13406465081883243, -0.07401933244128951, 0.3013958351714973, -0.12363982917128181, -0.25524197308998187, 0.24982185140952654, -0.06663837304775017, -0.14387195213944692, -0.09385173666944359, -0.0927426561359487, -0.08835512297617398, -0.054708201199269696, -0.04652243313559186, -0.13899459410240228, -0.06466941595447637, -0.3345087399673944, -0.11802716864834359, -0.18683032995750137, -0.04406851882176961, -0.2003438008839929, 0.18333932499804032, -0.15213378856864238, 0.43967076643125763, -0.10527133787247635, -0.1671180741978297, -0.2589160300327015, -0.044134350169882694, -0.08847259321545828, -0.11171724242916302, -0.10411012947511578, -0.10754449987468598, 0.20373742801869993, -0.2513659735116062, -0.05482266792272574, -0.022065494112358253, -0.03553805910345107, 0.1032784038523888, 0.07927143721391704, -0.040615048725074515, -0.056491926581459316, -0.0655768576321884, -0.026573568006123104, -0.07621860045496312, -0.07954146054064183, -0.10051012090065374, 0.24951946753171778, -0.053995194276514225, -0.14464493256840585, -0.06986070481698378, -0.09307664863087962, -0.01769618260699173, -0.1143780510798956, -0.1251426471649987, -0.07793049533550832, -0.1889776524167505, -0.047018902915795746, -0.06219810447603807, -0.03847435331760641, -0.024519517549800966, 0.019791490874176303, 0.1946400027530052, -0.043942151270027444, -0.7207917499829164, -0.04109294072236328, -0.9407116475260279, -0.04059457226386905, -0.044224341067454674, -0.18717609651321113, -0.12746241149416843, -0.049173578230948006, -0.35488419636469215, -0.021855315490191495, -0.07000154426031137, -0.23477343978183732, 0.6878044174564981, -0.07592423661994806, -0.24410877190058977, -0.04250514494436637, 0.27720518765477353, -0.10764040314743163, 0.5139792723520684, 0.5263035092905903, -0.04390212969562208, -0.08330184681142201, 0.2455276060694813, -0.15750461382988346, 0.29804567282289984, -0.32152007065126015, 0.0897632341360036, -0.49904725870694544, -0.037888206099514925, -0.08315336254997162, -0.09436545614353412, 0.05312667568171492, -0.05006126835321221, 0.30966974857992086, -0.08979052417005394, -0.08286228241746986, -0.1179315494288848, -0.5071511834654003, -0.14552249975991058, 0.249321821134055, -0.04260069600847607, -0.08697496542679536, -0.13810779754717387, 0.06961944161502874, -0.037418046244365864, 0.32186903013223894, -0.12446079760732237, -0.08527859462550727, 0.7031572370101578, -0.09756428236025633, 0.22662562957351226, 0.14786006416621686, -0.035891953870490836, -0.10610904631652578, 0.2597558889835925, -0.2829933731918518, -0.18281028901603155, -0.0401614776764016, -0.16033285361056515, -0.043363817403852804, 0.1407846462465372, -0.1731494093082398, 0.2634701517121941, -0.13260749810246877, -0.23174938777205778, -0.29857822477488544, -2.29164966972138, 0.02026019727226, -0.0814976510315075, -0.3341010184680179, -0.054611818266296505, -0.048287019863965566, 0.06656397603533204, -0.10964484213101514, -0.14561270412219168, -0.15210017770449064, -0.0840697133586736, -0.21656818097046643, -0.3598954494213071, -0.7030720793822456, -0.04233379489550021, -0.03126025603598884, -0.05733991690591607, -0.04804984486146414, -0.05394606096935334, -0.03582940282892013, -0.037545775370745944, -0.04336259631378221, -0.04515486224643836, -0.0366833156195591, -0.05478780950839476, 0.2910782405517067, -0.03770337923994846, -0.1021194289616104, 0.2866644235486853, -0.5892937095831722, -0.045127985701070523, -0.05168022596398852, -0.22626545748679863, -0.06420210504205937, 0.24911757435528303, -0.09451484026270586, 0.28699986063969596, -0.05602272006219777, -0.020037599909374034, -0.2583442579197221, -0.09253610717026017, -0.6108214710352337, -0.06606621767772916, -0.2752622108938668, -0.1504620435473057, -0.0684390407183117, -0.06276326379518726, 0.2877572667778551, -0.21272334254387038, -0.33004100840275935, -0.03367065770429712, 0.18314977005725572, -0.12202754325147479, -0.0612920483339994, -0.13682681590903384, -0.06922819304318004, 0.334259148203135, -0.08436129893825713, -0.12323067949088166, 0.1472916864087128, -0.05779404518196883, -0.1839185298329656, -0.15742923590968647, 0.1002147236901963, -0.043284359691560054, 0.7308053586250286, -0.06827481970052733, 0.26913846502366223, 0.5524663472049484, -0.11462629038897894, -0.07637592540403654, 0.38522767341728525, 0.3415441870808057, 0.6572572529721977, -0.12980187645487345, -0.08923280533661442, -0.05647524790555199, 1.2457416069424554, -0.202994047253167, -0.23307104420348984, 0.34640076633213995, 0.3111989237197985, -0.237188556431392, 0.218196995292321, -0.19910390485066976, -0.12782505336057995, 0.3531785448385078, -0.19431769602318674, 0.2964292920941069, -0.1408692207968838, -0.3191092487417035, -0.42319765728701053, -0.0422913445367168, 0.21684899265587965, 0.28781926253033835, 0.435713217133364, -0.15930104923404326, 0.2374733608750805, 0.15586702578573117, -0.24574047499151558, 1.3883562149388604, 0.4266035408448527, 0.27580350166804524, -0.37654805178537915, -0.09524138698647186, -0.6179360055267596, 0.33489610577269724, -0.055542981305151895, -0.07870869588373035, -0.22706029585349016, 0.34598830424167, 0.26680732150226844, -0.43847403282128206, -0.10545786262910979, -0.06219472564226069, -0.06996167937639508, -0.059435265572632116, -0.11988827348682676, 0.2342012445288181, -0.07208191348929986, -0.36004314709192464, 0.8072988731111607, -0.007026565537605324, -0.08185243145517576, -0.08891516145421746, -0.6782354667527548, -1.0219747466849776, 1.272547203672409, -0.2959905777035853, -0.06058692543555032, -0.06071632566959295, -0.1630115013860764, -0.09958551837471644, -0.13632023065458737, -0.05581085444808561, -0.124341574438674, -0.09496352192819286, 0.2688067504207303, -0.25937013908932116, -0.12386073082857148, 0.5660963984836802, -0.09718716611810577, -0.09209711673678914, 0.5299803523170915, 0.9598935215520081, -0.15078029358333445, -0.27291399848052506, -0.11571312860839801, 0.4279899598898693, 0.01730425921613433, 0.9748478582489501, -0.10321040410853205, 0.7498143025285382, 0.1925981910286176, 0.3550130565692244, 0.19145843755678463, 0.2623473229671631, -0.02809443723811038, 0.2134867342364827, 0.2512383141263381, 0.2938178657190785, -0.11682219211016347, 1.1322859409924688, 0.6707289276531505, -0.2428387544284104, 0.6483469084408009, 0.33189680541282746, -0.1145095676377519, -0.1401456962287556, -0.32466485101684994, -0.07100096031240198, -0.05268725832972268, -0.08829256701551161, -0.43410293110907766, -0.049490837148817725, -0.06760539561121832, -0.06623672227761898, -0.13964627273845878, -0.11949078069034509, -0.03481590651843885, -0.2104847034858053, -0.29729986323303564, -0.029039777754387198, 1.4471638467300532, -1.0618228100983966, -0.02083221853080523, -0.09707564107164332, 0.17134612406989727, 0.4103757351708596, -0.13335238496038476, -0.13788954357569588, -0.27437056426489403, -0.14788222181858346, -0.28557559781626174, -0.3553040651266538, -0.17293244192638274, -0.342634322753065, -0.24052700529156212, -0.10749653202092926, -0.0380164776501077, -0.08356868732621255, -0.03334413012383925, -0.04707513220588183, 0.16912323655635492, -0.6110483391701913, -0.057880534026740794, -0.03208123209617606, 0.37925859877558576, 0.1746950558449723, 0.25507790974794964, -0.08737812435659495, -0.11842364389661375, -0.12201700012268533, -0.10595940779853333, -0.0469467279406708, -0.9203474692560054, -0.0324408665889592, -0.02691057036392818, -0.05602644986338732, -0.03431493900511998, -0.15271466440321418, 0.805301917453548, 0.37049944602713075, 0.4571551063082131, 0.1157678109520246, -0.0804226122210112, 0.41595526138176586, 0.6772261437538397, -0.10852057208700717, -0.09534261335937716, -0.06035350429852175, 0.1654865649679968, -0.03469935934489746, -0.1012696251037438, 0.25362653248625844, -0.9731703552304498, -0.06685798695024199, -0.035157526439601176, -0.48234612289528916, 0.27544026154230766, -0.2726982489104, -0.13199469300248143, -0.42480212590333627, -0.08165935307925018, 0.19708069772899742, -0.16383849545586418, -0.06454877513541013, -2.284547988213907, -0.03889622904760913, -0.046833170622935606, -0.040991549625795876, -0.07905036992731428, -0.038325337195974946, -0.022103879876754343, -0.12183676251447058, -0.062015062992348186, -0.05338762374126398, -0.023264185140454245, -0.10016507520992779, -0.11162474454613111, -0.035088767880801355, -0.06007008637585146, -0.04712914705997569, -0.06684073997529272, 0.3663456917705647, -0.09344609629658936, 0.24277855153583022, 0.25466169133249633, -0.038856416264487416, -0.05124549585503833, -0.6272142229519344, -0.11756239052763041, -0.08926505476570833, -0.039682824422026745, -0.025928115693762178, -0.061321201156305113, 0.47745889450687456, -0.03643642131158018, -0.09951228045819455, -0.09904706263414167, -0.28383669885512103, -0.34956422938277454, 0.12296332600812669, -0.022014512231428085, -0.2684178762328279, -0.062813566446877, -0.26776505626014374, -0.3809421007478647, -0.19621642349994792, 0.13518843066502215, -0.175277438994221, -0.177472697395195, -0.04829840044987229, 0.30993296275201127, 0.22030381982901426, -0.07281787908069391, -0.1200867761952861, -0.44767426206197203, -0.03623492773648338, -0.08970271960379123, -0.2386481366974274, -0.21431151634454648, -0.06804402494576055, -0.18168744748599444, -0.41520376589905533, -0.28507462096916275, -0.05201746515212294, -0.43287501640176346, -0.13318290923487341, -0.06408664850934759, 0.32095063675675184, -0.032229163643493854, -0.0687542119685065, -0.286196703519638, -0.09774335209818852, 0.2637342439101217, 0.16458247471127013, -0.15219107126158912, 0.25876484297611807, 0.07324527521723591, 0.03400895171802259, 0.6441469056665605, 1.708542622684931, 0.15129446704980282, -0.33036945541241003, -0.22498839400598375, 0.39778474746648235, -0.09050107607231242, -0.20874336143778036, -0.4414327283931028, -0.06224887711002396, -0.051439037103669406, -0.04284809223024057, -0.11304661095089036, 0.1612930387540391, -0.6822277384556573, -0.4186631657303236, -0.07543189551912831, -0.38970344411345914, -0.09820930609609178, 0.3936283822524932, -0.025187278971936636, -0.038370804005193576, -0.0775671202771123, -0.05914509190681141, -0.9950390394254243, -0.08459180043934555, -0.06943943070825852, -0.10668048362034123, -0.07317943704508342, -0.07377789186190634, -0.07081036814482261, -1.2134094284672887, -0.22365067448226628, 0.5633722234353347, -0.06771841227980281, -0.06963018808496317, -0.07872195944789609, -0.09060167510349953, -0.06603036345639256, -0.059074826850414, -0.13989029985707943, -0.031035163760611304, -0.16137498214421112, -0.09416391333040333, 0.3609856162068921, -0.05437607124243377, -0.12076348053546591, -0.1176807894186343, -0.0539249904386937, -0.058081058172535775, -0.03218232319548928, 0.36314825186387406, -0.11037840176393883, -0.05476319641320563, -0.14436426091343407, 0.27470972196825566, -0.45104543930798335, -0.056780751259578176, -0.03814634946267743, -0.025100918776842916, -0.04414293589553685, 0.21141475271192506, -0.04288774411601988, -0.021721520828946853, 0.2558634708731712, -0.05919339231073536, -0.03251092566656474, -0.07461877680029978, -0.03218708329616224, -0.451496693069985, -0.053060697245316424, -0.03763336161052925, -0.21692810273653004, -0.07188844723882841, -0.15473686607893328, 0.5414808201830265, 0.16399146513666688, -0.0028811329410480765, -0.09404762347130409, -0.1224574838998686, -0.1244225442186828, -0.11790453165611542, -0.02465306042445053, -0.06486048338454467, -0.038905072984628475, -0.14020056307006487, -0.030165134679135563, -1.2242023013840535, -0.04825155213754917, -0.4254048890492472, -0.13989594470797712, -0.046551610731251, -0.042656322084422965, -0.04920598213193511, -0.27504632787405253, 0.37752619852506825, 1.0478026318784763, 0.21441583487016835, -0.11362102436346691, -0.867494821843448, -0.04373781589948069, -0.038260503922957795, -0.02756238274769147, -0.04341047974779424, -0.07298866407268838, -0.1597371288071396, -0.1740979260739281, -0.12763566770610324, -0.16311587927790677, -0.16211638774919232, -0.033992229829246975, -0.08406215079805854, 0.31091857011085927, -0.04916570059996327, -0.035037464163386434, -0.15213293109404674, -0.1347912676056813, -0.20123342119376667, -0.0322599410945016, -0.1990670671765581, 0.1739035505179315, -0.0651762608432611, -0.1605876847987044, 0.9301183320659695, -0.21033042778524713, 0.7773474479133416, 1.3636711206601964, 1.1808358517732396, -0.16928688892278754, 0.3540130019099334, 1.1293829331103886, -0.14743153091425681, -0.026097663052122307, -0.0755952992501776, -0.1366912704168851, -0.06397226161443996, -0.2103347334801702, -0.07805576817056276, -0.10180959664560371, -0.24418106865866715, 2.216855736160127, -0.3067476547228973, -0.45837392997790793, 0.24780623043149533, 0.32584394162819835, -0.1093932146705403, -0.18068040857093742, 0.15348236616216343, 0.3977071314767853, -0.24616473837181643, -0.10290117396512533, -0.22913934037109146, -0.09528474245278117, -0.06707757620697026, 1.3460814660700218, 0.9709190820110486, -0.1588600613194094, -0.09447981864187624, -0.2013466125581274, -0.04857230952812408, -0.39235225968232423, -1.1681204352186383, -0.04337365060358349, -0.05897552113439233, -0.0740511907747515, -0.041582990506209984, -0.03630809127415648, -0.05038775418517388, -0.047499741318604426, -0.02188731602503693, -0.039537954016260285, 0.23308579674428698, -0.16319352511905857, -0.4622309653239223, -0.337905441074421, 0.261803282740122, -0.11105636051710226, 0.1709061732218905, -0.0906383336847918, -0.08015306189307102, 0.1020787542954281, 1.0939716871969438, -0.18022851135632675, 0.5989748478044985, 0.8046813647189717, -0.11682619742293124, 1.1371229734474992, -0.09097596336000555, -0.05455897885418089, 0.33399153767511686, -0.39404358047264465, 0.5852716268196684, -0.9235781212395128, -0.0630464237039965, -0.09282263613437647, -0.0927035931765264, -0.08214453894853996, -0.03506453363673863, -0.02490716212499436, -0.023972928035761946, -0.03107212824477359, -0.10001166305816103, -0.30556514226491394, -0.06569094259055513, -0.2745510407720692, -0.0579727941963842, -0.39423966527827836, -0.42812440028519183, 0.7972688603173671, 0.6388406211867569, -0.2821349768069654, -0.06520006323956531, -0.041527248847586, -1.4181050705165457, -0.09253959374504121, -0.047578612878584184, -0.026149601904065355, -0.041886125795766706, -0.026093550499634154, -0.035695909153464336, -0.09426206749840958, -0.08570367696962002, -0.2194209145179519, 0.3359732788993508, -0.08115863360635762, -0.27624904139450024, 0.510454497710463, 0.71013365080405, -0.41440733340795155, 0.208580043004611, 1.235923959706405, 0.049171125673373714, 0.22044994194018516, 0.1423008701866274, -0.3427534787719392, -0.08173424623380089, 1.7978864983658254, -0.4448163014213869, -0.0721947693663683, 0.16775116389964673, -0.11067455662109743, -0.02913269591447608, -0.08478794274810783, -0.1767781386497676, 0.4005167891157189, 0.351434316359587, 0.20754467847573285, 0.3565374521270952, -0.5328019443160219, -0.04447459261303686, -0.04672189757284646, 0.27791180128980053, 0.34144522648031206, 0.4335298491799131, 0.2568858191657203, -0.0713541318412803, -0.036176631896583336, 0.6335797771044416, 0.38834836467758627, 0.5338737759152884, -0.048602821695361745, -0.09023335233052035, -0.024840687359859247, -0.023973991020918673, -0.026473226185134476, 0.08510637833449283, 0.06975067844511958, -0.032333573114814, -0.07083624219006772, 0.6025769818364769, 0.4508557086753499, -0.3802772816239544, 0.34873566085992197, -0.03795106640695227, -0.06776757852081804, -0.12268807492653513, -0.09409158401664741, -0.10840353097668153, -0.013600088500390545, -0.08138539280930795, -0.04965911765258592, 0.3317055188547999, -0.13179836596453198, -0.05824992091188019, -0.03272741955172823, -0.07432341816183197, -0.059933112492303924, -0.02392710853758465, -0.03940067476678532, -0.05887351924257289, -0.0798042814632621, -0.07769559090746077, -0.04381309201748361, -0.05561132807549347, -0.03388291410167096, -0.08906491216326652, -0.04244778752780009, -0.10519299518330427, -0.2037796794297494, 0.3308256298858366, -0.05063503935709099, -0.04484023184028821, -0.04113647236773491, -0.08834809567927764, -0.05193123768891903, -0.02169984397556508, -0.02714522242715034, -0.07138620557446893, -0.1020945556047515, -0.0850681255179807, -0.1495147845629544, -0.03312452306300984, 0.37754590957614015, 0.40530704226645936, -0.20619697961386316, -0.06761224702380005, -0.05577524595429868, -0.24605068981607975, -0.03955175752468217, -0.20186275474201645, -0.1066598790715851, 0.05592807352058114, -0.04941927592613579, 0.2599729285885145, -0.06019398145918759, -0.0678456742078689, -0.08057740003918601, -0.10688960866148538, -0.0882369893337188, 1.095043384734527, -0.11447043871698845, -0.23836620489079666, 0.21961434412294537, 0.7112128876012054, -0.09511800900643005, -0.2637347054745296, -0.048854857003921094, -0.027478359071606367, -0.03607649003585156, 0.33913948755210427, -0.04351952675080164, -0.0338190526555978, -0.07164942361889896, -0.25124750507875243, -0.27749890887107237, -0.17039192208189777, -0.3698400797471621, -0.140096943010862, -0.10552523810836739, 0.43976091358697655, 0.0442055199208032, -0.07044989233098176, -0.11907097613607373, 0.40439962045732236, 0.38060949577742964, 0.307210746772278, -0.032704959424354675, -0.0364758636217269, 0.8797674690885877, -0.2356958660431576, -0.2121533704964123, 0.07963955356125632, 0.27328960118314505, -0.10691442281176848, 0.04498165697598419, -0.13145258806207466, 0.25925148151996436, 0.16745348207719407, -0.07447197780001859, 0.06036300089461024, 0.2053320145461082, -0.04803342252254375, -0.6163632611103542, -0.06569886768354269, -0.13499984415971183, 0.44015533193462597, -0.09348783666213556, -0.06739712569594737, -0.013620512393435945, -0.03165938071746847, -0.0669954601378142, -0.112494414580436, -0.034280296729008675, 0.14317480699562768, -0.14694594425772678, 0.6634195333462829, -0.33536840218677644, -0.08152543158183088, -0.19103711591293818, 0.08441672691919515, -0.06964921657542293, -0.1826448160597813, -0.179532670820926, 0.30149638275130175, -0.041149278061332194, 0.29264518415766555, -0.12970780163461795, -0.06636692397246084, -0.15242379080398258, -0.15764660394809732, -0.08003563967640512, -0.06690431303358983, -0.5875702803487634, -0.17582244908555678, -0.056418191439585444, -0.03338467721314736, -0.025676429135873084, -0.0807155270755338, -0.0139803467287037, -0.06431485979516412, -0.03746149602537527, 0.4056371299562477, -0.057808444224367435, -0.03024962950849908, -0.2984360003417299, -0.04328038397657181, -0.05762627490103054, -0.41803055202929856, -0.12893070036598622, -0.25571350731178083, -0.1986580885463463, 0.3434463062887938, -0.1272386817644361, -0.13147383706511975, -0.08880198329651176, 0.05279044004113216, -0.11008694842994851, -0.166667037944037, -0.15857106402637783, 0.008001557978547954, 0.580318102031047, -0.17364033724083355, -0.0717821153178791, -0.10280394796151764, -0.05209369072938913, 0.3738324976655455, 0.7777247477560829, -0.13893496623417603, -0.19816159348929985, 0.41571539085038467, -0.10828270236250848, 0.018535573013841757, -0.10328209279467898, 0.3299702183430447, -0.05197085617950851, -0.0867070260283035, 0.4561481373300575, -0.04442578112294404, 0.2403768341708763, -0.056870106706732614, -0.3265309318429482, 0.16859186579433838, 0.2811131190606863, 0.31521039393617495, 0.32815852679749524, -0.2739205861152932, -0.219369585433022, -0.12972615741846052, 0.015941788865189307, -0.18748112249790228, -0.256162798610429, -0.20600912332037968, -0.06646877083639803, -0.19643855452061998, -0.11383516022385858, -0.04731589704527702, -0.23118229519248432, -0.05059769641952354, -0.04109688108011126, 0.5847306002752075, 0.13486561002675596, 0.2227525584470517, 0.31448550407148806, 0.35615089374065145, -0.2792812401990964, 0.24397056624606228, 0.25199212229280876, 0.21634792063693997, -0.05085181070883109, -0.0768990748064221, -0.0759700198140604, -0.10049499545760886, -0.09618181665128486, -0.08923727075569007, 0.10795034822277441, 1.3697678330417866, -0.13795257394923957, -0.07153797403114551, 0.40747907567251895, 0.6399981644330817, 0.2639554643562495, -0.1812625440467894, 0.16400544674257655, 0.14863372438001987, -0.12272582670642661, -0.4462701366289134, -0.09485929072827635, -0.22153489046118624, -0.08050322500669739, -0.11295429196261723, 0.4327892490773526, -0.06224603425535747, 0.7277005902273213, -0.3210888651750911, -0.08610988794518483, -0.023527826722592755, -0.1259081075387449, -0.0528056748524002, 0.20865207882795594, 0.23049773144557822, -0.06725863747491667, 0.49098698002102037, -0.09237385527763134, -0.24608200314203657, -0.6748614783159265, -0.043039869909252654, -0.09784537910522721, -0.12157098688704818, -0.49200755401912594, -0.1978519021571422, 0.6054153354296121, 0.5627218504564987, -0.11614022076472164, -0.05334005281451558, 0.24369519000160703, 0.3897131410716112, -0.02432785139624198, -0.07558942113797142, -0.05294476686934193, 0.12253629952024615, 0.21143169034890508, -0.20174873213430056, -0.10340901414245737, -0.031698040681095226, 0.18865947143897263, -0.4620000899148589, -0.1970041830274636, -1.306194198817079, -0.05812631698321039, -0.13000539041762052, -0.07334369467371311, -0.038060837462058815, -0.07216149757943868, -0.0661873777526598, -0.041948460074686326, -0.09070473203840863, -0.04566184775016772, -0.026590253112465757, -0.33898402149197404, -0.300116218057536, 0.09494836563919916, -0.04105945939559164, -0.05857839586133995, -0.02801827223056955, -0.022218773422712848, -0.06016197288374508, -0.031600417777023444, -0.014509050226844592, -0.04399570230404462, -0.04314824859438807, -0.037230960925301794, -0.033815636604190256, 0.178926107275678, -0.02801537348915376, -0.029565595476696363, -0.04100919022264669, 0.2749640256902385, 0.38452886852013035, -0.027555953513008262, -0.2569440339123418, -0.15645670418035879, -0.2445495637323063, -0.1319992243599385, -0.0743098761285233, -0.09055286407035533, -0.06960447328666301, -0.0996801624070001, -0.2240459192311949, -0.06587063277235479, -0.5189601899741643, -0.48314907555943903, -0.07613243579823295, -0.08079329255683526, 0.2968004082325423, -0.1444561027646482, -0.07215407585265905, -0.05383485264642466, -0.027515105490876445, 0.3158904653520112, -0.09550311845270128, -0.10677351658876619, -0.03889063380889017, -0.07316161118544241, -0.08349411117570346, -0.08294604993036506, -0.022309389884263158, -0.2260656475988856, -0.07467988248083583, 0.1376512888353234, 0.33763937070751004, 0.1942550116692369, 0.5624101157109489, -0.19286216774914292, 0.22027327369105856, -0.18603539733797844, -0.06756373673808169, -0.041501290322125066, -0.1194723747899451, 0.2923459267526585, -0.08566630624711596, -0.11842565421090677, -0.23345034499833991, -0.07681603859784285, 0.3403179645356296, -0.2595009183234337, -0.05658995164914073, -0.10529569591458884, -0.06647404125869757, -0.04668956320555951, 0.20388235986963418, 0.5265274332382307, -0.37519843482104176, -0.1552146702831633, -0.08894338063100587, 0.3102938851889824, -0.1043457280169305, -0.027842407094785228, -0.03388087338451355, 0.1327880999631258, -0.049976043120285064, -0.1446491967546044, -0.11312241579635017, -0.17947119473429735, 0.25718209626730837, -0.0943912059347067, -0.058429698237935285, 0.16872600737693597, -0.05708809649503246, -0.20768578648060002, -0.10118947143295798, -0.14293758912844834, -0.04712438170086508, 0.40963480444395295, -0.040031417216169485, -0.04321847902015885, 0.33893390464407785, 0.31699677238374196, 0.10739885745054775, -0.1338047722067078, 0.2675801249560088, -0.026783785432272767, 0.4209590657733624, -0.06635337088317807, -0.06692825256136134, -0.03147092180808185, -0.17377544780674534, -0.029722487572269553, -0.1022266883277926, 1.274664999701304, 0.28426029353056487, 0.12129145033497912, -0.259205102136483, -0.2727331080739946, -0.06157528456816286, -1.0643585384873282, -0.028891974707849995, -0.04317543306016515, -0.015781446702647212, -0.03308659019412952, -0.037103755286327984, -0.02798160220139789, -0.045470043099828765, -0.12241961343643634, 0.286992291248168, -0.050592185125677966, -0.2500631107103972, 0.16165434728203035, 1.5966456243366314, -1.4737937305648712, -0.03152626817020931, -0.01939032312280514, -0.022243428057268734, -0.021200371005944414, -0.03550316632420487, 0.12293882810294762, -0.0774339237918957, 0.028201971260198036, -0.2751838489315381, -0.10061002074442321, 0.3273762936335306, -0.02518705171920792, 0.36368534916819145, 0.16452464808035897, -0.20902440767805255, -0.10321580981714097, -0.05747483679879169, -0.10969360868522314, -0.15047115117415777, -0.1854282479091141, 0.4104456789358709, 0.17718616065156295, 0.6013414006673834, -0.08863323186015785, 0.20992353033942082, 0.29650619417129687, -0.06989301058385682, -0.17471950971172506, -0.24863216147382158, -0.04930806908400411, 0.28169779292347696, -0.04284960758213257, -0.05041550943217109, 0.3760941533155011, 0.5575357354465729, -0.07792032419260601, -0.07022841067444467, -0.05207176379634905, -0.106921944755994, -0.11036165877818417, -0.05735965381433724, -0.08981823572621751, -0.41235919368063584, 0.3795013657016502, -0.07088741371152835, 0.8056502210671095, 0.24247538104078492, 0.4429259859716689, -0.034845288281370984, -0.11972253210825039, -0.07224893115994632, -0.03160018688974603, -0.06768332926389169, -0.22443080795453177, 0.30318597873763137, -0.08400741912617868, -0.0466117225597131, -0.11522130080890168, -0.05258670169691924, -0.0386391008754819, -0.03688152376177035, -0.09106625455405798, -0.23792263189194496, 0.2908338154804791, 0.3265526836366114, -0.18695936225776913, 0.7711801134268247, -0.09940681195416118, -0.11269853041887387, 0.6450411332769315, -0.14708387620244823, -0.043486132535358046, -0.0628356473413462, -0.8010178507248253, -0.3129731367123536, -0.5852143856174087, 0.30286636946061885, 0.08640576305936239, -0.3009939639046348, -0.19537568442927478, -0.15498837976453234, -0.14121150197927368, -0.38807948726734237, -0.1934792110770686, -0.06367741025054285, -0.10739035583844495, -0.10156673147800069, 1.0034073094412104, -0.13097327632761352, -0.3136937843589601, 0.6919944987238902, 0.3818956858787864, -0.06636585876514596, -0.09799977958319332, -0.2910529504029749, -0.06734933195847752, 0.34127707846518274, 0.2686096192277113, 0.33289020609102066, 0.5402974360761796, -0.18659285110844337, -0.09727081442713566, -0.00042780899356754996, -0.22600371040276507, 0.3929432253668522, -0.15142406987411086, 0.08290059686275084, -0.17392952972256015, 0.015915823587187912, 2.1794760010244323, -0.13631600749263298, -0.17842971024172483, -0.12211772002676598, -0.026172136457006355, -0.17280565130960715, -0.05627014613756227, 0.04926989082153524, 0.059756476164238, -0.22755055291744553, -0.11994016309415183, -0.23580996637716933, -0.1319289900482558, 0.10625316892999453, 0.771034696377308, -0.05524514482681423, 0.3762243588848959, 0.2787567984262274, 0.7821854065812512, -0.36673888622214, 0.0879638010030084, -0.17275518175582455, 0.4218461353285639, -0.06006587123292243, -0.07609981142120972, -0.08396864740905896, 0.16262531725042004, -0.2572761327926033, -0.10177884960731003, -0.06692539899268159, 0.34753280745910353, -0.06472208746117897, -0.054223041969331615, -0.1481747820736103, -0.10932509953263367, -0.05879472514862455, -0.24385660466014283, -0.1074190296341363, 0.3107697812948483, 1.0662636224233866, 0.3483874902998371, 0.5906667921399932, -0.083959220256423, 0.16970743034260452, 0.6193464326245922, -0.07858773256443327, 1.9494533461346017, -0.2272171393219133, -0.12925002656494147, 0.07462047245834982, 0.5973309654088793, -0.12978476112034049, 0.3794587237487804, 0.7989358620565006, -0.07076208903965013, -0.05002345283250577, 0.3727662851139171, -0.5311215356529595, -0.10524179271202791, -2.5539004493512443, -0.07391397989482652, -0.04254422013183387, -0.10547384506340508, -0.3344570380295591, -0.14048947231918682, -0.10274837314928466, -0.04562742174922868, -0.21404555747313417, -0.14688417888224134, -0.0398434817874752, -0.050033511656347784, -0.023247949642318824, -0.06561300132231895, -0.04991359894566366, -0.09165114076613004, -0.04795877659340682, -0.026661536870407513, -0.18482294944503683, -0.07139978794378152, -0.2829725041770479, -0.12945620526720014, -0.07591338052529902, -0.17619113416368654, 0.6436432958623688, -0.10126300531174443, -0.47225098759104395, 0.2543093354848256, -0.18150466263469026, -1.8826426147299393, -0.24733436141904086, -0.18378975856164198, -0.053491344765597214, -0.049592461918541345, -0.16625500293520573, -0.03451247932053794, -0.18001551480763506, 0.2833878785274188, -0.10243961655564597, -0.11281251779584561, -0.2897788005649191, -0.08425683865261122, -0.5744919448483256, 0.04512792175048617, 0.22910341726220024, -0.20205286048939017, -0.05443484864106522, -0.05525698174084668, -0.08199210599160915, -0.12004074235931124, -0.08696972375051702, -0.14667582181144323, -0.29496803366891494, -0.033978895602046116, -0.0762725974402895, 0.21691194959061638, -0.2577626087418406, -0.1622413213921791, -0.06916447264570583, -0.06314260671677308, 0.6436609653585091, 0.31440738810986774, -0.16830648953745553, -0.0685087096462107, -0.12000447137347717, -0.05073046428427172, -0.06295056872599497, 0.42293978402171384, -0.21556279814001697, -0.4778648823713069, -0.2669881763569064, 0.4983495447707686, -0.1039373624537116, 0.3916666685475924, 0.2827659139938632, -0.0389721626747939, -0.1639979615540985, -0.11922900942605848, 1.2115204833292055, -0.10393068998997766, 0.12502420237826356, 0.13506602217194105, -0.29128782823754107, 0.09486325974201547, -0.17500477156477556, 0.2774155989652745, 0.1804512386011073, 1.619607379086274, -0.1347937315282588, -0.506972006887247, 0.3854266946310761, -0.04844814517633751, 0.2859503175005268, -0.08596374843052026, -0.8503258197295783, -0.0975955715140959, -0.03758902330058431, -0.11849424979962855, -0.06285644397849063, 0.26824719785942464, 0.06818717819439236, 0.03592611920083536, -0.09530896737454395, 0.022277245294633638, -0.07685680717809776, -0.10929085813896253, -0.06044698950635626, 0.13646712759495977, -0.145397907577113, -0.1489104331619374, -0.2106647771610112, -1.0024045133747748, -0.056668848631729996, -0.0706279297629976, -0.23181364029615245, -0.19167528968450223, -0.1018265740075372, -1.4246245343524788, -0.4933531533971642, -0.14034964660991853, -0.30655177506390535, -0.4429879089779847, -0.06473645716956931, -0.3540989649678172, -0.10917662599489615, -0.11465406660035331, -0.13200281554618162, -0.19138793442913052, -6.59746985390275, -0.017983025240478446, -0.01767807854242905, -0.0269224090639822, -0.14594190133133803, 0.17900260568629311, -0.03599051640482461, -0.09319668435749827, -0.03304916633176219, -0.026406409058236487, -0.08389710514372856, -0.06567621425015838, -0.10491698689263486, -0.33921644029355147, -0.054309227432730506, -0.07149480775951615, -0.06725462421002996, -0.04647800410583286, -0.028597149524467097, -0.0422165344476532, -0.121228533047694, -0.020184180516494392, -0.028657442836904586, -0.04208467581347568, -0.028541476631078824, -0.0297520486684046, -0.27089017846475794, -0.08813833599053293, -0.08486287744921468, -0.14364501676391933, -0.07685909681838712, -0.0964732470723797, -0.037510838713001225, -0.030200780633932757, -0.02085562591321498, -0.02234686063725957, -0.029267200432619725, -0.03736263602204289, -0.05241687657808288, -0.03379717482539662, -0.06116194207868989, -0.027375556812524477, -0.0727961427217945, -0.0414700233567002, -0.039615601450148495, -0.02119144025539578, -0.03821536790992848, -0.040872631941435734, -0.028957730994694404, -0.05024115790682761, -0.12713049331155538, -0.1318403691067777, -0.037687363831795516, 0.9051191661856838, -0.06223523369183368, -0.02013489736046027, -0.057987140236446806, -0.15065049544214917, -0.01904999591982212, -0.04505210779717244, -0.03725601612549452, -0.03319573414924415, -0.0253325611311279, -0.026372317700289794, -0.024381123415745793, -0.12173403309267901, -0.11912751448729991, -0.16948555643050195, -0.037460275845924325, -0.015263428537135637, -0.035728453767228, -0.06189235326706761, -0.049422011344571935, -0.07957433326804396, -0.03118758057261199, -0.033892527781053, -0.02345942737034119, -0.024132837640744188, -0.017497323850374672, -0.0404522671156891, -0.0921067862805381, -0.017844067029171087, -0.027627154218659036, -0.08374883112466022, -0.03950082559557093, -0.1296542900531844, -0.043393654380271963, -0.03637962592988609, -0.031409968165255965, -0.043017603309702994, -0.04729152914702652, -0.1346080022807932, -0.035648934262798374, -0.022618479820376312, -0.024090993300129572, -0.02796501192589186, -0.011383933733219215, -0.03699962688625837, -0.036187670342342375, -0.029689328915031656, -0.06250336764996048, -0.22109099886108158, -0.02319307083825727, -0.12173332022320156, -0.05132357888974995, -0.05004425468820586, -0.058696883672251524, -0.17190649044610895, -0.19328638298444945, -0.1310369559191876, -0.025651890175477386, -0.0166808970488161, -0.05396358099681011, 0.32535104135564313, -0.03155815335408043, -0.022144520126925377, -0.03064333580505847, -0.0999404632879932, -0.017348860406139515, -0.04403721221513667, -0.019457205886524852, -0.02486175944951596, -0.041705254094039544, -0.08577968352976452, -0.026680338485813082, -0.02973232275408779, -0.15659842120108505, -0.10201787710398413, -0.026888737364548367, -0.08339639728852152, -0.023961372774915925, -0.03946763571006354, -0.026893042075007367, -0.08539913167944976, -0.029340341613265614, -0.05543097161923873, -0.19811705918676273, 0.3898543444260527, -0.035781231185600455, -0.041516297197848745, -0.021128645694463783, -0.08321485748945577, -0.023578795482046503, 0.1335626338203176, -0.03391448636657263, -0.023790851283589532, -0.023135108301635794, -0.03006335807594506, -0.10448888806934988, -0.13940542004636494, -0.025214293199517943, -0.04553231846557354, -0.05850445869502577, -0.0346251757200067, -0.03653657338096144, 0.3217499720592201, -0.062236630502101264, -0.058507664118552315, -0.09575493879190902, -0.04309352882333987, -0.15546082232810426, -0.10803003298263349, -0.07319682243528337, -0.1835342567855065, -0.35368813499539015, -0.08610808426977909, -1.3041077546407651, -0.06940415082534747, -0.16235342873181438, -0.16955788839936276, -0.1122156000526962, -0.2419980886598462, -0.4768640002949579, -0.17432752525094566, -0.26498819125751466, -0.13316629815117975, -0.47322648786655247, -0.05698436336332999, -0.09162874734661622, -0.051026274128208274, -0.1819289681526307, -0.3438075810103602, -0.11827249393616945, -0.23447902469775772, -0.030278883992348873, -0.18810753204267772, -0.3275526045980653, -0.12948119891692736, -0.22115439825060063, -0.06641956758340863, -0.09405596881882602, -0.3797058046035922, -0.07513597521519168, -0.07067036964930523, -0.1896561284122368, 0.3027076554257297, -4.913657567240373, -0.02888388087138834, -0.032136201067922705, -0.07995615297123285, -0.029996387360840215, -0.04604659035556862, -0.10476442464402559, -0.057963405963078835, -0.026544026942915397, -0.2125324157265209, -0.031489514631127015, -0.01957893550332566, 0.6846795620120167, -0.020956370973127584, -0.058077342792891236, -0.057166502278229045, -0.033061823138634816, -0.038609771840478126, -0.04739850242227239, -0.10233264418358198, -0.031894795084255925, -0.07385051979552815, -0.02665619341696464, -0.24844676003794386, -0.05732903516972683, 0.3522758540745324, -0.026723176699807057, -0.044620231279565666, -0.0533957568780048, -0.07064197798669189, 0.5399523524178146, -0.02191257584708584, -0.023846590717587195, -0.023743884423092842, -0.02518282833361879, -0.03327041777258771, -0.04905299003618853, -0.05900541463196704, -0.14103174564900983, -0.02160951955890685, -0.031455899714387385, -0.14064593448831836, -0.04499748273434966, -0.19239292491254337, -0.16972879540470104, -0.048793714276598586, -0.023266055886061933, -0.08792952126579032, -0.15575869479541254, -0.0948102225804916, -0.1469945466805867, -0.028118277871673408, -0.05049299579352861, -0.017061381821743347, -0.09990998732286131, -0.0254904043450001, -0.027037922511167208, -0.04726023692453148, -0.1098962242815674, -0.04132937166657661, -0.014922253082189219, 0.20020556527111927, -0.03571468382406365, -0.01851827648523508, -0.02745161597600341, -0.015072648339423013, -0.03479717399196019, -0.06735751884965724, -0.029258358657841165, -0.03482265600467027, -0.07276577336040203, -0.032869554692603616, -0.07698785293998661, -0.03686836541378653, -0.023511853159105693, -0.017613032636232442, -0.2703724523932908, -0.15443215846813013, -0.047970572588340026, -0.023631563159361567, -0.041420905025569034, -0.04589664334750017, -0.035025887240105504, -0.025549482777727735, -0.04658742681130402, -0.009189740458111545, -0.07200452872188107, -0.23489817939822719, -0.02838057605238579, -0.19570525471617536, -0.037636774919131324, -0.07373727785451001, -0.025771559021073143, -0.08488939714641018, -0.03762792280318099, -0.033868274237045276, -0.024740604470909054, -0.019204331754303115, -0.03949216244615889, -0.050408296519696895, -0.040003159343221226, -0.029044768273946607, -0.043320875907340954, -0.05838864992774445, 0.26080172016570347, -0.033682196627177856, -0.030055523369665615, -0.03125307689371806, -0.016711104274374607, -0.03681588365382416, -0.03512872242721817, -0.10341248870135979, -0.04684961604392317, 0.4723614694639128, -0.22168629071274693, -0.09697826069475027, -0.02182012796154066, 0.2810945685984539, -0.11740291647487189, -0.30677183917353906, -0.13373740832143138, -0.34624573594885333, -0.3209235891589679, -0.06978286421794172, -0.07942302442401822, -1.1067497714004426, -0.4858071930780169, -0.03793933389127997, -0.623300480531587, -0.7876645334929115, -0.09507903493745602, -0.4075808570804211, -0.08903848817495359, -0.10203381809920367, -1.0476520598687784, -0.22005247676104778, -0.12005407285964118, -0.040090918553608065, -0.07981184415905411, -0.5064085625990203, -0.08813874532682527, -0.35776801577294504, -0.7860802317714108, -0.09148436416201094, -0.049264725400697096, -0.23320681987558434, -0.9046246132584217, -0.36731617026346874, -0.09128527980311517, -0.41216832870695946, -0.39181801090393825, -0.08522352929739793, -0.19719835073798644, -0.4421055006909965, -0.08345835222768595, -0.34933546718069025, -0.4098841799082591, 0.0262937200792776, -0.18962238799484016, -0.13137994739334566, -0.3153836911771433, -0.11665485523246766, -0.09121967648663382, -0.19202418628846812, -0.1461336518805566, -0.18477603648441063, 0.6158299821729523, -0.10737981850797529, 0.36179093635765996, 0.17006752995648833, 0.44597099247126804, -0.2795893322976379, -0.1355222210959468, 0.009293988205150054, -0.5419103449503253, -0.695967973293726, -0.09614066043753264, -1.3294679327783392, -0.05418804359914044, -0.0956756047871077, -0.076755498501037, -0.035844491188874616, -0.07011889127711614, -0.6862458555947158, -0.1054091859789077, 0.07072737382500126, -0.08467413089142364, -0.4246739278323042, -0.0355876797347129, -1.1086062581135157, -4.178425245694652, -0.014083524777212298, -0.04502712614138255, -0.0635027244420078, 0.20276380857385623, -0.06392238395530651, -0.05156819480492962, -0.07045176566016097, -0.15908302859197235, -0.03493730166066756, -0.017183862262211188, -0.040490237058707475, -0.021715525557856816, -0.04885883088011272, -0.03657862360313291, -0.07329020508591727, -0.08874560705341945, -0.03251002386463518, -0.10778005151258664, -0.11724077804590481, -0.024266220434828924, -0.04191982259641229, -0.06345222498426961, -0.08579542879033009, -0.09076995450081238, -0.028245819862622097, -0.2073931055102848, -0.027429509583825482, -0.13536702906505052, -0.03238527381555667, -0.011215164480255932, -0.04421810623483516, -0.037069911942820236, -0.05508140352189356, -0.15410427332350995, -0.029709956153460424, -0.04022639370998787, -0.08001210666654371, -0.02768866615788907, -0.16765484745215792, -0.02067244930035713, -0.2696748993663448, -0.045028042949727336, -0.0474921923236276, -0.0374300247349896, -0.03936354750271259, -0.10702576429855822, -0.037744365832243956, -0.01612497912902764, -0.024095330318268215, -0.03970644488022364, -0.0960459867595715, -0.026293797759184525, -0.024190474227313834, -0.3167786552661599, -0.05312744445847352, -0.03600407090853219, -0.06934570775226813, -0.05912706004681109, -0.03684607260506884, -0.03659154487149445, -0.013232977642038759, -0.029242921432846528, -0.03663999814804084, -0.11502027438979182, 0.39681661165116927, -0.014037049214733192, -0.09058767557370899, -0.04766930943974857, -0.03384439072200573, -0.05546556213007022, -0.06838047989201695, -0.05097876837300949, -0.08086538192554493, -0.05212397330973141, -0.08941715666122768, -0.06130492164738285, -0.0344525013687925, -0.05027118343295381, -0.019161169273527626, -0.030169421131128922, -0.0715384148705834, -0.08344355546939711, -0.04652741469498598, -0.39412074798391383, -0.04474698686242267, -0.036223545043412395, -0.0804376359569783, -0.13567727803032145, -0.01773614466222808, -0.07169567318977142, 0.3936443149518443, -0.14963721364198393, -0.31179188208347564, -0.1615391924966684, -0.3145054624691965, -0.09569819320225359, -2.159993332197417, -0.01981157716095641, -0.052893678208516696, -0.07354889506140293, -0.05185872989935955, -0.25425667953725173, -0.13992103820619942, -0.09764777318880934, -0.04563282530857965, -0.04583351835456867, -0.07930526759202615, -0.04430952798073305, -0.019505201910423143, -0.028222725693874833, -0.05975279745878506, 0.37933097208229083, 0.4561273628695253, -0.2458567393085492, -0.029198794078716422, -0.9497453565400656, -0.0520406084868032, -0.07560130394668245, -0.030955148525388262, -0.07826445448206994, -0.0908955714607429, -1.5024451268129981, -0.028186752118849356, -0.5086831988637648, 0.17334172059952566, 0.10741623829940786, -0.03166091941514705, -0.019323331548951824, -0.08175904176365825, -0.17471381525392263, 0.5020863131404832, -0.00955852838794886, -0.04352810047336068, -0.03488656754048029, -0.03006722875020059, -0.05960407974688806, -0.04552702182907788, -0.044105390780715716, -0.10942551539155314, -0.12402758414056335, 0.014080128879310611, -0.05502379504023495, -0.0655099120315136, -0.06511990748586853, -0.2514097403102711, -0.042951817497456704, -0.08366019529616057, -0.01685420895254819, -0.0869533590253534, -0.2943516201334505, 0.3755744184991654, -0.028389439843113148, -0.028404177529752845, -0.10681004876642664, -0.17963917533591314, -0.05976278711847437, -0.22559453988752862, -0.02938536937142962, 0.24153066404553636, -0.03890261191066151, -0.20083927256927503, -0.06198284098853663, -0.050411165729425174, -0.09704482408901603, -0.1724867025507952, -0.10860519233333388, -0.16954495164060554, -0.30534927045922644, -0.2504828190471731, -0.07368322669568082, 0.9248041975990119, 0.3761027357433489, -0.3022885178499972, -0.29811165793661154, -0.0364919016237977, -0.12047376661589329, -0.1992092784585925, -0.4425127015444552, -1.6475856419929886, -0.03651395054275241, -0.12218849163442276, -0.018968147876852214, -0.05757537448336647, -0.025070213580486035, -0.24881393492729556, -0.043270650454314045, -0.0728382451413666, -0.042520413526507816, -0.06278136651048272, -0.5486458818440306, -0.9894395647467074, -0.08373113179920166, -0.43860487289222566, 0.4321847690176311, -0.1117098553007831, -0.16855460262494193, -1.068181310225229, -0.0392587301314402, -0.30869995554905666, -0.08242140214376761, -0.15506361939942825, -0.20187233059699292, -0.0407965397103875, -0.08089124648870766, -0.563909153459719, -0.11856379740635534, -0.12417501033808048, -0.2181798022377965, -0.15880245482944605, -0.20759557370290274, -0.21092169024211108, 0.3681804132523366, 0.4827759298955495, 0.18722637454103058, -0.26095743857745746, 0.3210238486246706, -0.0656576680811657, 0.7209388456854462, -0.2702966848842567, 0.28525211502281145, -0.26736754858149386, -0.10734020482246294, -0.03886353066937437, -0.11108151722317333, -0.4574793783149198, -0.05504579309050834, 0.8590077560691552, -0.27411736297059114, -0.08935925778528113, -0.2926537144183531, -0.14302658204627303, -0.22615061001654538, -0.032039618479642595, 0.2109188530643107, -0.1333692488003789, -0.14930269921698336, -0.07648585293580148, -0.199865101497748, -0.03160816218560681, -0.008014408013536985, -0.2300191721209345, -0.08080318748299689, -0.10997239745741398, 0.49299614350396986, 0.5505228092511298, -0.2181546493055508, -0.37419986736558275, -0.11424870260277314, -0.11300972878768328, -0.08113300387420097, -0.08524943153867687, -0.09552191767906884, -0.19012206312132532, -0.07720812144276361, -0.10727721584251407, 0.2556739295917184, 0.25152302350815775, 0.7971459860361203, -0.07828961445248378, -0.11170016671442938, 0.18178189319401591, -0.11871178651284982, 0.04658583549661809, -0.09192598372949191, -0.3213962569948256, -0.0917528850846696, 0.18901925872438807, -0.03606684439638446, 0.7189265897994491, -0.010186244560706686, -0.12686807848305515, 0.21916685139689782, -0.21242715353433986, -0.3784443634426585, -0.1361491760242162, 0.5142411134923222, -0.2652771448252844, -0.15086632640190034, -0.18468164681126326, -0.4941238761951683, -0.12327966457276394, -0.21706099813737548, 0.7893963746685456, 0.38871885388756927, 0.7998769819027542, -0.5109743592801249, -0.11837509990334409, -0.07080623111683566, -0.08289647343376826, -0.09203858227891674, 0.18607045502867728, 0.3663708497922967, 0.4382597202237753, 0.6370234891615532, -0.10396805540759285, -0.617633597771548, -0.12291070442150759, 0.4546076343351193, 0.848301736862603, 1.050910685736532, 0.2188453265669706, 0.05004976129971351, 0.7639504717817139, -0.008774084939240987, -0.06763785262505424, -0.08152278703759587, -0.6083188350447482, 0.5442397764311936, -2.4360207030891563, -0.28299521446137393, -0.3838787840924057, -0.15285089170432453, -0.1043947314471727, -0.046426102638218794, -0.0407278266042514, -0.03556256521732193, -0.13039188059728082, -0.047063820791401006, -0.05612912432451377, -0.03752219965445347, -0.018335030021435925, -0.04302040521663065, 0.9428663395716445, 0.0858466577254918, 0.23168274622979576, -0.05918413059326994, -0.08818636405743557, 0.16552055555557954, -0.18610687097303333, 0.009966698377410706, 0.6419677485139348, 0.7924184951472855, -0.06899159490489971, -0.21616674587186627, -0.041139233591054064, -0.16782521627273864, -0.3205791898181419, -0.26350750723791017, -0.05329886872376417, 0.7089792013406837, 0.33449388210498565, -0.05593038409898996, -0.05850232343242663, -0.06103537552526699, 0.6857221430776957, -0.10302313175555092, -0.04817020398130327, 0.26640448757146085, -0.13549236387980693, 0.6234826943848368, -0.24927827811053893, -0.16229163576706856, -0.1424390446191698, -0.14584230235004073, -0.16026687224320485, -0.062229866805695484, 0.25419974433413084, -0.12355575066957107, -0.15585649871589635, -0.14519614329003808, -0.033098485392473974, 0.2133349836348231, -0.09186303080435139, -0.3858539727259035, -0.11256971737018029, -0.1390873005241985, -0.05966456879273096, -0.3311273259355842, -0.28989421893938705, 0.15914423132275177, -0.09830160489008721, -0.08176511288883691, -0.03065154730921955, -0.12936895400188791, 0.04426746634176994, -0.7144292687353668, -0.1404550296450949, 0.3648209861740462, 0.2780513356098841, -0.4634917516546554, -0.10922365818818684, -0.04658679904259475, -0.670820170504093, -0.06389094586114669, -0.14345349553011136, -0.37218519227105934, -0.06260149122908074, -0.05583979915990466, -0.100012253805701, -0.11558644936325231, -0.05456313212716251, -0.3217517903942229, -0.0572980467641009, 0.03785687255962117, 0.3128129784169482, -0.1303934434388464, -0.1818202148555821, -0.03398143163694876, 0.5065129074172932, -0.035519429217840855, 0.11561830839937577, 0.37003137862684915, -0.039179918234032024, 0.3138056950272399, -0.16198206469523801, 0.2203686031376113, 0.027185644796819987, -0.19232614825901875, 0.18814346073318097, 0.018203546031105758, -0.29402284880851076, -0.0875539722827457, 0.5926844350904209, 0.07726694733052059, -0.43397975189005505, -0.04789153274798602, -0.07570081156052112, 0.4659611934956875, -0.057195097812174515, -0.031767467788197494, -0.04296972073263403, 0.46084588622117945, -0.05654032277017912, -0.16926606018896018, -0.057343141822011334, -0.24471324127819433, -0.08238178895766986, -0.047905427310605236, -0.0441927264717681, -0.06191549551488223, -0.2930679424152473, -0.30830645627373265, -0.14005815836553456, -0.07179799752758341, 0.01361317034311611, -0.11012451219360808, -0.11588499380072187, 0.20234234354769767, -0.05225007639756908, -0.2253449612944185, -0.062477499698902796, -0.21822984703400747, -0.03184063964207357, 0.03881812405294131, -0.057832946224809265, -0.6143904421924626, -0.04108272079509898, 0.619968181816339, -0.04800156879410812, 0.0038542780109705453, 1.2012795468108082, -0.05623607929377733, 0.15002152156043808, -0.04598303338168118, -0.03007463622226964, -0.07669554056735287, -0.06844740622598651, -0.035474667718525574, 0.13485069469973412, -0.013369662654051174, -0.07272607076391782, -0.049426020385374636, -0.05032273118137298, -0.08490906141058183, 0.09815763181528857, -0.06008087559156321, -0.14708367821180232, -0.2786198118517505, 0.1411999846023902, 0.6621123939919581, -0.08311819472801428, 0.03931476338040302, -0.47228079994886746, 0.330283420352449, -0.009498873795742381, 0.3390400296304209, -0.03329833242300509, -0.06014465495903123, -0.4852097057500317, -0.0494104674319954, -0.12148425918142315, -0.3364400321905311, 0.011562409015484288, 0.09895418923231092, -0.2165629073795539, -0.28714292743439257, -0.040532707799034465, -0.0923221914991857, -0.04007736470979866, -0.03720279513629578, 0.2778058454548478, -0.20732767837629634, 0.35641503997447604, -0.0507604306118016, 0.033480242746198825, -0.07619314758706261, -0.0642399658865124, -0.14351241464021447, 0.3656063649945452, -0.041692867733688965, 0.15546315182091464, -0.07036529758212137, -0.04018027134786384, -0.025731505196375962, -0.20730574047525654, -0.16803873518450158, 0.3789083623982568, -0.019470637604894512, -0.032399814332224046, -0.19786860592694291, -0.017758023371899044, -0.06237757982528179, -0.057835608183443514, -0.3019710406292869, -0.0589240661604883, -0.15417885058476627, -0.17311804447799503, -0.037796494082993425, -0.02855207034942282, -0.1260740292831112, -0.018086599021337555, -0.13067296499683811, -0.6880354584851784, -0.05170021552845276, -0.023874500857952532, -0.19260523425840834, -0.07810092702301571, -0.041675882509372805, -0.04182088241126237, -0.04711345725563598, -0.03304701721295807, -0.027867037332466166, -0.08458917917009812, -0.07095649980797962, -0.06620701850566584, -0.02646469942482417, -0.037118673499216034, -0.047345133967471274, -0.04231927420617109, -0.09267342605683263, -0.2446232031820929, -0.11956167312812066, -0.2974030765854452, -0.7758504323262843, -0.7064779440975181, -0.0865339934754356, -0.2515140268979585, -0.13152147311292484, -0.3312976569742984, -0.08466586471343902, -0.17926868426549328, -0.058838546438144346, -0.6561628497804537, -0.05554894942413989, -0.0577497928006838, -0.20038482922298848, -0.014711221654757656, -0.09777440803884621, 3.013818137925621, 0.1045492826936164, -0.052921116197933445, -0.3735948673557366, 0.44103686687651383, -0.24247071409943335, 0.5104009186697029, 1.388411661425224, -0.31997479022434927, -0.0871363972873648, -0.3071942921234073, 0.05321488495565316, 0.07868425567560464, -0.13867402025108913, -0.5021992267134288, -0.0641584183358613, 0.8952457044582376, -0.2323679017636119, 0.5719186758414538, 0.15774501959807122, -0.2638295833035752, 0.6894244864936809, 0.013440356632500225, -1.6391076549110897, -0.04957688878802997, -0.04413601540890631, -0.018496049934849566, -0.11208527759632492, -0.08709902312401482, 0.16823718342466182, -0.06715534924553308, -0.1355574109159876, 0.8405931341389681, 0.1989792664494611, -0.03664320449751044, 1.48516561521388, -0.11617373750919767, -0.06671466852766533, -0.1915741726168731, 0.8354956584709385, -0.07990817776486177, -0.03693171651187819, -0.05591272191900343, -0.1694022495389688, -0.25589131148553185, -0.08961033700935786, 0.42294460967722314, 0.11329368461966832, -0.14579755658621654, -0.322118125967755, 0.14593561980017267, 0.15703883844131306, -0.0380001115384675, -0.06957126128925538, -0.15834253330103645, -0.1427035455196811, -0.2730174747720036, -0.05840194231339632, 0.6984911484647054, 0.25822440339846153, -0.18950353014467447, 0.3667574533367174, -0.06701099180313816, -0.14409353512527306, 0.3151114066585414, 0.13719828451186092, -0.22856660901224937, -0.08304135029324022, -0.08887896862864471, 0.7872745752487622, -0.26952354234338655, -0.09539599106706674, 0.309912945768366, 0.6883877069800786, 0.24105998814592206, -0.17957492365888164, -0.05310359860203942, -0.23193297414761688, -0.03978905888451111, -0.06885748446478683, -0.11734879704598963, -0.016872554355341154, 0.5402292407877132, -0.23540543138401587, 0.12863968684903573, 0.5151556397922606, -0.21208106566775906, 0.06591168057561227, 0.32720697436061674, 0.29864070239325197, 0.01479789304930864, 0.1300311962917901, -0.09666674528009671, -0.231530597555408, -0.04183885690610013, 0.7738591793890299, 0.26269383429120796, 0.18158105031961108, -0.37720428124110644, -0.680749667896228, -0.2455968592067751, -0.2753682763843171, -0.3494535292541392, 0.23078831530840607, -0.13400760617319152, -0.34740505969641844, 0.47321073296786303, -0.12178804321391157, -0.09350857197109945, -0.07064099260187437, 0.4282568544973459, 1.2435011476715838, 1.9130508805312811, 0.9496385623216236, -0.041447608332990306, 0.2658941834501125, -0.11617297221400026, -0.2794519542939272, -0.1745535998389942, 0.056839186727389995, -0.3917982860761707, 0.6364457128028412, -0.33524152765900084, 0.5915009008714202, -0.36053193668663813, -0.04284960758213257, -0.2723360134062832, -0.20753086723618655, -0.07282485985426453, 0.23278798290339278, -0.07278717042198289, -0.06807287321271466, -0.17546597741879594, 0.7154000159863445, -0.033098485392473974, -0.06349659106734959, -0.048113654973341684, -0.10412204368778413, 0.057852976975585224, -0.03441115219329945, -0.0985498590729911, -0.05489124665711937, -0.032847516582325605, -0.07909566787967283, -0.21111502038228983, 0.27094055239127085, 0.8261344726945394, -0.07717494722005629, -0.0641804247459825, -0.2167078663283474, -0.10333663165851929, 0.39692162408819587, -0.09976878898103282, -0.034713347400934354, -0.04203546924867374, 0.0010691682267245921, -0.05294026235508591, -0.046688536405796385, -0.07069801943982522, -0.06227799039463276, -0.10875289622384954, -0.0903491028997477, -0.12210243605348209, -0.014167664403232015, -0.1197360263053096, 0.05100530667978707, -0.04963759148748432, 0.3504031270508126, -0.04497598345571637, -0.07616202775427992, -0.19446872259630796, 0.4663888070219489, -0.056509262174220774, 0.3511924857931395, -0.20350947387421406, -0.1325549933747799, -0.5049576364610787, -0.040205670076669586, -0.024123221833410622, -0.12419362256205552, -0.019364899176328436, 0.22569942240555574, -0.15973158908841073, -0.07745596476504696, -0.03605011919556241, -0.028684454918004358, -0.046559858823542334, -0.08463000093614699, -0.05767486709829481, -0.0722127377210887, -0.07173940775224447, -0.04170111940146911, -0.2945950244211176, 0.2414877999866166, -0.1193325596888948, -0.1896089445698042, -0.04839576005058561, -0.06255550899125238, -0.0631831500121272, 0.2671686691456226, -0.04930318841732263, -0.18313306205708066, 0.2493513218351027, -0.06733275864759129, -0.026504433113946613, -0.20196599518843336, -0.01276340523839259, 0.12412108217261009, -0.05046159216783817, -0.24740148101102713, -0.07933083760317099, -0.06253261603345572, -0.06706309299980673, -0.05678283444722407, 0.18923955450540295, 0.9962215123602843, 0.4021007983050625, -0.04605555201532694, -0.49222767162326037, -0.10720407428573589, -0.03683452386767406, -0.054508487423669934, 0.45653644323782994, -0.1007913706823847, -0.5936793478880169, -0.04454105629883837, -0.13513140750352728, -0.04581332013952216, -0.09715425243351584, -0.05204641544451787, -0.17967310645908277, 1.0255426983111815, -0.09738647596543802, 0.25677939048546705, 1.263842885969878, 0.27733902839644203, -0.41667285352201294, -0.024681148192296356, -0.1534117266189091, -0.11675809409878053, -0.07369735258153595, -0.9019456023446244, -0.18519328066607546, 0.7471705259260394, -0.06901251738359251, 0.12796209633159042, -0.3275579438597511, -0.08643054139155669, 0.39589470529332593, -0.12817894010836184, -0.018536292903718537, -0.21600391448866837, -0.2741736523871616, 0.037020349644888234, -0.17066843122513362, -0.07256041310890911, -0.04802934853584133, -0.14210262995773223, 0.4336222219462349, 0.32778918767362, -0.01666014608046906, -0.0761810800867467, -0.05233049256519211, -0.19918616030847253, 1.1166677957904398, -0.0758843589377333, -0.08565481751722952, -0.05959677873729418, -0.1032628882331934, 0.8407803016091749, 0.09249364634705842, 0.5706665979374161, -0.3073893847551361, -0.08711141631817072, -0.07711628144539871, -0.44905507268953565, -0.06938613022837631, -0.08578451683368021, -0.02391220771099864, -0.07873502652841205, 0.704579099585989, -0.03330480839117775, -0.10669281645108177, -0.07660887441863287, -0.13214308308394485, 0.1960998933981073, -0.06083733567335621, -0.07782475922102523, -0.30678686083706713, -0.3276842904105881, -0.04369735356257739, -0.10981595997776936, 0.5785097527160693, 0.09962034679128041, -0.1472648210593245, -0.4891131710217602, -0.06294456336407313, -0.17427446673080904, -0.08203688405930122, -0.09428632568006116, -0.9669591636193917, -0.10152990010662334, 0.509110003121976, -0.07292014289646657, -0.08812260827225966, -0.1032646068473658, -0.05990766983804395, -0.03831312115672664, 0.3183178778684151, -0.026523851196741777, -0.04563050985753888, -0.027469938119885927, -0.06749341055596543, -0.07451358915167018, 0.4924608933164325, -0.1649436241284423, -0.1326562548849504, -0.0646422524976854, 0.6447678768800054, 0.9170331154288984, 0.04975947789813267, 0.28487358840425264, -0.07754353498134048, -0.10628573596953436, -0.27201897516057216, -0.12314359874160855, -0.6048048468197076, -0.2272990148600076, -0.08510146143815477, 0.037169673086074134, -0.05432379140468701, -0.12064843152580854, 0.5536251276313555, 0.5485759079847656, -0.04957612492077847, -0.06586723490308335, -0.24831641390248282, -0.022603261737556706, -0.5044218640031567, -0.03500245412379932, -0.12164490215746956, -0.09484147078112606, -0.4633033607509725, -0.018918690171996856, -0.046215983763660796, -0.0533996539663921, -0.6286793156104035, 0.2729740115398853, -0.3272029541521048, -0.20992566422679745, -0.14488999868642724, -0.06677119499602714, -0.042114496772635436, -0.08300665704992118, 1.5369525518281113, -0.04064953259685792, -0.02997428547826193, -0.03083929388416215, -0.03876393964312788, -0.18462343879834303, -0.3844256532544198, -0.12890002845117468, -0.0595778208201444, -1.6517158599767259, -0.0496702640721805, -0.05834022752479864, -0.09020150659420045, 0.06374017351478797, 0.07594451925536716, -0.023440701569754373, -0.10614042330210413, -0.042353589529524456, -0.09825590210227562, -0.028382314196186073, 0.4368925186656116, -0.05897276638841176, 0.37629099409164535, -0.11905428260060395, -0.036025019795956306, -0.12130912089205259, -0.9436317329580942, -0.27303237710351014, -0.27800975092167074, -0.04378868281789109, -0.03804520844005874, -0.06167856069173631, 0.053161115167075154, 0.3191533552866753, -0.2167874661600913, -0.057136805805654695, 0.24738746405070097, 0.7642437524279652, -0.31103144148398776, -0.1062637684723545, -0.06354204708882517, -0.06354204708882517, -0.04148827515624523, -0.05174888679176333, -0.09452764007659045, -0.035964698275625796, -0.1199247241412142, -0.108877537119593, 0.6265182463045342, 0.11116660511280271, -0.08505166495803644, -0.028236279812075278, -0.0797584630287091, -0.07087708568565686, 0.21959750750643217, -0.032239052308367114, -0.05015514071443928, -0.049404381324941855, -0.04106065609740303, -0.14004404220316372, -0.10064949207193165, -0.14516026971113502, -0.04850598881808451, -0.07832870397406796, -0.04822082803721648, -0.09507658181345285, -0.11395776155361277, -0.04137905641921304, -0.05356094562338067, 0.305609027723593, -0.09583309552059928, -0.1532455305971635, -0.1184002090217578, -0.058561271477759365, -0.10630321225016985, -0.4654784677266925, -0.08065826267684996, 0.34455103613609767, -0.05344013760795797, 0.26720315633960684, -0.03533427432760312, -0.07084874492864077, -0.1654398329538161, -0.5549089961617913, -0.10918796652236964, 0.3002960972374505, 0.44383138230465363, 1.6277508512649668, -0.0799570703066938, -0.053635190545180456, -0.09932516269570751, -0.028351715035407062, -0.2843190680508177, -0.20084833502594127, -0.09770055078252436, 0.18758144459978243, -0.08440379625702205, -0.2729356851237408, 0.7387021527641467, 0.7839258662759028, 0.2584373634745188, -0.18382272754442594, -0.040728340284980236, -0.07126395919383165, 0.42517001391938775, -0.04994179403108063, -0.04039034363725962, -0.11469503372479894, 0.37254312400138223, -0.19213740092568815, -0.18210916752111142, -0.06146574358380191, -0.12375306377659152, -0.09349203185575088, -0.03613436084918224, -0.027908903266697118, -0.17316764437068152, -0.04065342254066776, -1.0896672756255184, -0.062081747488704736, -0.028371895080029005, -0.08392909600305984, -0.039262335343424715, -0.030854826998994892, -0.02342952353696929, -0.05337157292014909, -0.04811385730561954, -0.08602222416149645, -0.04687515484834854, -0.12899071082509592, 0.13132750305839255, -0.20154461462948825, 0.5133130945793205, -0.05642366857475956, -0.11688554210505853, 0.07995115701842873, -0.3154263635082821, -0.9268532464340954, -0.2603502534867816, -0.012767217009167765, -0.03180541937500594, -0.02964187303155147, -0.06644140624528798, -0.11848707667099673, -0.06502996820709069, 1.0184743295060348, -0.1552912203971465, -0.09443008724883718, -0.19281773440293437, 0.2975687486232224, 0.12314382710443465, -0.40481238131556974, -0.04132763254810706, -0.3325606477069599, -0.041738172620423515, -0.08635858202828109, 0.1871006166920049, 0.2722206773102097, 0.35938553160785625, -0.07969833859142755, 0.38115849931945933, 0.22748456877926188, 0.22372369154971666, -0.0889378490034253, 0.02275097318864464, -0.10050848032703838, -0.21630357921753604, 0.11752554380348479, -0.25685427546844786, -0.20433036136958518, -0.12234260427680001, -0.11910320324036491, -0.06129538614954106, -0.15187452347088481, 0.2168147012571393, -0.07329766875801266, -0.06911000817307783, -0.10980153387567745, -0.2643376721813249, 0.7500745083205704, 0.3981578927938358, 0.2960536217419534, -0.07236402042207726, -0.08980522734398622, -0.14861229295482972, -0.14298797979749414, -0.5123375282010658, -0.21110632312665828, -0.09320516652761437, 0.7753253164210071, -0.30834268652100927, -1.3172526751428801, -0.0654150356743137, -0.010197990208153889, -0.278750670586012, -0.9606828916742584, -0.07054554971296519, -0.013524288704222879, -0.06274028895041864, -0.04262090419260453, -0.057944362209138664, -0.041557046299382304, -0.20566563404147006, -1.6305459265289084, -0.046662276708286474, -0.09862925376499079, -0.14950282152552286, -0.03176647365649747, -0.04952367933334791, -0.023722013366180118, -0.1422662209654576, -0.06987592435241545, -0.04966627702908434, 0.3044225821318382, -0.182911936819677, 0.14209733770359467, -0.08405928917952897, -0.30569682056409214, -0.06109371657064954, -0.055628079365510015, 0.41260652741024356, 0.5747875227339669, 0.8560307253108829, -0.07509878899619638, -0.22901216130868984, 0.06304632302074607, -0.02181557220062318, 0.18236631045514584, 0.10010478540015925, -0.5690190740034871, -0.2570990274254787, -0.1428845768295338, -0.0501835598013726, -0.5302136523286354, -0.10847278867189818, -0.19104947752283635, 0.16406249992236907, -0.20463251684100547, -0.026321229791674432, -0.030403385537637776, -0.021503536232638197, -0.05768476340195016, 0.31060567715681964, -0.3027314251861305, 0.47731625982725095, -0.07167438924672351, -0.042800192258679245, -0.10967965054459115, 0.6299229079421901, -0.1677497976314868, 0.2005970182425428, 0.26812397116473724, -0.06861637967996925, -0.0932936224077162, -0.2823986383429304, -0.054486297671361955, -0.12366442238336724, -0.09929973244871595, 0.5093749029730767, -0.33272664839800103, -0.14061918814932986, -0.4423376392810811, -0.09312459617556625, -0.09852125585300052, -0.10416648635234681, -0.18776057368262172, -0.1223503504547074, -0.09504902850642331, 1.6679338119726894, -0.33371262825058534, -0.20743717673526493, -0.23984972456875614, -0.31377976975937927, 0.42046471190537615, -0.13395393825653862, -0.17384379207411071, 0.6744084227231855, 0.008954578181202578, 0.6004590019662388, -0.13863710971675278, -0.46542356053233813, 0.25409358695467893, 0.25193833098515994, -0.02516032089924366, -0.1050715450808601, -0.14662171615933328, -0.08228796781639147, -0.3468737714187416, 0.30904216760141, -0.04947318480763359, -0.022028997133958967, 2.216298515593432, 0.2937778966741331, 0.2917010486839637, -0.03051969532971468, -0.23314347145079894, -0.06769597206336818, 0.6171692723676444, -0.3171243912166268, -0.09393292570432599, -0.28352196719236306, -0.05414234706427458, -0.06034668022282477, -0.029175068194128417, 0.1189521890815559, -0.0875832636859, 0.11406681285911073, -0.09640348125508416, 0.17472573803516014, -0.0897686809987068, -0.37826249361396075, -0.12116953704068605, 0.7886117960874941, -0.08787201976436876, -0.15996460710725266, -0.05444945680163745, -0.07572109327119651, 0.5777903141537305, 0.7810922358549915, 0.33699146780907935, -0.06134567354680145, -0.1857707589724401, -0.10501162171847007, -0.0695561911121437, -0.06738917297644809, -0.24434876056819296, 0.3502929623217314, -0.6493119214561037, -0.038200508235890725, -0.17309719674468058, 0.8578403042817545, -0.04191078409024142, 0.14830730735225875, -0.026515262757138634, 0.2403741754285153, 0.3105567563738881, -0.19758176906664315, -0.026810229761663192, -0.0701055821931599, -0.49137261345066785, 0.3445254683058391, -0.23822451184116467, -0.18786620914016153, 0.1987413573267668, -0.2961981480815165, 0.1777741586914443, -0.28466495004680786, 0.6692151705349366, -0.0432089020318192, -0.125025303425829, -0.17833913036778468, 1.027071818564865, 0.3225067689401749, -0.09432727837794588, 0.05331515760956081, -0.04193177697203835, -0.06961264115415723, -0.09145946334393357, 0.2695749708285172, -0.06837375774735482, 0.698049680168206, -0.16748744293676124, 0.3786045289479354, -0.1657407437034166, -0.08115767661468107, 1.2045502713064409, 0.217083126715299, -0.030076522302336386, 0.15919359114040782, -0.14002135957164116, -0.18185937366433505, -0.07752924022377954, 0.6445793167222097, -0.03731823260162206, -0.11770131322552313, -0.04116644394996507, -0.06410045033532, -0.1917030107562005, -0.04140195055139626, -0.03610497041295251, -0.0728825924208423, -0.09288548083606717, 0.10926383143950358, 0.2207957763180635, 0.10106853288185168, -0.06317880614088926, -0.18563745424228725, -0.2488111409950517, -0.18653206916590243, -0.2245333206581211, -0.0806783535480599, -0.10916653134048285, 0.5225606006702198, 0.15751913503241427, -0.08790279807695382, -0.0701090167840702, 0.23075051127664276, 0.8426583132785056, -0.18336445959442008, -0.20236514868146868, 0.08119312040561227, 0.0565487081474364, 0.38064212095013983, 1.4555315079355173, -0.228689967936001, -0.19522831695014448, -0.09841105537898458, 0.80508575906824, -0.041694793785417336, 0.3394046562810875, 0.2905779307992512, -0.4180861279877075, -0.20787024974179852, 0.12993575515278802, -0.09179468487824621, -0.3465813090787329, 0.3872899944140693, 0.04523570189196627, -0.30399098882913067, 0.4027254960830563, 0.4561273628695253, -0.0700413016183264, -0.07758493694176105, 0.0351925129990386, 0.3486235074445481, -0.10788941243057042, -0.3068602023024796, 0.20241199662552203, -0.05973440174372827, -0.5585225094332182, -0.20017152560060786, -0.0706400881480185, 0.36460468126041173, -0.4998843938464717, -0.4152322920425953, -0.19374592044733624, -0.08822444582558213, 0.29062240393030414, -0.22867878550988646, -0.4326685907435154, 0.22032712046799444, -0.05745037046163154, -0.1137939905090304, -0.28710218750308236, 0.3933586872770415, 1.1537510356737162, 0.3237357882640253, -0.054140546565373156, -0.20978651232729723, 0.7132625941280839, 0.11323641951906194, -0.21585805186490342, 0.3832532841680628, -0.12606322088915428, -0.04604976816716597, -0.0673822747772197, 0.6199384494114019, -0.07062465193678254, 0.24515467263690147, -0.07907032846368198, -0.20992791610627065, 0.0020558620501388092, 0.3013066901866602, -0.10585874576889673, -0.17580968273000952, 0.12971271075801008, 0.14712424901008847, 0.32100821165010796, -0.2911047298236561, -0.2683117881912293, -0.09527088381353041, -0.14790786322347968, -0.30482449144271595, -0.07426560339712561, 0.18576927502802823, -0.07243377802413199, -0.06607454714331558, -0.144354165974916, -0.09819523676945527, -0.026503069812131307, -0.05002582444013928, -0.06810802199223386, -0.10711927433693533, -0.24097436563611077, -0.01139356934052745, -0.07415497681678766, -0.12012447620613491, -0.09111209504329473, -0.7077056806584335, -0.08924313657591315, 0.37673844490680125, -0.054618529605623724, -0.16874514492365422, -0.14865745609514297, -0.1000689611310585, -0.3363223972716857, 0.37967203869602056, -0.045549331340474536, -0.17690205670311715, -0.09461206651423144, -0.0082918284066575, -0.13179546557855587, 0.4348368841337748, -0.04854192834387555, -0.26680904900102115, -0.0698441955786203, -0.12520411422257097, -0.11252890965968293, 0.3511550138618753, -0.06908586700092063, -0.05415655387749131, -0.04948687788369468, -0.029291405963823295, -0.06262590884102398, -0.05611382515079024, -0.053112068923093766, -0.10440843650122394, 0.48349889290203674, -0.13268454666533216, -0.1082734080928433, -0.14731049613972005, -0.05027649363014118, -0.10247654656708002, -0.027881155242869476, -0.030016333323341703, -0.12899071103802018, 0.8920584242831819, -0.042647065367897176, 0.19198701539466959, -0.05466736808943596, -0.03823161297353482, -0.15762167286432444, 0.15776094424439685, -0.03251432347021473, -0.06485008780179766, -0.06294156443693019, -0.052082169538733666, 0.2234607991718774, 0.2237338232640955, 0.2358641962004424, 0.565345613480281, -0.42213722156752753, 0.28938101463434207, -0.585382520029135, -0.05203718860714169, 1.1215817567861492, -0.8370728015450557, -0.09831768345806174, 0.14583249403537435, -0.06973333492159489, -0.02413528808626129, 0.5833777413585823, -0.2874621433824886, -0.11945163005321584, -0.054009032089560774, -0.06689985555214285, -0.6973111132635933, -0.0541708619239029, -0.09465339107539708, -0.09725579420588902, -0.03900864022750153, -0.32007844140879654, 0.427169651782391, -0.20778534872936733, -0.31535626216134405, -0.03885166326732421, -0.1745543584913405, -1.0617523451022068, 0.2631618401873241, -0.017501249033499804, -0.02557915734325501, -0.04063452001995692, -0.024472112408440706, -0.3969831251066744, -0.49048583276460683, 0.32664878371994505, 0.006981215031143301, 1.282986932417843, -0.2083357097460494, 0.9680114529605964, -0.35816529277856374, -0.07420611623970774, -0.09690679095730398, 0.37669353909610215, -0.1219097956524435, -0.12233254103297828, 0.1466084918553199, -0.32799268135876936, 0.8219111407236167, 0.400275446763306, -0.07934586808487419, -0.0795078824563706, 0.014028014564964093, -0.1475983989946482, -0.048777646332197576, -0.09904607450276155, -0.23869525315647794, 0.04622680804805766, 0.43140787708173844, -0.05969869999841603, -0.1857706250557615, 0.38802807523942817, -0.1605230104913504, -0.18489826768732534, -0.06953300595365412, -0.5202392737608132, -0.14324502688290275, -0.03191099552382776, -0.10602142094950452, -0.06982907058467204, -0.3539897973726475, -0.04684098146129282, -0.06270950252623168, -0.0694604017034817, -0.10131599498145645, -0.08860793087969342, -0.10998972541116085, 0.49600208440390237, -0.17700381623549025, -0.09545310133812189, -0.24171140520182424, -0.13040530524397706, 0.4420542560943542, -0.11487611779957536, -0.07147992981157042, -0.09794569138868872, -0.20196908537806377, -0.1634155851376535, -0.12992018489368334, 0.10122435881732116, 0.2840207600522036, -0.059503243395964134, -0.2520367165721694, -0.11668050085474939, 0.8844933941696619, 0.16480224717338873, -0.13125672182962933, -0.18231505682232713, 0.3413336467574359, 0.257661172606774, 1.2161759632816285, 0.37158872575350377, 0.23810227047294047, -0.25583351206036714, -0.2519750269976584, 0.9842060097696985, -0.19512432484830228, -0.044947893367082214, 0.3356045995676916, 0.5544739951034872, -0.07637563679817835, -0.11093950698332122, -0.05291529063061864, -0.011992391480880299, -0.06764078924796599, -0.19421507864534884, 0.4157243312992078, -0.11275545371094117, 0.25246065720244887, -0.06089826104192164, -0.14094924034052345, -0.054537181896404364, -0.1294695574442299, 0.22673306696601767, 0.40533440210868693, -0.018213394096468886, 0.3057738119703326, -0.036234963405118795, 0.31766937397116324, -0.07720842111999829, -0.11074767598960794, -0.0806079052721635, 0.1579845978493339, 0.2407061552583574, -0.06483924731846628, -0.12543604565167243, -0.13138636306049475, -0.11188712147381233, -0.0815854805379015, -0.13077337474122083, -0.10335127071649125, -0.07791853329482229, 0.24596071734202374, -0.1864407561300474, 0.8463316022026532, 0.9303717300333275, 0.054416968362496404, -0.05241175187803313, -0.14548755717914325, -0.12732637593014554, -0.08803865845622667, -0.0528296437016746, -0.02198610637118502, 0.0926345596240678, -0.17161836180578294, 0.6374997189918272, 0.1495609314941776, -0.2651839141883333, -0.107978359914198, 0.36104109613138236, -0.05507462184958613, -0.06220156329721772, -0.07311016373420005, 0.07610862951999184, -0.194770664388344, -0.05876070250420678, -0.07811391912610807, -0.24102183517555054, -0.10595461217476891, -0.27946887109812496, -0.04098800499925309, -0.05622009086592057, -0.07359769027425787, 0.2691070355062148, 0.26435774528708705, -0.0998293167436671, -0.08310118616856647, -0.04455266697386047, 0.24367601335531766, -0.04728268745991426, 0.6546384788976285, -0.1269038643102965, -0.046087446522545754, -0.3454488926676023, -0.09461196920913992, -0.04658994025308625, -0.11793421626374898, -0.05937445349536286, -0.017515397283550182, 0.28390750551749483, 0.47402214499629014, -0.21819076113078395, 0.34125048115555723, -0.04651768248917577, 0.30623144819025233, -0.06731260066106237, -0.1915532062026493, -0.1672441911246375, -0.15153837560121017, 0.31229518039868814, 0.0022529419456056954, -0.07546692415789057, -0.08303009989813294, -0.20894618957242786, -0.17351461646059754, -0.09807832323495407, -0.1304915779400316, -0.038395151393589066, -0.19422539736854463, -0.04139592171277912, -0.08376950726716845, -0.08542042543774091, -0.23670737103082176, -0.04167790952930936, 0.18423250398841112, 0.10631149156461298, -0.07811877608176271, -0.0525979491851226, -0.0913454305779817, -0.17814030952546234, 0.08750745073921934, -0.3587996881643311, -0.1724242290054351, 0.31950686675419926, -0.07093424138516553, -0.11367431965467299, -0.17148450762233153, -0.17802356225700716, -0.251973871342677, -0.043618739768942746, -0.4060068391294848, -0.09563839549712672, -0.0684799648940239, -0.4973853882213204, -0.2713161284702394, -0.4346756321537429, -0.19736750381443488, -0.1750718966591518, -0.07561953818479343, 0.1317562920040704, -0.07109538923823489, 0.10851623299812158, 0.013168596176318792, -0.08074697000628597, -0.1437238608068761, -0.08383911972502457, -0.06375080114539805, -0.05059769641952354, -0.062219634000476004, -0.09986869222244918, 0.24685852773429984, 0.2776609209541397, -0.054886590155132434, -0.08699683450277405, 0.8323322771209265, -0.07943227930490868, 0.13298324289271374, 0.354400724781906, 0.2469531917856941, -0.39538309351352924, 0.3084740277142854, 0.6056136165370266, -0.14904221139697837, -0.20992317511901082, -0.4344508089509123, -0.07099636885436067, 0.21634963866162998, -0.16363126766144273, 0.11820652948698906, -0.0889518175226271, -0.1855354497860898, -0.018608956155640413, 0.3790902302000859, -0.15421111998991308, -0.18653229063356166, 0.6095981000469856, -0.04420712760944827, -0.08089328023504225, -0.2931911980667055, 0.10993789486596305, 1.1591760905992343, 1.1059801738562116, -0.5440134357085505, -0.06434979503210307, -0.31777338128777477, -0.1343151761331114, 0.6210727183727893, 0.6130648792429712, -0.4198808455052315, -0.18258252364290323, -1.7411925215361201, 0.35724311498355127, -0.016220682507708133, -0.03978263739797805, 0.30193614480421743, -0.04394100191246496, -0.056740927456513116, 0.91882202114048, -0.056054469740483934, -0.16417843805769045, -0.08659458901528994, -0.0679412382592068, -0.0818855118177068, -0.11929652961947101, -0.027741603494582778, -0.07643215228634231, 0.44264980550265326, -0.017313364510311492, -0.11056226511157324, -0.028639453095021458, -0.05107837556760341, -0.034811923891067846, -0.096934032837891, -0.07274252724693896, -0.130666818819635, -0.01474814266443986, -0.13089209738184027, -0.3589802005834383, -0.06157985899901613, -0.04850764297729333, -0.011886556002886456, -0.03889260986580043, -0.18309707592610028, -0.24004794276028607, -0.045478924377329, -0.15217511237984227, -0.3174514991899186, -0.047745561530538785, -0.03358984244402559, -0.09767764354471456, -0.11764536758620651, -0.06561983977371147, -0.027227895043665146, -0.0607865736077609, -0.11565592358651426, -0.19051245174880768, -0.0744953530108278, -0.1738318487571772, -0.13497649541377116, -0.060318925996291475, -0.11482251169565874, -0.7230752471438375, -0.06557293238465345, -0.05454189819384789, -0.055397368206410086, -0.09328651836455067, -0.04128986573421157, -0.04789159743851888, 0.2690875858827165, 0.4714578322454461, -0.11437822113932163, 0.3443545240712703, -0.20936585473708794, 0.24461167796769848, -0.09020016848970448, 0.1905488296837015, -0.02196990740714399, -0.23325652509901035, -0.2771599125895407, 0.5350031463719747, 0.3998926664855699, -0.04094096197248611, -0.06709433373366239, -0.03239739420704384, 0.11676822318103759, -0.09504875905310564, -0.06439319618240578, -0.07675021212486545, -0.045681002679127315, -0.05034537419312749, -0.135670071155081, -0.0817016253439896, 0.3758557714518733, -0.0799859339772937, 0.05719150070772293, -0.3706498608528759, -0.08868951739526718, -0.2593263895952566, -0.2496599737435644, 0.3841319525264137, -0.12845250259595217, -0.3013854623727797, 0.2951698130121934, -0.3411536022515183, -0.07842824721096425, -0.10847637814126918, 0.04236562409450834, 2.2107346101142182, -0.09280793526207823, 1.065720318499939, 0.5808789581408758, -0.12354914339201473, -0.04016661901843367, 0.6939085134127139, 0.05470737547771105, 0.3096045415732939, 0.18644466799249212, -0.3053282935335063, -0.07649622003833498, -0.10920150508404977, 0.2704814553343436, -0.029902218630028957, 0.9711161631694857, -0.0807630478027271, -0.035474680237706516, -0.03270278621463915, -0.07492114635926428, -0.061431689413359816, -0.1207452025634477, -0.07739930003164004, -0.07518539549739901, -0.18920460792793922, 0.2225347667850204, 0.12827476039081848, -0.6567363772066187, -0.27399194577142694, -0.14069333621166466, -0.07902346824577168, -0.1266155057209529, 0.615025652429686, -0.08139344748538273, -0.08082705648016802, -0.08909492547649535, -0.05552214311568522, -0.07388478333188499, -0.1503470835593039, -0.22550145458417947, 0.7636587995321262, 0.6002342984358953, 0.040536442476326, -0.08449891689182724, -0.10602805736348256, -0.14677079187098446, -0.0036776858991524534, -0.07242463457263645, -0.030672241872581874, -0.23868536442545257, -0.4613886982258999, 0.24441343005440394, -0.19112161728224816, -0.09706138878573668, 0.1866731783671132, -0.13623353700017968, -0.0648299593466455, -0.13902140350792272, -0.05193884523153052, -0.07819015738136889, 0.6149472751287071, -0.14042813667813261, -0.06043891626134483, -0.04949844005808571, -0.2979598657965785, -0.1818884061431219, -0.18966485345367418, -0.040557833364837315, -0.16896152204912165, 0.2777246164872629, -0.051171434622425724, -0.07046753182122902, -0.32407574853210125, -0.3392587740841693, -0.29262955900963494, -0.09784583260174436, -0.1454145956739893, 0.341993378177033, -0.10945980781529656, -0.15046000179814556, -0.07434791603583772, -0.06074007872627357, -0.1869877605400818, 9.16525538304974, -0.18873824898823557, 0.7264458766303116, -0.2631768719586245, -0.11585046566007885, 0.7223201412242954, 1.2143173765593978, -0.0219269206621191, 0.41059213856874627, 0.005588194271889991, 0.45523425427111336, 0.1307028638383917, 0.005001056433649633, 0.4776517066650704, 0.7257675765259742, -0.05317601450422157, 0.5506100377072461, -0.3567617818430583, -0.6911515554864556, -0.2971678197261215, 0.5812743998186064, -0.29851323009347147, 0.284363111560285, -1.0271597633243743, -0.03073154273023448, -0.02075310818691464, -0.060340703106039714, -0.10482844728995987, 2.182889287647147, -0.3677937420758852, 1.236976317765034, 0.65883602037837, 0.18254245757719467, -0.11573180582477097, 0.10497548166595556, 0.2579475861952361, 0.391103530670316, -0.15761418768198798, -0.17107417341674477, -0.16243645347725325, 0.21408081145499835, 0.3247775149681213, -0.38260496913106345, -0.0442533895969307, -0.03125265865212232, 0.23087740646019625, -0.0461966314660571, 0.24697962084052058, 0.35446656245894864, -0.05443009790785484, -0.19099371743460314, 0.3915673390486687, 0.7337106270904765, -0.1250808158653924, -0.01897329596227875, 0.27611301834393526, 0.07191532280933048, -0.12922088504681098, -0.2522140856647965, 0.45131164884997754, -0.05025157449179296, -0.23405523410508355, 0.11449602367325729, -0.05610349689427895, 0.28111400546432824, 0.8927221263554315, -0.06369333296154898, 0.39116259656824337, -0.4012588585086868, 0.2915453572625961, 0.25670647112917794, -0.0534042881731105, -0.07757336945466088, -0.0835108681459017, -0.020034239914703777, -0.03892213204316246, -0.37843373025143706, -0.09710644201050996, -0.09851454029677828, -0.13007923905793345, 0.13110459719240208, -0.07370375470898416, -0.06727356905060032, 0.708906816691539, -0.13673818060195536, -0.09317025755154493, -0.17371993346440653, -0.075919280990399, 0.22656799541885383, 0.8926815591893342, -0.4244822578209011, -0.0515093105535642, -0.0574864327062886, -0.06726639743578162, -0.13090086866102676, -0.2129888431171995, -0.0647912833104534, -0.07106227357475552, -0.1263130050772298, -0.1925433790100106, -0.0612704461371265, -0.06047677128114627, -0.09492093916045521, -0.06718706239200169, -0.5193289346721777, -0.03630150267870983, -0.169491412579606, -0.06533215233799894, -0.5287885492921133, -0.09194520501357496, -0.0705422089610459, 2.808641338559513, -0.2942659121882557, -0.18438048743806662, 0.17599951233123415, -0.7860883279831603, -0.03115768659956875, -0.09981446631711619, -0.010598229059669523, -0.14013881037848133, -0.27605771103424603, -0.19477981794582563, -0.6584723764212397, -0.16534161414106419, -0.06848078743688436, -0.12014554292746754, 0.27472343841331937, -1.7711585453677234, -0.04224332892908796, -0.036851548264500496, -0.09780479030039334, -0.059274410608495726, -0.11470913603600666, -0.04561339320421879, -0.024934791838413337, 0.71330589132578, -0.4431728791001352, -0.17725801691549609, -0.09066088199585465, -0.09505876492083709, -0.11641029630963041, -0.1708769803546193, -0.4349923581169233, -0.10866544940667935, -0.16864631407020556, -0.4152718546243519, -0.02013359029660056, 0.2102348953130002, -0.24714368047395285, -0.18936974065019208, -0.08763957145487603, 0.15454364307931737, -0.048029959825618494, -0.06770552123572472, 0.5605765046338097, -0.22791820713383545, -0.05701939429493199, -0.2671691291448679, -0.025215513204552568, -0.055954628088884226, -0.22539645584969778, -0.06791531268722818, -0.15000879299368064, 0.17359289435338202, -0.12944712311778125, -0.10858052401753558, -0.23034781244180377, -0.08622351578738034, -0.0588160846048491, -0.07176739658061441, -0.1253274199767631, -0.0763879651232964, -0.4043705605478064, -0.07637311807399728, -0.09856602778993577, -0.1627947182529959, -0.0850045892073928, -0.07684788727883675, 1.0292204695405653, -0.16165253128254747, -0.2514634835910473, -0.04800421400027941, -0.052050631443403765, 0.0008525551427194364, -0.04492375478595286, -0.40000613488774656, -0.21951622803999427, 0.4424222796691399, 0.2433626569860908, -0.24587568235196827, -0.6365644728523179, -0.504128036574954, 0.048216477101735156, -0.13548709468799155, -0.650689075438745, -0.17335410978243213, -0.14574809126706872, -0.08023050712273057, -0.09086073565420866, -0.16948564218814394, -0.6610549511895579, -0.09898899392211785, -0.1331447132536569, -0.15686645803694596, -0.18706234739024039, -0.10372245775207416, -0.9765272631124114, -0.0983154677222387, -0.12680895200180775, -0.2548087363743799, -0.19287336311123573, -0.25279797004293597, -0.05860834399128303, -0.35155239394317234, -0.2558382713448786, -0.08939007365611253, 0.06363978213140331, 0.2563715075709276, 0.5259173125581345, 0.25021502485281927, -0.17835299796596069, -0.10837476217765313, -0.19020952703024005, -0.1033619943868021, -0.13388258076752588, -0.19724645850429262, -0.05080150786328945, -0.10353239737827911, 0.1588962475497825, 0.2626161465880755, 0.12263819959555579, -0.2898933113507289, -0.21356544175055503, -0.0734402988273652, -0.10145615221881223, 0.6363557158066319, 0.35570278695414986, 1.2222883724545561, -0.13103452410621214, -0.11003563915208449, -0.6495129210598304, 0.1732388583373095, -0.7805429212714977, -0.022074556508673522, -0.15507818171059168, -0.034871638096712156, -0.056492165273705645, 0.5516706463210193, 1.109484001482137, -0.15624103125328861, -0.09982678883938598, 0.2538214805882938, -0.15742435202473867, 0.2465556674963173, -0.10343028157957482, -0.1045798158990449, -0.05937642766686136, -0.08454367640166931, -0.0923343234096072, -0.02890698015481517, -0.041692142975809074, 0.2976096351856401, -0.0317304238242715, -0.027733061837963924, -0.0761581967887114, -0.07988233957018874, -0.16511238015489968, -0.020038441314155258, 0.3412480385756968, -0.07766583314933041, 0.018179531173475746, -0.14961771242658636, -0.08988598442372853, -0.11518553098153217, -0.10176560306147914, -0.041393774117858426, -0.07222640812800182, -0.05659289334697755, -0.09287825526305095, -0.3450667306986017, -0.032595234008687454, -0.18202039005244505, -0.1652385711031989, -0.09063335869749835, -0.08947783886534905, -0.042991453549250463, -0.03342483626155083, -0.02400219093993709, -0.03363901100482685, 0.620807712774264, -0.2032009677631179, -0.17642169832241844, 0.03009319613725541, -0.1021143646223135, 0.09431762410115116, -0.22042734983820678, -1.386025919502897, -0.3818981137324894, -0.08689255496859559, -0.043161715552903906, -0.019540893298111792, -0.04936290687824045, -0.0843259178319646, 0.7453488544266299, 0.34217353324601923, -0.1862065728866838, -0.578848776058083, -0.092843070944633, -0.08171147945897368, -0.07768540103288538, 0.10879954119768447, -0.3932012246043403, 0.11969322377486286, -0.07352377784379345, -0.03247327152530095, 0.07550549548601682, -0.13464632440196891, -0.06323144670469041, -0.46763826257732705, 0.3214206598195678, 1.021777239650287, -0.021357919618292386, -0.14664639258841095, -0.2591349491540243, -0.48533997417915287, -0.06097983638239374, -0.04401085775407872, -0.07797176811318154, 0.15463641619686547, -0.14259859310022718, -0.09017637870315956, -0.10481242212867395, -0.06384979877375395, -0.06497445514359666, -0.1530169632509618, -0.06626033778290627, -0.22601529058503156, -0.1456333623765027, -0.058089669771319144, 0.6937684880910899, -0.05637507668262768, -0.17256051564980182, 0.33662745321504306, -0.08941481886468997, 0.30362400063299655, -0.05126169942874716, -0.1058948480297267, -0.19999856652576417, -0.08500283429686803, -0.21167361681793026, -0.16939966992528818, -0.3229550404837259, 0.2626015093186637, -0.08151447582558405, 0.7706442448756116, 0.16270322603827483, -0.1411816369390211, -0.24000592573192725, 0.5390761426236678, -0.0538110666450125, 0.5102198247322517, 0.14043366383568806, -0.05710670762675199, 0.28818389739122513, 0.10363480203720724, -0.11329551897496233, -0.04074901956041874, -0.22890636201760836, -0.4248073442208316, -0.059904915574950965, 0.17009217521464998, -0.13332006824426554, -0.037314652604221336, -0.06904353683236358, -0.1247205199729065, -0.06211943321363619, -0.024814083180703606, -0.1266272907141735, -0.07350696417587978, -0.08707894923219425, 0.26806020625282756, 0.32847867433331646, -0.092147041526102, -0.07142089207076599, -0.11158712394549619, -0.039637230309026224, 0.299240821705979, -0.050387412247582045, -0.12915732053763473, 0.30810925303800796, -0.22242819301774133, -0.19342207228231628, -0.08666534215385244, 0.4676767189344617, -0.6642659510657898, -0.6482441542536447, -1.8431271056881902, -0.06434410285077727, -0.046982374400383754, 0.523163972924318, -0.058163466693259905, -0.05932994175652987, -0.045055697873326, 0.3904417221409605, 0.12799522084308737, -0.15228746978460864, -0.07012676844441942, 0.24055065577797022, -0.3472558251528469, -0.09386573779160252, -0.12312300787616726, 0.5901466804639194, -0.09560131979660072, -0.07988906946194434, -0.08613591794793451, -0.038514708604685574, 0.38453055244925016, -0.2931659702391639, -0.07482359541893616, -0.022374809168486852, -0.07871813051083572, -0.022042165183461138, 0.34311638344318185, 0.07129640798794956, -0.12038574899052208, 0.20520067850185336, 0.4409893187680878, -0.06482622251901227, 0.28000484285268185, -0.009134441487401748, -0.06260646761454883, 0.3191629546225444, 0.024918390689490793, 0.014898981440477119, -0.10763393763507799, 0.06571846472709933, 0.834761160403714, -0.14734446906341606, -0.05601446174099519, 0.3128444639596856, -0.0783292609557692, -0.06893811759809704, 0.3514892277101753, -0.14573317571483732, 0.41327175151876866, 0.47287385690432215, -0.15457615434033747, 0.09578692155534388, -0.06370587581542267, -0.09861115598518297, 0.40648334788552287, -0.24513364604296173, -0.07958589969630639, -0.1681363442993446, 0.5269522373233843, -0.053041957068333034, -0.14287001277285413, -0.15845537532778944, -0.05814579454839482, 0.32943029016692754, 0.3331028140135599, -0.16645847559692623, -0.19968163179688683, -0.001371649138168095, 0.36287192464273943, -0.07292858163274427, 0.5185300347820175, 0.3601370949301424, -0.05893527403104722, 0.268238408921477, -0.5845715954253741, -0.13351746639378453, -0.22280047827764682, -0.5543202630081876, -0.317848866708498, -0.9603524952336543, -0.05843551896171748, -0.01730492747753862, -0.6085562490459065, 0.39702712527160083, -0.020131350709645373, -0.028490091482312935, -0.02739067270727151, -0.12009295665119818, -0.10159147734225923, -0.09279815697915259, 0.09707330597799432, 0.2879017375434966, -0.13696230100065182, 0.2673032105780274, -0.10132303760687289, -0.055704384861239915, -0.06108189344264352, -0.20316055684974307, -0.07069129643648905, -0.3151043578410725, -0.04646858091404224, -0.07501628929378082, -0.046381944350957355, 0.190937824096569, -0.048699262605365154, 0.4228671476479768, 0.42282199990375907, -0.06972796347939456, -0.07337129309658602, -0.1397607711273662, 0.395406283679584, -0.10406387515455841, -0.026534907580549407, -0.06879702075789654, -0.08256596496019594, -0.236782984330203, -0.03511983486578161, -0.049207742525977566, -0.10089251211932466, 0.2162404429594615, 0.12610554147575884, -0.2147967690443685, -0.16262240408360282, 0.036396905779104816, -0.1333760264079843, -0.07709590370944062, 0.23598826364806777, 0.30835743749740535, 0.14055685863475476, 0.17125484107689523, -0.16495849331013449, -0.024468733269901156, 0.4393312616553259, -0.09735925655787642, -0.10942327544919574, -0.1626490418356149, -0.08198949231584074, -0.04027454957008708, -0.0911816149765946, -0.06411431874764108, -0.08894392523997756, -0.19981746335489045, -0.04061241951289954, -0.1786977981517735, -0.1655834230090485, -0.2748286900187683, -0.0358400701563256, 0.2619774377640909, 0.7295207308945482, -0.09610721906107034, 0.24528583959824238, -0.07102318210559146, -0.139237510225498, -0.06980862314654264, -0.1595787657124503, -0.05639573503954121, -0.16473236126873206, -0.4194271883151529, -0.12041469260184487, 0.31356553219311795, -0.05048095981453488, -0.05731602476369981, -0.47792390192240625, -0.4046638720077906, -0.16772063360166442, -0.19122161704710955, -0.04788276915787206, -0.14343324113122996, 0.015059046138677128, -0.07141350776853617, -0.3083104408038926, -0.2942657638507262, 0.4762357601212212, -0.09177814949020803, -0.04588594493617745, -0.13244438707670955, -0.10755924566822807, -0.16123721650208037, -0.04521388080845683, 0.20269232538993204, -0.08375312161473117, 0.4475936227570547, -0.17545662637316037, -0.07877850012511978, -0.08115821625406444, 0.2614982260382564, -0.10651728490747266, -0.22502154263945415, -0.10500370052413001, -0.3361947254994431, -0.0593922884900984, -0.06847449180178825, -0.08694328238498127, -0.683237062082361, -0.2927590164314958, -0.12867589955144385, 0.255081226103819, 0.141243204742717, -0.45669033807832643, -0.16363243730030066, -1.4128873592929985, -0.056027189511706925, -0.01701070969109513, -0.05698087581930536, -0.03433580445691211, -0.05580848706025496, -0.18963099964737462, -0.2570699787378096, 0.13463238448971318, -0.9840640125000523, -0.02696731918851175, -0.10213036236205444, -0.04793742189519485, -0.14278889712733486, -0.044134811251775326, -0.055732027979619916, -0.051090449829165926, -0.19020420115224188, -0.027823679117043906, -0.19260851319463057, -0.47872725067040245, -0.20791968567157335, -0.14453796264722754, -0.13246661535562246, -0.08149858129993696, -0.24933380558131496, -0.06372612961792522, 0.3278114205295088, 0.5076222444110239, 0.20326446433844145, 0.3334913120129987, -0.10967062353603357, -0.05224522974146, 0.4028655628253536, -0.10411834818378561, 1.111428506664121, -0.5824301243369603, 0.5654421270720533, 0.21628580091736413, -0.06358026108954283, 0.49248591841487427, -0.03355139389310489, -0.12618944098501259, -0.13078327804559056, 0.4179877768835729, 0.21162902824884594, -0.11539318790617355, -0.21451921796519036, 0.40450037419452833, -0.08858942962909507, 0.7772892691928234, 0.21101911640351112, 0.6560483124080145, -0.6650862620233068, -0.03569241736216686, -0.1500477719156413, -0.08436684365065639, -0.09233842605761895, 0.3773798455018544, 0.22613665418440348, 1.015376437343656, -0.3236111686975512, -0.025366797295096274, -0.0698485124081902, 0.8467950830849319, -0.11499009135751795, 0.3157932728312462, 0.7776987062372767, -0.08167946668793416, -0.15622027088519272, 0.2069655970618478, 0.3413183356379305, -0.2219327033685739, 0.8023201734152953, -0.018142441366924396, -0.11487156781935715, -0.07374576362761225, 1.0299299760254024, -0.31508628173711917, -0.4014908654731515, -0.022990148942951785, -0.08509069475249387, -0.05798366300737165, -0.1653193677315189, -0.04111538213181542, -0.19248248110315294, -0.0929587574183854, -0.4163826519427707, 0.46092160676186783, -0.30937257709858834, -0.30265911388346983, -0.17307328433658883, 0.25995059744670407, -0.4252547382592561, -0.12564427273341705, -0.08129420688010637, -0.22527431793582298, -0.07544040431432347, -0.5232761901705228, -0.04920987123915093, -0.2529894738300096, -0.18079654148806362, -0.08276694820419139, -0.026152274940369435, 0.268541179602793, -0.11316004198564286, 0.03854710744495471, -0.19414621148204117, -0.16432404498473083, -0.1157868543206185, 0.7354215706025108, -0.46625197506664967, -0.03361349076422611, -0.09348322635971397, -0.11109911977975273, -0.02717597879231054, 0.011970723460745545, -0.08968655103912447, -0.049890640371021686, -0.03456854967145032, -0.054795640547248496, -0.09775342163150245, -0.024021293232590814, -0.02716407414577062, -0.05206929237959865, -0.09580304716214333, 0.06892644265479674, -0.017017993905078944, 0.1917990411475501, -0.09726800264905043, 0.23816157456935275, -0.06644185142349837, -0.12597922235722134, -0.0658249743648204, 0.37582314313748083, 0.09755465063204286, -0.20918585700017875, 0.1259212042807884, -0.10309458046477288, -0.3078234002338279, -0.1684204973997319, -0.1441905565374872, 0.054162339294250815, -0.08431558900316848, -0.05341516208411922, -0.10610103292000754, 0.0625398269038565, 0.19562140670881695, -0.07244433192670752, -0.3985999226835239, -0.2101964790057345, 0.1821836179906248, 0.167219067228119, 0.17413711505939902, -0.18938980342700257, 0.341329150910052, 1.1057975504684703, 0.7436139603164484, 0.537298464106742, 0.52653208839295, -0.046949024437457555, 0.666605066440161, -0.7934883932666961, -0.08362264557224856, -0.040099802422134415, -0.49961066492814843, 0.027439014949869767, -0.2445270817645895, -0.09365638610282216, 0.28929101044356176, 0.336970222802452, -0.40705289398464023, -0.055092089955742565, -0.17416508638874414, -0.08920424377034347, -0.051808272250660724, 0.6117439014254492, -0.03292578818101748, -0.05098686489558799, 0.45708181816608767, -0.09675727059430826, -0.026223804469481877, -0.02232019539961386, -0.12922579953138177, -0.04912272108275117, -0.07127738535509245, -0.09345608875135901, -0.0428948256864363, -0.021206635947801433, -0.09212803705537825, -0.07208959932488068, -0.053113933515135534, -0.16852939513343354, -0.15367913213885367, -0.09937795944860787, -0.12189087358841992, -0.07779874569081337, -0.06382092236193784, -0.05432027731175447, -0.10519441186481772, -0.05970432153452772, -0.03915132662581306, 0.2573972575666952, -0.056612086454797594, -0.04111058906936489, -0.08589393572012763, -0.24198995161807227, -0.14231090589366677, -0.040109165018398035, -0.09653296082137215, 0.7959959175830116, -0.03557848630013705, -0.07302187167431935, -0.11495262992794117, -0.15592087121056072, -0.03281016603463938, -0.06954706382149617, 0.2510471634370735, -0.1945476082273612, 0.5318230251995203, -0.1395598654221836, 0.436431844897263, -0.17062697422860248, -0.05845660323585817, 0.22026380316713018, -0.6803628495709755, -0.03957199989721458, -0.35573712689512216, -0.29919862294174815, 0.3687752260607195, 0.23077513385803747, -0.05057750442064601, -0.38476366410823504, -0.094754577763149, -0.08521664937981625, -0.09676836516675967, -1.7561046527257782, -0.06533681025169821, -0.3984827578866594, -0.07169639552426867, -0.02636464249893165, -0.019827406567888797, -0.04891694785816097, -0.09475567296153742, -0.11891448477591969, 0.15629864532050564, 0.06011830626034352, -0.12912319630665003, 0.6599647750157566, 0.9528392865740843, -0.5408207436986435, 0.10428961440550738, -0.10119185210085135, 1.1809797576721193, -0.09142498537289152, 1.726220762659989, -0.0671649725467541, 0.6860014522333986, -0.19853692964112893, -0.07328908241175136, -0.05735684199953632, -0.18767241924304015, -0.0770725524949591, 0.2950739199530245, -0.08988642377185861, -0.07941972440262203, -0.09009204819068936, -0.32745918752747316, -0.09909566388052264, -0.06068017268770142, -0.1711414797104994, 0.09650555433764561, 0.18980020985479942, 0.31350844046820414, -0.21387460967831626, -0.22202794349144012, 0.20825166583867946, 0.03165633232065402, 1.2240638780279915, 0.7286330516168077, 0.1718072479486133, 0.06663170465309604, -0.07344735586927839, -0.040395559649147386, -0.028768401613399264, 0.4970165406744778, -0.02644021513416902, -0.18818586467942885, -0.08130890865081208, 0.26659086764998485, -0.17866906506601415, 0.2421247234186007, 1.4513907865546631, -0.02468670880801119, -0.09777476928643285, -0.06320952772856588, -0.09543148043876816, -0.09241541620528562, 0.12865506823078612, -0.0690650471022313, 0.29560426125323847, -0.05395952082282807, -0.104198999343551, 0.16311855175416703, -0.09201927724331944, 0.08817457056869231, -0.08325418387896047, 0.22632118284554947, -0.13676596768668461, -0.24409327276042525, -0.5490217349747453, -0.06238198500654911, -0.03823174324810948, -0.07113809744714732, -0.2562218999441183, -0.16579583199222436, 0.05509554612285527, 0.578502685304543, -0.03656317431832767, 0.380857491832115, -0.18122965883739303, -0.15563741349638224, -0.10951098678371045, 0.8718671987961739, 0.5779767819899688, 0.17454052207119497, 0.41697476828386437, -0.10355610640630578, -0.08648867191872592, -0.10036120079882799, -0.17702936491209478, -0.03154098975257674, 0.6407783515617756, -0.021174047043698862, -0.19901298501755146, -0.12921249664303625, -0.0694798612147702, 0.0068214612771897686, -0.10340160155737955, -0.05791200961116272, -0.08976107333171725, -0.05029886532033533, 0.5638903584083543, 0.07320248326829523, -0.06274954195841709, -0.10685623283776285, 0.32958891321976835, 0.46012475407329056, -0.11181679146278492, 0.2768242138238993, -0.10849834213824665, 0.19350264949525187, -0.21897748034796094, 0.46397319819106164, 0.09179668372707475, -0.04904129414429266, -0.07720977288359025, -0.06560316084140078, 0.0933560569729308, 0.44197451983386804, -0.1153903197897806, -0.08319640028213669, 0.3481695366669994, -0.0036013341441637897, -0.20959098432079182, -0.08285111765220546, -0.20490132932981953, 0.294535121287075, -0.16210224035304424, -0.04575489050189924, -0.07465339331227426, -0.05876939374522644, -0.03853590554889793, -0.047575726761228315, -0.13239018229437083, 0.3459622165231025, -0.1604055708752725, 0.28286340665873855, -0.24192360404350127, 0.28075086010778044, -0.4794669833263176, -0.4658702425958939, -0.01856138367081176, 0.3852957780047051, 0.47756876027061124, -0.06467701035269575, -0.03268181299116431, 0.18046849298077064, -0.12956970565092954, -0.20821680890123848, -0.08663258251255873, 0.7063852202012364, 0.3916666685475924, -0.0772499737945391, -0.10830243796725729, -0.12896600381818757, -0.15182236390990564, -0.24776489460230428, -0.04182133432919078, -0.07942055955405652, 0.11727138164000833, 0.5082051445301723, -0.07644502437375124, -0.19241496684897527, -0.23468154485629247, -0.022214954265292818, -0.11195186961706885, 0.24063332755736525, -0.40609933241428153, -0.06169930674576596, -0.04880233480434043, -0.05919819566343649, 0.16000686216013185, -0.09694108770455703, 0.23286198157389287, 0.13881822625947562, -0.08001644083477522, -0.40700716841288237, -0.3924293532273992, -0.05157876027149258, 0.18321657648460485, -0.1766161960604724, 0.479219004055476, -0.2033710460809135, 0.36023618970601273, 0.23483713492622532, -0.09218285521253816, -0.18824195364786053, 0.2110811121356615, -0.12494695545062405, -0.028206782859200055, 0.6510627343182676, -0.0583363034277583, 0.39875925694906517, -0.059805051203543964, 0.636188809024494, 0.16821412821176016, 0.37959391106458157, 0.06626460890041619, 0.28827159335471647, -0.04016402448342312, -0.1548085360967297, -0.1319825127428324, 0.29229325809950263, -0.04043720562667299, -0.04438176816284954, 0.36275507484459313, -0.03765185364651506, 0.5757649882486708, -0.0554038524239407, -0.10639815633333492, -0.03725936007277342, -0.18659419307442415, -0.26329922499871244, -0.11761768582785169, 0.3753137397232582, 0.5139792723520684, 0.6603017550101645, 0.7612585249661664, -0.3011039827382564, -0.09433055734155366, 0.65340934882087, 0.0033133872333492324, -0.007125851712040344, -0.1430411132973493, -0.09613955229424632, -0.15232503255069227, 0.0571146049042436, -0.3408084758900792, -0.07869441093049255, 0.5564593750390412, -0.4745717284062051, -0.050252364315076986, -0.1370634796530862, -0.07373369816914922, 0.7890224474022337, 0.30544363344377906, -0.1836248347715733, 0.3507507091872931, 0.757172294981362, 0.1556102024787088, 0.5055808852925936, -0.04862256548004638, -0.057612188022272234, 0.4985612283406429, -0.023851723936726674, -0.31576558476617883, -0.07642868764112694, 0.029911256638515876, -1.177972504115191, -0.045718271458331995, -0.07307714275078712, -0.05117214479702274, -0.019190918604474083, -0.01813771529837456, -0.031782940299093856, -0.09839977036112083, -0.21155026014684156, -0.12459042595210038, 0.3582381797702493, -0.2530943202717494, 0.5376276163162768, -0.05135019447688552, -0.09560529692703029, -0.21167250021215253, 0.2812892238147572, -0.12033143237069172, -0.1881236602518326, -0.20322586343996038, -0.09634384096990077, -0.13044990622751906, 0.30912819049071627, -0.03325742634430436, -0.04865315604504511, 0.982963742709107, -0.2669325037017241, -0.16901681760595372, -0.05018195282070532, -0.09037137371045356, 0.4670859683340473, -0.08139171540021833, -0.1249847499431609, 0.33392302524937273, -0.10075765987823732, -0.15065562956790562, -0.18768203294023614, -0.09156335034294595, -0.05924300237845304, -0.3514487111082882, -0.4211056949328897, -0.2875874878870856, 0.3950617792748225, -0.1637308490154193, -0.15247906998307809, -0.0541922197679261, -0.4016646392249795, -0.2437342181233319, 0.15643847321884807, -0.35704481801021154, -0.0896554659766094, -0.06698588123066465, -0.04264556240254804, -0.07146211971974607, -0.23832185869284617, -0.10741597071849569, -0.0007915087049090465, -0.22643883941805212, -0.3720327182069321, -0.21499265787087518, 0.13748622509674244, -0.08457147465477277, -0.7111265426338462, -0.03552959866174083, -0.03506038867735876, -0.04139259997714746, -0.0817687479820037, -0.3615799121817487, -0.030726583890525575, -0.2100330620553304, -6.919013608948572, -0.06748475143805531, -0.025815635807856487, -0.056052084358823306, -0.04311064344392824, -0.024805845047308383, -0.03391919043974171, -0.021528450401662576, -0.023839749578505594, -0.025366633351939047, -0.035623000911072955, -0.018606512692432717, -0.051023841814666945, -0.02325802367606854, -0.031961083345268745, -0.15263475748839692, -0.027611365252223692, -0.04433475947751344, -0.04340131724629857, -0.10213877591382008, -0.12746033050087352, -0.07247868331549434, -0.22383028283001286, -0.054197636725046544, -0.024435750545780892, -0.039078174028837245, -0.06168395530308553, -0.07285269417476133, -0.04305632354181986, -0.036263581645629005, -0.03889851157174345, -0.024573853428402296, -0.017166505437030723, -0.15789603449515072, -0.01861948794392318, -0.01784043478198158, -0.04703147592152851, -0.020431789697296057, -0.02198323030947626, -0.0541703051605477, -0.037525103453392814, -0.048991199927766356, -0.031220077816480455, -0.07077919005757803, -0.08482699293204027, -0.05788584063506511, -0.04663667875967714, -0.06459323250800014, -0.026245117632950798, -0.04915060051789431, -0.23569019436017402, -0.024262776529277698, -0.06352424194465432, -0.07362077766448653, -0.16087572781866738, -0.01701106620373186, -0.06191617588389995, -0.0224366605527175, -0.23534087245699606, -0.02067358988784059, -0.03886191289324521, -0.24074210049721287, -0.04289462249709699, -0.05070914772760697, -0.03803887120225192, -0.08087483119190261, -0.028068932639196627, -0.03665411967331572, -0.06322623907366079, -0.021602751333707332, -0.017064489646177974, -0.03444124438295729, -0.01845741993134646, -0.007382686404679681, -0.049816275994260556, -0.02234497899268814, -0.017376401911845602, -0.04115897546053772, -0.013078024867183017, -0.013090865665651558, -0.025624617100892495, -0.031304901067499634, -0.04332681293838364, -0.04697875713178517, -0.13286802289030292, -0.04051453258858006, -0.03361715136457649, -0.019339570845304445, -0.02209983893043045, -0.02725067248585549, -0.03048725008946279, -0.3176992295196853, -0.06197449789265402, -0.032275418721756315, -0.026330740955453534, -0.02645122252639826, -0.06227442051729026, -0.03334837081015517, -0.04361486614754341, -0.10085922259161012, -0.022083502144100164, -0.022214346772422882, -0.014845730687960286, -0.08870441769550162, -0.041719711546388254, -0.04303556620340955, -0.03691141831192209, -0.020177334436437298, -0.02261815776191156, -0.006410767604802515, -0.030628960668118915, -0.029144221594280068, -0.056335455483242695, -0.1334590841671588, -0.041175712048990766, -0.07049620062162544, -0.03543786564791421, -0.031799171690675004, -0.017292883790628388, -0.01917019148351851, -0.2988077925293727, -0.026520454858922005, -0.07931012437285449, -0.04206358023778466, -0.025208863537961725, -0.014225930568651887, -0.07472700201836499, -0.14554858437286775, -0.027206636292570013, -0.02253691244109319, -0.01876306101668686, -0.02798983764468196, -0.05361804936916779, -0.04522413790279908, 0.2109326104012112, -0.02188870540049105, -0.021230881505121715, -0.06788473059255856, -0.032522924289241834, -0.0883247370216733, -0.022341980452427444, -0.02241881937480594, -0.01967308064622701, -0.016043724567559637, -0.018171937106544703, -0.019781702337420853, -0.04953516498088603, -0.0224428443931033, -0.05942383885713913, -0.10483974785561635, -0.017951198575206283, -0.09697780445160667, -0.044688339637699366, -0.024622399816574485, -0.016942875050738243, -0.033356662087568587, 0.21716007506750334, -0.02648144576077509, -0.048604195072546756, -0.06509761514640991, -0.014540649958955822, -0.035368370013550685, -0.027960454546442387, -0.028336461621907415, -0.03650581987355872, -0.21006159023623794, -0.09141902340735318, -0.6562712888207336, -0.06404914719427139, -0.28314992804269645, -0.38305980964535974, -0.5514489772797468, -0.5922403393296906, -0.37372148660810117, -0.05387545031118995, -0.1693883181286776, -0.6925922975304645, -0.07217514124432464, -0.14972408249284538, -0.09385768195231459, -0.06578590344885825, 0.011974255614201162, -0.13839141854409298, 0.27002057794851175, -0.3636653874019786, -0.09168414268324482, -0.10417400419845865, -0.40126750707286674, -0.1170947956345631, 0.8085249460452805, -0.25371092717311994, -0.12214757875435474, -0.2622849164694742, -0.1716366724060405, -0.05293432105372505, -0.10216299254240921, -0.1057376277390643, 0.4472555813498042, -0.04621139087466058, -0.35027894491989636, -0.047512147610048856, 0.12030656118804059, -0.17681733875809358, 1.4508368234414302, -0.6184226554271813, -0.1434034780348131, 0.03643181519605898, -0.048602095029755266, 0.22093605837226465, -0.18922449068365346, -0.05331121577730132, -0.08835611237596054, -0.23372193356067258, 0.2927565620802413, 0.5821979194900129, -0.03771634120950753, -0.3711463638946934, -0.05315945037260897, -0.04397694451035735, -0.09056498904232824, 0.8448805785430856, 0.15807628322037556, -0.297307154671847, -0.16838300015287777, 0.288473554135899, 0.10787460470417196, -0.05911298084977703, -0.15901524442106285, -0.17692564425559001, -0.024587559322290564, 0.20701909702766164, -0.08317631447394852, -0.1094931026752559, 0.2013702244695505, -0.08285646467915325, -0.1535597707904744, -0.27277333405267945, -0.06253273842636682, -0.0605661516293479, -0.496906629458656, 0.39820146099475334, -0.061781162426290503, -0.03502551434895556, -0.1382026269398276, -0.1313506587004153, 0.28067957570321217, -0.0520197772610461, -0.23888547033964555, -0.1277069733940906, -0.3790401586625538, -0.13162852279788925, 0.10726438779646473, 0.44759048904550686, -0.06880282701861534, 0.28896969236170494, -0.14916671968355577, -0.8963424809575768, -0.037195093212782894, -0.0512027489542658, -0.047646402772228175, -0.05629938785527764, -0.3515874303190883, -0.037258716964509254, -0.39897112395283213, -0.8339996361899432, -0.03558157885010544, -0.02673583752643822, -0.041295630154418304, -0.05776221358674331, -0.2728118721524096, -0.32184439458497954, -0.022235996939936917, -0.05398785795785183, 0.5423687324384158, -0.3383484182776217, -0.066584538262641, -0.0468641711274402, -0.05224376535860213, 0.275744256673736, -0.13231819019599977, -0.09131021530094914, -0.6097652625586948, -0.05746648702914432, -0.040805874994136654, -0.02618324921970048, -1.0845875088065713, -0.018160945000180995, -0.057624081944465805, -0.07189879179698982, -1.7737641588782629, -0.05442241806547798, -0.04098418253955525, -0.023562139017136392, -0.024081766832813135, -0.040869294375189574, -0.1989507556712541, -0.02058247549999705, -0.08876018712951812, -0.029613050700930624, -0.018105579021547673, -0.03721317479997099, -0.1128892764868692, -0.12236847520931794, -0.029608183588694003, -0.8254133260207628, 0.35154249606073534, -0.03411970332623278, 0.17817581012678985, -0.4534004933068053, -0.05372893642317301, -0.04234433425576554, -0.11608802293553114, -0.06914286931463656, -0.08265416387079663, -0.21695274772641573, -0.10630660649326402, -0.13876144594334344, 0.48732737221903155, -0.07410855152737124, 0.26932525715052635, -0.2769633513958318, 0.17528593276076682, -0.33385982617474036, -0.0614177229835173, -0.17065496891121132, -0.22913507104362338, 0.7144609280952894, 0.06614713196058776, -0.1392779071677498, -0.5107857381123837, -0.19811122703152229, -0.07744939241686076, -0.12359136813802582, -0.09288768324435095, -0.10498137297654596, -0.06173384106775722, -0.05381850806827991, -0.08817969612863077, -0.04547188004727191, -0.03410441265474477, -0.24484293662214882, -0.25758703190191024, -0.22728278010203942, 0.11098545024341042, -0.07094152234834505, -1.0482668445816405, -0.027799214946028696, -0.0993873025837065, -0.07666653522794926, 0.3011720433991652, -0.15113203403653294, -0.21316244658121916, -0.10939913793925357, -0.06047009055579889, -0.10102933949041806, 0.11740805710615422, -0.11075005683360245, -0.23655777979336817, -0.08919719867656664, 0.11671442257585209, -0.07603421206471855, 0.40008260837473614, 0.40337310933411286, -0.03418346014936242, -0.04077469342649595, -0.04215137283444672, -0.0654874751842428, 0.19315749294833698, -0.07072174787165633, -0.09958689436629341, 0.1696418505647133, -0.1654856830274876, 0.23054781577708708, 0.6165430573094327, 0.000655023845664423, -0.0670948759786245, -0.07117676820012239, 0.25253424312764877, -0.07230443642515542, -0.024071223143125806, -0.17867742528195632, 0.5831506037803399, -0.04761059860128081, -0.11123159756744781, -0.18397547216056873, -0.046049932375616165, -0.11451792550538643, 0.3087271950467932, 0.6017173281116768, -0.17578022234297416, -0.4502268000890729, -0.09163648125201955, -0.06619786556930796, -0.05810391343556572, -0.0827707769769455, -0.2966239680772742, -0.06340000739309097, 0.49783462285949215, 0.058105455961444105, -0.06557096153129943, 0.664628569871113, -0.06131745141157784, -0.040362955766021294, -0.38313439760200635, -0.2041991657228244, -0.04232231722332449, -0.30189120172454786, -0.086989369979545, -0.08415305951694013, -0.08247961177827488, -0.04598611551668102, -0.04254051403008937, -0.03226666323219674, 1.1851748798164008, -0.3175460018902062, -0.10036300097026414, -0.3399089919441815, -0.808574080422084, -0.05128710769527683, -0.1760677869884393, -0.028432452331218102, -0.03493243337682406, -0.07066037097929281, -0.32348088667613345, -0.06862389036019949, 0.1698091681356765, -0.07276984330986522, -0.09726989031826706, 0.20916945916266672, 0.6051739600964751, 0.4477160263872761, -0.20234831259600003, 0.34010311839880636, -0.11124750405037687, -0.223873592704747, -0.028457247521959467, 0.30740980048183236, 0.17845046086176924, -0.15217142980178983, -0.10989149765918363, -0.21829879361150337, 0.6984726572998805, -0.07449779260096548, 0.33077181832921076, 0.5265457527392013, 0.28841570836854086, -0.0562199638137128, -0.1658625117302427, 0.2548887922886676, -0.20528593490303795, -0.23397486420459088, 0.08479959763103617, -0.07555393640721023, 0.18672346867967338, -0.14990238512696097, -0.0679330801230681, -0.5055675273767474, -0.3998390211113769, -0.13190548050350775, -0.07057232166879052, -0.07057232166879052, -0.19518631727696306, -0.046868241878765586, -0.1067723600397572, 0.15954887844068377, -0.22463808306618324, -0.2865407532119069, -0.052607169633478335, -0.08588010798308851, -0.3344863491296343, -0.061256718244604484, -0.22294480152166465, 0.32215299421740007, -0.16727358105293869, -0.059976759972852366, -0.11282420357429739, -0.21758814242897973, 0.04987080481837661, -0.06774792059965269, -0.19890741057175607, 0.03806107015150971, -0.054965058144348225, 0.3268002612762477, -0.160240440544421, -0.10724957569267093, -0.11871440812253421, -0.05465831750876056, 0.6885660167270587, -0.07279451234443861, -0.07652713071238389, 0.27482461076716935, -0.0972100923190115, -0.06322070557659032, -0.09967978079470374, -0.1396624975886931, -0.15576677102266384, -0.10677288865792998, -0.18767743919341429, -0.19042275144376003, 0.6276478866119466, 0.5160457541207691, 0.1454506396135304, -0.024622674913558247, -0.06446442665381236, 0.4361146805507104, -0.03636837944646785, 0.12963498772099644, -0.06544611287209497, 0.9151057242548325, -0.5444427219130837, 1.201901307497279, 0.12493686698532312, 0.14058031674395743, -0.08468316125096158, -0.07388798875597907, 0.0535470090764258, -0.11375286586384228, -0.6406615177055975, -0.1017065008731873, 0.4415672319441601, 0.3861415105294654, 0.3164530177035487, 0.2910669812198152, 0.46124837014958847, -0.07674077652746468, -0.06329614926822259, -0.11283482754547763, -0.11335236235976731, -0.04647545631239602, -0.18610718518499933, 0.6842415457970478, -0.07575410711729835, -0.07767339031219453, -0.16079898205489743, -0.036897928237567684, -0.04905419227778943, -0.12586609888407005, -0.16733934753702667, -0.1716849837381678, 0.8282844680534106, -0.5513743589587602, -0.0877488570195533, -0.9303436035998426, -0.04381080652610855, -0.08663321543528651, -0.03894401287456932, -0.061058021731476016, 0.5511728035535488, 0.09335281734486277, -0.16903296678096824, 0.21340471222093577, 1.4842742170963126, 0.40872364848818415, -0.1455466188645422, -0.07842451337909585, -0.15605477854898234, 0.2682369210131379, 0.1634422497867863, -0.20042435626307423, 0.2705680463043494, 0.3005353461488038, -0.17040742745358795, -0.10216710175133051, -0.0889541305609927, 0.620747719297092, -0.0754678171683622, -0.07656801595778284, 0.3143141516086512, -0.07245473274175412, -0.09265338464265244, 0.5389308717521732, -0.6608860502227328, -0.03762010505563347, -0.09316654504674139, -0.14198807825156662, 0.965445888698202, 0.13178899745449746, -0.02772168614218217, 0.08004452858554632, -0.22940564690344542, 1.2338728179391503, -0.48432250434419405, 0.16379372527184433, -0.07911663651947103, -0.15050528181349754, -0.08104844698432251, -0.12678798116900108, -0.1285266431498059, -0.22710729236019267, 0.1155327318936192, -0.14405116515710517, 0.5147828509508321, 0.6021580520352439, -0.4006579456193202, 0.37495901972799944, 0.32983135449589907, 0.8916405134025581, 0.5868221740629387, 0.20790236181605368, 0.3039798371345314, 0.15117414376727814, 0.5410441685401848, -0.791243617029895, -0.05749711146988254, -0.05333764453486719, -0.06272413296107049, 0.14197579131679958, -0.07092528275923657, -0.3734588482616647, 0.10222734665031016, 0.2338197539483601, 0.348162203782546, -0.06707293374510992, -0.2595011606945493, -0.23886301657928402, -0.03307181792066995, -0.03533838792169363, -0.03803240261762426, -0.10572695526052772, -0.04773290295013275, -0.03607531379977556, 0.09508730561898746, -0.10952796631687227, 0.28256685256140074, -0.16676071360678946, -0.116587910693791, -0.0490038607935597, -0.1836248120003866, 0.6128412451976167, -0.2379974340965837, -0.24938466623749267, 0.1970669689840863, 0.33224035813379554, 0.3506113199676517, -0.159440015364709, 0.28452447947788534, -0.03734664640493605, -0.03191084178790533, -0.08476647285316709, 0.4811828986479952, -0.04198361797711049, 0.39107653505233164, -0.05708883655311911, 0.2788145427765371, -0.1805495644035475, -0.2631216775960022, 0.49199420190480325, 0.3796785167357448, 1.2947057836925981, -0.2645166675922855, 0.20651506193404925, -0.022589390417204716, -0.03594513655446076, -0.1431138541727955, -0.08603703930624519, -0.050724321147578084, -0.07938717086772151, 0.5578096430325329, -0.02110034729793319, -0.05501749418614693, 0.3279827915154417, -0.06524158095994473, -0.13224628009369094, 0.45741007762091473, -0.16688166981166247, -0.054395687322497305, 0.6343838419266148, -0.4762892388487006, -0.18797129996118037, -0.5232683079645318, -0.05225335736184366, -0.0800197684905483, -0.15107957852317813, -0.18961385140062983, -0.029705237219555987, -0.08120969225358637, 0.2602200159196781, 0.22584089512984162, 0.27913713141237645, 1.3810263891269532, -0.5092564951543077, -0.1253329872083543, -0.04040111702764908, 0.9985552570634192, 0.47327682647557906, 1.095356736414287, -0.11445884340910503, 0.31454656506415624, -0.2026894741930209, -0.07560881640366991, -0.0932173936730349, 0.10057105738710163, -0.030329298769540027, -0.028161655995970928, 0.2904693583899764, 0.20082270002031025, -0.00761389291005436, 0.1237982416104444, -0.11907736874955344, 0.13827753619523514, -0.18564479542922133, 0.1603275116635822, -0.1586669974559056, -0.37357805985084797, -0.04321840485468693, -0.2852037721213993, 0.08622402141196447, -0.07516071237723802, -0.08199610456342858, 0.28068511979605737, -0.20895440031317092, -0.0813029427858519, -0.04483314688864198, -0.16250946883191644, 0.12966591445893458, 0.12966591445893458, -0.18238281186634234, 0.4865735735008702, -0.14836574934192603, -0.10299703565065088, -0.20436022625481812, 0.31734159366434495, -0.08680300066631315, -0.12116642987539923, -0.3219371076072063, -0.1896812028327795, -0.10586418766920615, -0.09340853366862578, -0.09988946252140882, -0.32771276774792024, 0.06402023521469274, 0.30726539604470327, 0.6095721162425404, -0.08596363443614402, -0.10812735330748668, 0.5309796063823712, 0.018881072281892824, -0.06996834294946362, -0.1593932293182045, -0.06522393924726973, 0.5199454871228233, -0.06287108927355128, -0.06498265595933624, 0.8174233849027803, -0.2951652152568726, -0.13086008510252312, -0.23310400118839122, -0.0765209624948635, 0.8095244769420294, 0.4228990956579647, -0.13340426352122683, -0.061265650650987664, 0.005724872384883354, -0.15060000090166178, 0.16794505473742, 0.22773096729090744, -0.5817907139793337, 0.5663217290501683, -0.37224641886840015, -0.2847490563470984, -0.0679282535652482, -0.19431368476865557, -0.17690594393767844, -0.18148199892000536, 0.009114339361728854, -0.03450714575790724, -0.05576134610951491, -0.11978026448795454, -0.2964252582722821, -0.1049387649140074, -0.782675477919319, -0.03393284257766427, -0.2526740221520291, -0.12486477514173043, -0.0147873914314612, -0.08325990171753951, -0.08567761431979308, -0.12092891290144762, -0.12600520174654917, -0.03476545775831477, -0.03294114267470668, -0.0928307510843557, -0.03416928884109921, -0.035010867316370355, -0.058215443157667676, -0.18806036035792997, 0.6753006665720944, -0.1453795146207123, -0.04825008828096369, -0.0972061104304158, -0.04913857777594749, -0.5792695715014325, -0.10560182505249241, -0.6111727586222191, -0.0687071194276341, -0.32383001475730194, -0.21723083773051827, -0.597826427602329, -0.3186753232701268, -0.10424178997944164, -0.1639846486910883, -0.27519264476832644, -6.617606253662677, -0.028772455164469676, -0.04336734674268125, -0.01478094754028225, -0.02275606290306852, -0.13199178046148718, -0.11804490327817645, -0.04057637064010178, -0.04539388741642752, -0.04450336883546939, -0.014823093077719446, -0.03248622543852371, -0.00945580291455024, -0.03559109428563224, -0.026147574015936304, -0.007604863700909644, -0.005509967810202884, -0.020687373441326675, -0.041667566671895785, -0.020664697839041117, -0.06994879582377367, -0.06704578362634861, -0.1382386049594587, -0.09056443447428697, -0.046518712098462776, -0.05472627353942019, -0.03425993474557201, -0.019278788938084976, -0.030151783923285373, -0.036800839258610656, -0.02846075989900516, -0.15402425065999503, -0.025261057328932513, -0.029425294511107654, -0.028261407224931666, -0.07181340584984121, -0.06565785627423716, -0.04106264605119776, -0.06073837303505867, -0.09504274898675293, -0.029079610644772474, -0.04985849107595931, -0.07547206896249908, -0.01992916584755901, -0.13710258323493552, -0.025329423525083935, -0.017376224174589654, -0.012571121010952138, -0.027747608598280883, -0.017865538097543033, -0.023473194870976065, -0.03506717793012596, -0.01777330445403144, -0.004412243891287233, -0.013435218434491395, -0.01960453187113528, -0.02555354577783221, -0.017644047958761414, -0.1671271242525781, -0.03161044260186645, -0.029246351539850033, -0.052375236049697564, -0.03362357710752237, -0.0336229042279974, -0.01577178150546615, -0.01747603230989824, -0.025943028410545826, -0.03460921942806985, -0.023003823513871723, -0.04504926968735218, -0.032825757592559755, -0.08491076254853014, -0.02077615352375875, -0.04398174004464991, -0.047314309521685874, -0.05558865532295976, -0.032271081752588616, -0.02991381804323158, -0.022817837290579207, -0.02898977478024736, -0.08635676308601081, -0.03631148618362337, -0.032574139937470555, -0.05819259465694343, -0.04710497180552031, -0.04102087377346886, -0.030692698641725778, -0.042079777491316195, -0.14993652085267503, -0.09359672918839339, -0.043062200546846334, -0.022503089360767763, -0.02571002648730184, -0.07554936820662662, -0.026991213461341448, -0.03523444349563077, -0.021359439761764715, -0.2193908358145208, -0.053602907009606154, -0.022788496498040232, -0.018726720041171634, -0.021065892691567837, -0.029220906160117095, -0.04588221447633519, -0.03178911113452421, -0.04341532233864897, -0.02264641293961911, -0.09301067906445953, -0.04229772349114185, -0.023796341104051287, -0.08633750775146005, -0.03329617961779628, -0.047464610149926624, -0.022078440886829146, -0.026026273454158907, -0.04706693629840976, -0.014462617994821602, -0.11012628291824601, -0.02984126051773591, -0.04008667263543315, -0.07933888400960402, -0.030578277263341593, -0.043933943643450615, -0.026065132957032233, -0.2910090639835864, -0.368728942368275, -0.3375527685140408, -0.10107458307533455, -0.5668536894724551, -0.07135532002755048, -0.12015925054743047, -0.06759589843936366, -0.11165702927263046, -0.11575570462988222, -0.2687912828633221, -0.049065721788073335, -0.1474997996138775, -0.050470843974100094, -0.050470843974100094, -0.1892229730914471, -1.5603759255746714, -0.04514357541917795, -0.16496303327011105, -0.06575170095249024, -0.16675059734468028, -0.1188185632117065, -0.1254699504395728, -0.12569918933313734, -0.08721740816198495, -0.19481047000082097, -0.05780523292321282, -0.097240775798983, -0.05589457122544401, -0.07360767947543916, -0.07360767947543916, 0.1337738496355623, -0.07246422673234569, -0.049528510871639425, -0.28787849914532365, -0.08405630312270211, 1.3669621511214474, -0.08968893888790902, -0.042060322197144825, 0.2567434358085889, -0.08934902387292289, -0.33215919655761744, -0.06792099633835691, 0.24308582500840442, 0.12714145811056252, -0.1739115170365815, -0.02291371207970179, -0.08373255634101609, -0.057835755440416234, 0.6271792497036559, -0.2552165631831569, 0.05430369733471557, -0.04879989336620918, -0.06789260473065613, -0.06187974745976281, -0.04786127470248565, -0.2177938373685026, -0.31711036657218505, -0.04157632379546094, -0.07685161435541842, -0.04445031575800691, -0.302885882416339, -0.04901466172333604, -0.1501420913806152, -0.104072065131025, -0.09507133733053909, -0.08010943270468165, -0.06192233129278085, -0.30738114258946303, -0.06494613085077663, -0.013847777118974294, -0.2893808593035278, -0.04715652585907383, 1.6022302755395277, 0.7725304220489617, -0.04605040621168924, -0.22057754900094395, 0.05011130754155051, 0.5291558730518532, 0.2964567112864565, -0.2913588422256519, 0.40830514408432533, 0.5562082633378044, -0.1365115405797083, -0.10236299960653787, -0.10358186584854373, -0.19361426897387263, -0.2732958228653865, 0.3349021268251832, -0.3333761978561993, -0.1968672500397397, -0.05415745341079617, -0.0991531183847167, -2.9548309358915725, -0.03801134043756156, -0.03645772388404291, -0.031004626487363084, -0.05681996552687597, -0.03336690444591932, -0.05127140648933706, -0.033610578971500805, -0.03781925858733078, -0.06822491095241648, -0.056746765769664365, -0.05195482509858169, -0.03568508318132251, -0.010198247014117099, -0.03694364186553055, -0.06962187070827021, -0.08570735206908851, -0.029417027303190273, -0.03138817202396109, -0.08822889653018437, -0.19014406690508043, -0.06653999095540603, -0.07808387952997273, -0.26466046960999867, 0.17651795050363198, -0.3044064149652014, -0.17164263263008345, 0.2666599138472606, -0.18463157443912606, -3.917977604932206, -0.04475672292083217, -0.46006824667720275, -0.014236783855057755, -0.16366590096392752, -0.08238468310215598, -0.024754070409906796, -0.24063948992573372, -0.036374127510045456, -0.0504797084594754, -0.02911525380198745, -0.07199220155941194, -0.0369489848819889, -0.21007954144053684, -0.20160251341426985, -0.12933783493091036, -0.10055417140016283, -0.036598059528916524, -0.033729644856719754, -0.0316560827749347, -0.022268610789037996, -0.06771496274915689, -0.0381760839905191, -0.032388714602098245, -0.07992600590748575, -0.025430518270423915, -0.04943209178940242, -0.06209157058541509, -0.008286170269847846, -0.013276915942986838, -0.031579810896694836, -0.0411726472348937, -0.07145081985285988, -0.0445539576871481, -0.037026448022468274, -0.05669987819247445, -0.021349153804025186, -0.019277199527371728, -0.030034716336160196, -0.04408161224099082, -0.030256499092377327, -0.021765989657187616, -0.06275729986043878, -0.01632402211026533, -0.026475921635842076, -0.019069060166826624, -0.030089761347260813, -0.028237524364445384, -0.035840610198985254, -0.02553378893862821, -0.2969957816975905, -0.1403884490193627, -0.20160266587739262, -0.16880540627248297, 0.8414458508806356, -0.04141053213855218, -0.09720536076074274, -0.734479645053851, -0.07013283650188674, -0.029133780503974145, -0.055514853278260716, -0.09845774321939539, -0.028671495374535786, -0.221424100645269, -0.17373881431175844, 0.17477083220227235, -0.1623178771854899, -0.17944322894018433, 0.12380316501630682, -0.06925409879331425, -0.037478478139247956, -0.09170914316557571, 0.6223275875791717, -0.12077010293975536, 0.4593151518575567, 0.6286342171774996, -0.11668335491108188, 0.38693258580805806, 0.12939619200557936, -0.4286080453670263, -0.04780400372451923, -0.4635778389002282, -0.05798366300737165, 0.2964735499827571, -0.09322721891712168, -0.06742315342338999, -0.04545369198384711, 0.24814300086092506, -0.1051559699708699, -0.270782852884855, -0.04927500538700311, -0.17855238180698849, -0.10933372184311504, -0.07691530436122103, -0.06880058750054911, -0.24257387362276842, -0.20457054097749502, -0.07436364675300372, 0.45533118394958577, -0.09198302757220132, 0.2041384417865205, 0.3635965561425485, 0.2368844558131059, -0.06543714992049318, 0.24778534105983885, -0.11716410753002436, -0.2696882208178649, -0.10132581484227486, -0.1874752194292838, -0.08858629207214026, -0.09346684732954219, -0.07649955789723857, -0.002855648242852143, 0.27239074143046826, -0.22965458697829452, 0.06852649699104535, 0.3343493054433907, -0.07308023023440456, -0.33212803325298595, -0.05639417221544105, -0.12311927766258197, -0.04921577549245143, -0.2776653489734949, -0.08662129290193507, -0.057169167561282846, -0.17907981538224624, -0.5284831710830767, -0.1829316463510342, -0.13174626304817333, -0.5124060986899796, -0.1108191056082565, -0.0464521921894091, 0.12241128686015383, 0.74971662426928, -0.3145768342606581, -0.33128162730645827, 0.5030834905182396, 0.3770029147184723, -0.07125484452088526, -0.0615291228952581, -0.04429688377152969, -0.08178427582529899, -0.1401218961431268, -0.09906322637991058, -0.09204312745555272, -0.0518760116702061, 0.21791807322290838, 0.254475932667447, -0.08167573594411119, -0.41762761014822936, -0.11474928328236321, -0.062173808736940665, -0.0871506652313405, 0.24025287773237797, -0.0781590571048672, -0.13917970313368988, -0.07970801982157755, -0.48410443160290995, -0.05407546301969654, -0.10966428017891366, 0.10402286222456321, -0.40896283420463164, -0.05126176248253902, -0.07947485837421833, 0.30180386500988543, 0.533689388715449, -0.19566122173696365, 0.09604314560941243, -0.0032257836181724705, 0.4101511617054432, -0.061095445370808125, -0.07767781155684134, -0.07258322669265387, -0.08567889817901378, 0.07877814478461256, 0.40601337100521545, -0.0865039093638875, -0.29306672955284374, 0.003529433128875103, 0.22814193392003296, -0.21002448818856628, 0.3860647723461236, 0.3944199061723141, 0.4791306376642304, 0.445576464755111, -0.05203647061453404, -0.10957366524970255, -0.07771080448946782, -0.10398991595705062, 0.2604881195475317, 0.20303433088888143, -0.3925685645711265, -0.4487508655393831, -0.12360102686740654, 1.1244915204413408, -0.24548221151098482, 0.12849151009285173, -0.043381839060528615, -0.22678703791935328, 0.5604394216171675, -0.16354943359917537, -0.48328270023115066, -0.034963985439260784, -0.11870691979319707, 0.2321561943392439, -0.40677397560897843, -0.07939251924746961, -0.31653810907540997, -0.08428151337821589, -0.08616974041405792, 0.47344647527454553, 0.5125034082193556, 0.6265692671762105, -0.27173323331598814, -0.038307514191000105, -0.0775327563052704, -0.11667604077571608, 0.2127632276679453, -0.22299441319442806, 0.42080549340700446, -0.08658770501133238, 0.14838726513491923, -0.03589369703251057, 0.3233388998723285, -0.11880029831208332, -0.45927842509722916, -0.0583459342179597, -0.043608430885666176, -0.08606855714519847, -0.030248467732466804, 0.23544096959335137, -0.1821005743673633, -0.08946663291074033, -0.06222220796700956, -0.13453256100172156, -0.20637367368192003, -0.09836403542399848, -0.05062776307783009, -0.2104357938805461, -0.27769299611556214, 0.38903246264499386, 0.268234059063962, -0.07764459113698917, -0.6686764563010272, -0.02181557220062318, -0.29048469406459093, 0.15300019303006512, 0.4027511046900538, -0.06688187449321814, -0.48002529414555906, -0.06298930487474014, -0.08301515178279889, -0.18587366337519018, -0.14752730946956474, -0.05375158760315837, -0.11128855589094441, 0.01976211485879115, -0.15453138335484776, -0.04376733381312187, 0.36126190176099515, -0.052793783910868704, 0.2318338894971514, -0.05355575576593045, -0.12088809168731823, 0.3605602936548173, -0.18001475848820492, -0.124694542370465, -0.09051566183817902, -0.04397612761460012, -0.07007769065692634, -0.1527618688783962, -0.11065502733862294, 0.320408875535894, 0.48143799187689745, -0.054866069130547854, -0.03618795322160014, -0.26715741880975313, -0.2275774427321225, 0.6161898329067765, -0.39405487993511634, -0.1910591768784903, -0.5556456260068826, -0.07287557590554335, 0.10893417750089551, -0.2607503612983124, 1.286830531387853, 0.2239891652900488, 0.6195606078396773, -0.3233838516035462, 0.8112801884668547, -0.12635258275064445, -0.09255481468507766, -0.25534407789336067, 0.1666972814582704, -0.14818105287422031, -0.09849230259090476, -0.06613437463298243, -0.036777264494149316, -0.0919305573446778, -0.19697829059355448, 0.7030418580760515, -0.28717347630083945, -0.07352934092030752, -0.09776486147717263, -0.37516204672043, 0.2926107872402541, -0.054096162247324664, -0.098923643783656, -0.3414608483674947, -0.03998573842118831, -0.027372612872162264, 0.5994428006205584, 1.256060306038503, -0.06135042387749204, -0.09277205253842452, -0.08084624025708148, 0.3082793662399175, 0.24504510981399513, -0.14734996154497165, 0.7931433281851491, -0.12608630744176544, -1.0139321558174919, -0.0718799612930052, -0.05291257021162026, -0.029703911031124255, 0.6757913768855204, -0.011999527663624625, -0.03898616409721736, -0.055859931554389154, -0.3043804262698228, -0.0919547654601102, -0.4023272506037981, -0.09974156338736706, -0.06470900798013599, 0.06932282930739579, -0.1440298008093619, 0.30635587416191384, -0.13864288693481963, -0.32627151540443716, -0.060962744728614925, -0.14754721037511104, -0.09312332996831185, 0.24225244769196644, -0.05061183557122583, -0.042740759654655736, 0.5819411680075162, 0.40628901482553437, -0.0619927369462016, -0.2382563815368842, -0.03031276541109394, 0.4914916837159994, 0.2480130040482438, -0.05845284371503224, -0.028293198196772756, -0.10187647998792715, -0.06637355348766591, -0.07372415417788428, -0.2945738174598113, 0.23631858893371416, -0.3024598216249808, 0.6893514745670741, 0.19652243202834152, -0.5250832716554532, 1.8731154284005351, 0.5224435614561624, -0.2901806541607341, -0.05455760661383931, 0.4342156069445143, 0.3547722442984994, 0.13833293451115086, -0.05823800331932631, -0.08674345839054874, -0.09360399498419567, 0.6677624405813495, 0.33758357545026846, -0.15205266305435503, 0.22954169331917748, -0.051432814032770495, 0.28840413120285757, -0.19782742681244664, -0.11981147117788213, 0.06413546230319171, -0.16973660338973243, 0.7892838045014754, 0.35134598915132237, -0.11746419834330644, -0.3116123227901616, -0.05829585514154815, 0.4715125449554867, 0.18613188693701552, 0.9057585713307033, -0.19473335530401872, -0.12358996754232923, 0.2355339279293655, 0.3516094372514979, 0.6234285332010363, -0.47602467370672147, -0.1293186948099325, -0.0345799648173035, -0.0739385672524328, -0.3772237418771882, -0.13866142235374937, -0.165674860778219, -0.10192366055875238, 0.620395207358734, -0.17297688841007502, 0.005258616051532873, -0.061540036315704476, 0.29987911763302405, -0.15369384318329907, -0.10911319893729617, -0.06999403631217671, 0.3037484797361064, -0.1894994964159443, -0.10704752868006047, -0.07661701332631547, 0.29320428763253864, -0.2230163246074787, 0.16585875317464457, -0.05948044182324656, -0.04408295860449957, -0.07062837306214775, -0.060898632679777874, -0.21608900403133255, -0.07529306692617753, -0.03687891864572511, 0.3136296169735835, -0.051497299416175014, -0.045744666914512226, 0.12390484843141704, -0.3324068767977277, 0.2326511915665525, -0.13370150450301743, -0.19263437676729409, 0.48959319946666585, -0.10128197412643222, -0.08252365369550303, -0.1433639838566881, 0.3248366312706133, -0.029611370988737604, -0.027185143428726417, -0.041980069763216804, -0.05346091453868651, 0.13324990489014224, -0.0654801015540664, 0.14432329546471026, -0.0983841684505309, -0.1141740696710781, -0.0950580487699161, -0.035848504305336336, -0.08310314894534293, -0.1150350122909467, 0.22419232681334922, -0.05974932023485563, -0.06870835348519409, -0.15397417858219078, -0.0808610135836585, -0.07132849083537313, -0.07679660518415717, -0.0843679702507714, 0.346654921221719, 0.31650724608983843, -0.07321387596382278, 1.6895002897888052, -0.06773861934736138, -0.06797751729461071, -0.5280551022484632, 0.38101589408301884, -0.0600297887461385, -0.1011990786172382, -0.20923148240122638, -0.04930583120324117, 0.39516287964375596, -0.042675915939389346, 0.6385434273477959, 0.2042209196567988, -0.07936670970909028, -0.03143872204501041, -0.0883645133644005, 0.28380716297157993, 0.48083159584139085, -0.7638898054538289, -0.05528927837724986, -0.16227884904086365, 0.6164357955408429, -0.14946480992693123, -0.170843719905394, -0.34902972357640194, -0.2999722553311351, -0.06849436954413199, 0.7025767336436847, 0.1835944775314976, -0.40710834066635737, -0.05851870840648963, -0.09851822725549549, -0.4265351284103518, -0.06333669741782973, -0.0634071767020122, 0.05681350995659379, 0.5722582885897527, -0.04588327534279541, -0.06990063960294186, -0.14471112270525321, -0.052429619584371444, -0.33749220599257823, -0.16741160909310351, 0.36119339030293285, -0.05871915163571094, -0.06561333780364183, -0.43349293491841256, -0.06575592578990938, -0.29240215304386263, 0.6550279917990307, -0.34006010835283623, -0.10345025175920557, 0.8869900055951551, 0.00969421414408598, 0.03916883656160604, -0.16942796082944425, 0.7286828037424187, -0.1276028791051667, 0.45614455035727325, -0.14837568757183603, 0.03638844004512839, 0.10878295691424363, -0.16651404834690764, -0.239757637194518, 0.39904353506977436, 0.24303202366216053, 0.37258530986190364, -0.11216802038430895, -0.10567262961247281, 0.5430735616642144, -0.07849474193924771, -0.030140535790238746, -0.16975825467878874, -0.08700842854728538, -0.09883897972713723, -0.02699247179127999, -0.2179408165934122, -0.05262251811898215, -0.0382216575922955, -0.024158327662993823, -0.052846262347084436, -0.11093169815856439, -0.08575169204335933, -0.1332115150830717, 0.3249452555063137, -0.04216166883769353, -0.028503396776248604, -0.22202102530269877, -0.07980587456629118, -0.06055991171001135, -0.06804693332903512, -0.09411978541065515, 0.04845029746644841, -0.03934181038284926, -0.07264609590498405, -0.07906788493735026, 0.8433506040614065, -0.09944094403378213, 0.14629113208643524, -0.06428877875599631, -0.0643316497573714, 0.312173147930907, 0.17889961562750678, -0.5139589622283538, -0.05488233581736788, -0.8389551072489486, -0.05776213109892811, -0.052140779966664344, -0.34903124237588556, -0.23065950912466684, -0.15057498025844823, 0.07620621265431801, -0.13647267234855576, -0.07822903401015262, -0.054832121889742166, -0.08020833372155751, -0.3328498102594625, 0.13863835993945783, -0.10649919781193909, -0.07063896114664502, -0.06862364084136582, -0.14408763302698363, 2.408465253146268, -0.306197615380048, 0.35839371922241037, -0.08573738911646903, -0.030850908798556932, -0.15205011937627033, -0.06986791890117507, -0.18653384964271125, -0.10658426135471546, 0.29258762091306995, -0.19775973584621137, -0.07216918068552018, -0.08211153109324482, -0.07844781618328672, -0.5248251690469483, -0.04818323590279572, -0.191654127641465, -0.12697918997592825, -0.2815814792190606, -0.5013350355259618, -0.035291818435508215, -0.04196396735224166, -0.22747570416757115, -0.07110328804053989, 0.37978702321272745, -0.05306561303342635, -0.05267413006136143, -0.04652473678469018, 1.3346524218956235, 0.31671904258098127, 0.2626413057233062, -0.12536297205672653, 0.2041647762011966, -0.07408242549373384, 0.23612043287745071, -0.07318477226455632, -0.34471565548594857, -0.029067582077402215, -0.04758443992990853, -0.04667277473457112, -0.11187643082347976, -0.05630137364153452, -0.07685880221059561, -0.06530380390870724, -0.060359015478116756, -0.016255359070478176, 0.3886158071674552, 0.21276483110177383, -0.07231509382264689, 0.562194197039257, -0.20707757411043906, -0.26997097619067806, -0.82364770671925, -0.1796311763226322, -0.04388351095544662, -0.08763535400725657, -0.2871123367076408, 0.19129974096365462, -0.1856610529951076, -0.14212358921568327, -0.10279943503880391, -0.05145734880521409, -0.14149592248435341, -0.10420403893386893, -0.13254564399667637, -0.07867521657389742, -0.025003414536933836, 0.7263127359558591, -0.34619713384016565, -0.08675603227113857, -0.20488978018812617, 0.2688756283548755, -0.03914868361270183, -0.034998768372899905, -0.07597237367986592, -0.08004787666194006, -0.11660498775170132, -0.11001946755426728, -0.1413943712011172, -0.06967931432680814, 0.3814296670655538, -0.13941131943848614, -0.27338393327443117, 0.3781393401436914, -0.1840695152320935, -0.027343715466711355, 0.38143080173910177, 0.9723206865550422, 0.3653460254316657, -0.022355038456310008, -0.08834487367956173, -0.4420225127290037, -0.24379739119328345, 1.3946781057077478, -0.2954626515325755, -0.08355394832918489, -0.07591592857586285, -0.10713378283517122, 0.20244449282562146, -0.4586556165221299, -0.03773057268273253, -0.07253209162326345, -0.1330239732806403, -0.0727182362215603, -0.07725678300238494, -0.14458513326153277, 0.30824656245332627, -0.2400546914408677, -0.4991114513235634, -0.2680060882776302, -0.1233578481482866, -0.026651661840253024, -0.25570646065372027, 0.015870675940461664, -0.4487474689609467, -0.10237593011753594, 0.5680363473287445, -0.13435929560411275, 0.2718079216220161, -0.06953990904596859, 0.16288994106562882, -0.05761066468264887, 0.2349159517061064, -0.08948090085691915, 0.3118851991376627, 0.4842578788859731, -0.033493390048641894, -0.08492550388202603, 0.12124635986230886, -0.09820226173035407, 0.4544929563223784, -0.10910242119348536, -0.04222481278306049, -0.053223865337239974, -0.33264446732628616, -0.053732744157364294, -0.22553086869320324, -0.2526673653223464, 0.3461278342598686, -0.13833032372001489, -0.23590707061233468, -0.2062526584633752, -0.052086995879004054, -0.06722775334653479, 0.22391489559689096, -0.1509660191716761, 0.8476917328330696, -0.15160006437620102, -0.4145167301917726, -0.1843054868427027, -0.04202113787921087, 0.13858671083616234, 0.09747730651854088, -0.12162872591517028, -0.06186220310252287, -0.14343793791254184, -0.0988730495316341, 0.5252461927961233, -0.07662725110682977, 0.24306469484527457, -0.14179552819012178, 0.634471140640403, -0.04107918310974073, -0.22686217980254617, -0.36575623867143786, -0.04199623155330391, -0.11126867228237801, 0.22056015182105704, -0.05847433964741859, -0.04549388462722609, -0.0903193395973643, -0.21646791875067387, -0.04463034188377239, 0.2969396792072636, -0.16292943455280484, -0.09359794266039342, 0.12342240629253741, -0.06148565418494958, -0.047105708856775425, -0.0840793213011092, 0.07799806418047715, -0.1447558502579721, -0.05520947198040415, -0.03148110772743268, -0.1326603450471072, -0.13107787619821354, 0.5795881449041068, 0.13035760506667848, -0.0755311531437138, 0.36975767484718536, 0.18029499063581558, 0.4614439900582069, -0.17728598109166133, -0.054883150444856275, -0.2514145536247254, -0.1566643519427623, -0.09841926892293905, -0.11347448871966079, -0.027925099926818017, -0.08676454314214957, 0.36213704996404306, -0.09532664493703245, -0.06908383467960777, -0.34325049278346137, 0.08108151346146948, -0.10459157455652772, 0.38096580848342876, -0.12619519076471136, -0.02234490963924634, -0.19311819106580017, 2.7424508310701876, 0.6418375165584279, 0.1819908684810584, 1.5143837933870654, -0.09500502561514512, -0.0915703195129278, -0.44086948413981325, 0.2746194167529024, 0.2540164097986476, -0.11244010393320504, -0.05994723719981363, 0.6432366592321394, -0.19257233677101748, -0.102682682371937, 0.572510351612518, 1.0418702855095445, -0.08118083911045361, 0.059300189518790875, -0.11153359735078597, -0.1387487912055096, 0.7190736180002062, -0.2577357083075514, 1.0121859008516614, -0.04747862353767863, 0.24533305122708632, -0.08199260617599852, -0.3226490479140231, 0.5185270600655847, -0.12211138175450274, 0.33366257627564, -0.37645043662733896, -0.36515551987001965, -0.33319752494976046, -0.031218054008000377, -0.21162359404798442, -0.051969892454609125, -0.07007513759929156, 0.6644665814237615, -0.555370995678857, -0.19000730124657167, -0.038818225265680614, -0.08881769195039575, -0.26538310497835943, -0.281325082636784, -0.05089672797338699, -0.07916637758377955, -0.1691840869673407, 0.14182502977791012, -0.08304915987048292, -0.3448077483309656, -0.05685807158051688, -0.05472052625241119, -0.03393476857169009, -0.04745037400256219, -0.14634026733970965, -0.27116339803107886, -0.09641796574422679, -0.03288310485426217, 0.09665036623029774, -0.08604308272719738, -0.039995524683157306, 0.39978258600627264, 0.7424784258257409, -0.043945692338085054, 0.027715123447832165, 0.3632700990099075, -0.03744305319411358, -0.03513097948789383, 0.2145072420601263, -0.0430513535241173, -0.06391649188432429, -0.09034156434452624, -0.11587739467348813, -0.04871769759066872, -0.022282864036471697, -0.07071577178563414, 0.30604065986080553, 0.11768648891851052, -0.21408669966156918, -0.22919999055875448, -0.10539292055455393, -0.07997449918632381, -0.07960539710012693, 0.4826199459718003, -0.08311098695197312, -0.11197696002220049, -0.18997152491868832, -0.06555784791606628, -0.11833505531624804, -0.07582403938581408, -0.06583772088670135, 0.058316566897935386, 0.24219029935478797, -0.16455849956977173, -0.020489059147967476, -0.05179245488180697, 0.23389327866863466, -0.05318314674398974, -0.0621977282354964, -0.15910644460224296, -0.23425820050331939, -0.08574908119464972, -0.22002669812081113, -0.05263022600329951, -0.14976308643135947, -0.08828266542679615, 0.4927205381880909, 0.4675535598369431, -1.0772471844923135, -0.032240324367732394, -0.022248614114482566, -0.1131003984310033, -0.08386444339706572, -0.061542830723420414, 0.06579529271340438, 0.3250253079828246, -0.09165179756433035, -0.2796565526240474, 0.3090955430632845, 0.9570740346462592, -3.2503542481610412, -0.024420847954931938, -0.053897401320029334, -0.03133447507408333, -0.04305584211090594, -0.03947162652045875, -0.04972911743563351, -0.040166319698122274, -0.0675754095008193, -0.055492195097629204, -0.04402705787202101, -0.044204933825581, -0.04106697360698492, -0.05524106601129395, -0.0045017163153496555, -0.4534590393110087, -0.08222341749431517, -0.025022327436763372, -0.06812723757753493, -0.037962671799132305, -0.07027133046909034, -0.03140329476527431, -0.08520408571715254, -0.052804299245034304, -0.06348684305086157, -0.10499964978609509, -0.16403835787413956, -0.06402422737651205, -0.09583309552059928, 0.6338649824519685, 0.24282411896038555, -0.029035083377996873, -0.03480387959824408, -0.05190069955968231, -0.05313085163446883, -0.026181920948986394, 0.6486246518198304, 0.2030990159041874, -0.10799601767627426, -0.055904352462803154, -0.02920548209431796, -0.03182019904136994, -0.1731974414026441, -0.04481933474957632, -0.08615807046956828, -0.10303122835095442, -0.02754263173291006, -0.05574054433765703, -0.10009388090211326, -0.23317789298703462, -0.06123271994288013, -0.11939377596024416, -0.043600603437329015, -0.07613649564479112, -0.1708493851429067, -0.08608658517487792, -0.044887904524977075, 0.4174193523233009, -0.19985090440594364, 0.1671210983076688, -0.11298514643585944, -0.8751148687489992, -0.15704227271844423, -0.056028647358970445, -0.05532171452281534, -0.05529537607929131, -0.035991845435970206, -0.0317512695997036, -0.0479923804208268, -0.037651458531893334, -0.05940695426812718, -0.05084678243367421, 0.6828750184253278, -0.027804867724604422, 0.5944659325277483, 0.4392001376645813, -0.03458462511085216, -0.019082001345186988, -0.06501027212726912, 0.4081137068479335, -0.02971140513436288, -0.04382815895259412, -0.07132767184667732, 0.0052236029629802085, -0.0773499963555575, -0.04834242557421193, 0.5084607156404022, -0.11423006009774835, 0.7968538321457134, 0.20810855175171358, -0.04395158175435492, -0.12652520288076205, -0.06346386284342853, 0.2527496504475355, -0.09774293456987623, -0.39385237888952107, -0.05918874834855615, 0.29473794614772547, -0.19225493006505606, -0.13209862402879638, -0.6154574839142858, -0.06774661977294942, -0.28109685502752235, -0.5276248344243227, 0.26006147593411977, -0.14748822123429434, -0.1333066617177294, 0.2768060202528942, -0.17743980894618544, -0.1971675824203213, -0.20208642682653088, -0.08265563956361394, 0.29601157246095233, -0.14795589114252422, -0.18091438081295141, -0.12569095817539985, -0.11262484222683862, -0.10867107815075376, -0.6024642985321668, 0.4093774197457753, 0.3444168632134341, 0.2595066593348555, -0.1904981840157841, -0.08744029884357561, -0.10165160179216266, -0.1698282726220679, -0.021488898672021868, -0.3188238897225508, 0.19242089306974605, -0.16095474611256763, -0.038044701929795394, -0.12500207104144206, -0.0628908136233473, -0.0462785065366927, -0.029452318080703227, -0.08986306037856219, -0.1356510110770729, 0.5720147392183571, 0.4094588162689238, -0.08613020264136445, 0.266012347760656, -0.050591666426626936, -0.09049641676824528, -0.059453660757756155, 0.3740376357722089, -0.04124271406187226, -0.17593924383843113, -0.09369420074515372, 0.3904562204039529, -0.0665147124236458, 0.1724489451770164, -0.09285277326533393, 0.08426745627736816, -0.06118622999620655, -0.42538266819831844, -0.10924557917127825, 0.05752295016920852, -0.07462710083366265, -0.01586136373554922, -0.06356826974083034, -0.07174094791481331, -0.12819514447139815, -0.3892197194031949, -0.4243921600832034, -0.4151169053322849, -0.032781189392911594, -0.059945217041665666, -0.12270792557591154, -0.13534025741164304, -0.055858867946868285, -0.07719486721238103, 0.07871063435814704, -0.11958854638830456, -0.29960871007599094, -0.07316225715835777, 0.3689478740855226, -0.04435226745796768, 0.32569590761287254, 0.3391967642210594, 0.21223581087074345, 0.23475418551553953, 0.16960018938725202, 0.2806962034878285, 0.4715747512684255, -0.11662159551506733, -0.10053935031581598, -0.07637600474259698, -0.07637600474259698, -0.23974965789722602, -0.3477084609882071, -0.4122850586492929, -0.04769102878684215, -0.044853454971830305, -0.044083989801203004, -0.12883284371129866, -0.1348805044867168, -0.2093647377175795, -0.10121095658501432, -0.15576855623129296, -0.3962318471837146, -0.048041325814916734, -0.7142841702129705, -0.02034882642074663, -0.08070606338629349, -0.0887035037696916, -0.2244726973326191, -0.0853926901434864, -0.11145298666228136, -0.08891541610337193, 0.29885379441439125, 0.3991421187333851, -0.09188017040410384, -0.05279317016286014, -0.42529821421744535, -0.912186395773031, 0.2993126279919494, -0.019153910104542392, -0.11169181730838414, -0.05198874456201339, -0.036626977490514356, -0.11545209095790451, -0.026394468172149948, -0.03605998795672637, 0.46186665824647183, -0.033165370450510726, -0.02480947703323914, -0.026628547413768838, -0.04543414909708243, -0.027312241866061005, -0.10640288784323428, -0.11945514034608118, -0.17489709341713286, -0.03960587070221877, -0.03776773604347661, -0.03501980606095382, 0.2649949458829885, 0.37564875657979624, -0.13640225319084964, -0.21156358017840657, 0.35593488854897004, -0.10335949346209186, -0.0936705199310089, -0.0421282670467066, -0.04157681315999551, -0.08133535507208373, -0.14601392594475596, 0.7209708095193793, -0.11172128045002414, -0.10092274466451918, -0.03764053959949417, -0.1520640672768404, -0.7250783740233221, -0.22571213311579133, -0.14959402921760095, -0.16312924896526051, -0.05062212220384645, 0.38440777859974995, -0.07894749679583529, -0.04258928110582117, -0.10995531945774589, -0.28100388735610615, -0.3147002302911235, -0.034939686519140735, -0.09185478958583859, -0.06095555686669999, -0.58185411012734, -0.16665181234232973, -0.061357926986643385, -0.04799539742367487, -0.4362568307764893, 0.36366049235793424, -0.07259776744341058, -0.1031266498830131, -0.06985511974092656, -0.055146029139074584, 0.15259811937432177, -0.05713151411059693, 0.43171847746138337, -0.06472785257873871, -0.0890801549470024, -0.0735978123980589, -0.0816860285359774, -0.09514431958564089, -0.17491586212251053, -0.2953027532282195, 0.3147266810530452, 0.4001820323484976, -0.10514409530873306, -0.0780294228880759, -0.04560543240645954, -0.2681000606293073, 0.21313577313765428, 0.17147181086994193, -0.08856982685421891, -0.09720900631663362, -0.02093416245998118, -0.053720490309202125, -0.10326958622254725, -0.11441418499235714, -0.5592867002364, -0.22702169820839227, 0.902624166861303, -0.13808879027992985, 0.8379543847592938, 0.47874045481941185, -0.045597006739896084, -0.13990328431752805, 0.34945920245941486, 0.38855357556463066, -0.030492171989264252, 0.2581486569774408, -0.43858927482684035, -0.10488787290808883, 0.2270382296195955, -0.26103228459415634, 0.13689840964355632, -0.50580876208545, -0.022732940484981267, -0.15539234366351568, -0.04345444053917984, -0.04345444053917984, -0.22357064625459827, 0.36028877556593164, -0.3490804783545754, -0.33958259020990633, -0.1635598309266003, -0.2617175577143072, -0.6518440568159471, 0.24184827073999393, -0.0752762489717079, -0.3465128951998827, -0.07231396171850941, -0.14828951982404726, 0.6851227165808892, -0.06908500094945857, -0.16196624493782055, -0.0893902221039238, 0.16938545508971042, -0.10303912787378683, 0.4447520172694169, -0.07540093058493513, -0.1859125717810204, -0.12891160809662733, -0.13820971091845632, -0.04252944335125712, -0.08441846142423284, -0.18099673051425144, -0.058285337820998324, -0.025164992723727186, -0.039246755859788734, 0.4176688212849259, -0.156228573306352, -0.031450046936515284, 0.11790304134300061, -0.09452878513445324, -0.05225929920614241, -0.11039436857580832, 0.3821382348378615, -0.1820675629409015, -0.07560239698431102, 0.21802943532508348, -0.08993767713209547, -0.09401298904073946, -0.06391108249386548, -0.04261203105266779, -0.10535559493216416, -0.35097073252557415, -0.07640760572173236, -0.08548711044458948, -0.09017771214429371, -0.07426403118582266, -0.09672833644817304, 0.04207361110971589, -0.038607508380208405, -0.03434057796133437, -0.2550472002897919, -0.0644145758812224, 0.29452071846642086, -0.49083043619243544, -0.07566305967602875, -0.09981223291331365, -0.07120552396821409, -0.13798790316850476, -0.05820100781153258, -0.04818997602910937, 0.11186989310849886, -0.22563134687941144, 0.12469393547917428, -0.13312648261419538, -0.04731046257065043, 0.23478691609181968, -0.15376116321089628, -0.24251734696387983, -0.03879541715554769, 0.09815655616986758, -0.11273339780090419, 0.37926584095300825, 0.660092310198973, 0.7362997076373567, 0.03352451288758306, 0.1895823262186331, 0.7183822729890792, 0.4076149877473765, 0.2861973213360789, 0.711309696888617, -0.09421070858856992, -0.06379933009810813, 0.003368173788083356, -0.057353383426002824, -0.0846507596365099, -0.2101612885254838, -0.043650130327657986, -0.20110209858507241, -0.15804821819207995, -0.14300591523460032, -0.19960647747725566, -1.3116700447066794, -0.047269297328822235, -0.09852152428751472, -0.042018012512572575, -0.02328720778925895, -0.06204378054958082, -0.07346663888626927, -0.189862495298813, -0.07586096514194503, -0.18690021157038897, -0.11345474452627057, -0.06135042387749204, -0.04819672357036485, -0.10587477896647143, -0.07376820948878965, 0.5055271034884972, -0.2771567137716417, -0.22446261644160925, -0.3363647095350739, 0.5177162536697552, -0.04309669506762858, -0.06941127897796323, -0.43565685482874633, -0.12584786615708912, -0.05389580570725387, 0.27761193006622936, -0.050059484087286076, -0.04587446826043929, -0.06624501317696865, -0.056391306305663996, -0.01167852918469005, -0.13268782168392004, 0.35031001246474297, -0.20453151672022882, -0.17023605560933727, -0.13154891602823496, -0.035436525521327235, -0.06951804954365651, -0.03796012995742871, 0.28996626113806495, -0.08321922204718546, -0.05677942139203115, -0.06136728936278186, -0.060812135173448786, -0.1645950546433634, -0.07908436654913219, -0.02299037415670353, -0.13192462885452771, 0.8336498229051429, 0.9008248652408753, -0.5572757450598281, 0.12760796537896887, -0.1488979169907131, -0.046392573944059524, 0.5127879139111656, 0.21773595333776882, 0.3002485897395439, 0.18884288570893856, 1.000071099164453, -0.11468400815146142, -0.06254979460376335, -0.08903439915348772, -0.09227363308733089, -0.08814234099623242, -0.13619713563779237, 0.5213699932855745, 0.10761640516281723, 0.18389906170514436, -0.05285724155652873, -0.29741867926132715, -0.14733025060355906, -0.016614639112988112, -0.08653321186404489, -0.12929158575281785, -0.06946031784532128, 0.525650857460398, 0.23426641011591903, -0.07010023529185094, 0.7185307211796456, -0.07683262473395697, 0.5293557645429914, 0.26845908022722614, -0.07294118328596857, 0.2783450081345799, -0.13579642844698495, 0.21063505422664547, -0.0858366410412224, 0.19660026180966178, -0.037326088963775865, -0.19346268957751211, -0.050689539671357524, -0.09893073536604606, -0.03963990078735994, -0.22919496841518458, 0.23399450789426696, -0.15358639961150863, 0.34808154299676375, -0.09854833090090162, 0.21402968707296702, -0.032725023799497654, 0.3960854914723357, 0.3592744317978927, 0.5240118632193767, -0.15183274363479496, -0.03098874571081146, 1.0372842810815603, 0.45780427000179996, -0.14921909174575843, 0.3867928270721718, -0.15651626547449277, 0.5532479591238004, -0.33444096722263067, 0.7038976483446336, 0.7374142273814087, 0.46678210573775397, 0.8144500491141505, 0.030449340350193865, -0.09003441701435967, -0.04880881585195008, 0.17244224303012257, -0.07124633750603716, -0.04156865503614022, -0.09422243010521489, 0.2370704675870249, -0.4868077927651689, -0.1392574825414608, -0.05778417861115477, -0.09549293659634583, 0.16582810504970852, 1.4679075591647552, 0.1466420232055298, -0.06394407267769507, -0.10509354104073988, -0.11645494625776615, -0.18609850134843253, 0.4970945490918417, 1.000006195712604, 0.26243574596467545, 0.17026249027593035, -0.043363817403852804, -0.08067349589379917, -0.06545187485223448, -0.037903736211884184, -0.1055991456802102, -0.0905826423987568, -0.04945829294176029, -0.026404243033035152, -0.11003767913504736, 0.08621979540463812, -0.0398218461896503, 0.833797777713938, -0.07770984669319239, -0.24428786707762856, 0.32990696092722954, 0.3061081231963087, -0.3035913759832413, -0.18738127340336092, 0.3210503574117439, -0.11427628080053558, -0.5193705827915439, 0.6008903355068113, -0.12577400784693235, 1.4224614566889509, -0.17626658400384093, 0.09502774923882043, 0.23914703086703565, 0.47221742875749784, 0.5712805504343507, -0.08652392026245029, -0.09635596398419707, -0.09169843260939911, 0.04397255278612552, -0.20379513342900837, 0.26650126136377394, 0.6705896114119924, 0.4026650333656765, -0.19070839438377754, 0.2884242432653527, -0.466271552286435, 0.06377894287607427, 0.46871913750825983, 0.7902911564849068, -0.21317181913800934, -0.39445457390687644, -0.2417779028248228, -0.07822157018075145, -1.4147609497050055, -0.05444699353116124, -0.05556465830716797, -0.09996796697422322, -0.042736826402388725, -0.07932456021193693, -0.24720180733081437, -0.053330753503694844, -0.052139177517159414, -0.03708364302267827, 0.3653084507725631, -0.060958469013926306, -0.1960595422821948, -0.028883501234514174, -0.06221411440162298, -0.23230467276865605, -0.03818484932673272, -0.05039343157352141, -0.08779855152945856, -0.05591864388824301, -0.01806757389016694, -0.02364812211674137, 0.10783723807112014, -0.052971014704462485, -0.04412645139914347, -0.13315720243529355, -0.14332935820956935, 0.14592397103905133, 0.3590703978153346, -0.2338897624187212, -0.15135974291632065, -0.6315068690016447, -0.3647763873585846, -0.360984815732702, -0.039256367289623444, 0.2818458706333713, -0.1374733302240005, -0.05702666640073912, -0.06234758545644737, -0.061716463042998604, 0.34168287609973524, -0.1287995492850379, 0.06344843861343306, -0.12062678081067645, 0.5357277521201999, -0.33724110778566474, -0.050137617124998, -0.05990379201837346, -0.055781420782151814, 0.29594020806652177, -0.07433452035807123, 0.44508342271642315, -0.02562825226036823, -0.2338924255575711, -0.07728465189573723, 0.2586924066622843, -0.07375801551664443, -0.08609205204894453, -0.08612566280582994, 0.20536464840955296, -0.06515381322498348, -0.03649443466093879, 0.028728728173186988, -0.05183338939146753, -0.10029227846753372, -0.0245323983188786, -0.07757400744414489, -0.06989585062446671, -0.13593952639336354, -0.09364289616207659, -0.06603268878037356, -0.03515345806352668, -0.05833914652220469, 0.3968488241725156, -0.24420035341387622, 0.8170518157771548, -0.04973085722714502, 0.12477009815530739, -0.1360768750819078, -0.1487654094632362, -0.20400701982035382, -0.09272476405543463, 0.7070854807009149, 0.14543115662481892, 1.0017155002003966, -0.5647558948328059, -0.08844073506964013, 0.34588506286785164, 0.7526926703115373, -0.16530132093437952, -0.05520272702697652, -0.07925207430163667, -0.45730704394389754, -0.10276671496672286, -0.1491513149374418, -0.034230197999553826, -0.12183082115996392, -0.20928530888550145, -0.12742004104593813, -0.4948719567924666, -0.060855472004204894, 0.3810983017322487, -0.057656841389129125, -0.09393827089136898, -0.24080536477628134, 0.37515304704995267, -0.04734912426396622, -0.21498476211834022, 1.7145097162815357, -0.005207883927447365, -0.08268345892948535, -0.032776424745011794, 0.4127518318124427, 0.1957582119286441, 0.3072126414666697, -0.09158610564026272, -0.15340680584425098, -0.06316852224962007, 0.0030025950373004577, -0.0802085882968676, -0.04747663017456781, 0.1428416383798999, -0.11075041182730279, -0.07873625395365545, 0.41790606671767944, -0.05975254523743057, -0.19690170781468963, -0.33937977008368875, -0.12619148941101632, -0.23184144241262408, 0.7801797977790962, -0.45261429444098417, -0.12850202208959377, 0.6346087378442525, -0.6254056953129168, 0.5876256417764313, -0.2569061466853292, 0.15894478213623353, 0.08054401891839513, -0.09946465722835497, -0.07157705072993047, 0.4398177908090216, -0.0985655986113069, -0.22624833022882831, -0.08007505906670481, -0.41636525275265623, -0.07219666188261324, -0.08275706077380134, -0.05977801581222064, -0.15107650190890642, -0.10730975330312431, -0.17535776820815063, -0.03395995185486795, -0.05757373890229146, -0.15205256344794013, -0.18632104117526369, -0.09349069419097235, 0.4436816670354564, 0.7676038368897259, -0.04686710837627796, -0.16371807274731298, 0.20580495095177767, -0.09085722647645068, -0.05411999763780082, 0.3236920513796847, -0.08809153783396442, 0.443023544127848, -0.060285858609473254, -0.5127349022147094, -0.2210070867636346, -0.1266879320530973, -0.08555099358634556, -0.048956542312353274, -0.0700922024497779, -0.08512208670560548, 0.2807909433551067, 0.8026129281911882, -0.06807630100722065, 1.1219967093562462, 0.13035100564207727, -0.11937968420258849, -0.10011207366500051, -0.04447424571277627, 0.09879593602601612, -0.5266299301415309, -0.06001748200950821, -0.04390647634062967, -0.06317397400896774, 0.4996548906375913, -0.04720249020668021, -0.29838389749055666, -0.16373355815813562, 0.8936356917514328, -0.03850582805363859, -0.07053163941376217, -0.09399881399507334, 0.2855512572315297, -0.1135363527416058, -0.6911964171105505, 0.21745288180141584, -0.08408115731494732, 0.21705423541850696, 0.3371571461487697, -0.18570934839165873, 0.16396782386845568, -0.06443525684589507, 0.4597633793182791, -0.1459509522812775, 0.28302318255471454, -0.07045382327668955, -0.03136955909105246, -0.07794663822398303, -0.12693499256135157, 1.1896135599140654, 0.6555915134511534, 0.14150208494353173, -0.06790238784432708, 0.20191178113866945, -0.11993917145219342, -0.06218734846933954, -0.08308827439890755, 0.6052346436416194, -0.03690473863886134, -0.04332173565843704, -0.09815570852556108, 0.48346106744935424, -0.10411401102256453, -0.036566398928205415, -0.04244462038266232, -0.0348283085772752, -0.025629555115346467, -0.0428502729809115, -0.022699946437830527, -0.053035662979208295, 0.18401440841101255, -0.07174693686145656, -0.1435072121235061, -0.11692078810514869, -0.07262626875876675, -0.318601532925742, -0.3929210423054761, -0.07788598246513179, -0.1231662884057359, -0.13248478849849257, -0.14613953452663359, -0.1543915124012963, 0.43653238435556574, -0.056214574935957176, -0.06479949009158792, -0.3278148726729145, -0.3027474013342484, 1.1312870322287576, -0.5123998242028895, -0.3821699032119731, 0.14547140250383522, -0.08273320161313062, 0.4458631696087254, -0.07014697161817138, -0.05323031894870424, -0.06618794997774394, 0.36404930140518926, 0.563923630442346, -0.027865681617610955, -0.08260353853033996, -0.2559234260059465, -0.20727315942973767, -0.030366171022819608, -0.1603130932313002, -0.24943222691801642, 0.295934751494126, -0.15116859172291924, -0.054631084802592725, 0.45182095275292783, -0.15272481392103124, -0.1468873536216355, -0.05352666924763987, -0.18576829317000265, -0.05337691714457237, -0.17717347382597431, 0.08707848277891188, -0.18816336292254088, -0.13307253501759264, -0.05096658402894277, -0.03877000380568704, -0.21101168325805356, 0.2831514820736482, -0.21088100208943847, 1.2049418439264505, -0.05102590910448782, 0.39201125802692605, -0.12163232822423875, 0.2695019321921749, -0.0666438542580849, -0.0965288918570167, -0.055989223118974966, -0.09535608295070244, -0.031029814344868945, 0.6120860704348021, -0.04475821547696523, -0.13548468258306468, -0.21683501107444997, 0.7821939070419287, 0.046111802101943496, -0.11750336271546381, -0.03873379707779035, 0.9594492532729313, -0.06852894910936061, -0.13611985318404246, -0.09212713840362116, -0.4595534844600973, 0.15494162055432298, -0.1731625565869723, -0.11961091376739173, -0.29221163736608713, -0.10065707452695007, -0.12078704313740685, -0.08698063464907281, -0.4048193005781335, -0.04426374446471993, 0.2093468753416734, -0.03870643178324515, 0.5138641968264026, -0.20453393018558283, -0.08819777426558782, -0.18336590251946747, 0.33931465284913753, -0.085997763872753, -0.1193923065824961, -0.10096672543353095, 0.8174706398339769, 0.3088278770129358, -0.1897412080521847, -0.12992396111527035, -0.25727287239126007, 0.4463168962394719, 0.3816177368181392, 0.46776851213971665, -0.08455692739716456, -0.12093298312833169, -0.6388605053513841, -0.3138210015232631, -0.05718000777018756, -0.10286727865758157, -0.058018537438089546, 0.3626086486798125, -0.13385074473184344, 0.3585613223319145, -0.08984434157182947, -0.04453820445999504, 0.2438722855350263, 0.782165698946012, -0.07937965722342426, -0.03257136248004283, -0.03257136248004283, 0.888869160189398, -0.1773223641447236, 0.6462892346349748, -0.12282501660476147, 0.6300335123020253, -0.1430078683974424, -0.4293954408107093, -0.3386986168896923, 0.2426958168765608, -0.11266935999725045, -0.07237080611412249, -0.06805041424642358, -0.19419737981348448, -0.551028526334107, -0.05261762687236304, -0.24786800526805342, -0.06191738149934268, 0.33873375270460054, -0.03194787089287905, 0.46420229498514665, -0.04631970041947308, 0.016387869108980407, -0.08564531337934453, 0.6980146835792165, -0.5440494617478232, -0.042476383717785046, 0.4890438134418663, 0.08619674038796156, -0.0724841586723945, 0.6785052341229243, -0.060546177583459496, -0.07413244566277062, 0.2537702497504061, 1.1100209894570765, -0.23825228110642505, 0.042505108005704645, -0.5835924614735595, -0.16441381413423375, -0.0978192075080124, 0.37875259412572854, -0.10060462657999346, -0.013481342022501841, 0.20940531459588463, 0.75806237071413, 0.3057670187212125, 0.008262518400203405, -0.058330868959301056, -0.041265084411063614, 0.40454114748988607, 0.33831922554428845, -0.17173996783552734, 0.2946341520712563, -0.0602932518727096, -0.03352221268906154, -0.46070555685307074, -0.20898950138626346, -0.09056189696958723, -0.08053907396925568, 0.609963126307368, -0.04382343235564945, 0.6026662331784153, -0.0786218938518875, -0.10020728543103109, -0.04403076348803534, -0.07276700495331186, -0.04917044823931609, -0.08624052146851108, -0.22362456756090748, -0.04926058587303923, 0.21881311006565374, 0.5010173469442081, -0.04433327414654027, 0.27414967217893416, -0.1524625979153438, -0.07367846234379817, 0.4776311439589064, 0.22054320099284178, -0.4509928035062309, 0.6899309331412128, -0.14922044819396327, 1.045014657901084, 0.10668030285014532, -0.12903581846057874, -0.2575367899575845, -0.17178321021129825, -0.12316997535184333, -0.41903424760432817, -0.058248939948936734, -0.16474271135805096, -0.08774311456077016, 0.27343532192865594, -0.0411856890304883, -0.16411738407143794, -0.2688970450978795, -0.09407404179602154, 0.10048451178885631, -0.1065444014014268, -0.06977905993117774, -0.4884682834050253, -0.04588025120665448, -0.16953627647645747, -0.07167508253879024, -0.10238571257570121, -0.19898121513914935, -0.22852933573280665, -0.32586124596886273, -0.11959287006946524, 0.22443562212827672, 0.2612799494500586, -0.12544759411285059, -0.029607309745444323, -0.1733783892402171, -0.06842209552910623, -0.11155686433790857, -0.19277187150259253, -0.24809834336398334, 0.18913538416695042, 0.07466978643095147, -0.0682995419277565, -0.12589569335943426, -0.06232510114686994, 0.23139618448760016, -0.24918436268395644, -0.05546558359450092, -0.17018613451913317, -0.041412751409256036, -0.053619383565941814, -0.05140201790673957, -0.09976834790240832, -0.10870915082800063, -0.07842911571771592, -0.06997237145535977, -0.08203565102511355, -0.052559266747406456, -0.03578690095204234, -0.07806677791723493, -0.0778776168269182, 0.34574598112299293, -0.07841642721268542, -0.09392178883579466, -0.14097006650411512, 0.3555325884185818, -0.16893828027298496, 0.27991698031173334, -0.08410777582494232, 0.3594859268087345, 0.7480110840870436, 0.19331064428667052, 0.46353810558208336, -0.046825913632972276, -0.1747855815494142, 0.17922022332826942, 0.4341015787672171, -0.6245600134161821, 0.46989058036187736, -0.028939214780657894, -0.17337594597838704, 0.012118891517983827, -0.29000268145610225, 0.609592755583333, 0.6332226366717953, -0.3783316870997284, 0.5501567862242766, -0.08647767899885968, -0.08257988673036155, -0.12130000480673579, -0.315615348269096, -0.18689037015952412, -0.16855016585464128, -0.08436125923857721, -0.743547294928645, -0.08896796245985683, -0.04383257560952829, -0.02562549805721687, -0.13996222005929695, -0.7823210423396015, -0.0888576611547141, -0.3043540707376693, -0.24507138175703677, -0.0872915414993651, -0.07898761377085414, -0.09077730686036468, -0.06946255820091381, -3.368635408911769, -0.024310535829311752, -0.09857841527932802, -0.029379161594594454, -0.06592305626943507, -0.07027927086000947, -0.16430365245956946, -0.08853171887954656, -0.06781986157811833, -0.40995281499529984, -0.03201693473644335, -0.0381835946659866, -0.08290886633096337, -0.15217956245215836, -0.04539302913288709, -0.041109339209864044, -0.16096607779285482, -0.0620056443200627, -0.08057618780059704, -0.023377375344755646, -0.04192451592354876, -0.5471181412029734, -0.019634126711735995, -0.04846033039734108, -0.39708529586331526, -0.03274297451990817, -0.040315960893691466, -0.3989867981332463, -0.09578603715339243, -0.23519113831056174, -0.23049343511630888, -0.13232446470024023, -0.2798117612570995, -0.3541200968336637, -0.0777682511891591, -0.14554004650123206, -0.089403566817098, -0.12856342924200592, 1.4733703495975563, -0.3249968190429189, 0.2508944924580257, -0.20405170317999138, 0.550757346955934, 0.7690643589506718, -0.22418479774750572, -0.3721187959633649, -0.09266682672668171, -0.14258798773876175, 0.163620387727395, 0.2059505521707506, -0.03139248302113642, -0.18174914946219461, -0.04176483248802477, -0.052335053102445295, -0.15302389881951203, -0.29133556330169436, -0.13016149292413498, 0.6787164456429144, 0.5355861150585527, -0.2787683650297658, 0.7015889742667373, -0.101455175941172, 0.6300018428497983, -0.05779680385224331, 0.5356683957072415, -1.0525668858173085, -0.06546074609097453, -0.10328369291396848, -0.3112078581769011, 0.63405870192882, -0.14159930478215121, 0.20983362795739524, 0.427531917344835, -0.021606561009777352, -0.5524927192343543, -0.0936897733961624, -0.12186566019207799, -0.044885347488908156, -0.16233948758307093, -0.2937519648077549, -0.04527622915214311, 0.9748832967413452, -0.15593424535186423, 0.7119684797969534, -0.20276796553038604, -0.0767322942003113, -0.05057374841475791, -0.15403252258452785, -0.08640737924688154, -0.108561738530833, -0.2338709452376333, -0.11544906407497582, -0.1321743470857608, -0.3231233544027343, 1.5793159930285772, 0.3661613606237128, -0.5126311696104534, -0.11960470817917011, -0.030249018514541634, 0.2655365988410362, -0.05409449919974922, -0.08724754590414925, 0.664763537324965, 0.034407287903208766, -0.11676201081299561, -0.11844886379809666, -0.04101736308572088, -0.16973578110797133, 0.16881315013568637, -0.2512573338659973, -0.15292148332108063, -0.07613832026282824, -0.14376521523759253, 0.6835907431769015, -0.1042595431160135, 0.5787044266917877, -0.09244939898858125, 0.23419136324482165, -0.09029069343987121, 0.2714850104530288, -0.1557994982363481, -0.03337222504799298, 0.32769365095461234, -0.04410126094271445, 0.3627408698127933, 0.2664872216185731, -0.10009740800907713, 0.4752344078528534, 0.616771054147438, -0.1750586262909534, -0.19820585342393407, -0.06466083338701646, -0.09224408636964851, 0.754904452325428, -0.1164878695964141, 0.42021989011832384, 0.438743483532684, -0.05410612685496445, -0.03931966555306322, -0.12823840149225174, -0.1687570349370323, 0.8648612877508896, -0.11235095356932345, -0.003822052147459892, -0.37491201117539746, 0.12922869035966764, 1.047980792001038, 0.8725890298850215, -0.08956268083619326, 0.5413847852857354, -0.1031460886275601, -0.4253962913786181, 0.43642229887789086, -0.04686817758251221, -0.040301740151712985, -0.02547824243846498, -0.029887364704756267, 0.3112520399581874, -0.04474979554729183, -0.06899442136346735, -0.03939593551555759, -0.3398547243031491, 0.24735076822532273, 0.929262933316555, -0.07549386541022808, -0.09938158608322625, 0.6169451663705372, 0.7089724774833617, -0.13008003773765356, 0.2213610235064076, -0.07691921560800469, 0.3821882530915093, 0.461477510748659, -0.051201008788084555, 0.5982297266480224, -0.06474953046096289, -0.2115644640260639, -0.1337859034578244, -0.09844812565869204, -0.0544648945771778, -0.09786957676664115, -0.35820561991794314, -0.12848789919139306, 0.3938417767730979, 0.22684783377810544, -0.16765942738974232, -0.4159158380235465, 0.0065235029453583615, -0.2111979854322803, -0.14347041281333278, -0.13246575264502486, -0.13699429736583812, -0.12522777892456688, -0.06404781656184041, -0.30633290935416485, -0.032759845100376724, -0.06610617936977004, -0.12561683157644885, -0.16805342840554235, -0.11390404564323721, -0.2439959644440388, 0.31552306447556805, -0.36733607360436926, -0.10375473128005391, -0.1386019899638467, -0.39607169311461693, -0.06330481210367374, -0.18916284062104533, -0.3243691898117683, 0.005252744191887312, -0.19034107176001233, -0.5744500362312743, -0.1490672518427378, -0.39564049193269424, -0.10946342715343632, 0.032118898275134825, -0.06815203342913896, 0.08651221486273036, -0.07752455793073601, 0.05454733709816759, -0.031141772204084976, -0.640722628201971, -0.151249962433613, -0.060786109912623155, -0.12174488511310445, -0.05295889080275015, -0.10410288217882167, -0.09548331765172045, -0.33313656944381514, -0.033611370782226105, -0.09113719320155447, -0.16911413788586782, 0.3727378444764469, 0.021146898652030503, 0.2264670739628246, -0.26485551127479684, 0.8610465156662251, 0.34023044335661823, 0.44860986678643616, 0.20296354196215993, -0.23640398701583767, -0.23399807004966583, -0.08918091782712348, -0.2077262646260246, -0.050112828833743954, 0.09934276337116622, -0.05743899205731556, -0.18732105248330985, -0.16993588738349885, -0.05339439372201742, -0.14206936905990605, -0.10087869028772678, -0.0790850592329368, -0.10265622890732506, 0.36736793647014876, -0.04954533772326582, -0.11886991938089295, -0.039156291862605455, -0.09377253102111008, 0.670183977492889, 0.1889358304466705, -0.04105523383563666, 0.3520550563839206, -0.32586770497996664, -0.09998427039707365, 0.30645779631073083, 0.32880350523732715, -0.09816989975247363, 0.45250035028009006, -0.14393797152936666, -0.1704818985471352, -0.42763107345375767, -0.09841675761646157, -0.14222989901937752, -0.14841327799135423, 0.2882540439325449, -0.23052762189287546, -0.1882732514653227, 0.31689324555140114, 0.32075507142019366, -0.05165799793592527, -0.06125592408590464, -0.028990734248052107, -0.12234993366913749, 2.181528269100122, -0.12206490608785099, -0.07472103079789509, 0.9163522614969477, -0.2560973571177692, 1.4669572924128218, -0.22990663815312723, 0.62947112875513, -0.0761911550804293, 0.14436801661355628, 0.1192222200740487, -0.15108420739193096, 0.9437476815587446, -0.042050628115110227, -0.044550191650886466, -0.08239006768043029, -0.08333403317338761, 1.1181857055446256, 0.2797613304755634, -0.11113946443004742, -0.16763422469656578, -0.1409164722427216, -0.11973837600549993, -0.03897601184394994, -0.44583845644260106, -0.13332209846882143, 0.43132426035738824, -0.15110841634612954, -0.13591415419396652, 0.24874325177169854, 0.3164629371661815, -0.13353555114373925, 0.04822221463132054, -0.08220823492967022, -0.11499228143043694, -0.44935094400265146, -0.16098725108889766, -0.10357910920265277, 0.27292028780444005, -0.12480918854897126, 0.29258493425488763, 0.17960570044107388, 0.14199036614227936, 0.6953251973184115, -0.2631076109978263, -0.1265112882275909, -0.4126553456185858, 0.08259602751512506, -0.3850725510077355, 0.5450466104351533, -0.3050175742593406, -0.13101370261995401, -0.053753149545611126, 0.4521493759664655, 0.23666549680952098, 0.20497332032669952, 0.679910538574153, -0.17005900651231184, 0.34717794602156465, -0.09779742795018806, 0.26516630284225184, -0.1819506464131452, -0.3019339795874457, -0.1443568960876166, -0.0917588359242479, -0.06654110977738428, -0.06319386888298782, -0.18591366179498045, -0.10966604527261273, -0.13475204216189343, -0.08616227710203217, -0.06273257940108135, -0.11065736555489919, 0.28882903006385624, 0.030132816208306795, 0.29746790026626, -0.3206291895808949, 0.054537037177589676, -0.059458605297147776, -0.22256109868421167, -0.06982780414601752, -0.08123381321794088, 0.21485395506188848, -0.07391218768358625, -0.07273211838846584, 0.18630051376729706, -0.13022751798757096, -0.09142473125362717, 1.0106403483582527, -0.0806353713359802, -0.19373416973078192, 0.38981120965789123, -0.1534525865645872, 0.44402819055516685, -0.04078708568386974, -0.15790630759914598, 0.29212978397693784, 0.025439917071287302, -0.03262285000063023, 0.28007192185844326, -0.05000659545908476, -0.0986423866974622, -0.17928045131629686, -0.130985169252457, -0.1741421344536645, -0.2110020173466277, -0.15829993533451422, -0.20879538685916463, -0.11667604077571608, -0.22734738596105208, -0.17402040065990282, -0.18753949964837724, -0.09593874251206254, -0.053730941647703076, -0.10691092239697685, 0.33106246495364017, 0.15789882011443188, -0.4464461513349562, -0.08706513101345911, 0.315524379227794, -0.08958026087745434, -0.16851836679972818, -0.40106002729571394, -0.2177803246391323, -0.12080001264486079, -0.1438829587566684, -0.35713908394781796, -0.6358690252955648, -0.23168244710273977, 0.15454713545477874, 0.13913201602357475, -0.09286979040814906, -0.14843367668664947, -0.20027896588333496, 0.8698120452893834, 1.5265875552900865, 0.6819338892310624, -0.0895140002154199, -0.43538725739214856, 0.8570776847093794, 0.05783341280426901, -0.11258515380534133, -0.06642715623014663, -0.06178139480759343, -0.04482555246606482, -0.050722283371671166, -0.029743127828346292, -0.07061764273329227, -0.03966306180374016, 0.2582019526809456, -0.11010934325589986, 0.24483768902820605, -0.15308217390248344, -0.0741797761004884, -0.06170896580447307, -0.10327590778482086, -0.09920387687363899, 0.9920168688648382, 1.0228384264582542, -0.15418482184563156, -0.07346753727237226, -0.03517090226379428, -0.10179271002783537, -0.11493270053573114, -0.07966037871963118, -0.05509038115338646, -0.04792723427255852, -0.1064357383116875, -0.04719821786603107, -0.2888528201835181, -0.019948263137119983, -0.6096329125741182, -0.03530552509542719, -0.027097798342481477, -0.054012650105269566, -0.08017273395447225, 0.43762192289190577, -0.04205667189940127, -0.10645621619502897, -0.5181766132362142, -0.049047480610488, -0.21446495716377745, -0.5999810674653623, -0.10545107198319979, -0.1656209240749548, -0.08433532579111999, -0.04985174782166473, -0.12529950120938957, 0.24473214078916317, -0.14774829208231027, 0.32512219969250916, 0.395366741991037, -0.26569619157850294, -0.03980289127192707, -0.08525540006663071, -0.5214363773542341, -0.11623095993458604, -0.17542152355159604, -0.04607677455526207, 0.30927729046356467, -0.020975101617622383, 0.15453130775715107, -0.17498389111946155, -0.05904240698625368, -0.10697873664593942, -0.031227248052530625, -0.1447493945463157, -0.17960376123258298, -0.060646253003735766, 0.1344896007253069, 0.22100962861265652, 0.35565287724300987, -0.08589390219830308, -0.10085960613489921, -0.15048847729344955, -0.05278211748731882, -0.37147072385628904, -0.044906439407516915, -0.17613916561206086, -0.233863075100265, -0.13655120814954816, -0.11271656398582998, 0.35247577474030606, -0.13613278937406278, -0.23508300441467286, 0.18410372586874507, -0.12522539498045535, -0.1672599069977284, -0.14022689130365404, -0.07608056587522989, -0.14877818111024105, -0.3835636846953994, -1.3446154961234464, -0.3394332188000667, -0.068682261199925, -0.4194614382746217, -0.04182246244571511, -0.07973700969106816, -0.0459885133723077, -0.03667595160291547, -0.11131127915878167, -0.20946239136358002, -0.5173830680599566, -0.213005667935963, -0.07390520570779217, -0.1563068292738527, -0.34506874241030544, -0.03910266988410358, -0.025092539489085783, -0.08443828434335666, -0.04196874499345527, -0.14614733429396645, -0.16198303219377894, -0.2949875871269344, 0.9407837500147235, 0.2971066861212364, -0.2293685322970359, -0.07350696417587978, -0.2719043711612365, -0.06767240105225394, -0.37237869065936574, -0.03704444062770179, -0.07058135601306575, -0.1113587925522183, -0.046694813210747727, -0.1379881552761491, -0.07897732695278072, -0.24863459843257527, 0.1036093150745301, -0.24188810577238815, -0.08201800458509503, -0.10665459954254553, -0.09738360283635925, -0.13145156024066873, 0.36516749131274423, -0.30754284943490695, -0.25331719226002525, 0.41254393390979566, -0.16815078780219025, -0.09063797832195271, -0.10596103107756585, 0.10570776618761667, -0.06313040832046111, -0.2511738763446254, 0.12787700673042227, -0.05096349511646181, -0.0956082467682863, 0.18758952384304411, -0.07014206835725831, -0.15267265084521206, 0.1431367907598603, -0.42654332812034684, -0.08880838551084443, -0.13574903163724067, 0.5550433994355498, -0.08819145278908355, -0.05977561489630569, -0.04547306469437455, -0.08754262902656175, -0.14255913043764898, 0.2438379855153745, 0.20640158281686213, -0.14933198653890378, -0.046447227246440785, -0.07469211595178962, -0.115752311188898, -0.10429296521179054, -0.4401541779159037, -0.10742355650141365, 0.07095711728342599, -0.13023324200030795, -0.24330992848677196, -0.1261476098626714, -0.6479873763782134, -0.0685087096462107, -0.10979007854622977, -0.01798431870747632, 0.524741202575015, 0.1322484449727158, 0.3425019578549252, 0.5901382260888799, -0.20983043586273964, 0.6200896394913832, -0.059554553782022256, 0.19666953655443922, -0.2452586737928954, -0.06554827437805884, -0.09597758977982852, 0.2742702562615703, -0.7040883144966837, -0.0605736748341006, -0.05008960322178917, -0.05002244152680915, -0.04703804572349945, -0.09707881306416209, -0.0878045604792237, 0.8017749116984613, -0.13908670453963226, 0.49472450326569284, -0.061902172492493475, -0.1231703287442005, 0.08389815101398518, 0.2852066156691834, -3.231668476696148, -0.08330605642123985, -0.08010228668132459, -0.16186315581548408, -0.07296263240079275, -0.04243571494146103, -0.034749550352447374, -0.05491790806593385, -0.05677226416850749, -0.07612194001993984, -0.03409882777490113, -0.0269398146449052, -0.027776815205296793, -0.09564717055272821, -0.5898499147300109, -0.14568938023180417, -0.06338305910972752, -0.12374593591407063, -0.42007483207402607, -0.0638190940978753, -0.4227592089644243, -0.21958196161484128, 0.6222708136600061, -0.06650320530450239, -0.062495106461735554, -0.18916820898159084, -0.6442273645350562, -0.06821455402168146, -0.6039595510535778, -0.07421204344226502, -0.23439357204426722, -0.08215175215633418, -1.0427012039757928, -0.0850453213959006, -0.2858868636041214, -0.07555035673807158, -1.2753842214082725, -0.10560472454491242, -0.044335637428365875, -0.1244743566899035, 0.5782416210789082, -0.031950472383730645, -0.4781707587258027, -0.13114063571867343, -0.3328686399193984, -0.07554193195382725, -0.09638334908324588, 0.6068634258941069, 0.22427718452177042, -0.13804790002174233, -0.12191217324927577, -0.4178616399139584, -0.12707187793213875, -0.11734038202100543, -0.03926384598558777, -0.38214183439974747, -0.062891739226183, -0.16121828898976678, -0.11849691339587021, -0.15280270221970282, -0.06760736381849078, -0.06252130577867018, -0.784227036785825, 0.18350469312660783, -0.04752877073199771, -0.11077271312648729, -0.028824562020956266, -0.015000598002256033, -0.05096594142437091, -0.011193583050815635, -0.09299819364418971, -0.09150943561707033, 0.8374143481386812, -0.12858842067115145, -0.1074571193763919, 0.2803197841600523, 0.3407223851527156, -0.19731368283146494, 0.43298881203609035, 0.10479325859337381, -0.10355535903970667, -0.05317993424817691, 0.6059750890146816, 0.11099389150727237, 0.07373957066658711, -0.11649375498572265, 0.9694712856647062, -0.20976040529775647, 0.9734682826123281, -0.08923687019542076, 0.4034329035929348, -0.2991914723314566, 0.7183384187136522, 1.0909561885203305, -0.3053929687053649, -0.0959609181103254, -0.05945438428799475, 0.4160973519607209, -0.147107548941982, 0.045048739882624596, -0.09173622369035156, -0.11563980071406113, -0.08583304817420354, -0.14908001312617591, 0.41044264071662984, 1.016864571906261, 0.15131525596063, -0.1963925031372566, -0.0576061711271266, -0.20255121499687606, -0.0026767524245133725, -0.246633748654257, -0.10512568838395665, -0.03363808081670024, -0.1581888050922202, -0.06184713509187032, -0.19552141142483281, -0.0787076820797355, -0.04710609050071216, -0.1636819634397408, -0.11306090924029126, -0.06075866312107427, -0.06990246080155961, 0.34478414612670055, -0.019691169781485027, -0.025137982270152077, -0.038710824249219546, -0.027962263478073495, -0.027290730753596722, -0.24754152125540949, -0.09440596307827373, -0.05284592598638975, -0.020418103989712336, -0.04323285661538257, -0.11340335895916778, -0.20834570524239093, -0.06022090447578535, -0.19182201044395772, -0.08408773274360133, 0.17332828813759607, -0.050791088688907374, -0.08745887360320945, -0.2937238044892853, -0.09131463935423872, 0.014055336528497457, -0.06457270052494207, -0.039589419668351084, -0.09897782972751774, -0.07225915995677605, 0.31957800793647856, 0.2878320626277041, -0.6885958612863861, -0.05655657351213565, -0.033610147644766566, -0.06397747198353214, -0.3709507177081197, -0.0692282583929987, -1.120983241306791, 0.38239723778994306, -0.05372000574042261, -0.06037840272185961, -0.02926723543069951, -0.03924767449354518, -0.11127713983505756, -0.07882700971520559, 0.3718941724802787, -0.5231222354352874, -0.0604915058260957, -0.047548853603079186, -0.026637013188080202, -0.02207711636651172, -0.09704615950115089, -0.08604270633148614, -0.030891473124597203, -0.15026227367190678, -0.5580996959057093, 0.31835670439093966, -0.12036926689472577, -0.16972095638578705, 1.2886344914511303, 0.2709028188308756, -0.040254820778351234, -0.137688612058179, 0.31991079028497793, -0.05662838989388779, -0.07575374821818492, 0.42087393759283415, -0.20014021956055092, -0.04381866780198479, -0.11216131168950025, 0.5624601760319691, 0.24070176978685132, -0.07265437909896046, 0.04578080270348862, 1.9216717187044672, -0.16557121155905458, -0.33793377848332484, 0.885540504647049, 0.7288926698746205, 0.31005355124176043, -0.08269055184550429, 1.7192308220342678, -0.38376630060506195, 0.097823630285203, 0.007634063100294141, -0.3111161215896372, -0.1962784386431022, -0.10124184360043229, 0.9919243625408487, -0.052524358553194435, -0.4751332210603453, -0.030785731911890414, -0.23499273167643409, -0.11002006506963577, -0.06335953473550049, 0.13118468653637408, 0.2059625019166059, 0.11137199584865162, 0.3198535304681346, -0.352679820506968, 0.42009777742361337, -0.08776167101208451, -0.14226215871239856, 0.9220644107588049, -0.7732847890173571, -0.03918938663464674, -0.3194046723913033, -0.09799532080052206, -0.05469224602127321, -0.10353500841870546, -0.09393627251751382, -0.08153049947385387, -0.08293986600950852, -0.026880943204002607, -0.14464802785484465, -0.07567785811510525, -0.22279313495956515, -0.12949382693929845, -0.21188182481460266, -0.06780154840255598, -0.3563009242181108, -0.1768471072538825, -0.04652473678469018, -0.3214885976789857, -0.09765024232798225, -0.5460938390512214, -0.17329829125513138, -0.3599258874922017, -0.05459871713454632, 0.15860687780171007, -0.3395973711706736, -0.04796058617655134, -0.11229582320305505, 0.5551832622041238, 0.06543440824897247, -0.501417932646524, -0.13556458619758327, -0.10391917917671031, -0.17745361893209208, -0.100688601786239, -0.04128319974536665, -0.15536194147995397, -0.05699421128437391, -0.12701918244334864, -0.04461471435929816, 0.016427020356542185, 0.17352717853078406, -0.07235425093416412, -0.04208610421948232, -0.148237248877609, -0.18305966344717248, 0.3128464895298279, -0.08332158456043029, 0.4076151843661588, -0.4019221131086835, 0.5408230404509259, 0.3592237345466164, -0.08712177909211838, 0.11307383831197361, -0.10078517167296175, -0.05312796792197403, -0.17591799583752724, 0.18288617832689766, 0.6606700658301297, 0.21311241240271703, -0.04179784590941932, -0.2523960650557115, 0.37880191445476064, 0.13229829132483772, 0.38955071592548907, -0.08000825657821416, -0.038541703387160245, -0.05466682548990886, -0.0612357758450555, -0.12880812430541658, -0.38125503172877545, -0.13507776111878464, 0.11004361531762354, -0.40143144683126564, -0.21005024947357837, 0.23497249196522538, -0.27263467288623383, -0.16311675999693895, -0.052421149275826494, -0.07648216538574573, -0.14009853679731063, -0.06870048756405095, -0.06755575931487426, -0.07750389776656114, -0.10408345808352565, -0.19021454969078097, -0.027777444260013467, -0.2963268649042724, -0.024486430260244108, -0.23643961557004925, -0.07750506398657295, -0.0503278008149828, 0.10703474917985659, -0.04690602378212637, -0.10017788161427911, -0.13078751556637297, -0.3479628635636407, -0.055904725031478794, -0.2591640336678888, 0.2225775078055788, -0.049610844992651, -0.04954101892458415, -0.21949206442412944, -0.0774913638757196, -0.08517539484374123, -0.12265900845603903, -0.7045923311053076, -0.030892816595887107, -0.03133601164601677, -0.04829980259115318, -0.19546231837146275, 0.443197775819925, 0.5574418683205841, -0.02691837703836103, 0.9536208829715634, -0.1201835155335108, 0.4055648430784344, -0.07042400170686072, -0.056775035316866, -0.047923524167312555, -0.14097509692148896, -0.11312590329773804, -0.6736304998160937, -0.13019107589176507, 1.1769971747980912, -0.048613989763553356, -0.19729555089940037, -0.12851756752845356, 0.3195970887111684, -0.2927846626264313, -0.1408874358558003, -0.21923955460481107, -0.08816498788632271, -0.32445667408151313, -0.15845636231610266, -0.3488268598315492, 0.045576447059154625, -0.08809469184432954, 0.6841977695305533, -0.12653094686991662, -0.18780442306611156, -0.15194309748930485, -0.04672546064130969, 0.09631009556097778, -0.2207510271488191, -0.028624336167438594, 0.09996462678365653, -0.045363159126227265, 0.168699785890624, -0.38850544846750446, -0.17964771593604023, -0.06586502722614608, -0.19340670460880574, 1.040092069539287, 0.1482233814323069, -0.19078950534781638, -0.10415329491608019, -0.07510780457723751, -0.31254226539909175, -0.2332302365208312, -0.10634941140424094, 0.07795189297956141, -0.03974312814630472, -0.2551898134205772, 0.7867320420690963, 0.5839253067133563, 0.10082696115872494, -0.08071195045109714, 0.44864748974281954, -0.23753283368144887, -0.037859852932281675, 2.1266589849152813, 0.40667759676123144, 0.04108128083125477, -0.6928101028795919, 0.09205261223309953, 0.1128485357820301, -0.13898613210842936, 0.4505472329242307, -0.1753452340275234, 0.26738755248008567, -0.0904846364579653, 0.05593413219850105, -0.08166696967746923, 0.422970276387942, -0.10611628915605036, 1.5299959874875704, 0.07192619210536302, -0.17715928953319574, 0.18850160799458368, -0.04839624951479126, -0.08282980320420542, -0.0063610367677271965, -0.0611326010652575, -0.3522826114760913, -0.2434199325897421, -0.10316304676325418, -0.05318038598498965, -0.06151547755069645, 0.39762828197627004, -0.06858449602119976, -0.11946135144057594, 0.41714599315051143, 0.2424846244051135, 0.09175087178663513, -0.044004470305741845, -0.035789719681577535, 0.7042449105695056, -0.06121259179826699, -0.18434171035662217, -0.2987287433485908, -0.10032303976815837, -0.07143290261654876, 0.363553873006941, -0.1846634304783555, 0.31747704025918916, 0.3336508967252915, -0.044167568850688566, 0.16730918930770994, -0.03468725153811777, -0.3104032127016439, -0.08980025378724689, -0.0634192763086937, -0.03691097277590508, -0.06137840904250951, -0.12408319664310317, -0.049589458544196566, -0.1532941066841958, -0.05124326496548915, -0.027292364188654057, -0.047945577656261694, -0.09615158270140592, -0.21410958756574505, -0.07865710987091133, -0.09029069343987121, -0.14738867893497506, -0.07226829049861644, -0.21384744855939986, -0.07277936770789005, 0.1477484755741354, 0.03854958742440459, 0.14010978973565327, 0.12545342581501384, 0.6267556186356672, 0.6267556186356672, 1.194942630366476, -0.11046543033015786, 0.1471941271784314, -0.0903395676302767, -0.45097280233766085, -0.255504678698048, 0.2077539892865008, 0.06520590598364003, -0.460691871173379, 0.5533575861257486, 0.19331880460345088, -0.7039160557787993, -0.14640469330038833, 0.040769483719014586, -0.0879556593992045, 0.6971395673334627, -0.4673501891802485, -0.048339426374077316, -0.10191837298325104, 0.46360008327893426, -0.05722183449277992, -0.24750513832389354, -0.08958472696684845, 0.41093287768508774, -1.0333188738000854, -0.022634860646908363, -0.01967913986336836, -0.032277561709390376, -0.1128572835053449, -0.15560602368728188, -0.13997990670702398, -0.039192495931673, -0.03908181107384256, 0.04041639149273823, 0.4335290566333184, 0.1221812416177096, -0.12839102770015456, -0.10113979641636656, 0.6864238684641045, -0.5248521461859212, -0.05530819906126548, -0.022896732802532755, -0.12292320485778982, -0.13141690251906812, -0.03743899733558624, -0.027853016372316155, -0.041017165371894405, -0.06567715252622808, -0.21548296518466897, -0.17138211121839594, -0.04383331285517535, -1.501797612047258, -0.05701522981745544, -0.1713816750586089, -0.029875822398845984, -0.016738590546581215, -0.09056564119319602, -0.03690665821203324, -0.055914700040949374, 0.13426523929470627, 0.5375247222158789, 0.7972961706520769, -0.12025325227078978, -0.3541811262027747, -0.06075421152401463, 1.851586523789921, -0.1844839943939311, 0.23981587794258558, -0.05980249775361501, -0.061418627938962744, -0.06495013238401715, 0.28187149120392463, -0.08144959181457624, -0.06659664040747888, -0.3786555224354323, -0.2085144806198106, -0.09447034879314238, -0.09232055331942335, -0.132580976110215, -0.06369103045159206, -0.05446820356939743, -0.5748209531720564, -0.03183287316671044, -0.07670802501575956, -0.1479601081551839, -0.06267015928376264, -0.089148285804299, 0.5805205038669202, -0.30233518929256287, 0.06916009917810655, -0.2113806390378277, -0.0028434382136937573, -0.1966766090672035, -0.06651368860682742, -0.08530686023774446, -0.06636151275787842, -0.177415301213695, -0.07953326164699945, 1.223494323668257, -0.12380660875569487, -0.1731077141460296, -0.5118567554717757, 1.8594539850951437, 0.18098730379037495, -0.10932812816177191, -0.06973491462598146, -0.07746725632777751, -0.05267413006136143, 0.1815214156007038, -0.23423039381697855, -0.16500471393848676, -0.2004608512074277, -0.3264787577096106, -0.09933662357164563, -0.03984711147781697, 0.3612401886994312, -0.07496525989133432, -0.20408231803226123, 0.11904783703625277, -0.23443137875277786, -0.3836492557122254, -0.11442475904053694, -0.1339523982846921, 0.3104476086672472, 0.8912624644168231, -0.20944086699099726, -0.2060507636600708, 0.1721285036239531, -0.1213646984924622, -0.1748059761212602, -0.0580605366750504, -0.29609119150343444, -0.04819773715701065, -0.042252403749100324, -0.05779715167656122, -0.032037224530200796, -0.14505307099142112, -0.13104436002303438, -0.11305975458261862, -0.09717275230641596, -0.09774429190694933, -0.059037672713372, 0.6002309032243617, -0.2929628232869144, -0.10880990621944883, -0.11675744603565272, -0.0760999773237118, -0.06123057544667791, -0.29160373451500493, -0.15367739447363826, -0.619834731874822, -0.041368781934848456, -0.04578538346000464, 0.03837635670905047, -0.022494817349811836, -0.040308018991523246, -0.048070229189564356, -0.12055955662849922, -0.2770139281110126, -0.26557434865848983, 0.5350901107308238, -0.15535546835524255, 0.3482072831913331, -0.14933764371802274, -0.06833510312745934, -0.04355779275222012, 0.3380768265497773, -0.12116696180037982, 0.5608605484971172, 0.4559868406933832, 0.11193859549524098, 0.19167368343855062, 0.28555982924185097, -0.12611791589714608, 0.8544609384544611, 0.30541487189327254, 0.6469892256775521, 0.9921906440847412, 0.7393412990836195, -0.10907160660753415, 0.17060542962403097, 0.5495779776156885, -0.16525811021276623, -0.21467739198305033, -0.11253231214455336, 0.27500728932905566, -0.03502170670118703, -0.08079600644714653, -0.08622375643454062, -0.16327825908773147, -0.0524790959189096, -0.029967495595746817, 0.23059621938914948, -0.14220485163107516, 0.3180290183953336, -0.10871244012808573, 0.35929413726537957, -0.046991894888188564, -0.06844209428071092, -0.07105349568414868, -0.3115194707184168, -0.048470940954166535, -0.05060873464736128, 0.5196795123186333, -0.4635223854152579, -0.019295947869535604, -0.034915012051724, -0.023400273201652028, -0.4342876232164505, -0.10187550308437664, -0.20367725042672388, -0.09250416930744393, -0.4327360463655383, -0.2773788617156669, -0.10915197325473108, -0.09875581404180851, -0.7788039701235168, -0.34226561916002485, -0.0952818382609478, -0.11551054819364613, -0.3396836683102348, -0.7612710501229994, -0.03870594274568528, -0.20224180504356332, -0.22748419493379735, -0.0378757081301561, -0.029278687767277742, -0.05297832562656465, -0.04227545686761734, -0.03781940499784937, 0.36504471661636395, -0.11888268932846821, -0.052034215674345935, -0.4893672500740574, -0.16751333630342238, -0.1516962921023851, -0.09083021625976258, -0.24503132130738872, -0.07258546133216746, -0.07868987262338518, 0.32474875723358976, -0.09743144514376961, 0.21516052174011188, -0.12901330848339543, -0.12338883439920578, -0.29793453902126016, -0.21948273725351938, 0.32893386892596793, -0.20664870449450137, -0.07856477767601035, -0.08412340397478324, -0.12930387412054012, -0.15185106664427353, -0.05185614240289079, 0.3982691267058289, 0.5832158407712169, -0.11006416969033725, -0.03271794020675452, -0.06196384685218976, -0.05970592248012943, 0.7728288285275255, 0.2814998115189859, -0.04025898551310265, 0.2212293726658855, 0.30981576301374236, -0.09347598567708401, -0.24055528962452644, 0.6167382330300207, -0.07554295488395016, 0.2918108953451096, -0.43128879964046213, -0.0722595496463163, 0.2939534889647815, 0.29211515141977906, -0.12069171605916916, -0.07019668331029785, -0.1392029017353058, -0.17009545017016722, -0.1566683396545078, -0.08017204918154067, -0.11142459869004395, -0.1194852931578385, 0.2715268997264097, 0.062089322926590314, -0.2097707945532164, -0.19618114112047794, 0.17879400617436533, 0.22154967362115444, 1.9270197293637352, -0.07584501438087386, -0.21974904860146233, 0.513156305241342, -0.11063294550584334, 0.08403648318440966, -0.08326557855725755, 0.06164832015846502, -0.07529956518368275, -0.10361014765304546, 0.2744301393928171, -0.11791024282696283, -0.4765626916825874, -0.10890027108804144, -0.052819973444581586, -0.1798071255108381, -0.3188879608101779, -0.23448315098956982, -0.22358676933188937, -0.11935638896583628, -0.08276881113870455, 0.15201706826937292, -0.08631471862143056, -0.1245436476520239, 0.29950617702178, -0.09962277371885768, -0.11444092105709565, -0.15642173847930496, -0.28452976600304286, -0.262947999094989, -0.27919741050328806, -0.33871463802942475, -0.3430875591939123, 0.43526525817147477, -0.0945144455897929, -0.13798804197127895, -0.5563163294489106, 0.6232755104871158, -0.034536709915036976, -0.07763069143995782, -0.19237707569726498, 0.519005232569863, -0.08535315816103177, 0.7063919287742165, -0.10008437569057957, -0.0810297500516625, 0.3568052464982559, -0.08597401522096738, -0.12551569255492218, 0.45905180237568777, 0.1131480186157544, -0.15935926193903166, -0.10834432857034829, -0.05617235143796339, -0.08852654931451596, 0.599388330787015, -0.20358074277780286, -1.2732687339495647, -0.2932271330676933, -0.042088467350919576, -0.17281466423271596, -0.027874934232537896, -0.058793835230332527, -0.1046351247252444, -0.16730083809234622, -0.18390320532640464, 1.386375511724015, -0.066515137415552, -0.08840570541401167, -0.8133114598404085, -0.08081830464490727, 0.3802311560713487, -0.07174043504467666, -0.11084077168684199, -1.078940929587898, -0.036781946544022934, -0.06333164445242764, -0.06350559768912911, -0.5702702906399398, -0.06883167800212778, -0.08343625100929714, -0.055939600081743715, -0.1961863248953006, -0.006480160876216955, -0.06090199437413104, -0.046765560718791614, -0.10075499978363395, -0.06183878252331959, -0.11194312219825803, -0.04658475931205362, -0.022797068264311847, -0.05853974686068481, 0.08231493578448554, -0.31767844051753447, -0.17644308365591682, -0.055971741895687696, -0.74603174336721, -0.12008079490007716, -0.5443470082526072, -0.16314083116373643, -0.09294820740754593, -0.1288192076143979, -0.636355229511313, -0.18187982075268905, -0.05731433909929094, -0.6633564339981012, -0.606919472877402, -0.15148055999136537, -0.20444641410779488, -0.3766759398156705, -0.12968696272319286, -0.10046716345798262, -0.08270529039697432, -0.38019399097307716, 0.24846123444486673, -0.6602637820480608, -0.06569036076460186, -0.05648035359092937, -0.15392903146250664, -0.08726259493776832, -0.0709874383018853, -0.08830289347239721, -0.1120409179319753, -1.3401401987055113, -0.06927518552718757, -0.05399182701465281, -0.0244790185043815, -0.8849301536875536, -0.037202058060495376, -0.21950755592117896, -0.15678748075566526, -0.6144525146025512, -0.47102025327470354, -0.08802377056509851, -0.8944523343341767, -0.08599228307155461, -0.5232309577145824, -0.06994448946898817, -0.08695752893433956, -0.5757602685757917, -0.04798815438148228, -0.004434818234781391, 0.2020976809749834, 0.3011496599162153, 0.5976998041975388, -0.32242741400350977, 0.5353568890211388, -0.2500887046214921, -0.17876086575469957, 0.6177115499676774, -0.06110455227770907, 0.18230518287128872, -0.3500507219826989, -0.06835394510996552, -0.0686128539966, -0.2821490450754172, -0.383187938688854, -0.08336280938228842, -0.05581410500416916, -0.1083073406300133, -0.11874934595574307, 1.0937844028669383, -0.10214053752706527, -0.19047574223836772, -0.08883710968856635, -0.10717375262869824, 0.3799521682024038, 0.391676206490108, -0.16686592415847257, -0.11000903755785302, -0.1953078462350009, -0.06004630505632205, -0.1688594694070523, 0.1615289789141933, -0.31800850822113624, -0.16746198706641163, -0.1506438860963145, -0.0630818166072613, -0.9208959548277679, -0.07440769283424295, -0.20845502757985887, -0.060331782990649674, -0.14302179536279488, -0.12542331269918622, -0.3239528699864296, 0.1736354661291703, 0.36436463186543705, -0.052411455588669074, -0.31319859520578375, -0.28006903757650714, -0.09140818073798924, -1.8913272463497974, -0.04902244716318366, -0.03983773829139757, -0.05054480474738814, -0.17451614462656379, -0.090305063485509, -0.04473376928919351, -0.014489780969278256, -0.04940706759835144, -0.6057239742313654, -0.12450880274319996, -0.033286890894561334, -0.03689665645238861, -0.3725001523718054, -0.022288886832373393, -0.0947282217953408, -0.2222738743164382, -0.07939580770506956, 0.3359626411518869, 0.8385916791761384, -0.11444167027931905, 0.432933271458037, -0.5405665151365002, -0.27176326546090884, 0.21476219167651595, -0.18073724717331943, -0.15114501291667462, 0.44742670274912805, 0.16082406721550094, -0.7341624352074564, -0.11385328893053416, -0.09712699501085667, -0.07818679912041547, -0.05844658968200186, -0.06105419867404155, -0.02211089637825196, -0.0465471670006328, -0.08625533251537203, -0.05031762720161462, -0.32346079956101903, -0.024853040690114812, -0.0722213314847941, 1.4986156209345016, 0.5420770787994024, -0.15796279552501533, -0.21324678627025312, -0.21309596927387053, -0.057529415890751896, -0.057529415890751896, -0.09951228045819455, -0.4878112920161634, -0.1517740384638304, -0.22727127580486314, -0.04188199216618211, -0.2615054126065646, -0.1322330614682103, -0.1639339479453587, -0.40066592270726437, -0.2737052324772131, 0.24625750752299516, -0.5708187763300618, -0.04754473876954584, -0.08088825927093748, -0.09110192968031341, -0.11585542723293883, 0.3580859479378776, 0.17821690569179757, -0.06943982895358705, -0.18082980837655813, -0.07676588940526677, -0.15557247582569014, 0.8611856647906383, 0.8205606544441034, 0.3663109880993062, -0.15227942216041207, 0.265650355802206, -0.2578457137463765, -0.06843730652891047, 0.7712755530370542, -0.0853321062245066, -0.37921921512232815, -0.11957094939920229, 0.07303477581906576, 0.16838837818556132, 0.14848314844962254, -0.3212191977334261, -0.0370786654444582, -0.06837427698234437, -0.8676545800592289, -0.08579643716884816, -0.045783486142888, -0.039855852238805355, -0.08572212053643473, -0.099843605955948, -0.14483856136125786, -0.26759299315289264, 0.19108670321631246, 0.7519760238497445, -0.1619035683368507, 1.4675055596312374, 0.3820342192419214, -0.05438999932388311, -0.06145307772691497, -0.19563326136059395, -0.07645875240080384, 0.22803173526388967, -0.14747469060174306, -0.12860075040066063, -0.13721185283248916, -0.07287962521216183, -0.04325689596120483, -0.04325689596120483, -0.07925054659824574, -0.15891761458536713, -0.0727901219604021, -0.1275748431242002, -0.35162876121653575, -0.1613917738141614, 0.19396343529301918, -0.40338352963558827, -0.18928429576569905, -0.042776921158375926, -0.042064823071248085, 0.10884009795274746, -0.05272596458689705, -0.12730621942690185, -0.1165015710608762, 0.1878847672895903, -0.15498703196169006, -0.1974167683872468, -0.18933172006850807, -0.07074716333847315, -0.05253923387050785, 0.5373089798757127, 0.5843942170727372, 0.2358652450232086, -0.5105548136437738, -0.051497735618285884, -0.11250161434608737, -0.12630826894829592, -0.07244395903378557, -0.0730802634910672, 0.5248439324516044, -0.10253356217031129, -0.18678275582210271, -0.04977051958442002, -0.06103434978152998, 0.19668010016120804, -0.03305718170006729, 0.24072830711479537, -0.2208917923854121, -0.24933720812940466, -0.13448650760770353, -0.0657797680300884, -0.06534892854597193, 0.07550730705698205, -0.08272319485220007, 0.20995758444457327, 0.5521892508112936, -0.3848900857819146, 0.30856168287154645, -0.11073060281414346, -0.058411875884582444, -0.11673131189907442, 0.20097617073216906, -0.06366127447104059, 0.32918392840669747, 0.11083310282817244, -0.10414358037824108, -0.122648786755845, -0.03878853271712671, -0.3157499254939925, -0.09807802922289206, -0.062112309560978865, 0.1500153619981315, -0.03915201595112516, -0.09642798897109643, 0.20541688933855937, 0.4511120022072293, -0.06612421234978814, 0.23568348744243706, -0.1898037314099164, -0.10030079602670482, -0.02273448713984124, -0.148667187011003, 0.4170854391137314, -0.4964140182531431, -0.04716861942660975, -0.583288313378733, -0.16012854165951346, -0.08859694668425314, -0.5976587061008769, -0.18269071315258234, -0.045433762328350974, -0.1746320973071571, -0.08897505231544471, -0.100725813501244, -0.09255886023396044, -0.020344762000528465, 0.1747673337686014, -0.03945377459729158, -0.16446499885394456, -0.08716982617485096, -0.06341117527839446, -0.3880009676762907, -0.2286779271235195, -0.09079607048277001, -0.11154009948445344, -0.06726616706829841, -0.10153595969439505, -0.18483556998770276, 0.1626976292580815, -0.10920833848322965, 0.25282233157520234, -0.06957051747837274, 0.40460554173552277, -0.08950005988927189, -0.20483671386133992, 0.007186402060989745, -0.15304673091738794, 0.11327291295326544, -0.05877522217603566, -0.05813274291698881, 0.9014570086400229, 0.1325627911156661, -0.07263269897408324, 0.2912842305787202, -0.3033200119182087, -0.08765399810919453, -0.0512453639506468, 0.8683258253077478, -0.04758537555777513, -0.07305826942012447, -0.04988693583934302, -0.045004509483127696, -0.10824169073229306, -0.050949706796734294, -0.1336788774578897, 0.0038110291926327223, -0.17019633757027472, -0.18469586815151054, -0.02712694974764699, -0.09282082886264123, -0.13479566355496003, -0.25416255502501434, -0.09059769077584527, 0.2826999096110081, -0.28949421952814697, -0.0420336225803747, -0.07722383408720146, -0.13217450684255616, -0.14624131547059052, -0.149780528487118, -0.06374835457140293, -0.19997648885600364, -0.10980327701207382, -0.4871669705485488, -0.035412403794469235, -0.04193988514496148, -0.046016346446975304, 0.3549870179607861, -0.12332812588464862, -0.6931279435725212, 1.004152921247575, -0.12658914983021605, 0.882265828010712, -0.06617231742761118, -0.030719572214688125, -0.04152266305996831, 0.3583787793903638, 0.3753737040300251, -0.16650842888287415, -0.05821001602655941, -0.024705057245592403, -0.04629100830293407, 0.23808794313521764, -0.12489621904688236, 0.4493428498795123, -0.042789699771208896, 0.08587715014742141, -0.13186986654325672, -0.18063103596778507, -0.06877518608866463, -0.04302154086293934, 0.3910082689515341, 0.20264406803504875, -0.04797823470316237, -0.08864656077662428, -0.2504774682507054, -0.13127264764203686, -0.11641225656316662, 0.41461227955297447, -0.13093176330577433, 0.14895052142008966, -0.08751998094585567, -0.09800277323237132, -0.0712234769901074, 0.15887221298500212, -0.11938332841181633, -0.18165280114829319, 0.3062290504175908, -0.4900289347653126, -0.05821746086327045, -0.06078217353047227, -0.09324953539079363, -0.3397251662123267, -0.08008328380728562, -0.23248494747345344, 0.17052444707226697, -0.15966039399804718, -0.050418967981708064, 0.3703576686316281, -0.13577256246714636, -0.05839918460311524, -0.045706922663047836, -0.11993765977010187, -0.04371391411740849, 0.4398053285408793, -0.11311211792257699, -0.1371045034030746, -0.10073168981287633, -0.043120671155694665, -0.12331876794329856, -0.14298327238278624, -0.1221945834304404, -0.07536179386694948, -0.08545880772112899, -0.10567140936321723, -0.11087476570734935, 0.26738005010063504, 0.3404232234678888, -0.04337160336028319, -0.07880071110918929, -0.042064823071248085, 0.3164003172744445, -0.1450237140877193, -0.14955930111272703, 0.13408466301567218, 0.41643515105663, 0.05410812874874156, 0.06321664874807538, -0.09334137180573536, -0.6341488810076044, 0.4394254815824294, 0.2765412880918138, 1.027781700142309, -0.09129568594945034, 0.21032988055058788, 0.5946065983929107, -0.04642715800229518, -0.07583370465442998, -0.18274175571694015, 0.8428592361309563, 0.13691972464622598, -0.08169416698815209, -0.17669126340180052, -0.05621340095047917, -0.08442142668339005, -0.12618427718293682, 0.29989434374474233, -0.5824822455849084, -0.06237011340438117, -0.030206494209987438, 0.34740203800422764, -0.1290905453919545, -0.03732179429911667, -0.13948268412720013, 0.3549695189997852, -0.10464577635200353, -0.1268280813306275, -0.059332541491921756, -0.10425923179114378, -0.04747862353767863, -0.03953062076906546, 0.23621952689951067, -0.0558291181129819, -0.06280617718597374, -0.035621703994186085, 0.5375724947039555, 0.9654651137576766, -0.12908769870110393, 0.4390421122014366, -0.14658651411593268, -0.1921993051852925, -0.14728037469832428, -0.06428718369558721, 0.1294203382134529, -0.04651726769237711, 0.03503652009895939, -0.05197108348072217, -0.08674095273932703, -0.045955044801612964, -0.05727013656991327, 0.5343786994555254, -0.30849046202769037, -0.07278907786821362, -0.25489577507818056, 0.006236646214929508, -0.062483668115140265, -0.0769986107208182, -0.16522838221486622, -0.12449734091051047, -0.06481911592184443, -0.07155375125812237, -0.21145292944855415, -0.026113212513721538, -0.051206506376382424, 0.5351747076470922, -0.05407062250784994, -0.22576817959219522, 0.6059627475588145, 0.04064126141837892, -0.049901726023506704, -0.12320000248709441, -0.14740358822230645, -0.07314232428613202, -0.0874210610899382, -0.06076996354851629, -0.02594573741815256, -0.22485204436351067, 1.2178015309449954, 0.49650033987067393, -0.22360311009532788, -0.03143551494114113, -0.06219707353272386, -0.041575129709352385, -0.10118320177290838, -0.21673251350506748, -0.047702448867815814, -0.027998535396270507, 0.26337615983119833, -0.09648042737335805, -0.047235070391892134, 0.2011575801510671, -0.03965889982113703, -0.09115975054505276, -0.14276041593543373, -0.0440072156975255, -0.06557357126675908, -0.09196214202106237, -0.16342183094525367, 0.08695540093924409, -0.05444129511346366, -0.13141821167434095, -0.06745154238236564, 0.38602362792099326, -0.04120486209547799, -0.07126574384861589, 0.12374721866804826, 0.002753169164808219, -0.0708223341161986, -0.06340486259241261, -0.06115581002286693, -0.06824508315633365, -0.05690505951001526, 1.189509995067754, -0.10060701894965492, -0.12353097611719255, 0.466747152582011, -0.05079981726995859, -0.14730636403179234, -0.105278820037375, -0.04644244462718891, -0.07256550268620077, 1.1722509371424972, -0.16447271696169083, -0.05326527891725144, 0.6020578494583793, -0.03731987669335516, -0.07740987546579459, -0.1764395784001418, 0.21095131270647366, -0.09322874101441439, -0.0541620224915183, -0.0812407326214943, -0.07909657277512866, -0.07236063617559778, -0.17023718139759153, -0.05868302632933088, -0.0363620177143888, -0.047596698937033, -0.231487874246474, -0.14380709711534775, -0.019467896148432823, -0.17840358867662945, -0.03708400272411848, -0.07433421769392878, 0.04807537230601239, -0.09493059128056054, 0.3921079637154769, 0.08907248735873112, -0.06335055498181064, -0.11652537053214038, 0.24255419007392853, -0.050218681541332105, -0.07014167463686215, 0.35214130038527175, -0.10087102230381778, -0.22258879543206467, -0.04805040503407298, -0.18757814634069592, -0.661859678614714, -0.04809337454977035, -0.9793300206510771, -0.12170200867315525, -0.17790728934158206, -0.09490815114634263, 0.1516914738061521, -0.06104794811108209, -0.429208440355138, -0.12918138093624645, -0.1917858372627802, -0.14170280613776726, -0.11909205095234773, -0.08824029806363641, -0.04368866568149441, -0.05466966219225172, 0.4735040520671179, 0.0956723895600249, -0.04996575824235573, 0.24745196392028557, -0.17348505636898812, -0.13281456316843213, -0.038933192454301116, 0.12009125563945715, -0.06347863766100217, -0.08579627543936173, -0.06547315481614804, -0.25237952285075754, -0.04259932902892576, -0.12059207244850255, -0.07056186275387213, -0.07291208558213276, 0.648073780771854, 0.23211386969967418, 0.02178071111058784, -0.11854585698877888, 0.015011396648996778, -0.10384038225345486, 0.1773964954271969, -0.28301040825771273, -0.10845818261259994, -0.041203548928387713, -0.05607876951274127, -0.1780603055623607, 1.98859104019231, -0.03716220205680372, -0.1825700878426634, -0.04350230724588855, -0.07952765960058598, -0.09414643297372306, -0.08990990411715713, -0.046815642476805884, 0.7258693057572161, -0.0228153656788066, -0.05239671723001464, -0.14428463919752574, -0.030510610590748836, -0.10306931935782822, -0.07376258606951429, -0.15804992506032534, -0.06291895324146295, -0.04993503096612355, -0.09642553220510723, -0.06607593532855315, -0.06253261603345572, -0.09183052196574666, -0.05179314307201576, -0.07774756454784873, -0.8483982421178742, -0.12782344307941645, -0.048607322655408965, -0.06318483924782921, -0.06652008997327873, -0.0731994470305867, -0.046265476814576996, 0.14428646263569408, -0.0467333224585453, -0.08484483212814586, -0.04695555095790494, -0.04463039846899399, -0.03575017646642964, -0.46341186269994494, -0.07081182308575103, -0.2041654198005759, -0.11661916373461605, -0.07637373578948148, -0.1524174105155205, -0.06113720181630021, 0.3677049910611579, 0.9231287927842171, -0.051811901447089824, -0.3404809165289583, -0.04247042784291467, -0.08691658892741015, -0.04164882734098918, 0.1470569119166686, -0.055910868801357, -0.14242551467879513, -0.03421211391399135, -0.09149499941371611, -0.06768934174599496, -0.047824296914187846, -0.10594225308379021, -0.24849427679750813, -0.07008826556523791, -0.09094656829719883, -0.08882977371086817, -0.09811271241419557, -0.06862726132986706, -0.06974390498404949, -0.03847795232370175, -0.19419772660267592, 0.243828318734134, -0.04202838551256418, 0.34620624338353906, 0.6898698360743118, -0.14756213242858032, -0.05713461472872656, 0.1343607304131555, -0.06197165828193075, 0.05047624849731484, -0.026202039957587946, -0.055008913962003185, -0.06542092716782959, -0.11996421543968071, -0.0663965667123691, 0.19763180817555137, 0.24787357344753685, 0.4144411968594074, 0.5540203136698505, -0.12100479138204315, -0.14986580428835056, 0.38456718413704205, -0.03524154491014903, 0.28463416728525326, 0.3089918653121735, -0.06823522122624998, -0.0972190721119494, -0.027719610215836913, 0.8460541177222021, -0.10891548162150988, -0.21671733555341144, -0.0638730836095321, -0.14290183158804112, 0.7359509270553475, -0.6323487628709531, 0.18760731422583035, -0.054660808130758784, -0.04818474074579183, -0.08577508152697824, -0.10686100236858968, -0.45696877811120706, -0.1667270453216313, 0.6775408412899017, -0.20331710671077963, -0.06719543145257546, 0.3576943740878112, -0.04452471909426364, 0.7073503158661674, -0.06232800152220927, -0.18696948987003845, -0.09800148070897338, -0.045590984444282126, -0.11442260779491577, -0.0801408912364382, -0.09310726713675145, -0.2700850231937503, -0.04084733174257584, 0.22278795556083944, -0.12198644636913501, -0.15779599147130657, 0.5492283162295332, 0.7316878732105488, -0.09196755994719168, 0.10592939796476951, -0.049386395952366324, -0.25918256456441663, -0.22652118475586105, -0.2867403165144731, -0.16743437713944878, -0.36872769728119276, -0.018182865639477908, -0.49136281901514606, -0.15710685010984338, 0.25562677669434697, -0.216413490195699, 0.7927380721614379, -0.08566484058058432, -0.07137891192883164, -0.176034978522025, -0.11210964684252862, -0.2640937971589152, -0.05337588485204878, 0.37568968992126694, -0.09775097812199252, -0.09122140178944435, -0.060823911254555635, -0.11221077131811971, -0.10917694346858374, -0.06987725301818323, -0.06622219376332415, -0.6456203759091774, 0.09532222451331512, -0.0700394745798221, -0.24299297413372584, -0.08491107856685946, -0.07484466470190665, -0.18009331690163724, -0.04633350630004238, -0.02525154156793591, -0.07003013625086757, -0.07559121775517079, -0.09751042111127849, -0.0557951871476196, -0.04093808075224656, 0.7415907070957274, 0.3251821980070375, -0.07774930778676385, -0.16145581587869187, 0.1628093263541597, 0.36126083911054924, 0.6441272760798091, -0.11148185571340022, -0.04951330159710081, -0.037422830876219976, 0.11975782151161403, -0.36593397301668007, 0.35574205559635874, -0.07179799131858443, -0.14829028106839767, 0.10949580598418023, -0.09361123550641222, -0.06613841053769741, -0.11283657530374122, 0.040144868401987936, 0.16673677433689027, -0.18674392847845445, -0.059546650681915114, -0.20316462169546395, -0.15337440501580776, -0.12181998187442544, -0.14398708127670987, -0.030429531752572254, 0.5070480518599401, 0.32183461938160557, -0.019909310908727423, -0.05051644098630183, -0.18147277744680054, 0.08386658313969737, -0.18497010602848676, -0.03479075374775016, 0.1304483383065644, -0.046621105872432476, 0.21360064095270798, 0.16531853360150597, -0.11997927051154235, -0.18289742762092526, -0.05440192848532106, -0.13636916381162267, 0.3759811006406753, -0.09899112140587003, -0.111353827733737, -0.08662635798291617, -0.1127651844732085, -0.06063455609505002, -0.16697431642423194, 0.5488909029687962, 0.16254098931676905, -0.07172566238172572, -0.09412918801755699, -0.11753028487206436, -0.17589302634087073, -0.09824793192369383, 0.284517175004502, -0.055406180409090296, -0.12176223028695347, -0.11423944550317743, 0.06793176898933129, -0.12897960408168768, -0.17753334942309124, -0.007368519172000807, -0.0678852819031092, 0.27345291418804796, 0.33338281344758247, -0.13504325755442087, -0.1021096263989186, -0.09921546916205873, -0.06027910097350091, 0.45570475062464905, -0.09645472191678932, -0.24934651980702602, -0.04654206545157438, 0.10779432422103581, -0.08752605437970298, -0.31957745145406125, -0.11757907051765887, 0.22971440265973228, -0.11565164232513647, 0.594865250317277, -0.023866245653493934, -0.0909816997000876, -0.14057060440440894, -0.06417302822519877, 0.2752243950219544, -0.11891062851725814, 0.16242520015399567, -0.23294185602309703, -0.08704936590945714, -0.22608211895231406, -0.2924790570890905, -0.10439067690251914, -0.0978668445582162, 0.3711942223483236, -0.09500619436729965, 0.3732145362276664, -0.06529611872000288, 0.11803389406715362, -0.0672885801576294, -0.1795965641636735, 0.10223674449689778, -0.05678012830249321, -0.061761758641299076, -0.08872609923380007, 0.48731386655885944, 0.13040057163223948, -0.18022054036179505, -0.03430898074950985, -0.09601133998045178, 0.10609713883832458, -0.1560882566817083, -0.39836693830977943, -0.058923940615326804, -0.6381269075873119, -0.04037610303799466, -0.08307273461079343, 0.055203564452727304, -0.10131366462922309, -0.03032914521170839, -0.034989769822356374, 0.7462310841260825, -0.026253571696700544, -0.048704750557017604, -0.09962263832636153, -0.06841483222121185, -0.05336232109569686, 0.23110836141416613, -0.036778321992157754, -0.10109374278582589, -0.23039317188662609, -0.03172183390789652, -0.05649407647945743, -0.036827316013119935, -0.059907035519737854, 0.3064191834251241, -0.041895465258183655, -0.0915510006460291, -0.044992915419455874, -0.045457463543986575, 0.7348092487614467, 0.6296310866020366, -0.03346956709998836, 0.21306060717561146, -0.033134780385362626, 0.3101966165656568, -0.033231671432202146, -0.054344379427867934, 0.2064779298855474, -0.1311677156440651, -0.09020426088701505, -0.07314175367463202, 0.23052164893064708, -0.16379264784905678, -0.059737874364898774, -0.05305945346662043, 0.3338862540480263, -0.06303013025687933, 0.2798772680380054, -0.03616638814638421, -0.2859171657622765, 0.8449848871222749, -0.06710437476695967, -0.13640195834592878, 0.8013333850228509, -0.030725175771561627, -0.3287707217988968, -0.17994508791189096, -0.017481885877559486, -0.17357182553910122, -0.11660190769764935, 0.6317986131357283, 0.09003952986763668, 0.49576941762099763, -1.1102300118871877, -0.09431578581793545, -0.013400746209732684, -0.10563094956880725, -0.0631212877861706, -0.04848184394523223, -0.068117598630464, -0.11533096450035658, -0.039537718051905486, -0.03179416011608147, -0.06025137208889893, -0.035335417624419184, -0.057101870234904914, -0.05746224960054322, -0.03950983967304648, -0.07865318129349802, -0.02534553714275544, -0.029507805476765868, 0.46210220652534656, -0.06255466445593738, -0.08544952146548525, -0.037224104744586026, -0.018320504331036973, -0.06344448859813306, -0.05591586308971875, -0.028730848827318828, 0.5404791642723612, -0.11074800976673055, -0.10160894152001727, -0.07132752959536208, -0.024276429431545406, -0.04790487073048037, -0.06436177774461008, -0.04326259844437663, -0.03753315644828208, -0.05623161202706451, -0.05545152963958104, -0.12634606461805323, -0.038362053334819304, -0.1174219033002839, 0.13494726854191447, -0.03830845697088055, -0.18050580182966935, 0.026239915238869455, -0.06306001389920939, -0.11783031810099358, -0.48823844410757317, 0.3799564353716044, -0.04023951509183437, -0.05508604418205567, -0.026062628618272552, -0.03337860421147608, -0.01737760836174822, -0.10482632277881403, -0.024089552566103376, -0.03493920447307872, -0.03354780903122366, -0.047220352257840166, -0.06991773833136805, -0.040760093734346976, -0.03191192058307393, -0.03840159500541338, -0.024793161269987873, -0.06612470048277862, -0.09073883353669547, -0.08528920231288882, -0.037314767125302954, -0.09501763297332931, 0.39553106151963685, -0.14370700299482803, 0.10288183059866945, 0.5373891878635673, 0.2986639207843158, -0.7195625480838584, 0.39920765203795255, -0.6887034208481296, 1.0190471125070928, -0.37945169493180014, 1.0072610668005322, 0.7555773753094176, -0.21946463840496835, 0.13586436973586974, 0.5607434034432335, -0.4566311369807172, -0.08949617198677845, -0.16439525984428505, -0.13353432303484417, 0.2448587823567491, -0.4032909504297149, -0.056564446898579715, -1.3950782849017556, -0.03604282684490397, -0.024157442615397356, -0.03161477914864204, -0.060724402835474894, -0.4199827538642551, -0.10474105012657237, -0.054936486057675225, -0.1727626618206763, 0.23923703839889893, -0.3387297550944567, -0.14295949945561795, -0.15621722929465184, 0.2473146360107882, -0.05064333122114602, -0.16157542262961272, -0.018314116304133432, 0.339949492445065, -0.027619837789026255, -0.03217284414630535, -0.12587290765140918, -0.1442930234168117, 0.9001780633747717, 0.48581891680885453, -0.12740937228730886, 0.4034437021790158, -0.23816335716223722, 0.14468856096460775, -0.08953209184532036, -0.3825566674301993, -0.19428165760389113, -0.050389532030286205, 1.0439549483767034, -0.12446281803431547, -0.061125923141328954, -0.04127138087666926, -0.0806026524707234, -0.037552724977338664, -0.08480410349836247, -0.10670779968142645, -0.04722568593796153, -0.024884728259019835, -0.15201885006458882, 0.27810108509026904, -0.031217979934945867, -0.030571020529858283, -0.10251405314340087, 0.30633648835545657, -0.027281706835395002, -0.11860771248033916, -0.04140074339932493, -0.1476586065234298, -0.15132813653390872, -0.15132813653390872, 0.02677607150945551, -0.05875720712642254, 0.23264265781519247, -0.10565113049550826, -0.04887703550511721, -0.25055961674412963, -0.1149316213497082, -0.06693109944055689, -0.063661765019245, 0.31732308218089816, -0.1653312913369015, 0.44778725244422873, -1.0494175449793386, -0.037592649863863195, -0.08373126454296963, 0.15270396660457367, -0.06914129506025479, -0.03843011256371322, -0.079634724632628, -0.027325334787902347, -0.4917310587938911, -0.12698985969140983, -0.03753379771875543, -0.03626997820241635, -0.0341792215846572, -0.03154528747418957, -0.02379486350822907, 0.39727425952249545, -0.09471744571495527, -0.047534740098877835, -0.05341224079297604, -0.06340757011517416, -0.07015234045502913, -0.04223959050341496, -0.030835002646172994, -0.2584236289800084, -0.049144316596107344, -0.03587836025973997, -0.07017990713596527, 0.950777965275655, -0.41593659948872413, -0.11052058342223713, -0.29984432456040705, -0.1125696121109756, -0.09556597568182029, -0.39176095328354066, -0.13668650830925497, 0.6177738551453904, 0.7079778895817591, -0.10916800807597146, -0.1445087775753209, -0.7912576243109217, 0.7330395430226221, -0.08541883252005147, -0.2915467454633488, 0.10782534455068235, 0.036705139389933916, -0.08567889817901378, -0.08223015945628186, 0.6933497713972897, 0.04624967800941514, -0.05596299951456127, 0.2529314825616011, -0.10312796207346078, -0.08679368741719007, 0.20657813350310134, -0.16200884832551563, 0.3045662478265324, -0.11934707968923508, -0.3261181550159409, -0.3889314892664692, 1.0575470820792, -0.2698093274283479, -0.052610932411151834, -0.06424351624996422, -0.08172314343445582, 0.3579580690294312, -0.1453188388446983, -0.17343972823560846, 0.9265963396134903, -0.14043021752282597, 0.07405375507352302, 0.12002671480784881, 0.660521676635057, -0.28724875154870916, -0.0525662129375912, 0.2659097097167983, -0.25125262285411376, 0.1827084341135483, -0.7300446096626689, -0.08557273755457656, -0.06678486101184686, -0.14805363156960705, -0.14536041381110432, -0.35306458299650517, 0.22499991304493308, 1.244742966830736, 0.1431688204396398, 0.04657903010783259, -0.08068637348943779, 0.23487917180680226, -0.07915681829573112, -0.16630689901565582, -0.03927232206453801, 0.28907450398152745, -0.1199243487448637, -0.022169757530184072, 0.5218998490399075, -0.10766461370479097, -0.03408928209119172, -0.02528433893113092, 0.15939737131835618, 0.2589213597044254, 0.22410560178877303, -0.10773330136581331, 0.2502687335694945, -0.09521836960824814, 1.1416517658475214, -0.0734354393011536, -0.34959695295605575, -0.07685837441175429, -0.3055435521733435, -0.07270259258978742, 0.9146576462492535, -0.057498548417426756, 0.06758220571352277, 0.338015765742179, 0.9008604739805737, -0.1786521991012152, -0.35037431515413603, -0.08934032861619721, -0.6638645971436663, -0.057485057650739045, -0.05862982195817958, -0.07109051894404884, -0.07792347380553824, -0.06348123283279618, -0.0626854703364651, -0.1660890565957251, -0.4640591169881507, -0.19011151723777084, -0.04350768652609499, -0.08255046321303867, -0.8056537889039647, -0.03804876674539856, -0.06719598853441312, -0.4166300840206187, -0.38635847776134546, 0.05274131521159906, -0.05359341480071148, -0.08254550062737943, -0.15528177202368695, -0.0793667422571462, -0.12162528429087255, 0.63600864162686, -0.15571862788713106, -0.014281230387200373, -0.08587469908062335, -0.0993887628721948, -0.3074165809742468, 0.11563614065782292, -0.08168647580677578, -0.2725195498138812, -0.08983403310544415, 0.15039862631349524, -0.1428313768239249, -0.10067631064787841, 0.02019570389311217, -0.0921491085780518, -0.07621077034321998, -0.13147799519296052, -0.25609258792713546, -0.13847298998663526, 0.2121542478094666, -0.12139142757865766, -0.05510282150433976, 0.17623366315796093, -0.43868035889631074, -0.15931172546220207, 0.14415841755052317, 0.46198158445589516, -0.07316203477947691, -0.44936584232284166, -0.23959912777312198, -0.039915680274328375, 0.2733764018729177, -0.09789842597051254, 0.28216301633414165, -0.10805073379960659, 0.12701816037025906, -0.10163752421575331, -0.06403968949042196, -0.07577236601410223, -0.09390826409988946, -0.24229570884938284, -0.06856143460275407, 0.3621424624750969, 0.6961318263958882, -0.23445990425511928, 0.21368613202703446, -0.13873682009955593, 0.8650472800869854, -0.17658968345985881, -0.10592770177620003, 0.4380555597747395, 0.28616566844695057, 0.2115766359189048, -0.26878944604737665, -0.12411818484531952, -0.08011919932177149, 0.057832605019026415, -0.39552746390049937, -0.11016028728275458, 0.08921506140139776, 0.2884538258731948, 3.4097585842220828, 0.8803420577087766, 0.758673012180591, 0.7528242149526829, -0.16234477675645245, -0.17035587828021645, -0.13058363745578902, -0.16682591695810237, 0.38045633898285325, 0.662252872040291, 0.2101176696335014, -0.8088119675301985, 0.1427265115064023, -0.10722313310679976, -0.0877154601930688, 0.6861947436458162, -0.09698511200920615, -0.22554020787108428, -0.08392654319386042, -0.3036914918931336, -0.1341979642480017, -0.12410136547545488, 0.0322891986577376, -0.14491713880807525, -0.2952576771446104, -0.31857635186799127, 0.06604170727024881, -0.13858778468390434, -0.16763394808679022, -0.1926406637440733, -0.056385350787565985, 0.26783748452278333, -0.0750636038810643, 0.26498150802254083, -0.09368078727946723, -0.2638089375162491, 0.29869847140335726, -0.08097968638075342, 2.101313148862969, 1.2264462869054449, 0.6328814980849629, 2.7793989533432697, 1.9402193890080364, 0.393063408857711, -0.6206667679085506, -0.09977289337391178, -0.030020377348255536, -0.01883181278918917, -0.02221167354200808, -0.014370913783202459, -0.04362495046823408, -0.05193824987398081, 0.2502625703670626, -0.35739649114226113, -0.27431038534855184, 0.32697567726139976, -0.23851215123362032, -0.07034042414176538, 0.12761885188348868, -0.39830989177124615, -0.05053717880228649, 0.6665486949422321, -0.26519178181721254, -0.4951505137131311, -0.03995460596654617, 0.7431674050360988, -0.16466361047199146, 0.6009112167577276, -0.2649410297000565, 0.0677553847270797, 0.3122785686230253, -0.08739272145440768, 0.5312321038555472, -0.32652673638362584, -0.7318512128871456, -0.03342331566535278, -0.10121604925839568, -0.18991930303092544, -0.19769564134275933, -0.052949854439668306, -0.05114926500448472, -0.09354892052766463, 0.2055846765851633, -0.04426875057952959, 0.6110635506721299, 0.23199640711379355, -0.09727429171267846, 0.12182035394021389, -0.050222633137002586, -0.10256864423755058, -0.6617653327964912, -0.028901345171779908, -0.0773365640722209, 0.18389343635871674, -0.06161557447784409, -0.06472221996634259, -0.046723593973909266, -0.08793127545152098, -0.12795236631577742, 0.03079993908028748, 0.3289360487637992, -0.06375811494543415, -0.5302442356079853, -0.08254776799414394, -0.046565089742122666, 0.011285511377529528, -0.11829916896384589, -0.05636673092254091, -0.534439387127626, -0.041265084411063614, -0.041265084411063614, -0.0673032068277754, 0.12978661319997334, 0.19185147515324705, 0.6429431770237962, -0.09047845558323418, -0.09883911093883098, -0.1769400959761593, -0.15593588573206876, 0.6021226514428617, 0.10232807398486363, -0.10143369306064011, -0.10821695287489859, 0.18391563997669322, 0.9219990565596601, -0.03858596885925511, -0.09022114404343776, 0.19494832305164717, -0.19670208168980782, 0.3643789975026063, 0.25608450396508714, 0.1775491364808483, 0.4804749394683474, -0.15155500892622137, 0.5472472874729347, -0.06509274522103141, -0.04468921480156306, -0.1020023389693685, -0.0753380374977606, -0.5076466531727412, -0.1373825106880727, -0.7245294573411221, -0.3153845335915536, 0.7197278697779818, -0.032024565620715456, -0.3436730019930386, -0.07970613560995429, 0.05334077940019459, -0.10829376705504065, 0.5568330396231133, -0.4666262607337022, -0.3495876433246407, -0.2214889876528864, 0.5675333014885876, -0.1727971548818406, -0.23122411174382856, 0.1218116671174188, -0.17280092126468344, -0.1298426839891426, -0.07974316403964235, 0.07375150001548018, 0.5655389325307312, 0.2905417164741553, -0.17713038160599964, -0.037080489552804775, 0.3081829532059885, -0.06697451045500973, -0.14694850151900365, 0.3021285119753267, -0.23202929564177585, -0.09844293963003363, -0.059719756129100576, -0.08491118987287345, -0.1152070618410306, -0.25527757540302193, -0.10767283021860655, -0.05929968840587997, 1.167850309259892, -0.1531800084236609, -0.07306479039943252, -0.05666429881836098, -0.2396464228006642, -0.0962397803544273, -0.018243046423438512, -0.19075537406838286, -0.11435708949847838, -0.1997012451707888, -0.15277295044580946, -0.31492118848408734, -0.17482685506577972, 1.9456322914220485, 0.5440484544332006, 0.1868036453212412, 0.6863115032395717, -0.3538432095097745, -0.2819231397465853, 0.39446124879697586, -0.020858189068595358, 0.6464980050504536, -0.18722184259035227, -0.12930662688571812, -0.33939155324601555, -0.05976360533863905, -0.14422017087927558, -0.2928733067984231, 0.6906550339708886, 1.205206844331645, -0.11649996582038687, -0.06971801501085627, 0.22129023185878433, 1.124965799228633, 0.44148335043689385, 0.2901835212822593, -0.14033091364980807, -0.07560779928053989, 0.5115539836310601, 1.37368925977889, -0.5471523254246812, -0.21368752753256426, 0.3883381567145493, -0.06991549065996097, -0.05854010736567028, -0.11385209854771836, 0.16202415774620188, 0.9254541179255874, 0.623688514606835, 1.1121613856829846, 0.16568683982805643, 3.123197709888179, -0.1497475599445354, 0.27682796604868337, -0.23347969806705487, 0.2483656183383014, 0.6861674302742652, -0.5548495944906, 0.2186323663331444, -0.10992277865695448, -0.08263055955257821, 0.1571321420733863, -0.08802845951895387, -0.04161380205141551, 0.08040380859600478, -0.057345364161530646, -0.22945857554299784, -0.11027617190828319, -0.06139067486213184, 0.1736924780673787, -0.07893045553071722, -0.035023192729769254, -0.07738234112244911, -0.025105250057705687, -0.044968180635287756, -0.11743998636662135, 0.20567666079012775, -0.13328154392853436, -0.056200169061011336, -0.037078826723545864, -0.10270517501530438, 0.3375563267806871, -0.1597509385945614, -0.07776006704849343, -0.04644426079629979, -0.13934569199308428, -0.029489409074945107, -0.10886083037848111, 0.35656620319802584, -0.07697556590924132, 0.14277305875694712, -0.1347119045199796, -0.09151171633071682, 0.28212012616373133, 0.210272574928785, -0.057479755782454504, 0.29456298873731, -0.07929552296851355, 0.5946972618108796, -0.08813094269121585, -0.16301783863391922, -0.054724649158443356, -0.0751036839868967, -0.09161114081326538, -0.050218551320694985, -0.0618662919076791, -0.0788843364691402, 0.15770057248333835, 0.32327162412314714, -0.05110652223309774, -0.16869605133859764, 0.2925042903859521, -0.09392139236608102, -0.10226130542838471, -0.046236363749319824, -0.07630563462509724, -0.05011088140837163, -0.09940298349210744, -0.05474741928696205, -0.15931983803479627, -0.04082949847351214, -0.036918957544863615, -0.061973958201488565, -0.06168119723537968, -0.12700235328718376, -0.04281836956587677, -0.04367122990708919, -0.06603653247688157, -0.08254045608832987, -0.05710293133419444, 0.5354734640228845, -0.2604317092000146, -0.03610970390066555, 0.9954653916261791, -0.20022832574620336, 1.345083079102313, -0.26914432720360354, -0.08694882953407226, 0.23653110007993547, -0.07432186032000636, -0.14128115275288994, -0.07431517630320428, 0.08000888283720238, -0.25904950427871976, -0.5072809409523794, 0.08647728383482052, -0.05968244307984008, -0.10779930486467243, 0.4486907197012185, -0.26431937343743994, 0.6353486320974587, 0.38310167458824984, -0.3406918942255035, -0.0975734749205008, -1.5942473849717116, -0.046279811934978654, -0.0377118547688278, -0.03387114451380588, -0.01020432939412572, -0.035036054522306584, -0.06498025610857537, -0.06647127412241775, -0.08605794044412043, -0.04017633338799225, 0.8040689636383027, -0.29314173177355307, 0.31276790565242873, 0.4145219556033208, 0.2750701390852523, 0.40993494913157325, -0.06867119404347301, -0.04042669038456377, -0.12335028649350328, -0.028703969149249532, -0.185077963827335, -0.058624083310001636, -0.06093941758333775, -0.05344565320697, -0.05990965758255945, -0.03154189765217657, -0.06820429867089163, -0.04781130106264703, -0.18802255050222327, -0.02807120963072482, -0.0476179201767621, -0.09999346482242258, -0.33089997406037835, 0.1247293436523471, -0.05233453664652303, -0.19568822032667718, 0.18105520272674008, -0.2448230776650437, 0.1357164451362803, -0.7082159773237451, -0.04549037243410469, -0.04118707980823856, -0.02000021038744257, -0.030602915877868356, -0.07063024841854625, -0.12399203577814526, 0.2835752723798916, 0.22675026656320538, -0.027870021339014575, -0.32569489650013034, -0.16636770700080192, -0.024416984183542163, -0.1502978675262932, -0.05301829728925575, -0.060547564439563994, 0.7184994884145106, -0.05107331652808105, -0.08171427686369379, -0.04903447132954768, -0.032571488649969796, -0.04196134247864956, -0.040897410709677486, -0.0332347678003976, 0.42490579519903393, -0.028589725857307364, 0.04398478820647215, -0.03179661547483407, -0.05783191404733149, -0.022781502904054615, -0.048405121825516255, -0.07196422761940044, 0.33016364937780196, 0.2931854858341072, -0.02562463537938137, -0.15283510716628823, -0.1214251174374905, 0.6740566855003001, 0.7746427518185974, 0.8189269544489488, -0.12177252096474914, -0.14657471939952016, 1.1238246045034708, -0.15909509196264884, 0.2927493236508371, 0.2056439575865282, 3.115931810106246, -0.11128336822031329, 0.3797815254631807, -0.17251745563781623, -1.1686975899747603, -0.1639002661739649, -0.2368643178702014, -0.26303578948066575, -0.22334401361873366, 0.1308492029653488, 0.35965891637182257, -0.3301520690253045, 0.7290403461696999, -0.3507210877384359, -0.356857028031683, 0.08842749399820672, 0.7714057582983511, -0.24549792758778508, 0.153651155816125, 0.08637671162714686, 0.24164647533547534, -0.43169091061478615, -0.47369850755786364, 0.3904129065117368, 0.5990524723676467, -0.23896277000534943, -0.09117705938637063, -0.16058519437297802, 0.11642044510790615, -0.14657963921469136, 0.1502181085960032, -0.08896691666888146, -0.27803003708467705, -0.051873347438505905, -0.09887876306529278, 0.39412190794998836, -0.11175975135275158, -0.014539200054388942, -0.0639463614390964, 0.23071253680764495, 0.11035204050233621, -0.0745977604817807, -0.03508688498198763, -0.0972554285125929, -0.08545532727293752, -0.12241571826514558, -0.1311560844350145, -0.28477779415801746, -0.05394762658053685, -0.09594884907791076, -0.18276891516246643, -0.0021753163846940874, 0.22745919860577274, 0.20668321605449297, -0.15280991040902708, -0.38570009124157134, -0.06031934310941962, -0.07190809490861083, -0.06477114518760171, 0.40584021598676445, 0.3199366821168961, -0.5078988052051627, 0.298037344025705, -0.10838766260606518, 0.44465198354585095, 0.23640587969457882, 0.4071437538491387, 0.28000832881717364, -0.10716677974684849, -0.06865859918085405, -0.06969371358411709, -0.5938970269417969, -0.1596169545569041, -0.4859848775588308, 0.2831161552107575, 0.6397773012547727, -0.12560538155225903, -0.05504330018381997, -0.08281810609835023, -0.03928726630341163, -0.0646361850443651, -0.1305297981366314, -0.03553643139960283, -0.0781038260441399, -0.049665294166630354, -0.09358482041195347, 0.31689092147645115, -0.4169111980253012, -0.13002664179527057, 0.2868068061492726, -0.10443963926657837, -0.478618871586448, -0.44732670449623935, 1.0177378078168144, -0.27642685895279256, 0.7607805495901171, -0.4884093584849556, -0.29138668929979655, -0.05021868211409762, -1.673003249472658, -0.10724705377445708, -0.08387985458698476, -0.16046438226726423, -0.08064787336386608, -0.05727365162462964, -0.13860817515830015, -0.025808499358856714, 0.8510186335555596, 1.305437444370619, -0.17527496819107607, -0.12070710202568108, -0.2530103256031212, -0.08676295046716934, -0.2676717439754465, -0.08804240871329203, -0.1088032293569663, -0.1542524767089877, 0.516398263608904, -0.4135736453771411, -0.15925801324581684, 0.29673855748073774, -0.037805884538190504, -0.13632286075454506, 0.4049947270935804, 0.24373241221914238, 0.04421042032195109, 0.20450766758204852, -0.08341902859589088, -0.7531341728637267, -0.09615384266269647, -0.13527228417730505, -0.2037197568505065, 0.20135188371047041, -0.10169639702468655, 0.13503998785163637, -0.060462641040028665, -0.2992518107967306, 0.386174613635883, -0.10746815866629782, 0.14986254134171323, -0.4033420241312642, -0.07495208039348594, -0.07135467571835094, 0.1707689342572767, -0.22098190628181083, 1.297900129648559, 0.7720754770133688, -0.0474643910821539, -0.10050891251903958, -0.09842047951430316, -0.09825385252097898, 0.2999251156201213, 1.2876005341162815, -0.18847598255047363, -0.4889064680981898, 0.9894358664003416, 0.9429678504045051, 1.2379511935571712, -0.11922380455901087, -0.07451079961619321, 0.2499591397384744, 0.4955440360177513, 0.6083158623534807, 0.16423932236526548, 0.30240345606248104, -0.05116278112961949, 0.19319440266547575, -0.032022824356824735, 0.5869555197510926, -0.019280326496416183, -0.253127372504316, -0.17729395780761348, -0.07652197980551094, 0.31828732711794494, -0.13660437687508786, -0.15548772043526232, 0.3292887556123893, -0.06959617767340956, -0.062224124700282234, -0.13917397389583283, -0.1791016404121078, -0.675495709107661, -0.06451465369538754, -0.18193071023673862, -0.06571696113575871, -0.47671241454512, -0.08073815809175375, -0.2798953887154465, 0.07634683029460311, -0.07767464558505971, -1.2709776975636609, -0.19642740488060673, -0.6938889296593658, -0.032218659346903995, -0.13585628192994953, 0.13747879331513763, 0.3449131860062049, -0.06112598323402344, -0.08732361989590089, -0.3933787341989798, -0.07715555385262678, -0.2811084763089702, -0.07898590144075583, -0.17746834410191975, -0.23258159801850334, -1.1117318266036587, -0.8270067744681968, 0.09490343246016995, -0.09106294035577749, 0.10072111993335725, -0.359033600902418, -0.15484784580632038, 0.7740689759086795, 0.07364042898600665, -0.07460075282439645, 0.04890924368607847, -0.0830690382797982, 0.11979657014843126, -0.08529105630784235, 0.025611487779722508, -0.28379388222881236, -0.07111257495966612, -0.2258398099405654, -0.06966741076211974, -0.06093334204954764])"
            ]
          },
          "metadata": {
            "tags": []
          },
          "execution_count": 84
        }
      ]
    },
    {
      "cell_type": "code",
      "metadata": {
        "id": "oGpKsybAyEvr"
      },
      "source": [
        "def print_words_for_tag(classifier, tag, tags_classes, index_to_words, all_words):\n",
        "    \"\"\"\n",
        "        classifier: trained classifier\n",
        "        tag: particular tag\n",
        "        tags_classes: a list of classes names from MultiLabelBinarizer\n",
        "        index_to_words: index_to_words transformation\n",
        "        all_words: all words in the dictionary\n",
        "        \n",
        "        return nothing, just print top 5 positive and top 5 negative words for current tag\n",
        "    \"\"\"\n",
        "    print('Tag:\\t{}'.format(tag))\n",
        "    \n",
        "    # Extract an estimator from the classifier for the given tag.\n",
        "    estimator = classifier.estimators_[tags_classes.index(tag)]\n",
        "    # Extract feature coefficients from the estimator. \n",
        "    coefs = estimator.coef_\n",
        "\n",
        "    ######################################\n",
        "    ######### YOUR CODE HERE #############\n",
        "    ######################################\n",
        "    c_dict = {k: v for k, v in enumerate(coefs[0])}\n",
        "    c_dict = sorted(c_dict.items(), key=lambda x: x[1])\n",
        "\n",
        "    top_positive_words = [index_to_words[i] for i, v in c_dict[-5:]] # top-5 words sorted by the coefficiens.\n",
        "    top_negative_words = [index_to_words[i] for i, v in c_dict[:5]] # bottom-5 words  sorted by the coefficients.\n",
        "    print('Top positive words:\\t{}'.format(', '.join(top_positive_words)))\n",
        "    print('Top negative words:\\t{}\\n'.format(', '.join(top_negative_words)))"
      ],
      "execution_count": 104,
      "outputs": []
    },
    {
      "cell_type": "code",
      "metadata": {
        "id": "4Z5tzN5cyEvu",
        "outputId": "9e53b0a1-cea1-4dd7-9508-0dad81009bdf",
        "colab": {
          "base_uri": "https://localhost:8080/"
        }
      },
      "source": [
        "print_words_for_tag(classifier_tfidf, 'c', mlb.classes, tfidf_reversed_vocab, ALL_WORDS)\n",
        "print_words_for_tag(classifier_tfidf, 'c++', mlb.classes, tfidf_reversed_vocab, ALL_WORDS)\n",
        "print_words_for_tag(classifier_tfidf, 'linux', mlb.classes, tfidf_reversed_vocab, ALL_WORDS)\n",
        "print_words_for_tag(classifier_tfidf, 'python', mlb.classes, tfidf_reversed_vocab, ALL_WORDS)\n",
        "print_words_for_tag(classifier_tfidf, 'java', mlb.classes, tfidf_reversed_vocab, ALL_WORDS)"
      ],
      "execution_count": 106,
      "outputs": [
        {
          "output_type": "stream",
          "text": [
            "Tag:\tc\n",
            "Top positive words:\tprintf, gcc, scanf, malloc, c\n",
            "Top negative words:\tjava, php, python, javascript, c#\n",
            "\n",
            "Tag:\tc++\n",
            "Top positive words:\topencv, mfc, boost, qt, c++\n",
            "Top negative words:\tjava, php, python, javascript, c#\n",
            "\n",
            "Tag:\tlinux\n",
            "Top positive words:\tsignal, address, c, ubuntu, linux\n",
            "Top negative words:\tjavascript, c#, jquery, array, method\n",
            "\n",
            "Tag:\tpython\n",
            "Top positive words:\tflask, matplotlib, numpy, pandas, python\n",
            "Top negative words:\tphp, java, c#, javascript, jquery\n",
            "\n",
            "Tag:\tjava\n",
            "Top positive words:\tjavafx, hibernate, android, spring, java\n",
            "Top negative words:\tphp, python, c#, javascript, c++\n",
            "\n"
          ],
          "name": "stdout"
        }
      ]
    },
    {
      "cell_type": "code",
      "metadata": {
        "id": "g24JWsWQyEvh"
      },
      "source": [
        "######################################\n",
        "######### YOUR CODE HERE #############\n",
        "######################################\n",
        "X_train, y_train = train['title'].values, train['tags'].values\n",
        "X_val, y_val = validation['title'].values, validation['tags'].values\n",
        "X_test = test['title'].values"
      ],
      "execution_count": 291,
      "outputs": []
    },
    {
      "cell_type": "code",
      "metadata": {
        "id": "nncoFoKiDR1U"
      },
      "source": [
        "from nltk.tokenize import TreebankWordTokenizer\n",
        "tw_tokenizer = TreebankWordTokenizer()"
      ],
      "execution_count": 245,
      "outputs": []
    },
    {
      "cell_type": "code",
      "metadata": {
        "id": "GxHZDTl_3gmC",
        "outputId": "cad191e9-0d70-449e-a95a-63bd611ce0e0",
        "colab": {
          "base_uri": "https://localhost:8080/"
        }
      },
      "source": [
        "from nltk.stem import WordNetLemmatizer \n",
        "from nltk.stem import PorterStemmer\n",
        "nltk.download('wordnet')\n",
        "\n",
        "lemmatizer = WordNetLemmatizer() \n",
        "stemmer = PorterStemmer()"
      ],
      "execution_count": 193,
      "outputs": [
        {
          "output_type": "stream",
          "text": [
            "[nltk_data] Downloading package wordnet to /root/nltk_data...\n",
            "[nltk_data]   Unzipping corpora/wordnet.zip.\n"
          ],
          "name": "stderr"
        }
      ]
    },
    {
      "cell_type": "code",
      "metadata": {
        "id": "FmJINEQP7JuN",
        "outputId": "b6637ce2-78ab-4ae0-c669-51fc84e61df5",
        "colab": {
          "base_uri": "https://localhost:8080/"
        }
      },
      "source": [
        "from nltk import pos_tag\n",
        "nltk.download('averaged_perceptron_tagger')"
      ],
      "execution_count": 215,
      "outputs": [
        {
          "output_type": "stream",
          "text": [
            "[nltk_data] Downloading package averaged_perceptron_tagger to\n",
            "[nltk_data]     /root/nltk_data...\n",
            "[nltk_data]   Unzipping taggers/averaged_perceptron_tagger.zip.\n"
          ],
          "name": "stderr"
        },
        {
          "output_type": "execute_result",
          "data": {
            "text/plain": [
              "True"
            ]
          },
          "metadata": {
            "tags": []
          },
          "execution_count": 215
        }
      ]
    },
    {
      "cell_type": "code",
      "metadata": {
        "id": "gt58llwC7OE2",
        "outputId": "760782e2-8244-472e-a2fb-db5756e28d6d",
        "colab": {
          "base_uri": "https://localhost:8080/"
        }
      },
      "source": [
        "pos_tag(word_tokenize('how are you?'))"
      ],
      "execution_count": 217,
      "outputs": [
        {
          "output_type": "execute_result",
          "data": {
            "text/plain": [
              "[('how', 'WRB'), ('are', 'VBP'), ('you', 'PRP'), ('?', '.')]"
            ]
          },
          "metadata": {
            "tags": []
          },
          "execution_count": 217
        }
      ]
    },
    {
      "cell_type": "code",
      "metadata": {
        "id": "T5n-L05T5RzA",
        "outputId": "b3a6a221-8f5a-48e0-9839-92f08f4f069d",
        "colab": {
          "base_uri": "https://localhost:8080/"
        }
      },
      "source": [
        "print(type(lemmatizer))"
      ],
      "execution_count": 201,
      "outputs": [
        {
          "output_type": "stream",
          "text": [
            "<class 'nltk.stem.wordnet.WordNetLemmatizer'>\n"
          ],
          "name": "stdout"
        }
      ]
    },
    {
      "cell_type": "code",
      "metadata": {
        "id": "5FmKRh_X30L1",
        "outputId": "29e145a6-f028-42c8-869a-e4e6ffcb35d4",
        "colab": {
          "base_uri": "https://localhost:8080/"
        }
      },
      "source": [
        "print(\"rocks :\", lemmatizer.lemmatize(\"rocks\")) \n",
        "print(\"corpora :\", lemmatizer.lemmatize(\"corpora\", pos='a')) \n",
        "  \n",
        "# a denotes adjective in \"pos\" \n",
        "print(\"better :\", lemmatizer.lemmatize(\"better\", pos='a')) "
      ],
      "execution_count": 200,
      "outputs": [
        {
          "output_type": "stream",
          "text": [
            "rocks : rock\n",
            "corpora : corpora\n",
            "better : good\n"
          ],
          "name": "stdout"
        }
      ]
    },
    {
      "cell_type": "code",
      "metadata": {
        "id": "efeGbrsK50qd",
        "outputId": "0790de20-553b-482c-8733-ea6e941a4ad9",
        "colab": {
          "base_uri": "https://localhost:8080/"
        }
      },
      "source": [
        "print(\"rocks :\", stemmer.stem(\"rocks\")) \n",
        "print(\"corpora :\", stemmer.stem(\"corpora\")) \n",
        "print(\"better :\", stemmer.stem(\"better\"))"
      ],
      "execution_count": 208,
      "outputs": [
        {
          "output_type": "stream",
          "text": [
            "rocks : rock\n",
            "corpora : corpora\n",
            "better : better\n"
          ],
          "name": "stdout"
        }
      ]
    },
    {
      "cell_type": "code",
      "metadata": {
        "id": "KAfCoc0J60et"
      },
      "source": [
        "from nltk.corpus import wordnet\n",
        "\n",
        "def get_wordnet_pos(treebank_tag):\n",
        "\n",
        "    if treebank_tag.startswith('J'):\n",
        "        return wordnet.ADJ\n",
        "    elif treebank_tag.startswith('V'):\n",
        "        return wordnet.VERB\n",
        "    elif treebank_tag.startswith('N'):\n",
        "        return wordnet.NOUN\n",
        "    elif treebank_tag.startswith('R'):\n",
        "        return wordnet.ADV\n",
        "    else:\n",
        "        return wordnet.NOUN"
      ],
      "execution_count": 218,
      "outputs": []
    },
    {
      "cell_type": "code",
      "metadata": {
        "id": "-532oUF_2T_f"
      },
      "source": [
        "REPLACE_BY_SPACE_RE = re.compile('[/(){}\\[\\]\\|@,;.]')\n",
        "BAD_SYMBOLS_RE = re.compile('[^0-9a-z #+_]')\n",
        "STOPWORDS = set(stopwords.words('english'))\n",
        "STOPWORDS_RE = re.compile(r'\\b(' + r'|'.join(STOPWORDS) + r')\\b\\s*')\n",
        "COMBINE_WHITESPACES_RE = re.compile(r'\\s+')\n",
        "\n",
        "def text_prepare(text, lemmatizer=None, stemmer=None):\n",
        "    \"\"\"\n",
        "        text: a string\n",
        "        \n",
        "        return: modified initial string\n",
        "    \"\"\"\n",
        "    text = text.lower()                                           # lowercase text\n",
        "    text = re.sub(REPLACE_BY_SPACE_RE, ' ', text)                 # replace REPLACE_BY_SPACE_RE symbols by space in text\n",
        "    text = re.sub(BAD_SYMBOLS_RE, '', text)                       # delete symbols which are in BAD_SYMBOLS_RE from text\n",
        "    text = re.sub(STOPWORDS_RE, '', text)                         # delete stopwords from text\n",
        "\n",
        "    if lemmatizer:\n",
        "      tokens = pos_tag(tw_tokenizer.tokenize(text))\n",
        "      text = ' '.join([lemmatizer.lemmatize(token, pos=get_wordnet_pos(tag)) for token, tag in tokens])\n",
        "    if stemmer:\n",
        "      text = ' '.join([stemmer.stem(token) for token in text.split(' ')])\n",
        "    \n",
        "    text = re.sub(COMBINE_WHITESPACES_RE, ' ', text)\n",
        "\n",
        "    return text"
      ],
      "execution_count": 290,
      "outputs": []
    },
    {
      "cell_type": "code",
      "metadata": {
        "id": "zJ14uQHW8-u9",
        "outputId": "81817e3a-0a24-4b17-b4c8-b9e485b28fe8",
        "colab": {
          "base_uri": "https://localhost:8080/"
        }
      },
      "source": [
        "X_train[:15].tolist()"
      ],
      "execution_count": 227,
      "outputs": [
        {
          "output_type": "execute_result",
          "data": {
            "text/plain": [
              "['How to draw a stacked dotplot in R?',\n",
              " 'mysql select all records where a datetime field is less than a specified value',\n",
              " 'How to terminate windows phone 8.1 app',\n",
              " 'get current time in a specific country via jquery',\n",
              " 'Configuring Tomcat to Use SSL',\n",
              " 'Awesome nested set plugin - how to add new children to the tree at various levels',\n",
              " 'How to create map from JSON response in Ruby on Rails 3?',\n",
              " 'rspec test if method is called',\n",
              " 'SpringBoot Catalina LifeCycle Exception',\n",
              " 'How to import data from excel to mysql database using php',\n",
              " 'Obtaining the object the java.lang.Class<T> object for a parameterized type without constructing the class in q_uestion?',\n",
              " 'iPad not selecting all text inside a text input on tap',\n",
              " \"How is jQuery's $ a function and an object?\",\n",
              " 'Eclipse C++ MinGW - Can not Lauch Program <Terminated>',\n",
              " 'In javascript how can I call one prototype method in another prototype method?']"
            ]
          },
          "metadata": {
            "tags": []
          },
          "execution_count": 227
        }
      ]
    },
    {
      "cell_type": "code",
      "metadata": {
        "id": "F__EgO222isu",
        "outputId": "dacefa1d-c87b-41eb-d2e0-23b1f65eaab7",
        "colab": {
          "base_uri": "https://localhost:8080/"
        }
      },
      "source": [
        "%%time\n",
        "X_train = [text_prepare(x, lemmatizer=None, stemmer=stemmer) for x in X_train]\n",
        "X_val = [text_prepare(x, lemmatizer=None, stemmer=stemmer) for x in X_val]\n",
        "X_test = [text_prepare(x, lemmatizer=None, stemmer=stemmer) for x in X_test]"
      ],
      "execution_count": 292,
      "outputs": [
        {
          "output_type": "stream",
          "text": [
            "CPU times: user 19.7 s, sys: 2.54 ms, total: 19.7 s\n",
            "Wall time: 19.7 s\n"
          ],
          "name": "stdout"
        }
      ]
    },
    {
      "cell_type": "code",
      "metadata": {
        "id": "_BVHkqeG2-oW",
        "outputId": "4e421b75-c9b2-49bf-cdbf-74ddf3b6a49b",
        "colab": {
          "base_uri": "https://localhost:8080/"
        }
      },
      "source": [
        "X_train[:15]"
      ],
      "execution_count": 293,
      "outputs": [
        {
          "output_type": "execute_result",
          "data": {
            "text/plain": [
              "['draw stack dotplot r',\n",
              " 'mysql select record datetim field less specifi valu',\n",
              " 'termin window phone 8 1 app',\n",
              " 'get current time specif countri via jqueri',\n",
              " 'configur tomcat use ssl',\n",
              " 'awesom nest set plugin add new children tree variou level',\n",
              " 'creat map json respons rubi rail 3',\n",
              " 'rspec test method call',\n",
              " 'springboot catalina lifecycl except',\n",
              " 'import data excel mysql databas use php',\n",
              " 'obtain object java lang classt object parameter type without construct class q_uestion',\n",
              " 'ipad select text insid text input tap',\n",
              " 'jqueri function object',\n",
              " 'eclips c++ mingw lauch program termin',\n",
              " 'javascript call one prototyp method anoth prototyp method']"
            ]
          },
          "metadata": {
            "tags": []
          },
          "execution_count": 293
        }
      ]
    },
    {
      "cell_type": "code",
      "metadata": {
        "id": "C1_CRwiQFDkm"
      },
      "source": [
        "def tfidf_features(X_train, X_val, X_test):\n",
        "    \"\"\"\n",
        "        X_train, X_val, X_test — samples        \n",
        "        return TF-IDF vectorized representation of each sample and vocabulary\n",
        "    \"\"\"\n",
        "    # Create TF-IDF vectorizer with a proper parameters choice\n",
        "    # Fit the vectorizer on the train set\n",
        "    # Transform the train, test, and val sets and return the result\n",
        "    \n",
        "    \n",
        "    tfidf_vectorizer = TfidfVectorizer(min_df=10\n",
        "                                       , max_df=0.9\n",
        "                                       , ngram_range=(1, 3)\n",
        "                                       , tokenizer=tw_tokenizer.tokenize\n",
        "                                       , token_pattern='(\\S+)') ####### YOUR CODE HERE #######\n",
        "    \n",
        "    ######################################\n",
        "    ######### YOUR CODE HERE #############\n",
        "    ######################################\n",
        "    X_train = tfidf_vectorizer.fit_transform(X_train)\n",
        "    X_val = tfidf_vectorizer.transform(X_val)\n",
        "    X_test = tfidf_vectorizer.transform(X_test)\n",
        "    \n",
        "    return X_train, X_val, X_test, tfidf_vectorizer.vocabulary_"
      ],
      "execution_count": 294,
      "outputs": []
    },
    {
      "cell_type": "code",
      "metadata": {
        "id": "IFPBDNyH9sIz"
      },
      "source": [
        "X_train_tfidf, X_val_tfidf, X_test_tfidf, tfidf_vocab = tfidf_features(X_train, X_val, X_test)\n",
        "tfidf_reversed_vocab = {i:word for word,i in tfidf_vocab.items()}"
      ],
      "execution_count": 295,
      "outputs": []
    },
    {
      "cell_type": "code",
      "metadata": {
        "id": "3qo1c5aE-0rh",
        "outputId": "707a5247-a5ee-493a-8dea-af3e57789c46",
        "colab": {
          "base_uri": "https://localhost:8080/"
        }
      },
      "source": [
        "print('c in vocab: {}'.format('c' in tfidf_vocab))\n",
        "print('c++ in vocab: {}'.format('c++' in tfidf_vocab))\n",
        "print('c# in vocab: {}'.format('c#' in tfidf_vocab))"
      ],
      "execution_count": 296,
      "outputs": [
        {
          "output_type": "stream",
          "text": [
            "c in vocab: True\n",
            "c++ in vocab: True\n",
            "c# in vocab: False\n"
          ],
          "name": "stdout"
        }
      ]
    },
    {
      "cell_type": "code",
      "metadata": {
        "id": "sO4BixUx_zOp"
      },
      "source": [
        "mlb = MultiLabelBinarizer(classes=sorted(tags_counts.keys()))\n",
        "y_train = mlb.fit_transform(y_train)\n",
        "y_val = mlb.fit_transform(y_val)"
      ],
      "execution_count": 298,
      "outputs": []
    },
    {
      "cell_type": "code",
      "metadata": {
        "id": "ggpssXuzIYdY"
      },
      "source": [
        "from sklearn.svm import LinearSVC"
      ],
      "execution_count": 285,
      "outputs": []
    },
    {
      "cell_type": "code",
      "metadata": {
        "id": "dk75IUVQ_Orw"
      },
      "source": [
        "classifier_tfidf = train_classifier(X_train_tfidf, y_train, base_clf=LinearSVC())"
      ],
      "execution_count": 299,
      "outputs": []
    },
    {
      "cell_type": "code",
      "metadata": {
        "id": "ZXmbygHaA6f4"
      },
      "source": [
        "y_val_predicted_labels_tfidf = classifier_tfidf.predict(X_val_tfidf)\n",
        "y_val_predicted_scores_tfidf = classifier_tfidf.decision_function(X_val_tfidf)"
      ],
      "execution_count": 300,
      "outputs": []
    },
    {
      "cell_type": "code",
      "metadata": {
        "id": "_Uz-0g33BChw",
        "outputId": "21a29931-43e7-468c-b5ca-74a2e7d81fc8",
        "colab": {
          "base_uri": "https://localhost:8080/",
          "height": 429
        }
      },
      "source": [
        "print('Tfidf')\n",
        "print_evaluation_scores(y_val, y_val_predicted_labels_tfidf)\n",
        "\n",
        "n_classes = len(tags_counts)\n",
        "roc_auc(y_val, y_val_predicted_scores_tfidf, n_classes)"
      ],
      "execution_count": 301,
      "outputs": [
        {
          "output_type": "stream",
          "text": [
            "Tfidf\n",
            "Accuracy: 0.3823\n",
            "F1 Macro: 0.5206347433294048\n",
            "Recall Macro: 0.4292567737337168\n",
            "Precision Macro: 0.3631380310981238\n",
            "F1 Weighted: 0.6635673438347058\n",
            "Recall Weighted: 0.575440095710135\n",
            "Precision Weighted: 0.5270763212588362\n"
          ],
          "name": "stdout"
        },
        {
          "output_type": "display_data",
          "data": {
            "image/png": "[encoded data removed]",
            "text/plain": [
              "<Figure size 432x288 with 1 Axes>"
            ]
          },
          "metadata": {
            "tags": [],
            "needs_background": "light"
          }
        }
      ]
    },
    {
      "cell_type": "code",
      "metadata": {
        "id": "BPVwzZZuDKIv",
        "outputId": "3a5c3f0a-97e2-4a80-ad8b-54cb61d9b406",
        "colab": {
          "base_uri": "https://localhost:8080/",
          "height": 429
        }
      },
      "source": [
        "print('Tfidf')\n",
        "print_evaluation_scores(y_val, y_val_predicted_labels_tfidf)\n",
        "\n",
        "n_classes = len(tags_counts)\n",
        "roc_auc(y_val, y_val_predicted_scores_tfidf, n_classes)"
      ],
      "execution_count": 247,
      "outputs": [
        {
          "output_type": "stream",
          "text": [
            "Tfidf\n",
            "Accuracy: 0.3704\n",
            "F1 Macro: 0.5102887203846458\n",
            "Recall Macro: 0.41759816565703795\n",
            "Precision Macro: 0.36318938919783844\n",
            "F1 Weighted: 0.652126049375284\n",
            "Recall Weighted: 0.5503503674585541\n",
            "Precision Weighted: 0.5230938423769186\n"
          ],
          "name": "stdout"
        },
        {
          "output_type": "display_data",
          "data": {
            "image/png": "[encoded data removed]",
            "text/plain": [
              "<Figure size 432x288 with 1 Axes>"
            ]
          },
          "metadata": {
            "tags": [],
            "needs_background": "light"
          }
        }
      ]
    },
    {
      "cell_type": "code",
      "metadata": {
        "id": "54DMy2ynACrm",
        "outputId": "ec35aecf-1f56-4d54-b689-ee1c6b10aec7",
        "colab": {
          "base_uri": "https://localhost:8080/"
        }
      },
      "source": [
        "print_words_for_tag(classifier_tfidf, 'c', mlb.classes, tfidf_reversed_vocab, ALL_WORDS)\n",
        "print_words_for_tag(classifier_tfidf, 'c++', mlb.classes, tfidf_reversed_vocab, ALL_WORDS)\n",
        "print_words_for_tag(classifier_tfidf, 'c#', mlb.classes, tfidf_reversed_vocab, ALL_WORDS)\n",
        "print_words_for_tag(classifier_tfidf, 'linux', mlb.classes, tfidf_reversed_vocab, ALL_WORDS)\n",
        "print_words_for_tag(classifier_tfidf, 'python', mlb.classes, tfidf_reversed_vocab, ALL_WORDS)\n",
        "print_words_for_tag(classifier_tfidf, 'java', mlb.classes, tfidf_reversed_vocab, ALL_WORDS)"
      ],
      "execution_count": 303,
      "outputs": [
        {
          "output_type": "stream",
          "text": [
            "Tag:\tc\n",
            "Top positive words:\tprintf, malloc, fscanf, scanf, c\n",
            "Top negative words:\tc #, object c, php, java, python\n",
            "\n",
            "Tag:\tc++\n",
            "Top positive words:\tc++11, stdstring, mfc, qt, c++\n",
            "Top negative words:\tjava, php, c++ stl, python, javascript\n",
            "\n",
            "Tag:\tc#\n",
            "Top positive words:\twpf, mono, uniti, xamarin, c #\n",
            "Top negative words:\tjava, php, python, vb, vb net\n",
            "\n",
            "Tag:\tlinux\n",
            "Top positive words:\tshare librari, cento, load modul, system call, linux\n",
            "Top negative words:\tnokogiri, mfc, codeignit, red, opencl\n",
            "\n",
            "Tag:\tpython\n",
            "Top positive words:\tmatplotlib, tkinter, numpi, panda, python\n",
            "Top negative words:\tphp, java, python pil, django python, swift\n",
            "\n",
            "Tag:\tjava\n",
            "Top positive words:\tandroid, javafx, hibern, spring, java\n",
            "Top negative words:\tphp, python, rubi, java script, django\n",
            "\n"
          ],
          "name": "stdout"
        }
      ]
    },
    {
      "cell_type": "code",
      "metadata": {
        "id": "XJh2oNq_ACEl",
        "outputId": "68a4decc-1c30-442c-aed7-2b6d4f9d1199",
        "colab": {
          "base_uri": "https://localhost:8080/"
        }
      },
      "source": [
        "test_predictions = classifier_tfidf.predict(X_test_tfidf) ######### YOUR CODE HERE #############\n",
        "test_pred_inversed = mlb.inverse_transform(test_predictions)\n",
        "\n",
        "test_predictions_for_submission = '\\n'.join('%i\\t%s' % (i, ','.join(row)) for i, row in enumerate(test_pred_inversed))\n",
        "grader.submit_tag('MultilabelClassification', test_predictions_for_submission)"
      ],
      "execution_count": 304,
      "outputs": [
        {
          "output_type": "stream",
          "text": [
            "Current answer for task MultilabelClassification is:\n",
            " 0\tmysql,php\n",
            "1\tjavascript\n",
            "2\t\n",
            "3\tjavascript,jquery\n",
            "4\tandroid,java,javascript\n",
            "5\tphp,xml\n",
            "6\tjson\n",
            "7\tjava,sw...\n"
          ],
          "name": "stdout"
        }
      ]
    },
    {
      "cell_type": "markdown",
      "metadata": {
        "id": "xyn4934UyEvy"
      },
      "source": [
        "### Authorization & Submission\n",
        "To submit the assignmnent to Cousera platform, please, enter your e-mail and token into variables below. You can generate the token on this programming assignment page. <b>Note:</b> The token expires 30 minutes after generation.\n",
        "\n",
        "Please, submit your solutions for the assignments **only** to Coursera platform, **do not create a Pull request on Github**."
      ]
    },
    {
      "cell_type": "code",
      "metadata": {
        "id": "r4fnmpFfyEvz",
        "outputId": "288450a8-36f1-4c02-e383-f605c5e2ca7b",
        "colab": {
          "base_uri": "https://localhost:8080/"
        }
      },
      "source": [
        "grader.status()"
      ],
      "execution_count": 305,
      "outputs": [
        {
          "output_type": "stream",
          "text": [
            "You want to submit these parts:\n",
            "Task TextPrepare:\n",
            " sqlite php readonly\n",
            "creating multiple textboxes dynamically\n",
            "self one prefer javascript\n",
            "save php date...\n",
            "Task WordsTagsCount:\n",
            " javascript,c#,java\n",
            "using,php,java...\n",
            "Task BagOfWords:\n",
            " 7...\n",
            "Task MultilabelClassification:\n",
            " 0\tmysql,php\n",
            "1\tjavascript\n",
            "2\t\n",
            "3\tjavascript,jquery\n",
            "4\tandroid,java,javascript\n",
            "5\tphp,xml\n",
            "6\tjson\n",
            "7\tjava,sw...\n"
          ],
          "name": "stdout"
        }
      ]
    },
    {
      "cell_type": "code",
      "metadata": {
        "id": "ceAfMCPpyEv4",
        "outputId": "a347e6e6-ce7a-4686-fda4-992d4d6b37f3",
        "colab": {
          "base_uri": "https://localhost:8080/"
        }
      },
      "source": [
        "STUDENT_EMAIL = '3.14vraj@gmail.com' \n",
        "STUDENT_TOKEN = 'OxE81mY2LyjBQo1E'\n",
        "grader.status()"
      ],
      "execution_count": 308,
      "outputs": [
        {
          "output_type": "stream",
          "text": [
            "You want to submit these parts:\n",
            "Task TextPrepare:\n",
            " sqlite php readonly\n",
            "creating multiple textboxes dynamically\n",
            "self one prefer javascript\n",
            "save php date...\n",
            "Task WordsTagsCount:\n",
            " javascript,c#,java\n",
            "using,php,java...\n",
            "Task BagOfWords:\n",
            " 7...\n",
            "Task MultilabelClassification:\n",
            " 0\tmysql,php\n",
            "1\tjavascript\n",
            "2\t\n",
            "3\tjavascript,jquery\n",
            "4\tandroid,java,javascript\n",
            "5\tphp,xml\n",
            "6\tjson\n",
            "7\tjava,sw...\n"
          ],
          "name": "stdout"
        }
      ]
    },
    {
      "cell_type": "markdown",
      "metadata": {
        "id": "_Fb3agcnyEv8"
      },
      "source": [
        "If you want to submit these answers, run cell below"
      ]
    },
    {
      "cell_type": "code",
      "metadata": {
        "id": "6-YFjjYiyEv8",
        "outputId": "201ae6da-3d44-43d0-bb45-6d9d9b743b13",
        "colab": {
          "base_uri": "https://localhost:8080/"
        }
      },
      "source": [
        "grader.submit(STUDENT_EMAIL, STUDENT_TOKEN)"
      ],
      "execution_count": 309,
      "outputs": [
        {
          "output_type": "stream",
          "text": [
            "Submitted to Coursera platform. See results on assignment page!\n"
          ],
          "name": "stdout"
        }
      ]
    },
    {
      "cell_type": "code",
      "metadata": {
        "id": "cpDxijVNOdDg"
      },
      "source": [
        ""
      ],
      "execution_count": null,
      "outputs": []
    }
  ]
}